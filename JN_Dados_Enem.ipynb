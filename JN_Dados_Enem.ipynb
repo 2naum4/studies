{
 "cells": [
  {
   "cell_type": "markdown",
   "metadata": {
    "application/vnd.databricks.v1+cell": {
     "cellMetadata": {
      "byteLimit": 2048000,
      "rowLimit": 10000
     },
     "inputWidgets": {},
     "nuid": "3dd52852-b2fe-48b1-8baf-8e071bc580a1",
     "showTitle": false,
     "title": ""
    }
   },
   "source": [
    "### **Workshop PySpark**"
   ]
  },
  {
   "cell_type": "markdown",
   "metadata": {
    "application/vnd.databricks.v1+cell": {
     "cellMetadata": {},
     "inputWidgets": {},
     "nuid": "3b7e20e9-205e-4e80-904f-7d3f296321e4",
     "showTitle": false,
     "title": ""
    }
   },
   "source": [
    "\n",
    "\n",
    "\n",
    "#### **Uma Breve Introdução ao PySpark**\n",
    "\n",
    "**PySpark** é um linguagem de programação criada \n",
    "PySpark é a API Python para Apache Spark, framework criado pela *Apache Software Foundation* que permite a análise e processamento de grandes conjuntos de dados de forma distribuída em um cluster de computadores. \n",
    "\n",
    "O PySpark combina a capacidade de aprendizado e a facilidade de uso do Python com o poder do Apache Spark para permitir o processamento e a análise de dados de qualquer tamanho para todos que estão familiarizados com o Python.\n",
    "\n",
    "<br>\n",
    "Isso torna o PySpark uma excelente opção para lidar com dados em grande escala (Big Data) e para realizar tarefas como:\n",
    "1. Análise exploratória de dados;\n",
    "2. Construção de pipelines de dados;\n",
    "3. Criação de modelos de aprendizado de máquina;\n",
    "4. Criação de ETLs.\n",
    "\n",
    "A principal vantagem do **PySpark** é sua capacidade de lidar com grandes conjuntos de dados de maneira eficiente e escalável. Ele usa o ***Apache Spark***, um motor de **computação distribuído**, para dividir o processamento de dados em várias máquinas. Isso permite que o PySpark processe grandes quantidades de dados muito mais rapidamente do que seria possível com uma única máquina.\n",
    "\n",
    "\n",
    "#### **Sistema distribuído**\n",
    "\n",
    "Um motor de computação distribuído é um software que permite que uma tarefa ou processamento seja dividido em várias partes, para ser executado simultaneamente em diferentes computadores de um cluster.\n",
    "<br> \n",
    "Isso permite que o processamento seja feito de forma mais rápida e eficiente do que seria possível em um único computador, já que várias máquinas trabalham juntas para realizar a tarefa em paralelo."
   ]
  },
  {
   "cell_type": "markdown",
   "metadata": {
    "application/vnd.databricks.v1+cell": {
     "cellMetadata": {},
     "inputWidgets": {},
     "nuid": "27438bca-b980-4243-b26c-2fe5747e6b83",
     "showTitle": false,
     "title": ""
    }
   },
   "source": [
    "### Ementa"
   ]
  },
  {
   "cell_type": "markdown",
   "metadata": {
    "application/vnd.databricks.v1+cell": {
     "cellMetadata": {
      "byteLimit": 2048000,
      "rowLimit": 10000
     },
     "inputWidgets": {},
     "nuid": "c496df11-ea46-47e0-b301-875fbe46b1ad",
     "showTitle": false,
     "title": ""
    }
   },
   "source": [
    "*Professor Ronisson Lucas Calmon da Conceição*\n",
    "\n",
    "Cientista de Dados no setor bancário, doutorando em Economia Aplicada pela UFBA e professor de Data Science/Analytics."
   ]
  },
  {
   "cell_type": "markdown",
   "metadata": {
    "application/vnd.databricks.v1+cell": {
     "cellMetadata": {},
     "inputWidgets": {},
     "nuid": "25fa7e42-5397-4df1-8cb4-49e15c9a9ec2",
     "showTitle": false,
     "title": ""
    }
   },
   "source": [
    "* Comandos Básicos\n",
    "* Filtro\n",
    "* Manipulação de colunas\n",
    "* SQL no Spark\n",
    "* Agregação\n",
    "* Agrupamento\n",
    "* Visualização de Dados"
   ]
  },
  {
   "cell_type": "markdown",
   "metadata": {
    "application/vnd.databricks.v1+cell": {
     "cellMetadata": {},
     "inputWidgets": {},
     "nuid": "ad5f67cf-0bfb-4e03-aa26-6f0169033d74",
     "showTitle": false,
     "title": ""
    }
   },
   "source": [
    "### Load Data"
   ]
  },
  {
   "cell_type": "code",
   "execution_count": 6,
   "metadata": {
    "application/vnd.databricks.v1+cell": {
     "cellMetadata": {
      "byteLimit": 2048000,
      "rowLimit": 10000
     },
     "inputWidgets": {},
     "nuid": "199ae148-edcb-488a-b491-3009327c2821",
     "showTitle": false,
     "title": ""
    }
   },
   "outputs": [],
   "source": [
    "# imports\n",
    "# biblioteca com funções SQL\n",
    "from pyspark.sql import SparkSession\n",
    "import pyspark.sql.functions as F\n",
    "\n",
    "# Inicialize a SparkSession\n",
    "spark = SparkSession.builder.appName(\"NomeDoApp\").getOrCreate()\n",
    "\n",
    "# Caminho absoluto para o arquivo microdados_enem\n",
    "caminho_arquivo = \"D:/Estudos/Arquivos para analise/microdados_enem.csv\"\n",
    "\n",
    "# Crie o DataFrame usando o caminho absoluto para o arquivo CSV\n",
    "df = spark.read.csv(caminho_arquivo, header=True, inferSchema=True)"
   ]
  },
  {
   "cell_type": "code",
   "execution_count": 7,
   "metadata": {
    "application/vnd.databricks.v1+cell": {
     "cellMetadata": {
      "byteLimit": 2048000,
      "rowLimit": 10000
     },
     "inputWidgets": {},
     "nuid": "6157c2cd-74ec-4db3-a825-e5003012a7f1",
     "showTitle": false,
     "title": ""
    }
   },
   "outputs": [
    {
     "data": {
      "text/plain": [
       "DataFrame[NU_INSCRICAO: bigint, NU_ANO: int, TP_FAIXA_ETARIA: int, TP_SEXO: string, TP_ESTADO_CIVIL: int, TP_COR_RACA: int, TP_NACIONALIDADE: int, TP_ST_CONCLUSAO: int, TP_ANO_CONCLUIU: int, TP_ESCOLA: int, TP_ENSINO: double, IN_TREINEIRO: int, CO_MUNICIPIO_ESC: double, NO_MUNICIPIO_ESC: string, CO_UF_ESC: double, SG_UF_ESC: string, TP_DEPENDENCIA_ADM_ESC: double, TP_LOCALIZACAO_ESC: double, TP_SIT_FUNC_ESC: double, CO_MUNICIPIO_PROVA: int, NO_MUNICIPIO_PROVA: string, CO_UF_PROVA: int, SG_UF_PROVA: string, TP_PRESENCA_CN: int, TP_PRESENCA_CH: int, TP_PRESENCA_LC: int, TP_PRESENCA_MT: int, CO_PROVA_CN: double, CO_PROVA_CH: double, CO_PROVA_LC: double, CO_PROVA_MT: double, NU_NOTA_CN: double, NU_NOTA_CH: double, NU_NOTA_LC: double, NU_NOTA_MT: double, TX_RESPOSTAS_CN: string, TX_RESPOSTAS_CH: string, TX_RESPOSTAS_LC: string, TX_RESPOSTAS_MT: string, TP_LINGUA: int, TX_GABARITO_CN: string, TX_GABARITO_CH: string, TX_GABARITO_LC: string, TX_GABARITO_MT: string, TP_STATUS_REDACAO: double, NU_NOTA_COMP1: double, NU_NOTA_COMP2: double, NU_NOTA_COMP3: double, NU_NOTA_COMP4: double, NU_NOTA_COMP5: double, NU_NOTA_REDACAO: double, Q001: string, Q002: string, Q003: string, Q004: string, Q005: double, Q006: string, Q007: string, Q008: string, Q009: string, Q010: string, Q011: string, Q012: string, Q013: string, Q014: string, Q015: string, Q016: string, Q017: string, Q018: string, Q019: string, Q020: string, Q021: string, Q022: string, Q023: string, Q024: string, Q025: string]"
      ]
     },
     "metadata": {},
     "output_type": "display_data"
    }
   ],
   "source": [
    "display(df)"
   ]
  },
  {
   "cell_type": "markdown",
   "metadata": {
    "application/vnd.databricks.v1+cell": {
     "cellMetadata": {},
     "inputWidgets": {},
     "nuid": "669bf3ec-f983-4f0e-9227-842b84ff6668",
     "showTitle": false,
     "title": ""
    }
   },
   "source": [
    "### Comandos básicos"
   ]
  },
  {
   "cell_type": "code",
   "execution_count": 8,
   "metadata": {
    "application/vnd.databricks.v1+cell": {
     "cellMetadata": {
      "byteLimit": 2048000,
      "rowLimit": 10000
     },
     "inputWidgets": {},
     "nuid": "3e43be72-3a3e-4d61-bf19-b486425a6193",
     "showTitle": false,
     "title": ""
    }
   },
   "outputs": [
    {
     "name": "stdout",
     "output_type": "stream",
     "text": [
      "root\n",
      " |-- NU_INSCRICAO: long (nullable = true)\n",
      " |-- NU_ANO: integer (nullable = true)\n",
      " |-- TP_FAIXA_ETARIA: integer (nullable = true)\n",
      " |-- TP_SEXO: string (nullable = true)\n",
      " |-- TP_ESTADO_CIVIL: integer (nullable = true)\n",
      " |-- TP_COR_RACA: integer (nullable = true)\n",
      " |-- TP_NACIONALIDADE: integer (nullable = true)\n",
      " |-- TP_ST_CONCLUSAO: integer (nullable = true)\n",
      " |-- TP_ANO_CONCLUIU: integer (nullable = true)\n",
      " |-- TP_ESCOLA: integer (nullable = true)\n",
      " |-- TP_ENSINO: double (nullable = true)\n",
      " |-- IN_TREINEIRO: integer (nullable = true)\n",
      " |-- CO_MUNICIPIO_ESC: double (nullable = true)\n",
      " |-- NO_MUNICIPIO_ESC: string (nullable = true)\n",
      " |-- CO_UF_ESC: double (nullable = true)\n",
      " |-- SG_UF_ESC: string (nullable = true)\n",
      " |-- TP_DEPENDENCIA_ADM_ESC: double (nullable = true)\n",
      " |-- TP_LOCALIZACAO_ESC: double (nullable = true)\n",
      " |-- TP_SIT_FUNC_ESC: double (nullable = true)\n",
      " |-- CO_MUNICIPIO_PROVA: integer (nullable = true)\n",
      " |-- NO_MUNICIPIO_PROVA: string (nullable = true)\n",
      " |-- CO_UF_PROVA: integer (nullable = true)\n",
      " |-- SG_UF_PROVA: string (nullable = true)\n",
      " |-- TP_PRESENCA_CN: integer (nullable = true)\n",
      " |-- TP_PRESENCA_CH: integer (nullable = true)\n",
      " |-- TP_PRESENCA_LC: integer (nullable = true)\n",
      " |-- TP_PRESENCA_MT: integer (nullable = true)\n",
      " |-- CO_PROVA_CN: double (nullable = true)\n",
      " |-- CO_PROVA_CH: double (nullable = true)\n",
      " |-- CO_PROVA_LC: double (nullable = true)\n",
      " |-- CO_PROVA_MT: double (nullable = true)\n",
      " |-- NU_NOTA_CN: double (nullable = true)\n",
      " |-- NU_NOTA_CH: double (nullable = true)\n",
      " |-- NU_NOTA_LC: double (nullable = true)\n",
      " |-- NU_NOTA_MT: double (nullable = true)\n",
      " |-- TX_RESPOSTAS_CN: string (nullable = true)\n",
      " |-- TX_RESPOSTAS_CH: string (nullable = true)\n",
      " |-- TX_RESPOSTAS_LC: string (nullable = true)\n",
      " |-- TX_RESPOSTAS_MT: string (nullable = true)\n",
      " |-- TP_LINGUA: integer (nullable = true)\n",
      " |-- TX_GABARITO_CN: string (nullable = true)\n",
      " |-- TX_GABARITO_CH: string (nullable = true)\n",
      " |-- TX_GABARITO_LC: string (nullable = true)\n",
      " |-- TX_GABARITO_MT: string (nullable = true)\n",
      " |-- TP_STATUS_REDACAO: double (nullable = true)\n",
      " |-- NU_NOTA_COMP1: double (nullable = true)\n",
      " |-- NU_NOTA_COMP2: double (nullable = true)\n",
      " |-- NU_NOTA_COMP3: double (nullable = true)\n",
      " |-- NU_NOTA_COMP4: double (nullable = true)\n",
      " |-- NU_NOTA_COMP5: double (nullable = true)\n",
      " |-- NU_NOTA_REDACAO: double (nullable = true)\n",
      " |-- Q001: string (nullable = true)\n",
      " |-- Q002: string (nullable = true)\n",
      " |-- Q003: string (nullable = true)\n",
      " |-- Q004: string (nullable = true)\n",
      " |-- Q005: double (nullable = true)\n",
      " |-- Q006: string (nullable = true)\n",
      " |-- Q007: string (nullable = true)\n",
      " |-- Q008: string (nullable = true)\n",
      " |-- Q009: string (nullable = true)\n",
      " |-- Q010: string (nullable = true)\n",
      " |-- Q011: string (nullable = true)\n",
      " |-- Q012: string (nullable = true)\n",
      " |-- Q013: string (nullable = true)\n",
      " |-- Q014: string (nullable = true)\n",
      " |-- Q015: string (nullable = true)\n",
      " |-- Q016: string (nullable = true)\n",
      " |-- Q017: string (nullable = true)\n",
      " |-- Q018: string (nullable = true)\n",
      " |-- Q019: string (nullable = true)\n",
      " |-- Q020: string (nullable = true)\n",
      " |-- Q021: string (nullable = true)\n",
      " |-- Q022: string (nullable = true)\n",
      " |-- Q023: string (nullable = true)\n",
      " |-- Q024: string (nullable = true)\n",
      " |-- Q025: string (nullable = true)\n",
      "\n"
     ]
    }
   ],
   "source": [
    "# estrutura da base\n",
    "df.printSchema()"
   ]
  },
  {
   "cell_type": "code",
   "execution_count": 15,
   "metadata": {
    "application/vnd.databricks.v1+cell": {
     "cellMetadata": {
      "byteLimit": 2048000,
      "rowLimit": 10000
     },
     "inputWidgets": {},
     "nuid": "39534a36-6abc-4096-a1ca-fd64cbee9b46",
     "showTitle": false,
     "title": ""
    }
   },
   "outputs": [
    {
     "data": {
      "text/plain": [
       "pyspark.sql.dataframe.DataFrame"
      ]
     },
     "execution_count": 15,
     "metadata": {},
     "output_type": "execute_result"
    }
   ],
   "source": [
    "# type\n",
    "type(df)"
   ]
  },
  {
   "cell_type": "code",
   "execution_count": 16,
   "metadata": {
    "application/vnd.databricks.v1+cell": {
     "cellMetadata": {
      "byteLimit": 2048000,
      "rowLimit": 10000
     },
     "inputWidgets": {},
     "nuid": "831053e2-9579-46d8-ab03-4a7cabbefb0c",
     "showTitle": false,
     "title": ""
    }
   },
   "outputs": [],
   "source": [
    "# conversão para Pandas\n",
    "df_pandas = df.toPandas()"
   ]
  },
  {
   "cell_type": "code",
   "execution_count": 17,
   "metadata": {
    "application/vnd.databricks.v1+cell": {
     "cellMetadata": {
      "byteLimit": 2048000,
      "rowLimit": 10000
     },
     "inputWidgets": {},
     "nuid": "110ff0dc-b7a2-4a3b-8a6b-7b1664759091",
     "showTitle": false,
     "title": ""
    }
   },
   "outputs": [
    {
     "data": {
      "text/plain": [
       "DataFrame[NU_INSCRICAO: bigint, NU_ANO: bigint, TP_FAIXA_ETARIA: bigint, TP_SEXO: string, TP_ESTADO_CIVIL: bigint, TP_COR_RACA: bigint, TP_NACIONALIDADE: bigint, TP_ST_CONCLUSAO: bigint, TP_ANO_CONCLUIU: bigint, TP_ESCOLA: bigint, TP_ENSINO: double, IN_TREINEIRO: bigint, CO_MUNICIPIO_ESC: double, NO_MUNICIPIO_ESC: string, CO_UF_ESC: double, SG_UF_ESC: string, TP_DEPENDENCIA_ADM_ESC: double, TP_LOCALIZACAO_ESC: double, TP_SIT_FUNC_ESC: double, CO_MUNICIPIO_PROVA: bigint, NO_MUNICIPIO_PROVA: string, CO_UF_PROVA: bigint, SG_UF_PROVA: string, TP_PRESENCA_CN: bigint, TP_PRESENCA_CH: bigint, TP_PRESENCA_LC: bigint, TP_PRESENCA_MT: bigint, CO_PROVA_CN: double, CO_PROVA_CH: double, CO_PROVA_LC: double, CO_PROVA_MT: double, NU_NOTA_CN: double, NU_NOTA_CH: double, NU_NOTA_LC: double, NU_NOTA_MT: double, TX_RESPOSTAS_CN: string, TX_RESPOSTAS_CH: string, TX_RESPOSTAS_LC: string, TX_RESPOSTAS_MT: string, TP_LINGUA: bigint, TX_GABARITO_CN: string, TX_GABARITO_CH: string, TX_GABARITO_LC: string, TX_GABARITO_MT: string, TP_STATUS_REDACAO: double, NU_NOTA_COMP1: double, NU_NOTA_COMP2: double, NU_NOTA_COMP3: double, NU_NOTA_COMP4: double, NU_NOTA_COMP5: double, NU_NOTA_REDACAO: double, Q001: string, Q002: string, Q003: string, Q004: string, Q005: double, Q006: string, Q007: string, Q008: string, Q009: string, Q010: string, Q011: string, Q012: string, Q013: string, Q014: string, Q015: string, Q016: string, Q017: string, Q018: string, Q019: string, Q020: string, Q021: string, Q022: string, Q023: string, Q024: string, Q025: string]"
      ]
     },
     "metadata": {},
     "output_type": "display_data"
    }
   ],
   "source": [
    "# conversão Pandas para Spark\n",
    "df_spark = spark.createDataFrame(df_pandas)\n",
    "display(df_spark)"
   ]
  },
  {
   "cell_type": "markdown",
   "metadata": {
    "application/vnd.databricks.v1+cell": {
     "cellMetadata": {},
     "inputWidgets": {},
     "nuid": "4510ff78-8fbd-407c-9ab5-ac569e323bea",
     "showTitle": false,
     "title": ""
    }
   },
   "source": [
    "* Seleção de colunas"
   ]
  },
  {
   "cell_type": "code",
   "execution_count": 18,
   "metadata": {
    "application/vnd.databricks.v1+cell": {
     "cellMetadata": {
      "byteLimit": 2048000,
      "rowLimit": 10000
     },
     "inputWidgets": {},
     "nuid": "b16f54ba-9f81-4557-8117-95bea9a40b6d",
     "showTitle": false,
     "title": ""
    }
   },
   "outputs": [
    {
     "name": "stdout",
     "output_type": "stream",
     "text": [
      "+------------+\n",
      "|NU_INSCRICAO|\n",
      "+------------+\n",
      "|210053270998|\n",
      "|210051914571|\n",
      "|210053592727|\n",
      "|210051819501|\n",
      "|210052271642|\n",
      "|210051334162|\n",
      "|210054090746|\n",
      "|210051018671|\n",
      "|210052350881|\n",
      "|210051588838|\n",
      "|210052314230|\n",
      "|210051923564|\n",
      "|210052563255|\n",
      "|210054208012|\n",
      "|210051016383|\n",
      "|210052752600|\n",
      "|210054040152|\n",
      "|210051423784|\n",
      "|210054226624|\n",
      "|210051936472|\n",
      "+------------+\n",
      "only showing top 20 rows\n",
      "\n"
     ]
    }
   ],
   "source": [
    "df.select('NU_INSCRICAO').show()"
   ]
  },
  {
   "cell_type": "code",
   "execution_count": 19,
   "metadata": {
    "application/vnd.databricks.v1+cell": {
     "cellMetadata": {
      "byteLimit": 2048000,
      "rowLimit": 10000
     },
     "inputWidgets": {},
     "nuid": "f907c101-ee88-48a6-85eb-fd425e5dd63d",
     "showTitle": false,
     "title": ""
    }
   },
   "outputs": [
    {
     "name": "stdout",
     "output_type": "stream",
     "text": [
      "+------------+\n",
      "|NU_INSCRICAO|\n",
      "+------------+\n",
      "|210053270998|\n",
      "|210051914571|\n",
      "|210053592727|\n",
      "|210051819501|\n",
      "|210052271642|\n",
      "|210051334162|\n",
      "|210054090746|\n",
      "|210051018671|\n",
      "|210052350881|\n",
      "|210051588838|\n",
      "|210052314230|\n",
      "|210051923564|\n",
      "|210052563255|\n",
      "|210054208012|\n",
      "|210051016383|\n",
      "|210052752600|\n",
      "|210054040152|\n",
      "|210051423784|\n",
      "|210054226624|\n",
      "|210051936472|\n",
      "+------------+\n",
      "only showing top 20 rows\n",
      "\n"
     ]
    }
   ],
   "source": [
    "df.select(['NU_INSCRICAO']).show()"
   ]
  },
  {
   "cell_type": "code",
   "execution_count": 20,
   "metadata": {
    "application/vnd.databricks.v1+cell": {
     "cellMetadata": {
      "byteLimit": 2048000,
      "rowLimit": 10000
     },
     "inputWidgets": {},
     "nuid": "8f406d84-4a12-4478-afdb-7c6a9c61eaa2",
     "showTitle": false,
     "title": ""
    }
   },
   "outputs": [
    {
     "name": "stdout",
     "output_type": "stream",
     "text": [
      "+------------+\n",
      "|NU_INSCRICAO|\n",
      "+------------+\n",
      "|210053270998|\n",
      "|210051914571|\n",
      "|210053592727|\n",
      "|210051819501|\n",
      "|210052271642|\n",
      "|210051334162|\n",
      "|210054090746|\n",
      "|210051018671|\n",
      "|210052350881|\n",
      "|210051588838|\n",
      "|210052314230|\n",
      "|210051923564|\n",
      "|210052563255|\n",
      "|210054208012|\n",
      "|210051016383|\n",
      "|210052752600|\n",
      "|210054040152|\n",
      "|210051423784|\n",
      "|210054226624|\n",
      "|210051936472|\n",
      "+------------+\n",
      "only showing top 20 rows\n",
      "\n"
     ]
    }
   ],
   "source": [
    "df.select(F.col('NU_INSCRICAO')).show()"
   ]
  },
  {
   "cell_type": "markdown",
   "metadata": {
    "application/vnd.databricks.v1+cell": {
     "cellMetadata": {},
     "inputWidgets": {},
     "nuid": "86495c39-1629-4785-876c-ada5f81a54a2",
     "showTitle": false,
     "title": ""
    }
   },
   "source": [
    "Selecionando várias colunas\n"
   ]
  },
  {
   "cell_type": "code",
   "execution_count": 22,
   "metadata": {
    "application/vnd.databricks.v1+cell": {
     "cellMetadata": {
      "byteLimit": 2048000,
      "rowLimit": 10000
     },
     "inputWidgets": {},
     "nuid": "ec55b39c-5cf6-47d6-876c-3c6514063613",
     "showTitle": false,
     "title": ""
    }
   },
   "outputs": [
    {
     "name": "stdout",
     "output_type": "stream",
     "text": [
      "+------------+-------+\n",
      "|NU_INSCRICAO|TP_SEXO|\n",
      "+------------+-------+\n",
      "|210053270998|      M|\n",
      "|210051914571|      M|\n",
      "|210053592727|      F|\n",
      "|210051819501|      M|\n",
      "|210052271642|      F|\n",
      "|210051334162|      F|\n",
      "|210054090746|      M|\n",
      "|210051018671|      F|\n",
      "|210052350881|      F|\n",
      "|210051588838|      M|\n",
      "|210052314230|      F|\n",
      "|210051923564|      M|\n",
      "|210052563255|      F|\n",
      "|210054208012|      F|\n",
      "|210051016383|      F|\n",
      "|210052752600|      F|\n",
      "|210054040152|      F|\n",
      "|210051423784|      F|\n",
      "|210054226624|      F|\n",
      "|210051936472|      M|\n",
      "+------------+-------+\n",
      "only showing top 20 rows\n",
      "\n"
     ]
    }
   ],
   "source": [
    "df.select(F.col('NU_INSCRICAO'), F.col('TP_SEXO')).show()"
   ]
  },
  {
   "cell_type": "code",
   "execution_count": 23,
   "metadata": {
    "application/vnd.databricks.v1+cell": {
     "cellMetadata": {
      "byteLimit": 2048000,
      "rowLimit": 10000
     },
     "inputWidgets": {},
     "nuid": "98f39e4d-00b6-4b38-bd15-b49081617537",
     "showTitle": false,
     "title": ""
    }
   },
   "outputs": [
    {
     "name": "stdout",
     "output_type": "stream",
     "text": [
      "+------------+-------+\n",
      "|NU_INSCRICAO|TP_SEXO|\n",
      "+------------+-------+\n",
      "|210053270998|      M|\n",
      "|210051914571|      M|\n",
      "|210053592727|      F|\n",
      "|210051819501|      M|\n",
      "|210052271642|      F|\n",
      "|210051334162|      F|\n",
      "|210054090746|      M|\n",
      "|210051018671|      F|\n",
      "|210052350881|      F|\n",
      "|210051588838|      M|\n",
      "|210052314230|      F|\n",
      "|210051923564|      M|\n",
      "|210052563255|      F|\n",
      "|210054208012|      F|\n",
      "|210051016383|      F|\n",
      "|210052752600|      F|\n",
      "|210054040152|      F|\n",
      "|210051423784|      F|\n",
      "|210054226624|      F|\n",
      "|210051936472|      M|\n",
      "+------------+-------+\n",
      "only showing top 20 rows\n",
      "\n"
     ]
    }
   ],
   "source": [
    "df.select(['NU_INSCRICAO','TP_SEXO']).show()"
   ]
  },
  {
   "cell_type": "code",
   "execution_count": 64,
   "metadata": {
    "application/vnd.databricks.v1+cell": {
     "cellMetadata": {
      "byteLimit": 2048000,
      "rowLimit": 10000
     },
     "inputWidgets": {},
     "nuid": "2d78287f-0ea7-4639-9868-2a8e35f8a949",
     "showTitle": false,
     "title": ""
    }
   },
   "outputs": [
    {
     "name": "stdout",
     "output_type": "stream",
     "text": [
      "+------------+-------+\n",
      "|NU_INSCRICAO|TP_SEXO|\n",
      "+------------+-------+\n",
      "|210053270998|      M|\n",
      "|210051914571|      M|\n",
      "|210053592727|      F|\n",
      "|210051819501|      M|\n",
      "|210052271642|      F|\n",
      "|210051334162|      F|\n",
      "|210054090746|      M|\n",
      "|210051018671|      F|\n",
      "|210052350881|      F|\n",
      "|210051588838|      M|\n",
      "|210052314230|      F|\n",
      "|210051923564|      M|\n",
      "|210052563255|      F|\n",
      "|210054208012|      F|\n",
      "|210051016383|      F|\n",
      "|210052752600|      F|\n",
      "|210054040152|      F|\n",
      "|210051423784|      F|\n",
      "|210054226624|      F|\n",
      "|210051936472|      M|\n",
      "+------------+-------+\n",
      "only showing top 20 rows\n",
      "\n"
     ]
    }
   ],
   "source": [
    "df.select('NU_INSCRICAO','TP_SEXO').show()"
   ]
  },
  {
   "cell_type": "markdown",
   "metadata": {
    "application/vnd.databricks.v1+cell": {
     "cellMetadata": {},
     "inputWidgets": {},
     "nuid": "f642d899-4df8-410e-be66-195b225d616e",
     "showTitle": false,
     "title": ""
    }
   },
   "source": [
    "Sumário Estatístico"
   ]
  },
  {
   "cell_type": "code",
   "execution_count": 24,
   "metadata": {
    "application/vnd.databricks.v1+cell": {
     "cellMetadata": {
      "byteLimit": 2048000,
      "rowLimit": 10000
     },
     "inputWidgets": {},
     "nuid": "1535b5f1-751b-456f-9238-2be65fbfd35f",
     "showTitle": false,
     "title": ""
    }
   },
   "outputs": [
    {
     "name": "stdout",
     "output_type": "stream",
     "text": [
      "+-------+-----------------+-----------------+-----------------+-----------------+\n",
      "|summary|       NU_NOTA_MT|       NU_NOTA_CH|       NU_NOTA_CN|       NU_NOTA_LC|\n",
      "+-------+-----------------+-----------------+-----------------+-----------------+\n",
      "|  count|               31|               32|               31|               32|\n",
      "|   mean|503.8612903225805|        505.26875|458.3548387096774|483.3624999999999|\n",
      "| stddev|90.29810141016016|83.38392526102068|70.41272062494427|61.81394951658329|\n",
      "|    min|            363.5|            361.7|            350.2|            344.9|\n",
      "|    max|            746.0|            670.7|            671.5|            577.8|\n",
      "+-------+-----------------+-----------------+-----------------+-----------------+\n",
      "\n"
     ]
    }
   ],
   "source": [
    "(df\n",
    " .select(['NU_NOTA_MT', 'NU_NOTA_CH', 'NU_NOTA_CN', 'NU_NOTA_LC'])\n",
    " .describe()\n",
    " .show()\n",
    ")"
   ]
  },
  {
   "cell_type": "code",
   "execution_count": 25,
   "metadata": {
    "application/vnd.databricks.v1+cell": {
     "cellMetadata": {
      "byteLimit": 2048000,
      "rowLimit": 10000
     },
     "inputWidgets": {},
     "nuid": "c69fa9f0-3513-4e75-997e-fa3df1d95fa1",
     "showTitle": false,
     "title": ""
    }
   },
   "outputs": [
    {
     "name": "stdout",
     "output_type": "stream",
     "text": [
      "+-------+-----------------+-----------------+-----------------+-----------------+\n",
      "|summary|       NU_NOTA_MT|       NU_NOTA_CH|       NU_NOTA_CN|       NU_NOTA_LC|\n",
      "+-------+-----------------+-----------------+-----------------+-----------------+\n",
      "|  count|               31|               32|               31|               32|\n",
      "|   mean|503.8612903225805|        505.26875|458.3548387096774|483.3624999999999|\n",
      "| stddev|90.29810141016016|83.38392526102068|70.41272062494427|61.81394951658329|\n",
      "|    min|            363.5|            361.7|            350.2|            344.9|\n",
      "|    25%|            432.8|            438.3|            400.9|            442.3|\n",
      "|    50%|            492.5|            487.0|            448.1|            488.3|\n",
      "|    75%|            553.6|            568.1|            493.5|            532.8|\n",
      "|    max|            746.0|            670.7|            671.5|            577.8|\n",
      "+-------+-----------------+-----------------+-----------------+-----------------+\n",
      "\n"
     ]
    }
   ],
   "source": [
    "(df\n",
    " .select(['NU_NOTA_MT', 'NU_NOTA_CH', 'NU_NOTA_CN', 'NU_NOTA_LC'])\n",
    " .summary()\n",
    " .show()\n",
    ")"
   ]
  },
  {
   "cell_type": "markdown",
   "metadata": {
    "application/vnd.databricks.v1+cell": {
     "cellMetadata": {},
     "inputWidgets": {},
     "nuid": "715c2e1a-7bac-4d72-bcfc-53f1e33b51b1",
     "showTitle": false,
     "title": ""
    }
   },
   "source": [
    "Para obter os valores únicos de uma coluna podemos usar o comando `.distinct()`."
   ]
  },
  {
   "cell_type": "code",
   "execution_count": 27,
   "metadata": {
    "application/vnd.databricks.v1+cell": {
     "cellMetadata": {
      "byteLimit": 2048000,
      "rowLimit": 10000
     },
     "inputWidgets": {},
     "nuid": "90c86ec3-7940-40b0-9365-51394ff06fd6",
     "showTitle": false,
     "title": ""
    }
   },
   "outputs": [
    {
     "name": "stdout",
     "output_type": "stream",
     "text": [
      "+-------+\n",
      "|TP_SEXO|\n",
      "+-------+\n",
      "|      F|\n",
      "|      M|\n",
      "+-------+\n",
      "\n"
     ]
    }
   ],
   "source": [
    "# distinct - similar ao unique do Pandas\n",
    "df.select(F.col('TP_SEXO')).distinct().show()"
   ]
  },
  {
   "cell_type": "markdown",
   "metadata": {
    "application/vnd.databricks.v1+cell": {
     "cellMetadata": {},
     "inputWidgets": {},
     "nuid": "726fa881-c7e6-48b6-a862-2abee1efa29c",
     "showTitle": false,
     "title": ""
    }
   },
   "source": [
    "### Filtro"
   ]
  },
  {
   "cell_type": "markdown",
   "metadata": {
    "application/vnd.databricks.v1+cell": {
     "cellMetadata": {},
     "inputWidgets": {},
     "nuid": "bfcd1633-8277-464e-a195-7f8c9a48ac81",
     "showTitle": false,
     "title": ""
    }
   },
   "source": [
    "Um procedimento muito comum ao manipular dados é a necessidade de filtrar bases por algum condição ou mesmo por um conjunto de condições. Para tanto, podemos usar os comandos `.filter()` e `.where()`."
   ]
  },
  {
   "cell_type": "code",
   "execution_count": 28,
   "metadata": {
    "application/vnd.databricks.v1+cell": {
     "cellMetadata": {
      "byteLimit": 2048000,
      "rowLimit": 10000
     },
     "inputWidgets": {},
     "nuid": "1fbe1e4e-35ce-4214-b135-3ae0c3b60f6f",
     "showTitle": false,
     "title": ""
    }
   },
   "outputs": [
    {
     "name": "stdout",
     "output_type": "stream",
     "text": [
      "+------------+------+---------------+-------+---------------+-----------+----------------+---------------+---------------+---------+---------+------------+----------------+----------------+---------+---------+----------------------+------------------+---------------+------------------+------------------+-----------+-----------+--------------+--------------+--------------+--------------+-----------+-----------+-----------+-----------+----------+----------+----------+----------+--------------------+--------------------+--------------------+--------------------+---------+--------------------+--------------------+--------------------+--------------------+-----------------+-------------+-------------+-------------+-------------+-------------+---------------+----+----+----+----+----+----+----+----+----+----+----+----+----+----+----+----+----+----+----+----+----+----+----+----+----+\n",
      "|NU_INSCRICAO|NU_ANO|TP_FAIXA_ETARIA|TP_SEXO|TP_ESTADO_CIVIL|TP_COR_RACA|TP_NACIONALIDADE|TP_ST_CONCLUSAO|TP_ANO_CONCLUIU|TP_ESCOLA|TP_ENSINO|IN_TREINEIRO|CO_MUNICIPIO_ESC|NO_MUNICIPIO_ESC|CO_UF_ESC|SG_UF_ESC|TP_DEPENDENCIA_ADM_ESC|TP_LOCALIZACAO_ESC|TP_SIT_FUNC_ESC|CO_MUNICIPIO_PROVA|NO_MUNICIPIO_PROVA|CO_UF_PROVA|SG_UF_PROVA|TP_PRESENCA_CN|TP_PRESENCA_CH|TP_PRESENCA_LC|TP_PRESENCA_MT|CO_PROVA_CN|CO_PROVA_CH|CO_PROVA_LC|CO_PROVA_MT|NU_NOTA_CN|NU_NOTA_CH|NU_NOTA_LC|NU_NOTA_MT|     TX_RESPOSTAS_CN|     TX_RESPOSTAS_CH|     TX_RESPOSTAS_LC|     TX_RESPOSTAS_MT|TP_LINGUA|      TX_GABARITO_CN|      TX_GABARITO_CH|      TX_GABARITO_LC|      TX_GABARITO_MT|TP_STATUS_REDACAO|NU_NOTA_COMP1|NU_NOTA_COMP2|NU_NOTA_COMP3|NU_NOTA_COMP4|NU_NOTA_COMP5|NU_NOTA_REDACAO|Q001|Q002|Q003|Q004|Q005|Q006|Q007|Q008|Q009|Q010|Q011|Q012|Q013|Q014|Q015|Q016|Q017|Q018|Q019|Q020|Q021|Q022|Q023|Q024|Q025|\n",
      "+------------+------+---------------+-------+---------------+-----------+----------------+---------------+---------------+---------+---------+------------+----------------+----------------+---------+---------+----------------------+------------------+---------------+------------------+------------------+-----------+-----------+--------------+--------------+--------------+--------------+-----------+-----------+-----------+-----------+----------+----------+----------+----------+--------------------+--------------------+--------------------+--------------------+---------+--------------------+--------------------+--------------------+--------------------+-----------------+-------------+-------------+-------------+-------------+-------------+---------------+----+----+----+----+----+----+----+----+----+----+----+----+----+----+----+----+----+----+----+----+----+----+----+----+----+\n",
      "|210053592727|  2021|             10|      F|              1|          3|               1|              1|              7|        1|     NULL|           0|            NULL|            NULL|     NULL|     NULL|                  NULL|              NULL|           NULL|           2928208|           Santana|         29|         BA|             1|             1|             1|             1|      912.0|      882.0|      891.0|      901.0|     572.3|     653.4|     577.8|     528.0|DABCEDABECCCBADAE...|ECAAEADBEAAABBBCE...|99999DCAEEDCAAEAA...|BD*EEADCCCDDCCACC...|        1|DABCEDEBEEBBCABED...|EBAAEADBCACBBABEE...|ACABBACAEADCEADAB...|DCCAEBABDDCABEECC...|              1.0|        120.0|        200.0|        160.0|        140.0|        120.0|          740.0|   E|   G|   B|   D| 3.0|   F|   A|   B|   D|   A|   A|   B|   B|   A|   A|   A|   A|   A|   B|   A|   A|   D|   A|   B|   B|\n",
      "|210052271642|  2021|              2|      F|              1|          1|               1|              3|              0|        1|     NULL|           1|            NULL|            NULL|     NULL|     NULL|                  NULL|              NULL|           NULL|           2916401|        Itapetinga|         29|         BA|             1|             1|             1|             1|      911.0|      880.0|      890.0|      902.0|     443.9|     518.8|     490.4|     477.7|CDCBCEADBEDECEBAC...|DBDBACAABDBBCACBA...|CBAAA99999DAAACBC...|DCADCDBBCEBCDDAED...|        0|CDBBBCABEDEDEAAEB...|BBBAAEECBBABEECEB...|ABBCAEAACADDCACDC...|ECCCABBDBDDDCEDDC...|              1.0|        120.0|        180.0|        120.0|        160.0|        140.0|          720.0|   C|   E|   C|   B| 4.0|   B|   A|   B|   D|   B|   A|   B|   B|   B|   A|   A|   A|   A|   C|   A|   A|   D|   A|   A|   B|\n",
      "|210051334162|  2021|              3|      F|              1|          2|               2|              2|              0|        2|      1.0|           0|            NULL|            NULL|     NULL|     NULL|                  NULL|              NULL|           NULL|           2918209|         Jiquiriçá|         29|         BA|             1|             1|             1|             1|      911.0|      880.0|      890.0|      902.0|     461.9|     498.8|     475.6|     504.8|CDBBCEBCDAECBEECB...|BABBABEEBBABBAEBA...|99999AEACABAAAADB...|CACCAADCDEECADBBA...|        1|CDBBBCABEDEDEAAEB...|BBBAAEECBBABEECEB...|ABBCAEAACADDCACDC...|ECCCABBDBDDDCEDDC...|              1.0|        100.0|        180.0|        120.0|        160.0|        120.0|          680.0|   B|   C|   A|   A| 4.0|   B|   A|   B|   D|   A|   B|   B|   A|   A|   A|   A|   A|   A|   B|   A|   A|   C|   A|   A|   B|\n",
      "|210051018671|  2021|              7|      F|              1|          3|               1|              1|              3|        1|     NULL|           0|            NULL|            NULL|     NULL|     NULL|                  NULL|              NULL|           NULL|           2927408|          Salvador|         29|         BA|             0|             0|             0|             0|       NULL|       NULL|       NULL|       NULL|      NULL|      NULL|      NULL|      NULL|                NULL|                NULL|                NULL|                NULL|        0|                NULL|                NULL|                NULL|                NULL|             NULL|         NULL|         NULL|         NULL|         NULL|         NULL|           NULL|   C|   E|   B|   B| 3.0|   C|   A|   B|   D|   A|   A|   B|   B|   B|   B|   B|   A|   A|   B|   A|   A|   E|   A|   B|   B|\n",
      "|210052350881|  2021|              5|      F|              1|          3|               1|              2|              0|        2|      1.0|           0|       2927408.0|        Salvador|     29.0|       BA|                   2.0|               1.0|            1.0|           2927408|          Salvador|         29|         BA|             1|             1|             1|             1|      912.0|      882.0|      891.0|      901.0|     493.5|     447.2|     510.7|     398.1|DACDAAEAECDDEEBED...|EDABDAEDEABADEACA...|EDBAC99999DBECBCB...|EDBABABDCEEECDACA...|        0|DABCEDEBEEBBCABED...|EBAAEADBCACBBABEE...|ACABBACAEADCEADAB...|DCCAEBABDDCABEECC...|              3.0|          0.0|          0.0|          0.0|          0.0|          0.0|            0.0|   H|   D|   B|   D| 4.0|   D|   A|   C|   D|   A|   A|   B|   B|   B|   A|   B|   A|   B|   C|   A|   A|   E|   A|   A|   B|\n",
      "|210052314230|  2021|              8|      F|              1|          3|               1|              1|              5|        1|     NULL|           0|            NULL|            NULL|     NULL|     NULL|                  NULL|              NULL|           NULL|           2907509|              Catu|         29|         BA|             0|             0|             0|             0|       NULL|       NULL|       NULL|       NULL|      NULL|      NULL|      NULL|      NULL|                NULL|                NULL|                NULL|                NULL|        1|                NULL|                NULL|                NULL|                NULL|             NULL|         NULL|         NULL|         NULL|         NULL|         NULL|           NULL|   B|   F|   D|   A| 4.0|   D|   A|   B|   C|   B|   B|   B|   A|   B|   A|   B|   A|   A|   B|   A|   A|   D|   A|   B|   B|\n",
      "|210052563255|  2021|              8|      F|              1|          3|               1|              1|              3|        1|     NULL|           0|            NULL|            NULL|     NULL|     NULL|                  NULL|              NULL|           NULL|           2910503|        Entre Rios|         29|         BA|             0|             0|             0|             0|       NULL|       NULL|       NULL|       NULL|      NULL|      NULL|      NULL|      NULL|                NULL|                NULL|                NULL|                NULL|        1|                NULL|                NULL|                NULL|                NULL|             NULL|         NULL|         NULL|         NULL|         NULL|         NULL|           NULL|   H|   D|   F|   B| 2.0|   A|   A|   B|   C|   A|   A|   B|   A|   A|   A|   A|   A|   A|   A|   A|   A|   B|   A|   A|   B|\n",
      "|210054208012|  2021|              2|      F|              1|          3|               1|              2|              0|        2|      1.0|           0|       2910909.0|   Firmino Alves|     29.0|       BA|                   2.0|               1.0|            1.0|           2916401|        Itapetinga|         29|         BA|             1|             1|             1|             1|      909.0|      881.0|      892.0|      899.0|     408.0|     542.1|     446.0|     420.5|DCDCECCDDDCBACDCD...|BDDECAECACCCAACAE...|DACAD99999CECDDAA...|DBCCCCBEBCDACBCCA...|        0|EDECABEDABCBEBACC...|BEECCAEABADBCAEBA...|ABBACAAECACDBDDAD...|EEXEBABDDCECCBCCE...|              1.0|        140.0|        160.0|        120.0|        120.0|        140.0|          680.0|   E|   E|   C|   C| 5.0|   C|   A|   B|   C|   A|   A|   B|   B|   A|   A|   A|   A|   A|   B|   B|   A|   C|   A|   B|   B|\n",
      "|210051016383|  2021|              3|      F|              1|          3|               1|              2|              0|        2|      1.0|           0|            NULL|            NULL|     NULL|     NULL|                  NULL|              NULL|           NULL|           2919157|             Lapão|         29|         BA|             1|             1|             1|             1|      912.0|      882.0|      891.0|      901.0|     566.3|     521.1|     566.5|     416.5|DABCE*ECECEEBCDEC...|ECBEEAEBEABBBABEE...|EBAEC99999EEEADAD...|CBCDEDDCBEDDDCAAA...|        0|DABCEDEBEEBBCABED...|EBAAEADBCACBBABEE...|ACABBACAEADCEADAB...|DCCAEBABDDCABEECC...|              1.0|        100.0|        140.0|        100.0|        120.0|        180.0|          640.0|   F|   E|   D|   F| 2.0|   B|   A|   B|   C|   A|   A|   B|   A|   A|   A|   A|   A|   A|   B|   A|   A|   C|   A|   B|   A|\n",
      "|210052752600|  2021|              8|      F|              1|          3|               1|              1|              5|        1|     NULL|           0|            NULL|            NULL|     NULL|     NULL|                  NULL|              NULL|           NULL|           2906873|      Capim Grosso|         29|         BA|             0|             0|             0|             0|       NULL|       NULL|       NULL|       NULL|      NULL|      NULL|      NULL|      NULL|                NULL|                NULL|                NULL|                NULL|        1|                NULL|                NULL|                NULL|                NULL|             NULL|         NULL|         NULL|         NULL|         NULL|         NULL|           NULL|   E|   E|   A|   B| 1.0|   A|   A|   B|   B|   A|   A|   B|   A|   A|   A|   A|   A|   A|   A|   A|   A|   B|   A|   A|   B|\n",
      "|210054040152|  2021|             13|      F|              2|          2|               1|              1|             15|        1|     NULL|           0|            NULL|            NULL|     NULL|     NULL|                  NULL|              NULL|           NULL|           2908408|Conceição do Coité|         29|         BA|             1|             1|             1|             1|      912.0|      882.0|      891.0|      901.0|     399.8|     568.1|     470.4|     484.1|EAEBDCACCECBABCBE...|ABCDCCEEEAEBBABDE...|99999ADEAEEEBAEAA...|DACDECCDDEECECAAA...|        1|DABCEDEBEEBBCABED...|EBAAEADBCACBBABEE...|ACABBACAEADCEADAB...|DCCAEBABDDCABEECC...|              1.0|        140.0|        160.0|        120.0|        120.0|        100.0|          640.0|   B|   B|   A|   A| 4.0|   D|   A|   B|   C|   B|   A|   B|   A|   A|   A|   B|   A|   A|   B|   A|   A|   D|   A|   B|   B|\n",
      "|210051423784|  2021|              2|      F|              1|          2|               1|              2|              0|        2|      1.0|           0|            NULL|            NULL|     NULL|     NULL|                  NULL|              NULL|           NULL|           2908408|Conceição do Coité|         29|         BA|             1|             1|             1|             1|      910.0|      879.0|      889.0|      900.0|     384.9|     371.6|     415.9|     440.0|CDBADCDACDDADCBBB...|ACBCDABACEBBDDBEC...|99999AEEEBABDBEAD...|EBCADADDBBBADCBDD...|        1|ADCDCDBBBECDCCDCB...|BADCBADBCEDDEBBAD...|CAABBCAEAABDCDEAD...|DDCABDCCAEDCEBBDB...|              1.0|        120.0|        120.0|         80.0|        100.0|        120.0|          540.0|   E|   E|   A|   A| 3.0|   A|   A|   B|   D|   A|   A|   B|   A|   A|   A|   B|   A|   A|   B|   B|   B|   D|   A|   A|   A|\n",
      "|210054226624|  2021|              1|      F|              1|          3|               1|              3|              0|        1|     NULL|           1|            NULL|            NULL|     NULL|     NULL|                  NULL|              NULL|           NULL|           2913903|             Ipiaú|         29|         BA|             1|             1|             1|             1|      912.0|      882.0|      891.0|      901.0|     355.7|     476.1|     432.4|     569.8|CCEBDCBDCCBCAEBEA...|EADBEEBCAAABDACCB...|99999DCEDBDEAACBB...|DDCDEADBEACBCEAAD...|        1|DABCEDEBEEBBCABED...|EBAAEADBCACBBABEE...|ACABBACAEADCEADAB...|DCCAEBABDDCABEECC...|              1.0|        140.0|        120.0|        120.0|        140.0|         80.0|          600.0|   D|   F|   D|   B| 4.0|   B|   A|   C|   D|   A|   A|   B|   B|   A|   A|   A|   A|   A|   B|   A|   A|   D|   A|   A|   B|\n",
      "|210052955166|  2021|             11|      F|              1|          1|               1|              1|              5|        1|     NULL|           0|            NULL|            NULL|     NULL|     NULL|                  NULL|              NULL|           NULL|           2927408|          Salvador|         29|         BA|             0|             0|             0|             0|       NULL|       NULL|       NULL|       NULL|      NULL|      NULL|      NULL|      NULL|                NULL|                NULL|                NULL|                NULL|        1|                NULL|                NULL|                NULL|                NULL|             NULL|         NULL|         NULL|         NULL|         NULL|         NULL|           NULL|   B|   E|   B|   B| 2.0|   B|   A|   B|   B|   A|   A|   A|   A|   A|   A|   A|   A|   A|   A|   A|   A|   D|   A|   A|   B|\n",
      "|210053768668|  2021|              4|      F|              1|          2|               1|              2|              0|        3|      1.0|           0|            NULL|            NULL|     NULL|     NULL|                  NULL|              NULL|           NULL|           2927408|          Salvador|         29|         BA|             1|             1|             1|             1|      909.0|      881.0|      892.0|      899.0|     561.2|     565.8|     503.8|     499.9|DEDABBECACCDCDCCC...|BDCCCAAEBAECEAAEC...|99999AACCACEBCBDD...|CBAEAECACDECABBAA...|        1|EDECABEDABCBEBACC...|BEECCAEABADBCAEBA...|ABBACAAECACDBDDAD...|EEXEBABDDCECCBCCE...|              1.0|        160.0|        200.0|        180.0|        160.0|        200.0|          900.0|   E|   E|   B|   B| 4.0|   C|   A|   C|   D|   A|   A|   B|   A|   B|   A|   A|   A|   A|   B|   A|   A|   D|   A|   A|   B|\n",
      "|210052336621|  2021|              2|      F|              1|          3|               1|              2|              0|        2|      1.0|           0|            NULL|            NULL|     NULL|     NULL|                  NULL|              NULL|           NULL|           2906501|          Candeias|         29|         BA|             1|             1|             1|             1|      909.0|      881.0|      892.0|      899.0|     463.8|     405.8|     344.9|     541.9|BBDDDBEEACCBEBEAE...|EBACADECEABCBDEAC...|BABAE99999AEBBCDA...|EADEDDCEBADADDDCD...|        0|EDECABEDABCBEBACC...|BEECCAEABADBCAEBA...|ABBACAAECACDBDDAD...|EEXEBABDDCECCBCCE...|              1.0|        120.0|        120.0|        120.0|        120.0|        120.0|          600.0|   F|   E|   B|   B| 4.0|   C|   A|   B|   C|   A|   A|   B|   A|   A|   A|   A|   A|   A|   B|   A|   A|   C|   A|   A|   B|\n",
      "|210051529359|  2021|              4|      F|              1|          1|               1|              1|              2|        1|     NULL|           0|            NULL|            NULL|     NULL|     NULL|                  NULL|              NULL|           NULL|           2906808|         Cansanção|         29|         BA|             0|             0|             0|             0|       NULL|       NULL|       NULL|       NULL|      NULL|      NULL|      NULL|      NULL|                NULL|                NULL|                NULL|                NULL|        1|                NULL|                NULL|                NULL|                NULL|             NULL|         NULL|         NULL|         NULL|         NULL|         NULL|           NULL|   E|   G|   D|   D| 5.0|   I|   A|   C|   E|   B|   B|   B|   B|   B|   A|   B|   A|   B|   E|   B|   B|   E|   A|   D|   B|\n",
      "|210053290126|  2021|              9|      F|              1|          2|               1|              1|              5|        1|     NULL|           0|            NULL|            NULL|     NULL|     NULL|                  NULL|              NULL|           NULL|           2913606|            Ilhéus|         29|         BA|             1|             1|             1|             1|      910.0|      879.0|      889.0|      900.0|     490.9|     603.9|     561.8|     553.6|BCECCDCEDDCABBDAC...|BABCDAABCECBABBAD...|99999CAEEABACDEEB...|BDDACDDCBBABCEBCD...|        1|ADCDCDBBBECDCCDCB...|BADCBADBCEDDEBBAD...|CAABBCAEAABDCDEAD...|DDCABDCCAEDCEBBDB...|              1.0|        160.0|        200.0|        180.0|        180.0|        200.0|          920.0|   H|   C|   F|   B| 3.0|   B|   A|   B|   D|   A|   A|   B|   A|   A|   A|   A|   A|   A|   B|   A|   A|   C|   A|   A|   B|\n",
      "|210052855610|  2021|             16|      F|              1|          2|               1|              1|             15|        1|     NULL|           0|            NULL|            NULL|     NULL|     NULL|                  NULL|              NULL|           NULL|           2927408|          Salvador|         29|         BA|             0|             0|             0|             0|       NULL|       NULL|       NULL|       NULL|      NULL|      NULL|      NULL|      NULL|                NULL|                NULL|                NULL|                NULL|        0|                NULL|                NULL|                NULL|                NULL|             NULL|         NULL|         NULL|         NULL|         NULL|         NULL|           NULL|   H|   E|   D|   F| 4.0|   F|   A|   C|   C|   A|   A|   B|   A|   B|   A|   B|   A|   A|   B|   A|   A|   D|   A|   B|   B|\n",
      "|210051622576|  2021|              3|      F|              1|          1|               1|              2|              0|        2|      1.0|           0|            NULL|            NULL|     NULL|     NULL|                  NULL|              NULL|           NULL|           2919801|          Macaúbas|         29|         BA|             1|             1|             1|             1|      912.0|      882.0|      891.0|      901.0|     393.5|     378.9|     354.6|     465.0|DACDBCBABCBECDACB...|BEEDABCEDCEAADBDB...|99999EACACADDABDC...|BDECEDCBABDCEBAAD...|        1|DABCEDEBEEBBCABED...|EBAAEADBCACBBABEE...|ACABBACAEADCEADAB...|DCCAEBABDDCABEECC...|              1.0|        100.0|        120.0|         80.0|        120.0|          0.0|          420.0|   B|   D|   D|   D| 3.0|   E|   A|   C|   D|   B|   B|   B|   B|   A|   A|   B|   A|   A|   B|   A|   B|   D|   A|   B|   B|\n",
      "+------------+------+---------------+-------+---------------+-----------+----------------+---------------+---------------+---------+---------+------------+----------------+----------------+---------+---------+----------------------+------------------+---------------+------------------+------------------+-----------+-----------+--------------+--------------+--------------+--------------+-----------+-----------+-----------+-----------+----------+----------+----------+----------+--------------------+--------------------+--------------------+--------------------+---------+--------------------+--------------------+--------------------+--------------------+-----------------+-------------+-------------+-------------+-------------+-------------+---------------+----+----+----+----+----+----+----+----+----+----+----+----+----+----+----+----+----+----+----+----+----+----+----+----+----+\n",
      "only showing top 20 rows\n",
      "\n"
     ]
    }
   ],
   "source": [
    "# condição simples\n",
    "df.filter(F.col('TP_SEXO') == 'F').show()\n",
    "\n",
    "# Outras sintaxes:\n",
    "# df.filter(df.TP_SEXO == 'F').display()\n",
    "# df.filter('TP_SEXO == \"F\"').display()"
   ]
  },
  {
   "cell_type": "markdown",
   "metadata": {
    "application/vnd.databricks.v1+cell": {
     "cellMetadata": {},
     "inputWidgets": {},
     "nuid": "8ba88f87-b38b-4b90-bde2-2c4630edd903",
     "showTitle": false,
     "title": ""
    }
   },
   "source": [
    "Vejamos agora como filtrar os dados a partir de uma condição múltipla. Podemos usar os operadores `AND` (**&**) ou `OR` (**|**). Lembre-se que o operador `AND` retorna True se todas as condições forem verdadeiras, ao passo que o operador `OR` retorna True se pelo menos uma condição for True."
   ]
  },
  {
   "cell_type": "code",
   "execution_count": 30,
   "metadata": {
    "application/vnd.databricks.v1+cell": {
     "cellMetadata": {
      "byteLimit": 2048000,
      "rowLimit": 10000
     },
     "inputWidgets": {},
     "nuid": "7c47ae31-1180-415e-a9a8-0246f97e269c",
     "showTitle": false,
     "title": ""
    }
   },
   "outputs": [
    {
     "data": {
      "text/plain": [
       "DataFrame[NU_INSCRICAO: bigint, TP_SEXO: string, NU_NOTA_MT: double]"
      ]
     },
     "metadata": {},
     "output_type": "display_data"
    }
   ],
   "source": [
    "subset = (\n",
    "    df\n",
    "    .filter(\n",
    "        (F.col('TP_SEXO') == 'F') &\n",
    "        (F.col('NU_NOTA_MT') >= 300 ) &\n",
    "        (F.col('NO_MUNICIPIO_PROVA') == 'Salvador')\n",
    "    )\n",
    "    .select('NU_INSCRICAO', 'TP_SEXO', 'NU_NOTA_MT')\n",
    ")\n",
    "\n",
    "display(subset)"
   ]
  },
  {
   "cell_type": "markdown",
   "metadata": {
    "application/vnd.databricks.v1+cell": {
     "cellMetadata": {},
     "inputWidgets": {},
     "nuid": "3c4ec54a-465f-4f40-836a-f4e8732588a6",
     "showTitle": false,
     "title": ""
    }
   },
   "source": [
    "Para filtrar missing values podemos usar `isNull()` e `isNotNull()`."
   ]
  },
  {
   "cell_type": "code",
   "execution_count": 31,
   "metadata": {
    "application/vnd.databricks.v1+cell": {
     "cellMetadata": {
      "byteLimit": 2048000,
      "rowLimit": 10000
     },
     "inputWidgets": {},
     "nuid": "228a5d20-27c0-4ffc-8dce-c116654c8ea7",
     "showTitle": false,
     "title": ""
    }
   },
   "outputs": [
    {
     "data": {
      "text/plain": [
       "DataFrame[NU_INSCRICAO: bigint, TP_SEXO: string, NU_NOTA_MT: double]"
      ]
     },
     "metadata": {},
     "output_type": "display_data"
    }
   ],
   "source": [
    "# filtrando missing values - isNull()\n",
    "subset2 = (\n",
    "    df\n",
    "    .filter(F.col('NU_NOTA_MT').isNull())\n",
    "    .select('NU_INSCRICAO', 'TP_SEXO', 'NU_NOTA_MT')\n",
    ")\n",
    "display(subset2)"
   ]
  },
  {
   "cell_type": "code",
   "execution_count": 0,
   "metadata": {
    "application/vnd.databricks.v1+cell": {
     "cellMetadata": {
      "byteLimit": 2048000,
      "rowLimit": 10000
     },
     "inputWidgets": {},
     "nuid": "7acbb64b-02fb-44c8-8aa7-17a65b74461a",
     "showTitle": false,
     "title": ""
    }
   },
   "outputs": [
    {
     "data": {
      "text/html": [
       "<style scoped>\n",
       "  .table-result-container {\n",
       "    max-height: 300px;\n",
       "    overflow: auto;\n",
       "  }\n",
       "  table, th, td {\n",
       "    border: 1px solid black;\n",
       "    border-collapse: collapse;\n",
       "  }\n",
       "  th, td {\n",
       "    padding: 5px;\n",
       "  }\n",
       "  th {\n",
       "    text-align: left;\n",
       "  }\n",
       "</style><div class='table-result-container'><table class='table-result'><thead style='background-color: white'><tr><th>NU_INSCRICAO</th><th>TP_SEXO</th><th>NU_NOTA_MT</th></tr></thead><tbody><tr><td>210053270998</td><td>M</td><td>431.5</td></tr><tr><td>210053592727</td><td>F</td><td>528.0</td></tr><tr><td>210051819501</td><td>M</td><td>480.8</td></tr><tr><td>210052271642</td><td>F</td><td>477.7</td></tr><tr><td>210051334162</td><td>F</td><td>504.8</td></tr><tr><td>210052350881</td><td>F</td><td>398.1</td></tr><tr><td>210051588838</td><td>M</td><td>719.8</td></tr><tr><td>210051923564</td><td>M</td><td>419.2</td></tr><tr><td>210054208012</td><td>F</td><td>420.5</td></tr><tr><td>210051016383</td><td>F</td><td>416.5</td></tr><tr><td>210054040152</td><td>F</td><td>484.1</td></tr><tr><td>210051423784</td><td>F</td><td>440.0</td></tr><tr><td>210054226624</td><td>F</td><td>569.8</td></tr><tr><td>210053768668</td><td>F</td><td>499.9</td></tr><tr><td>210051788556</td><td>M</td><td>479.9</td></tr><tr><td>210052336621</td><td>F</td><td>541.9</td></tr><tr><td>210053290126</td><td>F</td><td>553.6</td></tr><tr><td>210051622576</td><td>F</td><td>465.0</td></tr><tr><td>210051142382</td><td>F</td><td>542.4</td></tr><tr><td>210052631800</td><td>F</td><td>382.3</td></tr><tr><td>210051085130</td><td>M</td><td>746.0</td></tr><tr><td>210051870968</td><td>F</td><td>636.3</td></tr><tr><td>210051226889</td><td>F</td><td>562.0</td></tr><tr><td>210051491793</td><td>F</td><td>363.5</td></tr><tr><td>210051589915</td><td>F</td><td>432.8</td></tr><tr><td>210052151616</td><td>M</td><td>569.3</td></tr><tr><td>210053130450</td><td>M</td><td>494.1</td></tr><tr><td>210053904763</td><td>F</td><td>620.4</td></tr><tr><td>210051101419</td><td>F</td><td>510.1</td></tr><tr><td>210054169248</td><td>F</td><td>436.9</td></tr><tr><td>210052542394</td><td>F</td><td>492.5</td></tr></tbody></table></div>"
      ]
     },
     "metadata": {
      "application/vnd.databricks.v1+output": {
       "addedWidgets": {},
       "aggData": [],
       "aggError": "",
       "aggOverflow": false,
       "aggSchema": [],
       "aggSeriesLimitReached": false,
       "aggType": "",
       "arguments": {},
       "columnCustomDisplayInfos": {},
       "data": [
        [
         210053270998,
         "M",
         431.5
        ],
        [
         210053592727,
         "F",
         528
        ],
        [
         210051819501,
         "M",
         480.8
        ],
        [
         210052271642,
         "F",
         477.7
        ],
        [
         210051334162,
         "F",
         504.8
        ],
        [
         210052350881,
         "F",
         398.1
        ],
        [
         210051588838,
         "M",
         719.8
        ],
        [
         210051923564,
         "M",
         419.2
        ],
        [
         210054208012,
         "F",
         420.5
        ],
        [
         210051016383,
         "F",
         416.5
        ],
        [
         210054040152,
         "F",
         484.1
        ],
        [
         210051423784,
         "F",
         440
        ],
        [
         210054226624,
         "F",
         569.8
        ],
        [
         210053768668,
         "F",
         499.9
        ],
        [
         210051788556,
         "M",
         479.9
        ],
        [
         210052336621,
         "F",
         541.9
        ],
        [
         210053290126,
         "F",
         553.6
        ],
        [
         210051622576,
         "F",
         465
        ],
        [
         210051142382,
         "F",
         542.4
        ],
        [
         210052631800,
         "F",
         382.3
        ],
        [
         210051085130,
         "M",
         746
        ],
        [
         210051870968,
         "F",
         636.3
        ],
        [
         210051226889,
         "F",
         562
        ],
        [
         210051491793,
         "F",
         363.5
        ],
        [
         210051589915,
         "F",
         432.8
        ],
        [
         210052151616,
         "M",
         569.3
        ],
        [
         210053130450,
         "M",
         494.1
        ],
        [
         210053904763,
         "F",
         620.4
        ],
        [
         210051101419,
         "F",
         510.1
        ],
        [
         210054169248,
         "F",
         436.9
        ],
        [
         210052542394,
         "F",
         492.5
        ]
       ],
       "datasetInfos": [],
       "dbfsResultPath": null,
       "isJsonSchema": true,
       "metadata": {},
       "overflow": false,
       "plotOptions": {
        "customPlotOptions": {},
        "displayType": "table",
        "pivotAggregation": null,
        "pivotColumns": null,
        "xColumns": null,
        "yColumns": null
       },
       "removedWidgets": [],
       "schema": [
        {
         "metadata": "{}",
         "name": "NU_INSCRICAO",
         "type": "\"long\""
        },
        {
         "metadata": "{}",
         "name": "TP_SEXO",
         "type": "\"string\""
        },
        {
         "metadata": "{}",
         "name": "NU_NOTA_MT",
         "type": "\"double\""
        }
       ],
       "type": "table"
      }
     },
     "output_type": "display_data"
    }
   ],
   "source": [
    "# filtrando missing values - isNotNull()\n",
    "subset3 = (\n",
    "    df\n",
    "    .filter(F.col('NU_NOTA_MT').isNotNull())\n",
    "    .select('NU_INSCRICAO', 'TP_SEXO', 'NU_NOTA_MT')\n",
    ")\n",
    "display(subset3)"
   ]
  },
  {
   "cell_type": "markdown",
   "metadata": {
    "application/vnd.databricks.v1+cell": {
     "cellMetadata": {},
     "inputWidgets": {},
     "nuid": "0ae17667-50d2-4fce-913f-ee4f5df560f9",
     "showTitle": false,
     "title": ""
    }
   },
   "source": [
    "Na próxima query vamos usar o operador `.isin()` para filtrar os candidatos que residem apenas nas cidades que iremos definir dentro da lista."
   ]
  },
  {
   "cell_type": "code",
   "execution_count": 33,
   "metadata": {
    "application/vnd.databricks.v1+cell": {
     "cellMetadata": {
      "byteLimit": 2048000,
      "rowLimit": 10000
     },
     "inputWidgets": {},
     "nuid": "d5b06da8-f830-4285-a97b-685572b6ace6",
     "showTitle": false,
     "title": ""
    }
   },
   "outputs": [
    {
     "name": "stdout",
     "output_type": "stream",
     "text": [
      "+------------+-------+------------------+----------+\n",
      "|NU_INSCRICAO|TP_SEXO|NO_MUNICIPIO_PROVA|NU_NOTA_MT|\n",
      "+------------+-------+------------------+----------+\n",
      "|210053768668|      F|          Salvador|     499.9|\n",
      "|210052542394|      F|          Salvador|     492.5|\n",
      "+------------+-------+------------------+----------+\n",
      "\n"
     ]
    }
   ],
   "source": [
    "(\n",
    "    df\n",
    "    .filter((F.col('NO_MUNICIPIO_PROVA').isin(['Salvador', 'Feira de Santana'])) &\n",
    "            (F.col('NU_NOTA_MT').isNotNull()) &\n",
    "            (F.col('TP_SEXO') == 'F') &\n",
    "            (F.col('NU_NOTA_MT') >= 450)\n",
    "           )\n",
    "    .select(['NU_INSCRICAO', 'TP_SEXO', 'NO_MUNICIPIO_PROVA', 'NU_NOTA_MT'])\n",
    "    .show()\n",
    ")"
   ]
  },
  {
   "cell_type": "markdown",
   "metadata": {
    "application/vnd.databricks.v1+cell": {
     "cellMetadata": {},
     "inputWidgets": {},
     "nuid": "2e343f23-fb47-4b14-bdff-06fd734a8d87",
     "showTitle": false,
     "title": ""
    }
   },
   "source": [
    "Podemos fazer o mesmo comando no SQL:"
   ]
  },
  {
   "cell_type": "code",
   "execution_count": 83,
   "metadata": {
    "application/vnd.databricks.v1+cell": {
     "cellMetadata": {
      "byteLimit": 2048000,
      "implicitDf": true,
      "rowLimit": 10000
     },
     "inputWidgets": {},
     "nuid": "82bc1213-16eb-451c-b1d8-cce3a6071c69",
     "showTitle": false,
     "title": ""
    }
   },
   "outputs": [
    {
     "ename": "AnalysisException",
     "evalue": "[TABLE_OR_VIEW_NOT_FOUND] The table or view `default`.`microdados_enem` cannot be found. Verify the spelling and correctness of the schema and catalog.\nIf you did not qualify the name with a schema, verify the current_schema() output, or qualify the name with the correct schema and catalog.\nTo tolerate the error on drop use DROP VIEW IF EXISTS or DROP TABLE IF EXISTS.; line 7 pos 8;\n'Project ['NU_INSCRICAO AS id_aluno#4990, 'TP_SEXO AS sexo#4991, 'NO_MUNICIPIO_PROVA AS municipio#4992, 'NU_NOTA_MT AS nota_mt#4993]\n+- 'Filter (('NO_MUNICIPIO_PROVA IN (Salvador,Feira de Santana) AND isnotnull('NU_NOTA_MT)) AND (('TP_SEXO = F) AND ('NU_NOTA_MT >= 450)))\n   +- 'UnresolvedRelation [default, microdados_enem], [], false\n",
     "output_type": "error",
     "traceback": [
      "\u001b[1;31m---------------------------------------------------------------------------\u001b[0m",
      "\u001b[1;31mAnalysisException\u001b[0m                         Traceback (most recent call last)",
      "Cell \u001b[1;32mIn[83], line 1\u001b[0m\n\u001b[1;32m----> 1\u001b[0m resultado \u001b[38;5;241m=\u001b[39m spark\u001b[38;5;241m.\u001b[39msql(\n\u001b[0;32m      2\u001b[0m \u001b[38;5;250m    \u001b[39m\n\u001b[0;32m      3\u001b[0m \u001b[38;5;124;03m\"\"\" SELECT\u001b[39;00m\n\u001b[0;32m      4\u001b[0m \u001b[38;5;124;03m        NU_INSCRICAO as id_aluno, \u001b[39;00m\n\u001b[0;32m      5\u001b[0m \u001b[38;5;124;03m        TP_SEXO as sexo, \u001b[39;00m\n\u001b[0;32m      6\u001b[0m \u001b[38;5;124;03m        NO_MUNICIPIO_PROVA as municipio, \u001b[39;00m\n\u001b[0;32m      7\u001b[0m \u001b[38;5;124;03m        NU_NOTA_MT as nota_mt\u001b[39;00m\n\u001b[0;32m      8\u001b[0m \u001b[38;5;124;03m    FROM \u001b[39;00m\n\u001b[0;32m      9\u001b[0m \u001b[38;5;124;03m        default.microdados_enem\u001b[39;00m\n\u001b[0;32m     10\u001b[0m \u001b[38;5;124;03m    WHERE \u001b[39;00m\n\u001b[0;32m     11\u001b[0m \u001b[38;5;124;03m        NO_MUNICIPIO_PROVA IN ('Salvador', 'Feira de Santana')\u001b[39;00m\n\u001b[0;32m     12\u001b[0m \u001b[38;5;124;03m        AND NU_NOTA_MT IS NOT NULL\u001b[39;00m\n\u001b[0;32m     13\u001b[0m \u001b[38;5;124;03m        AND TP_SEXO = 'F'\u001b[39;00m\n\u001b[0;32m     14\u001b[0m \u001b[38;5;124;03m        AND NU_NOTA_MT >= 450\u001b[39;00m\n\u001b[0;32m     15\u001b[0m \u001b[38;5;124;03m\"\"\"\u001b[39;00m)\n\u001b[0;32m     17\u001b[0m resultado\u001b[38;5;241m.\u001b[39mshow()\n",
      "File \u001b[1;32mD:\\ProgramData\\anaconda3\\Lib\\site-packages\\pyspark\\sql\\session.py:1631\u001b[0m, in \u001b[0;36mSparkSession.sql\u001b[1;34m(self, sqlQuery, args, **kwargs)\u001b[0m\n\u001b[0;32m   1627\u001b[0m         \u001b[38;5;28;01massert\u001b[39;00m \u001b[38;5;28mself\u001b[39m\u001b[38;5;241m.\u001b[39m_jvm \u001b[38;5;129;01mis\u001b[39;00m \u001b[38;5;129;01mnot\u001b[39;00m \u001b[38;5;28;01mNone\u001b[39;00m\n\u001b[0;32m   1628\u001b[0m         litArgs \u001b[38;5;241m=\u001b[39m \u001b[38;5;28mself\u001b[39m\u001b[38;5;241m.\u001b[39m_jvm\u001b[38;5;241m.\u001b[39mPythonUtils\u001b[38;5;241m.\u001b[39mtoArray(\n\u001b[0;32m   1629\u001b[0m             [_to_java_column(lit(v)) \u001b[38;5;28;01mfor\u001b[39;00m v \u001b[38;5;129;01min\u001b[39;00m (args \u001b[38;5;129;01mor\u001b[39;00m [])]\n\u001b[0;32m   1630\u001b[0m         )\n\u001b[1;32m-> 1631\u001b[0m     \u001b[38;5;28;01mreturn\u001b[39;00m DataFrame(\u001b[38;5;28mself\u001b[39m\u001b[38;5;241m.\u001b[39m_jsparkSession\u001b[38;5;241m.\u001b[39msql(sqlQuery, litArgs), \u001b[38;5;28mself\u001b[39m)\n\u001b[0;32m   1632\u001b[0m \u001b[38;5;28;01mfinally\u001b[39;00m:\n\u001b[0;32m   1633\u001b[0m     \u001b[38;5;28;01mif\u001b[39;00m \u001b[38;5;28mlen\u001b[39m(kwargs) \u001b[38;5;241m>\u001b[39m \u001b[38;5;241m0\u001b[39m:\n",
      "File \u001b[1;32mD:\\ProgramData\\anaconda3\\Lib\\site-packages\\py4j\\java_gateway.py:1322\u001b[0m, in \u001b[0;36mJavaMember.__call__\u001b[1;34m(self, *args)\u001b[0m\n\u001b[0;32m   1316\u001b[0m command \u001b[38;5;241m=\u001b[39m proto\u001b[38;5;241m.\u001b[39mCALL_COMMAND_NAME \u001b[38;5;241m+\u001b[39m\\\n\u001b[0;32m   1317\u001b[0m     \u001b[38;5;28mself\u001b[39m\u001b[38;5;241m.\u001b[39mcommand_header \u001b[38;5;241m+\u001b[39m\\\n\u001b[0;32m   1318\u001b[0m     args_command \u001b[38;5;241m+\u001b[39m\\\n\u001b[0;32m   1319\u001b[0m     proto\u001b[38;5;241m.\u001b[39mEND_COMMAND_PART\n\u001b[0;32m   1321\u001b[0m answer \u001b[38;5;241m=\u001b[39m \u001b[38;5;28mself\u001b[39m\u001b[38;5;241m.\u001b[39mgateway_client\u001b[38;5;241m.\u001b[39msend_command(command)\n\u001b[1;32m-> 1322\u001b[0m return_value \u001b[38;5;241m=\u001b[39m get_return_value(\n\u001b[0;32m   1323\u001b[0m     answer, \u001b[38;5;28mself\u001b[39m\u001b[38;5;241m.\u001b[39mgateway_client, \u001b[38;5;28mself\u001b[39m\u001b[38;5;241m.\u001b[39mtarget_id, \u001b[38;5;28mself\u001b[39m\u001b[38;5;241m.\u001b[39mname)\n\u001b[0;32m   1325\u001b[0m \u001b[38;5;28;01mfor\u001b[39;00m temp_arg \u001b[38;5;129;01min\u001b[39;00m temp_args:\n\u001b[0;32m   1326\u001b[0m     \u001b[38;5;28;01mif\u001b[39;00m \u001b[38;5;28mhasattr\u001b[39m(temp_arg, \u001b[38;5;124m\"\u001b[39m\u001b[38;5;124m_detach\u001b[39m\u001b[38;5;124m\"\u001b[39m):\n",
      "File \u001b[1;32mD:\\ProgramData\\anaconda3\\Lib\\site-packages\\pyspark\\errors\\exceptions\\captured.py:185\u001b[0m, in \u001b[0;36mcapture_sql_exception.<locals>.deco\u001b[1;34m(*a, **kw)\u001b[0m\n\u001b[0;32m    181\u001b[0m converted \u001b[38;5;241m=\u001b[39m convert_exception(e\u001b[38;5;241m.\u001b[39mjava_exception)\n\u001b[0;32m    182\u001b[0m \u001b[38;5;28;01mif\u001b[39;00m \u001b[38;5;129;01mnot\u001b[39;00m \u001b[38;5;28misinstance\u001b[39m(converted, UnknownException):\n\u001b[0;32m    183\u001b[0m     \u001b[38;5;66;03m# Hide where the exception came from that shows a non-Pythonic\u001b[39;00m\n\u001b[0;32m    184\u001b[0m     \u001b[38;5;66;03m# JVM exception message.\u001b[39;00m\n\u001b[1;32m--> 185\u001b[0m     \u001b[38;5;28;01mraise\u001b[39;00m converted \u001b[38;5;28;01mfrom\u001b[39;00m \u001b[38;5;28;01mNone\u001b[39;00m\n\u001b[0;32m    186\u001b[0m \u001b[38;5;28;01melse\u001b[39;00m:\n\u001b[0;32m    187\u001b[0m     \u001b[38;5;28;01mraise\u001b[39;00m\n",
      "\u001b[1;31mAnalysisException\u001b[0m: [TABLE_OR_VIEW_NOT_FOUND] The table or view `default`.`microdados_enem` cannot be found. Verify the spelling and correctness of the schema and catalog.\nIf you did not qualify the name with a schema, verify the current_schema() output, or qualify the name with the correct schema and catalog.\nTo tolerate the error on drop use DROP VIEW IF EXISTS or DROP TABLE IF EXISTS.; line 7 pos 8;\n'Project ['NU_INSCRICAO AS id_aluno#4990, 'TP_SEXO AS sexo#4991, 'NO_MUNICIPIO_PROVA AS municipio#4992, 'NU_NOTA_MT AS nota_mt#4993]\n+- 'Filter (('NO_MUNICIPIO_PROVA IN (Salvador,Feira de Santana) AND isnotnull('NU_NOTA_MT)) AND (('TP_SEXO = F) AND ('NU_NOTA_MT >= 450)))\n   +- 'UnresolvedRelation [default, microdados_enem], [], false\n"
     ]
    }
   ],
   "source": [
    "%sql\n",
    "select\n",
    "  NU_INSCRICAO as id_aluno, \n",
    "  TP_SEXO      as sexo, \n",
    "  NO_MUNICIPIO_PROVA as municipio, \n",
    "  NU_NOTA_MT as nota_mt\n",
    "from default.microdados_enem\n",
    "where \n",
    "  NO_MUNICIPIO_PROVA IN ('Salvador', 'Feira de Santana')\n",
    "  AND NU_NOTA_MT IS NOT NULL\n",
    "  AND TP_SEXO = 'F'\n",
    "  AND NU_NOTA_MT >= 450\n",
    ";"
   ]
  },
  {
   "cell_type": "markdown",
   "metadata": {
    "application/vnd.databricks.v1+cell": {
     "cellMetadata": {},
     "inputWidgets": {},
     "nuid": "67e0542d-0675-4a6a-b45e-1e35cd5bbf19",
     "showTitle": false,
     "title": ""
    }
   },
   "source": [
    "Podemos negar uma condição com o operador `~` (similar ao pandas)."
   ]
  },
  {
   "cell_type": "code",
   "execution_count": 0,
   "metadata": {
    "application/vnd.databricks.v1+cell": {
     "cellMetadata": {
      "byteLimit": 2048000,
      "rowLimit": 10000
     },
     "inputWidgets": {},
     "nuid": "19bc8c31-a764-40d5-8558-81c27afd724a",
     "showTitle": false,
     "title": ""
    }
   },
   "outputs": [
    {
     "data": {
      "text/html": [
       "<style scoped>\n",
       "  .table-result-container {\n",
       "    max-height: 300px;\n",
       "    overflow: auto;\n",
       "  }\n",
       "  table, th, td {\n",
       "    border: 1px solid black;\n",
       "    border-collapse: collapse;\n",
       "  }\n",
       "  th, td {\n",
       "    padding: 5px;\n",
       "  }\n",
       "  th {\n",
       "    text-align: left;\n",
       "  }\n",
       "</style><div class='table-result-container'><table class='table-result'><thead style='background-color: white'><tr><th>NO_MUNICIPIO_PROVA</th></tr></thead><tbody><tr><td>Porto Seguro</td></tr><tr><td>Ipiaú</td></tr><tr><td>Ilhéus</td></tr><tr><td>Cachoeira</td></tr><tr><td>Eunápolis</td></tr><tr><td>Lapão</td></tr><tr><td>Cansanção</td></tr><tr><td>Valença</td></tr><tr><td>Candeias</td></tr><tr><td>Cícero Dantas</td></tr><tr><td>Itabuna</td></tr><tr><td>Santana</td></tr><tr><td>Itaberaba</td></tr><tr><td>Itapetinga</td></tr><tr><td>Jiquiriçá</td></tr><tr><td>Capim Grosso</td></tr><tr><td>Macaúbas</td></tr><tr><td>Senhor do Bonfim</td></tr><tr><td>Feira de Santana</td></tr><tr><td>Cruz das Almas</td></tr><tr><td>Catu</td></tr><tr><td>Lauro de Freitas</td></tr><tr><td>Irecê</td></tr><tr><td>Entre Rios</td></tr><tr><td>Conceição do Coité</td></tr><tr><td>Barreiras</td></tr><tr><td>Esplanada</td></tr><tr><td>Caculé</td></tr><tr><td>Canavieiras</td></tr></tbody></table></div>"
      ]
     },
     "metadata": {
      "application/vnd.databricks.v1+output": {
       "addedWidgets": {},
       "aggData": [],
       "aggError": "",
       "aggOverflow": false,
       "aggSchema": [],
       "aggSeriesLimitReached": false,
       "aggType": "",
       "arguments": {},
       "columnCustomDisplayInfos": {},
       "data": [
        [
         "Porto Seguro"
        ],
        [
         "Ipiaú"
        ],
        [
         "Ilhéus"
        ],
        [
         "Cachoeira"
        ],
        [
         "Eunápolis"
        ],
        [
         "Lapão"
        ],
        [
         "Cansanção"
        ],
        [
         "Valença"
        ],
        [
         "Candeias"
        ],
        [
         "Cícero Dantas"
        ],
        [
         "Itabuna"
        ],
        [
         "Santana"
        ],
        [
         "Itaberaba"
        ],
        [
         "Itapetinga"
        ],
        [
         "Jiquiriçá"
        ],
        [
         "Capim Grosso"
        ],
        [
         "Macaúbas"
        ],
        [
         "Senhor do Bonfim"
        ],
        [
         "Feira de Santana"
        ],
        [
         "Cruz das Almas"
        ],
        [
         "Catu"
        ],
        [
         "Lauro de Freitas"
        ],
        [
         "Irecê"
        ],
        [
         "Entre Rios"
        ],
        [
         "Conceição do Coité"
        ],
        [
         "Barreiras"
        ],
        [
         "Esplanada"
        ],
        [
         "Caculé"
        ],
        [
         "Canavieiras"
        ]
       ],
       "datasetInfos": [],
       "dbfsResultPath": null,
       "isJsonSchema": true,
       "metadata": {},
       "overflow": false,
       "plotOptions": {
        "customPlotOptions": {},
        "displayType": "table",
        "pivotAggregation": null,
        "pivotColumns": null,
        "xColumns": null,
        "yColumns": null
       },
       "removedWidgets": [],
       "schema": [
        {
         "metadata": "{}",
         "name": "NO_MUNICIPIO_PROVA",
         "type": "\"string\""
        }
       ],
       "type": "table"
      }
     },
     "output_type": "display_data"
    }
   ],
   "source": [
    "(\n",
    "    df.filter(~(F.col('NO_MUNICIPIO_PROVA').isin(['Salvador'])))\n",
    "    .select('NO_MUNICIPIO_PROVA').distinct().display()\n",
    ")\n",
    "\n",
    "# outra sintaxe possível:\n",
    "# (\n",
    "#     df.filter(F.col('NO_MUNICIPIO_PROVA').isin(['Salvador']) == False)\n",
    "#     .select('NO_MUNICIPIO_PROVA').distinct().display()\n",
    "# )"
   ]
  },
  {
   "cell_type": "markdown",
   "metadata": {
    "application/vnd.databricks.v1+cell": {
     "cellMetadata": {},
     "inputWidgets": {},
     "nuid": "15750857-0e1c-4d3c-8877-61fb689b3200",
     "showTitle": false,
     "title": ""
    }
   },
   "source": [
    "Podemos usar ainda a função `where()` para efetuar fazer filtros. Ambas as funções produzem os mesmos resultados."
   ]
  },
  {
   "cell_type": "code",
   "execution_count": 38,
   "metadata": {
    "application/vnd.databricks.v1+cell": {
     "cellMetadata": {
      "byteLimit": 2048000,
      "rowLimit": 10000
     },
     "inputWidgets": {},
     "nuid": "2ff9e7db-9b76-47b9-96d4-e74aae75e220",
     "showTitle": false,
     "title": ""
    }
   },
   "outputs": [
    {
     "name": "stdout",
     "output_type": "stream",
     "text": [
      "+------------+-------+----------+\n",
      "|NU_INSCRICAO|TP_SEXO|NU_NOTA_MT|\n",
      "+------------+-------+----------+\n",
      "|210051588838|      M|     719.8|\n",
      "|210051085130|      M|     746.0|\n",
      "+------------+-------+----------+\n",
      "\n"
     ]
    }
   ],
   "source": [
    "(df.filter((F.col('TP_SEXO') == 'M') & (F.col('NU_NOTA_MT') >= 650))\n",
    " .select('NU_INSCRICAO', 'TP_SEXO', 'NU_NOTA_MT')\n",
    " .show()\n",
    ")"
   ]
  },
  {
   "cell_type": "code",
   "execution_count": 39,
   "metadata": {
    "application/vnd.databricks.v1+cell": {
     "cellMetadata": {
      "byteLimit": 2048000,
      "rowLimit": 10000
     },
     "inputWidgets": {},
     "nuid": "1f6d77d9-fa82-420b-a094-9c1115871cb5",
     "showTitle": false,
     "title": ""
    }
   },
   "outputs": [
    {
     "name": "stdout",
     "output_type": "stream",
     "text": [
      "+------------+-------+----------+\n",
      "|NU_INSCRICAO|TP_SEXO|NU_NOTA_MT|\n",
      "+------------+-------+----------+\n",
      "|210051588838|      M|     719.8|\n",
      "|210051085130|      M|     746.0|\n",
      "+------------+-------+----------+\n",
      "\n"
     ]
    }
   ],
   "source": [
    "(\n",
    "    df\n",
    "    .where('(TP_SEXO == \"M\") AND (NU_NOTA_MT >= 650)')\n",
    "    .select('NU_INSCRICAO', 'TP_SEXO', 'NU_NOTA_MT')\n",
    "    .show()\n",
    ")"
   ]
  },
  {
   "cell_type": "code",
   "execution_count": 40,
   "metadata": {
    "application/vnd.databricks.v1+cell": {
     "cellMetadata": {
      "byteLimit": 2048000,
      "rowLimit": 10000
     },
     "inputWidgets": {},
     "nuid": "ce0a5531-d755-46eb-a464-c87404f2b802",
     "showTitle": false,
     "title": ""
    }
   },
   "outputs": [
    {
     "name": "stdout",
     "output_type": "stream",
     "text": [
      "+------------+-------+----------+\n",
      "|NU_INSCRICAO|TP_SEXO|NU_NOTA_MT|\n",
      "+------------+-------+----------+\n",
      "|210051588838|      M|     719.8|\n",
      "|210051085130|      M|     746.0|\n",
      "+------------+-------+----------+\n",
      "\n"
     ]
    }
   ],
   "source": [
    "# Outra sintaxe:\n",
    "(\n",
    "    df\n",
    "    .where((F.col('TP_SEXO') == 'M') & (F.col('NU_NOTA_MT') >= 650))\n",
    "    .select('NU_INSCRICAO', 'TP_SEXO', 'NU_NOTA_MT')\n",
    "    .show()\n",
    ")"
   ]
  },
  {
   "cell_type": "code",
   "execution_count": 41,
   "metadata": {
    "application/vnd.databricks.v1+cell": {
     "cellMetadata": {
      "byteLimit": 2048000,
      "rowLimit": 10000
     },
     "inputWidgets": {},
     "nuid": "65a5e86e-64e5-4aa3-a6c9-53d83f2be948",
     "showTitle": false,
     "title": ""
    }
   },
   "outputs": [
    {
     "name": "stdout",
     "output_type": "stream",
     "text": [
      "+------------+-------+----------+\n",
      "|NU_INSCRICAO|TP_SEXO|NU_NOTA_MT|\n",
      "+------------+-------+----------+\n",
      "|210051588838|      M|     719.8|\n",
      "|210051085130|      M|     746.0|\n",
      "+------------+-------+----------+\n",
      "\n"
     ]
    }
   ],
   "source": [
    "# Outra sintaxe:\n",
    "(\n",
    "    df\n",
    "    .where((df.TP_SEXO == \"M\") & (df.NU_NOTA_MT >= 650))\n",
    "    .select('NU_INSCRICAO', 'TP_SEXO', 'NU_NOTA_MT')\n",
    "    .show()\n",
    ")"
   ]
  },
  {
   "cell_type": "markdown",
   "metadata": {
    "application/vnd.databricks.v1+cell": {
     "cellMetadata": {},
     "inputWidgets": {},
     "nuid": "8528927d-e3be-4df0-97c8-c54e3197af26",
     "showTitle": false,
     "title": ""
    }
   },
   "source": [
    "Podemos usar o operador LIKE de forma análoga ao que fizemos no SQL."
   ]
  },
  {
   "cell_type": "code",
   "execution_count": 44,
   "metadata": {
    "application/vnd.databricks.v1+cell": {
     "cellMetadata": {
      "byteLimit": 2048000,
      "rowLimit": 10000
     },
     "inputWidgets": {},
     "nuid": "3cb43fd7-7b15-4216-ae35-feff3fb5f971",
     "showTitle": false,
     "title": ""
    }
   },
   "outputs": [
    {
     "data": {
      "text/plain": [
       "DataFrame[NO_MUNICIPIO_PROVA: string]"
      ]
     },
     "metadata": {},
     "output_type": "display_data"
    }
   ],
   "source": [
    "display(\n",
    "    (\n",
    "    df.filter(\n",
    "        F.lower(F.col('NO_MUNICIPIO_PROVA')).like('%salvador%')\n",
    "                   )\n",
    "    .select('NO_MUNICIPIO_PROVA')\n",
    "    .distinct()\n",
    ")\n",
    "\n",
    ")"
   ]
  },
  {
   "cell_type": "markdown",
   "metadata": {
    "application/vnd.databricks.v1+cell": {
     "cellMetadata": {},
     "inputWidgets": {},
     "nuid": "ce416017-79ab-4701-917a-340d65e594f4",
     "showTitle": false,
     "title": ""
    }
   },
   "source": [
    "Para filtrar um dado textual que inicia ou finaliza com um determinado padrão podemos usar as funções `startswith()` ou `endswith()`."
   ]
  },
  {
   "cell_type": "markdown",
   "metadata": {
    "application/vnd.databricks.v1+cell": {
     "cellMetadata": {},
     "inputWidgets": {},
     "nuid": "34a4f7a7-337b-49b5-a57e-0a0b8d61d912",
     "showTitle": false,
     "title": ""
    }
   },
   "source": [
    "Com o operador `BETWEEN` podemos filtrar um intervalo. Vamos utilizar este comando para filtrar os candidatos cque tenham idade dentro de um determinado intervalo."
   ]
  },
  {
   "cell_type": "code",
   "execution_count": 45,
   "metadata": {
    "application/vnd.databricks.v1+cell": {
     "cellMetadata": {
      "byteLimit": 2048000,
      "rowLimit": 10000
     },
     "inputWidgets": {},
     "nuid": "ec51e42c-a19f-40e6-87a6-d9858c19224d",
     "showTitle": false,
     "title": ""
    }
   },
   "outputs": [
    {
     "data": {
      "text/plain": [
       "DataFrame[NU_INSCRICAO: bigint, NU_ANO: int, TP_FAIXA_ETARIA: int, TP_SEXO: string, TP_ESTADO_CIVIL: int, TP_COR_RACA: int, TP_NACIONALIDADE: int, TP_ST_CONCLUSAO: int, TP_ANO_CONCLUIU: int, TP_ESCOLA: int, TP_ENSINO: double, IN_TREINEIRO: int, CO_MUNICIPIO_ESC: double, NO_MUNICIPIO_ESC: string, CO_UF_ESC: double, SG_UF_ESC: string, TP_DEPENDENCIA_ADM_ESC: double, TP_LOCALIZACAO_ESC: double, TP_SIT_FUNC_ESC: double, CO_MUNICIPIO_PROVA: int, NO_MUNICIPIO_PROVA: string, CO_UF_PROVA: int, SG_UF_PROVA: string, TP_PRESENCA_CN: int, TP_PRESENCA_CH: int, TP_PRESENCA_LC: int, TP_PRESENCA_MT: int, CO_PROVA_CN: double, CO_PROVA_CH: double, CO_PROVA_LC: double, CO_PROVA_MT: double, NU_NOTA_CN: double, NU_NOTA_CH: double, NU_NOTA_LC: double, NU_NOTA_MT: double, TX_RESPOSTAS_CN: string, TX_RESPOSTAS_CH: string, TX_RESPOSTAS_LC: string, TX_RESPOSTAS_MT: string, TP_LINGUA: int, TX_GABARITO_CN: string, TX_GABARITO_CH: string, TX_GABARITO_LC: string, TX_GABARITO_MT: string, TP_STATUS_REDACAO: double, NU_NOTA_COMP1: double, NU_NOTA_COMP2: double, NU_NOTA_COMP3: double, NU_NOTA_COMP4: double, NU_NOTA_COMP5: double, NU_NOTA_REDACAO: double, Q001: string, Q002: string, Q003: string, Q004: string, Q005: double, Q006: string, Q007: string, Q008: string, Q009: string, Q010: string, Q011: string, Q012: string, Q013: string, Q014: string, Q015: string, Q016: string, Q017: string, Q018: string, Q019: string, Q020: string, Q021: string, Q022: string, Q023: string, Q024: string, Q025: string]"
      ]
     },
     "metadata": {},
     "output_type": "display_data"
    }
   ],
   "source": [
    "display((\n",
    "    df.filter(F.col('TP_FAIXA_ETARIA').between(1, 3))\n",
    "))"
   ]
  },
  {
   "cell_type": "markdown",
   "metadata": {
    "application/vnd.databricks.v1+cell": {
     "cellMetadata": {},
     "inputWidgets": {},
     "nuid": "0763fa53-fd8d-413d-a60d-00b14e2a98f2",
     "showTitle": false,
     "title": ""
    }
   },
   "source": [
    "### Manipulação de colunas"
   ]
  },
  {
   "cell_type": "markdown",
   "metadata": {
    "application/vnd.databricks.v1+cell": {
     "cellMetadata": {},
     "inputWidgets": {},
     "nuid": "acdd2d84-2d15-44b9-a9b0-b2500e59fcc5",
     "showTitle": false,
     "title": ""
    }
   },
   "source": [
    "Renomear colunas"
   ]
  },
  {
   "cell_type": "code",
   "execution_count": 47,
   "metadata": {
    "application/vnd.databricks.v1+cell": {
     "cellMetadata": {
      "byteLimit": 2048000,
      "rowLimit": 10000
     },
     "inputWidgets": {},
     "nuid": "85963d08-c8e3-4ba4-a41c-a12f4788cae7",
     "showTitle": false,
     "title": ""
    }
   },
   "outputs": [
    {
     "name": "stdout",
     "output_type": "stream",
     "text": [
      "+------------+------+---------------+-------+---------------+-----------+----------------+---------------+---------------+---------+---------+------------+----------------+----------------+---------+---------+----------------------+------------------+---------------+------------------+------------------+-----------+-----------+--------------+--------------+--------------+--------------+-----------+-----------+-----------+-----------+----------+----------+----------+----------+--------------------+--------------------+--------------------+--------------------+---------+--------------------+--------------------+--------------------+--------------------+-----------------+-------------+-------------+-------------+-------------+-------------+---------------+----+----+----+----+----+----+----+----+----+----+----+----+----+----+----+----+----+----+----+----+----+----+----+----+----+\n",
      "|nu_inscricao|nu_ano|tp_faixa_etaria|tp_sexo|tp_estado_civil|tp_cor_raca|tp_nacionalidade|tp_st_conclusao|tp_ano_concluiu|tp_escola|tp_ensino|in_treineiro|co_municipio_esc|no_municipio_esc|co_uf_esc|sg_uf_esc|tp_dependencia_adm_esc|tp_localizacao_esc|tp_sit_func_esc|co_municipio_prova|no_municipio_prova|co_uf_prova|sg_uf_prova|tp_presenca_cn|tp_presenca_ch|tp_presenca_lc|tp_presenca_mt|co_prova_cn|co_prova_ch|co_prova_lc|co_prova_mt|nu_nota_cn|nu_nota_ch|nu_nota_lc|nu_nota_mt|     tx_respostas_cn|     tx_respostas_ch|     tx_respostas_lc|     tx_respostas_mt|tp_lingua|      tx_gabarito_cn|      tx_gabarito_ch|      tx_gabarito_lc|      tx_gabarito_mt|tp_status_redacao|nu_nota_comp1|nu_nota_comp2|nu_nota_comp3|nu_nota_comp4|nu_nota_comp5|nu_nota_redacao|q001|q002|q003|q004|q005|q006|q007|q008|q009|q010|q011|q012|q013|q014|q015|q016|q017|q018|q019|q020|q021|q022|q023|q024|q025|\n",
      "+------------+------+---------------+-------+---------------+-----------+----------------+---------------+---------------+---------+---------+------------+----------------+----------------+---------+---------+----------------------+------------------+---------------+------------------+------------------+-----------+-----------+--------------+--------------+--------------+--------------+-----------+-----------+-----------+-----------+----------+----------+----------+----------+--------------------+--------------------+--------------------+--------------------+---------+--------------------+--------------------+--------------------+--------------------+-----------------+-------------+-------------+-------------+-------------+-------------+---------------+----+----+----+----+----+----+----+----+----+----+----+----+----+----+----+----+----+----+----+----+----+----+----+----+----+\n",
      "|210053270998|  2021|             10|      M|              1|          1|               1|              1|              7|        1|     NULL|           0|            NULL|            NULL|     NULL|     NULL|                  NULL|              NULL|           NULL|           2927408|          Salvador|         29|         BA|             1|             1|             1|             1|      911.0|      880.0|      890.0|      902.0|     430.6|     426.7|     496.6|     431.5|DCEEABADBEACBEADC...|DBECAADEABDACADDA...|DACBE99999BCBAADA...|AEAACDBACDAACBCDA...|        0|CDBBBCABEDEDEAAEB...|BBBAAEECBBABEECEB...|ABBCAEAACADDCACDC...|ECCCABBDBDDDCEDDC...|              1.0|        100.0|        120.0|        100.0|        120.0|        100.0|          540.0|   E|   E|   C|   B| 3.0|   B|   A|   B|   B|   A|   A|   B|   A|   A|   A|   A|   A|   A|   A|   A|   A|   B|   A|   A|   A|\n",
      "|210051914571|  2021|              5|      M|              3|          3|               1|              1|              2|        1|     NULL|           0|            NULL|            NULL|     NULL|     NULL|                  NULL|              NULL|           NULL|           2914703|         Itaberaba|         29|         BA|             0|             0|             0|             0|       NULL|       NULL|       NULL|       NULL|      NULL|      NULL|      NULL|      NULL|                NULL|                NULL|                NULL|                NULL|        0|                NULL|                NULL|                NULL|                NULL|             NULL|         NULL|         NULL|         NULL|         NULL|         NULL|           NULL|   E|   E|   D|   D| 4.0|   E|   A|   C|   D|   B|   B|   B|   B|   B|   A|   B|   A|   A|   C|   A|   A|   E|   A|   B|   B|\n",
      "|210053592727|  2021|             10|      F|              1|          3|               1|              1|              7|        1|     NULL|           0|            NULL|            NULL|     NULL|     NULL|                  NULL|              NULL|           NULL|           2928208|           Santana|         29|         BA|             1|             1|             1|             1|      912.0|      882.0|      891.0|      901.0|     572.3|     653.4|     577.8|     528.0|DABCEDABECCCBADAE...|ECAAEADBEAAABBBCE...|99999DCAEEDCAAEAA...|BD*EEADCCCDDCCACC...|        1|DABCEDEBEEBBCABED...|EBAAEADBCACBBABEE...|ACABBACAEADCEADAB...|DCCAEBABDDCABEECC...|              1.0|        120.0|        200.0|        160.0|        140.0|        120.0|          740.0|   E|   G|   B|   D| 3.0|   F|   A|   B|   D|   A|   A|   B|   B|   A|   A|   A|   A|   A|   B|   A|   A|   D|   A|   B|   B|\n",
      "|210051819501|  2021|              5|      M|              1|          3|               1|              2|              0|        2|      1.0|           0|       2910800.0|Feira de Santana|     29.0|       BA|                   2.0|               1.0|            1.0|           2910800|  Feira de Santana|         29|         BA|             1|             1|             1|             1|      912.0|      882.0|      891.0|      901.0|     485.7|     425.9|     441.2|     480.8|BABBCBDAECEABBACE...|ABDCAEEDECBACBBDA...|AAAAB99999DDEABCD...|ECADBEDCAEDEBDAEB...|        0|DABCEDEBEEBBCABED...|EBAAEADBCACBBABEE...|ACABBACAEADCEADAB...|DCCAEBABDDCABEECC...|              4.0|          0.0|          0.0|          0.0|          0.0|          0.0|            0.0|   B|   E|   B|   B| 5.0|   B|   A|   B|   C|   A|   A|   B|   A|   A|   A|   A|   A|   A|   B|   A|   A|   C|   A|   A|   B|\n",
      "|210052271642|  2021|              2|      F|              1|          1|               1|              3|              0|        1|     NULL|           1|            NULL|            NULL|     NULL|     NULL|                  NULL|              NULL|           NULL|           2916401|        Itapetinga|         29|         BA|             1|             1|             1|             1|      911.0|      880.0|      890.0|      902.0|     443.9|     518.8|     490.4|     477.7|CDCBCEADBEDECEBAC...|DBDBACAABDBBCACBA...|CBAAA99999DAAACBC...|DCADCDBBCEBCDDAED...|        0|CDBBBCABEDEDEAAEB...|BBBAAEECBBABEECEB...|ABBCAEAACADDCACDC...|ECCCABBDBDDDCEDDC...|              1.0|        120.0|        180.0|        120.0|        160.0|        140.0|          720.0|   C|   E|   C|   B| 4.0|   B|   A|   B|   D|   B|   A|   B|   B|   B|   A|   A|   A|   A|   C|   A|   A|   D|   A|   A|   B|\n",
      "|210051334162|  2021|              3|      F|              1|          2|               2|              2|              0|        2|      1.0|           0|            NULL|            NULL|     NULL|     NULL|                  NULL|              NULL|           NULL|           2918209|         Jiquiriçá|         29|         BA|             1|             1|             1|             1|      911.0|      880.0|      890.0|      902.0|     461.9|     498.8|     475.6|     504.8|CDBBCEBCDAECBEECB...|BABBABEEBBABBAEBA...|99999AEACABAAAADB...|CACCAADCDEECADBBA...|        1|CDBBBCABEDEDEAAEB...|BBBAAEECBBABEECEB...|ABBCAEAACADDCACDC...|ECCCABBDBDDDCEDDC...|              1.0|        100.0|        180.0|        120.0|        160.0|        120.0|          680.0|   B|   C|   A|   A| 4.0|   B|   A|   B|   D|   A|   B|   B|   A|   A|   A|   A|   A|   A|   B|   A|   A|   C|   A|   A|   B|\n",
      "|210054090746|  2021|              3|      M|              1|          2|               1|              2|              0|        2|      1.0|           0|       2927408.0|        Salvador|     29.0|       BA|                   2.0|               1.0|            1.0|           2927408|          Salvador|         29|         BA|             0|             0|             0|             0|       NULL|       NULL|       NULL|       NULL|      NULL|      NULL|      NULL|      NULL|                NULL|                NULL|                NULL|                NULL|        0|                NULL|                NULL|                NULL|                NULL|             NULL|         NULL|         NULL|         NULL|         NULL|         NULL|           NULL|   D|   E|   F|   B| 3.0|   C|   A|   B|   C|   A|   A|   B|   A|   A|   A|   B|   A|   A|   B|   A|   B|   D|   A|   A|   B|\n",
      "|210051018671|  2021|              7|      F|              1|          3|               1|              1|              3|        1|     NULL|           0|            NULL|            NULL|     NULL|     NULL|                  NULL|              NULL|           NULL|           2927408|          Salvador|         29|         BA|             0|             0|             0|             0|       NULL|       NULL|       NULL|       NULL|      NULL|      NULL|      NULL|      NULL|                NULL|                NULL|                NULL|                NULL|        0|                NULL|                NULL|                NULL|                NULL|             NULL|         NULL|         NULL|         NULL|         NULL|         NULL|           NULL|   C|   E|   B|   B| 3.0|   C|   A|   B|   D|   A|   A|   B|   B|   B|   B|   B|   A|   A|   B|   A|   A|   E|   A|   B|   B|\n",
      "|210052350881|  2021|              5|      F|              1|          3|               1|              2|              0|        2|      1.0|           0|       2927408.0|        Salvador|     29.0|       BA|                   2.0|               1.0|            1.0|           2927408|          Salvador|         29|         BA|             1|             1|             1|             1|      912.0|      882.0|      891.0|      901.0|     493.5|     447.2|     510.7|     398.1|DACDAAEAECDDEEBED...|EDABDAEDEABADEACA...|EDBAC99999DBECBCB...|EDBABABDCEEECDACA...|        0|DABCEDEBEEBBCABED...|EBAAEADBCACBBABEE...|ACABBACAEADCEADAB...|DCCAEBABDDCABEECC...|              3.0|          0.0|          0.0|          0.0|          0.0|          0.0|            0.0|   H|   D|   B|   D| 4.0|   D|   A|   C|   D|   A|   A|   B|   B|   B|   A|   B|   A|   B|   C|   A|   A|   E|   A|   A|   B|\n",
      "|210051588838|  2021|              3|      M|              1|          1|               1|              2|              0|        3|      1.0|           0|       2919207.0|Lauro de Freitas|     29.0|       BA|                   4.0|               1.0|            1.0|           2927408|          Salvador|         29|         BA|             1|             1|             1|             1|      911.0|      880.0|      890.0|      902.0|     671.5|     670.7|     555.1|     719.8|CDCDDDADEBEDEBAEB...|BBBAABEABBABEECED...|ABBBA99999CDEABCD...|DACCEDBDCEDDABDDC...|        0|CDBBBCABEDEDEAAEB...|BBBAAEECBBABEECEB...|ABBCAEAACADDCACDC...|ECCCABBDBDDDCEDDC...|              1.0|        160.0|        180.0|        140.0|        180.0|        160.0|          820.0|   G|   C|   E|   F| 5.0|   Q|   D|   E|   E|   C|   A|   B|   B|   B|   A|   B|   B|   B|   E|   A|   B|   E|   A|   E|   B|\n",
      "|210052314230|  2021|              8|      F|              1|          3|               1|              1|              5|        1|     NULL|           0|            NULL|            NULL|     NULL|     NULL|                  NULL|              NULL|           NULL|           2907509|              Catu|         29|         BA|             0|             0|             0|             0|       NULL|       NULL|       NULL|       NULL|      NULL|      NULL|      NULL|      NULL|                NULL|                NULL|                NULL|                NULL|        1|                NULL|                NULL|                NULL|                NULL|             NULL|         NULL|         NULL|         NULL|         NULL|         NULL|           NULL|   B|   F|   D|   A| 4.0|   D|   A|   B|   C|   B|   B|   B|   A|   B|   A|   B|   A|   A|   B|   A|   A|   D|   A|   B|   B|\n",
      "|210051923564|  2021|              4|      M|              1|          1|               1|              2|              0|        2|      1.0|           0|            NULL|            NULL|     NULL|     NULL|                  NULL|              NULL|           NULL|           2930105|  Senhor do Bonfim|         29|         BA|             1|             1|             1|             1|      912.0|      882.0|      891.0|      901.0|     448.1|     482.9|     532.8|     419.2|DCCCABDBEDBEDCACA...|CABADBCDEACAADBCE...|ACAEC99999DCEAECB...|BDBCEDBEDBCDDBABB...|        0|DABCEDEBEEBBCABED...|EBAAEADBCACBBABEE...|ACABBACAEADCEADAB...|DCCAEBABDDCABEECC...|              1.0|        100.0|        120.0|        100.0|        140.0|        100.0|          560.0|   E|   C|   D|   B| 3.0|   G|   A|   B|   C|   B|   A|   B|   B|   B|   B|   A|   A|   A|   B|   A|   A|   C|   A|   A|   B|\n",
      "|210052563255|  2021|              8|      F|              1|          3|               1|              1|              3|        1|     NULL|           0|            NULL|            NULL|     NULL|     NULL|                  NULL|              NULL|           NULL|           2910503|        Entre Rios|         29|         BA|             0|             0|             0|             0|       NULL|       NULL|       NULL|       NULL|      NULL|      NULL|      NULL|      NULL|                NULL|                NULL|                NULL|                NULL|        1|                NULL|                NULL|                NULL|                NULL|             NULL|         NULL|         NULL|         NULL|         NULL|         NULL|           NULL|   H|   D|   F|   B| 2.0|   A|   A|   B|   C|   A|   A|   B|   A|   A|   A|   A|   A|   A|   A|   A|   A|   B|   A|   A|   B|\n",
      "|210054208012|  2021|              2|      F|              1|          3|               1|              2|              0|        2|      1.0|           0|       2910909.0|   Firmino Alves|     29.0|       BA|                   2.0|               1.0|            1.0|           2916401|        Itapetinga|         29|         BA|             1|             1|             1|             1|      909.0|      881.0|      892.0|      899.0|     408.0|     542.1|     446.0|     420.5|DCDCECCDDDCBACDCD...|BDDECAECACCCAACAE...|DACAD99999CECDDAA...|DBCCCCBEBCDACBCCA...|        0|EDECABEDABCBEBACC...|BEECCAEABADBCAEBA...|ABBACAAECACDBDDAD...|EEXEBABDDCECCBCCE...|              1.0|        140.0|        160.0|        120.0|        120.0|        140.0|          680.0|   E|   E|   C|   C| 5.0|   C|   A|   B|   C|   A|   A|   B|   B|   A|   A|   A|   A|   A|   B|   B|   A|   C|   A|   B|   B|\n",
      "|210051016383|  2021|              3|      F|              1|          3|               1|              2|              0|        2|      1.0|           0|            NULL|            NULL|     NULL|     NULL|                  NULL|              NULL|           NULL|           2919157|             Lapão|         29|         BA|             1|             1|             1|             1|      912.0|      882.0|      891.0|      901.0|     566.3|     521.1|     566.5|     416.5|DABCE*ECECEEBCDEC...|ECBEEAEBEABBBABEE...|EBAEC99999EEEADAD...|CBCDEDDCBEDDDCAAA...|        0|DABCEDEBEEBBCABED...|EBAAEADBCACBBABEE...|ACABBACAEADCEADAB...|DCCAEBABDDCABEECC...|              1.0|        100.0|        140.0|        100.0|        120.0|        180.0|          640.0|   F|   E|   D|   F| 2.0|   B|   A|   B|   C|   A|   A|   B|   A|   A|   A|   A|   A|   A|   B|   A|   A|   C|   A|   B|   A|\n",
      "|210052752600|  2021|              8|      F|              1|          3|               1|              1|              5|        1|     NULL|           0|            NULL|            NULL|     NULL|     NULL|                  NULL|              NULL|           NULL|           2906873|      Capim Grosso|         29|         BA|             0|             0|             0|             0|       NULL|       NULL|       NULL|       NULL|      NULL|      NULL|      NULL|      NULL|                NULL|                NULL|                NULL|                NULL|        1|                NULL|                NULL|                NULL|                NULL|             NULL|         NULL|         NULL|         NULL|         NULL|         NULL|           NULL|   E|   E|   A|   B| 1.0|   A|   A|   B|   B|   A|   A|   B|   A|   A|   A|   A|   A|   A|   A|   A|   A|   B|   A|   A|   B|\n",
      "|210054040152|  2021|             13|      F|              2|          2|               1|              1|             15|        1|     NULL|           0|            NULL|            NULL|     NULL|     NULL|                  NULL|              NULL|           NULL|           2908408|Conceição do Coité|         29|         BA|             1|             1|             1|             1|      912.0|      882.0|      891.0|      901.0|     399.8|     568.1|     470.4|     484.1|EAEBDCACCECBABCBE...|ABCDCCEEEAEBBABDE...|99999ADEAEEEBAEAA...|DACDECCDDEECECAAA...|        1|DABCEDEBEEBBCABED...|EBAAEADBCACBBABEE...|ACABBACAEADCEADAB...|DCCAEBABDDCABEECC...|              1.0|        140.0|        160.0|        120.0|        120.0|        100.0|          640.0|   B|   B|   A|   A| 4.0|   D|   A|   B|   C|   B|   A|   B|   A|   A|   A|   B|   A|   A|   B|   A|   A|   D|   A|   B|   B|\n",
      "|210051423784|  2021|              2|      F|              1|          2|               1|              2|              0|        2|      1.0|           0|            NULL|            NULL|     NULL|     NULL|                  NULL|              NULL|           NULL|           2908408|Conceição do Coité|         29|         BA|             1|             1|             1|             1|      910.0|      879.0|      889.0|      900.0|     384.9|     371.6|     415.9|     440.0|CDBADCDACDDADCBBB...|ACBCDABACEBBDDBEC...|99999AEEEBABDBEAD...|EBCADADDBBBADCBDD...|        1|ADCDCDBBBECDCCDCB...|BADCBADBCEDDEBBAD...|CAABBCAEAABDCDEAD...|DDCABDCCAEDCEBBDB...|              1.0|        120.0|        120.0|         80.0|        100.0|        120.0|          540.0|   E|   E|   A|   A| 3.0|   A|   A|   B|   D|   A|   A|   B|   A|   A|   A|   B|   A|   A|   B|   B|   B|   D|   A|   A|   A|\n",
      "|210054226624|  2021|              1|      F|              1|          3|               1|              3|              0|        1|     NULL|           1|            NULL|            NULL|     NULL|     NULL|                  NULL|              NULL|           NULL|           2913903|             Ipiaú|         29|         BA|             1|             1|             1|             1|      912.0|      882.0|      891.0|      901.0|     355.7|     476.1|     432.4|     569.8|CCEBDCBDCCBCAEBEA...|EADBEEBCAAABDACCB...|99999DCEDBDEAACBB...|DDCDEADBEACBCEAAD...|        1|DABCEDEBEEBBCABED...|EBAAEADBCACBBABEE...|ACABBACAEADCEADAB...|DCCAEBABDDCABEECC...|              1.0|        140.0|        120.0|        120.0|        140.0|         80.0|          600.0|   D|   F|   D|   B| 4.0|   B|   A|   C|   D|   A|   A|   B|   B|   A|   A|   A|   A|   A|   B|   A|   A|   D|   A|   A|   B|\n",
      "|210051936472|  2021|              3|      M|              1|          1|               1|              2|              0|        2|      1.0|           0|       2910800.0|Feira de Santana|     29.0|       BA|                   2.0|               1.0|            1.0|           2910800|  Feira de Santana|         29|         BA|             0|             1|             1|             0|       NULL|      880.0|      890.0|       NULL|      NULL|     524.8|     504.0|      NULL|                NULL|DBBDACBEACABCBCDA...|EADAA99999CAEAADA...|                NULL|        0|                NULL|BBBAAEECBBABEECEB...|ABBCAEAACADDCACDC...|                NULL|              1.0|        100.0|        120.0|        120.0|        120.0|        100.0|          560.0|   E|   E|   B|   B| 4.0|   F|   A|   C|   D|   B|   A|   B|   B|   B|   B|   B|   A|   B|   C|   A|   B|   D|   A|   A|   B|\n",
      "+------------+------+---------------+-------+---------------+-----------+----------------+---------------+---------------+---------+---------+------------+----------------+----------------+---------+---------+----------------------+------------------+---------------+------------------+------------------+-----------+-----------+--------------+--------------+--------------+--------------+-----------+-----------+-----------+-----------+----------+----------+----------+----------+--------------------+--------------------+--------------------+--------------------+---------+--------------------+--------------------+--------------------+--------------------+-----------------+-------------+-------------+-------------+-------------+-------------+---------------+----+----+----+----+----+----+----+----+----+----+----+----+----+----+----+----+----+----+----+----+----+----+----+----+----+\n",
      "only showing top 20 rows\n",
      "\n"
     ]
    }
   ],
   "source": [
    "# altera o nome de todas as colunas do dF para o formato lower()\n",
    "new_cols_name = [col.lower() for col in df.columns]\n",
    "newDF = df.toDF(*new_cols_name)\n",
    "newDF.show()"
   ]
  },
  {
   "cell_type": "markdown",
   "metadata": {
    "application/vnd.databricks.v1+cell": {
     "cellMetadata": {},
     "inputWidgets": {},
     "nuid": "c8bacff9-b2b9-4c07-8869-f37524d0bc96",
     "showTitle": false,
     "title": ""
    }
   },
   "source": [
    "Para renomear colunas podemos usar o comando `.withColumnRenamed(old_name, new_name)`."
   ]
  },
  {
   "cell_type": "code",
   "execution_count": 48,
   "metadata": {
    "application/vnd.databricks.v1+cell": {
     "cellMetadata": {
      "byteLimit": 2048000,
      "rowLimit": 10000
     },
     "inputWidgets": {},
     "nuid": "675e2176-c5eb-498c-bcbe-fa692b75210a",
     "showTitle": false,
     "title": ""
    }
   },
   "outputs": [
    {
     "name": "stdout",
     "output_type": "stream",
     "text": [
      "+------------+----+----+\n",
      "|          id| ano|sexo|\n",
      "+------------+----+----+\n",
      "|210053270998|2021|   M|\n",
      "|210051914571|2021|   M|\n",
      "|210053592727|2021|   F|\n",
      "|210051819501|2021|   M|\n",
      "|210052271642|2021|   F|\n",
      "|210051334162|2021|   F|\n",
      "|210054090746|2021|   M|\n",
      "|210051018671|2021|   F|\n",
      "|210052350881|2021|   F|\n",
      "|210051588838|2021|   M|\n",
      "|210052314230|2021|   F|\n",
      "|210051923564|2021|   M|\n",
      "|210052563255|2021|   F|\n",
      "|210054208012|2021|   F|\n",
      "|210051016383|2021|   F|\n",
      "|210052752600|2021|   F|\n",
      "|210054040152|2021|   F|\n",
      "|210051423784|2021|   F|\n",
      "|210054226624|2021|   F|\n",
      "|210051936472|2021|   M|\n",
      "+------------+----+----+\n",
      "only showing top 20 rows\n",
      "\n"
     ]
    }
   ],
   "source": [
    "(\n",
    "    df\n",
    "    .withColumnRenamed('NU_INSCRICAO', 'id')\n",
    "    .withColumnRenamed('NU_ANO', 'ano')\n",
    "    .withColumnRenamed('TP_SEXO', 'sexo')\n",
    "    .select('id', 'ano', 'sexo')\n",
    "    .show()\n",
    ")"
   ]
  },
  {
   "cell_type": "markdown",
   "metadata": {
    "application/vnd.databricks.v1+cell": {
     "cellMetadata": {},
     "inputWidgets": {},
     "nuid": "6af44ec6-c4b6-4f2a-a4e4-db0c34d313d0",
     "showTitle": false,
     "title": ""
    }
   },
   "source": [
    "Remoção de colunas"
   ]
  },
  {
   "cell_type": "code",
   "execution_count": 50,
   "metadata": {
    "application/vnd.databricks.v1+cell": {
     "cellMetadata": {
      "byteLimit": 2048000,
      "rowLimit": 10000
     },
     "inputWidgets": {},
     "nuid": "d39231b1-d0db-4ad6-b551-b59fb57d72c4",
     "showTitle": false,
     "title": ""
    }
   },
   "outputs": [
    {
     "data": {
      "text/plain": [
       "DataFrame[NU_INSCRICAO: bigint, NU_ANO: int, TP_FAIXA_ETARIA: int, TP_SEXO: string, TP_ESTADO_CIVIL: int, TP_COR_RACA: int, TP_NACIONALIDADE: int, TP_ST_CONCLUSAO: int, TP_ANO_CONCLUIU: int, TP_ESCOLA: int, TP_ENSINO: double, IN_TREINEIRO: int, CO_MUNICIPIO_ESC: double, NO_MUNICIPIO_ESC: string, CO_UF_ESC: double, SG_UF_ESC: string, TP_DEPENDENCIA_ADM_ESC: double, TP_LOCALIZACAO_ESC: double, TP_SIT_FUNC_ESC: double, CO_MUNICIPIO_PROVA: int, NO_MUNICIPIO_PROVA: string, CO_UF_PROVA: int, SG_UF_PROVA: string, TP_PRESENCA_CN: int, TP_PRESENCA_CH: int, TP_PRESENCA_LC: int, TP_PRESENCA_MT: int, NU_NOTA_CN: double, NU_NOTA_CH: double, NU_NOTA_LC: double, NU_NOTA_MT: double, TP_LINGUA: int, TP_STATUS_REDACAO: double, NU_NOTA_COMP1: double, NU_NOTA_COMP2: double, NU_NOTA_COMP3: double, NU_NOTA_COMP4: double, NU_NOTA_COMP5: double, NU_NOTA_REDACAO: double, Q001: string, Q002: string, Q003: string, Q004: string, Q005: double, Q006: string, Q007: string, Q008: string, Q009: string, Q010: string, Q011: string, Q012: string, Q013: string, Q014: string, Q015: string, Q016: string, Q017: string, Q018: string, Q019: string, Q020: string, Q021: string, Q022: string, Q023: string, Q024: string, Q025: string]"
      ]
     },
     "metadata": {},
     "output_type": "display_data"
    }
   ],
   "source": [
    "cols_to_drop = [\n",
    " 'TX_RESPOSTAS_CN',\n",
    " 'TX_RESPOSTAS_CH',\n",
    " 'TX_RESPOSTAS_LC',\n",
    " 'TX_RESPOSTAS_MT',\n",
    " 'TX_GABARITO_CN',\n",
    " 'TX_GABARITO_CH',\n",
    " 'TX_GABARITO_LC',\n",
    " 'TX_GABARITO_MT',\n",
    " 'CO_PROVA_CN',\n",
    " 'CO_PROVA_CH',\n",
    " 'CO_PROVA_LC',\n",
    " 'CO_PROVA_MT'\n",
    "]\n",
    "\n",
    "df = df.drop(*cols_to_drop)\n",
    "display(df)"
   ]
  },
  {
   "cell_type": "markdown",
   "metadata": {
    "application/vnd.databricks.v1+cell": {
     "cellMetadata": {},
     "inputWidgets": {},
     "nuid": "fd435611-e268-4ad5-9154-d12e549f23d0",
     "showTitle": false,
     "title": ""
    }
   },
   "source": [
    "Criando colunas"
   ]
  },
  {
   "cell_type": "markdown",
   "metadata": {
    "application/vnd.databricks.v1+cell": {
     "cellMetadata": {},
     "inputWidgets": {},
     "nuid": "3601a740-8e6f-4b76-aa25-3aa158c96313",
     "showTitle": false,
     "title": ""
    }
   },
   "source": [
    "A função `.withColumn()` possibilia a criação de colunas, vejamos alguns exemplos. Com a função `lit()` podemos criar uma coluna com uma constante ou valor literal."
   ]
  },
  {
   "cell_type": "code",
   "execution_count": 52,
   "metadata": {
    "application/vnd.databricks.v1+cell": {
     "cellMetadata": {
      "byteLimit": 2048000,
      "rowLimit": 10000
     },
     "inputWidgets": {},
     "nuid": "6dbd62d4-a405-427c-b75d-67d9f5bba61b",
     "showTitle": false,
     "title": ""
    }
   },
   "outputs": [
    {
     "name": "stdout",
     "output_type": "stream",
     "text": [
      "+------------+-------+------------------+---------+\n",
      "|    id_aluno|nota_mt|       log_nota_mt|flag_enem|\n",
      "+------------+-------+------------------+---------+\n",
      "|210053270998|  431.5| 6.069582326371934|        1|\n",
      "|210051914571|   NULL|              NULL|        1|\n",
      "|210053592727|  528.0| 6.270988431858299|        1|\n",
      "|210051819501|  480.8| 6.177529090180771|        1|\n",
      "|210052271642|  477.7| 6.171074096398463|        1|\n",
      "|210051334162|  504.8| 6.226141334235865|        1|\n",
      "|210054090746|   NULL|              NULL|        1|\n",
      "|210051018671|   NULL|              NULL|        1|\n",
      "|210052350881|  398.1| 5.989212012054688|        1|\n",
      "|210051588838|  719.8| 6.580361706294128|        1|\n",
      "|210052314230|   NULL|              NULL|        1|\n",
      "|210051923564|  419.2|   6.0407307884109|        1|\n",
      "|210052563255|   NULL|              NULL|        1|\n",
      "|210054208012|  420.5|  6.04381977744191|        1|\n",
      "|210051016383|  416.5|6.0342845442909105|        1|\n",
      "|210052752600|   NULL|              NULL|        1|\n",
      "|210054040152|  484.1| 6.184355055251171|        1|\n",
      "|210051423784|  440.0| 6.089044875446846|        1|\n",
      "|210054226624|  569.8| 6.347038885602681|        1|\n",
      "|210051936472|   NULL|              NULL|        1|\n",
      "+------------+-------+------------------+---------+\n",
      "only showing top 20 rows\n",
      "\n"
     ]
    }
   ],
   "source": [
    "(\n",
    "    df\n",
    "    .withColumn('log_nota_mt', F.log1p('NU_NOTA_MT'))\n",
    "    .withColumn('flag_enem', F.lit(1))\n",
    "    .withColumnRenamed('NU_INSCRICAO', 'id_aluno')\n",
    "    .withColumnRenamed('NU_NOTA_MT', 'nota_mt')\n",
    "    .select('id_aluno', 'nota_mt', 'log_nota_mt', 'flag_enem')\n",
    "    .show()\n",
    ")"
   ]
  },
  {
   "cell_type": "markdown",
   "metadata": {
    "application/vnd.databricks.v1+cell": {
     "cellMetadata": {},
     "inputWidgets": {},
     "nuid": "c5327919-c3ed-49b7-ab16-2adc09b52e84",
     "showTitle": false,
     "title": ""
    }
   },
   "source": [
    "A instrução `when()` permite criar uma estrutura `if-else-then` de forma análoga ao SQL. "
   ]
  },
  {
   "cell_type": "code",
   "execution_count": 53,
   "metadata": {
    "application/vnd.databricks.v1+cell": {
     "cellMetadata": {
      "byteLimit": 2048000,
      "rowLimit": 10000
     },
     "inputWidgets": {},
     "nuid": "db502efb-6bc9-4163-b977-4b68a0443fd6",
     "showTitle": false,
     "title": ""
    }
   },
   "outputs": [
    {
     "name": "stdout",
     "output_type": "stream",
     "text": [
      "+------------+---------+-------------+\n",
      "|NU_INSCRICAO|  TP_SEXO|    TP_ESCOLA|\n",
      "+------------+---------+-------------+\n",
      "|210053270998|Masculino|Não respondeu|\n",
      "|210051914571|Masculino|Não respondeu|\n",
      "|210053592727| Feminino|Não respondeu|\n",
      "|210051819501|Masculino|      Pública|\n",
      "|210052271642| Feminino|Não respondeu|\n",
      "|210051334162| Feminino|      Pública|\n",
      "|210054090746|Masculino|      Pública|\n",
      "|210051018671| Feminino|Não respondeu|\n",
      "|210052350881| Feminino|      Pública|\n",
      "|210051588838|Masculino|      Privada|\n",
      "|210052314230| Feminino|Não respondeu|\n",
      "|210051923564|Masculino|      Pública|\n",
      "|210052563255| Feminino|Não respondeu|\n",
      "|210054208012| Feminino|      Pública|\n",
      "|210051016383| Feminino|      Pública|\n",
      "|210052752600| Feminino|Não respondeu|\n",
      "|210054040152| Feminino|Não respondeu|\n",
      "|210051423784| Feminino|      Pública|\n",
      "|210054226624| Feminino|Não respondeu|\n",
      "|210051936472|Masculino|      Pública|\n",
      "+------------+---------+-------------+\n",
      "only showing top 20 rows\n",
      "\n"
     ]
    }
   ],
   "source": [
    "# TP_SEXO\n",
    "# F - Feminino\n",
    "# M - Masculino\n",
    "\n",
    "# TP_ESCOLA\n",
    "# 1 - Não respondeu\n",
    "# 2 - Pública\n",
    "# 3 - Privada\n",
    "\n",
    "(\n",
    "    df\n",
    "    .withColumn('TP_SEXO', F.when(F.col('TP_SEXO') == 'F', 'Feminino')\n",
    "                .when(F.col('TP_SEXO') == 'M', 'Masculino')\n",
    "                .when(F.col('TP_SEXO').isNull(), 'missing')\n",
    "                .otherwise(F.lit('verificar'))\n",
    "               )\n",
    "    .withColumn('TP_ESCOLA', F.when(F.col('TP_ESCOLA') == 1, 'Não respondeu')\n",
    "                .when(F.col('TP_ESCOLA') == 2, 'Pública')\n",
    "                .when(F.col('TP_ESCOLA') == 3, 'Privada')\n",
    "                .when(F.col('TP_ESCOLA').isNull(), 'missing')\n",
    "                .otherwise(F.lit('verificar'))\n",
    "               )\n",
    "    .select('NU_INSCRICAO', 'TP_SEXO', 'TP_ESCOLA')\n",
    "    .show()\n",
    ")"
   ]
  },
  {
   "cell_type": "markdown",
   "metadata": {
    "application/vnd.databricks.v1+cell": {
     "cellMetadata": {},
     "inputWidgets": {},
     "nuid": "4777591d-cb88-42bf-80bf-b301a53e5600",
     "showTitle": false,
     "title": ""
    }
   },
   "source": [
    "No SQL temos que:"
   ]
  },
  {
   "cell_type": "code",
   "execution_count": 0,
   "metadata": {
    "application/vnd.databricks.v1+cell": {
     "cellMetadata": {
      "byteLimit": 2048000,
      "implicitDf": true,
      "rowLimit": 10000
     },
     "inputWidgets": {},
     "nuid": "61d27974-dcf8-4723-abe6-36c18beaa11d",
     "showTitle": false,
     "title": ""
    }
   },
   "outputs": [
    {
     "data": {
      "text/html": [
       "<style scoped>\n",
       "  .table-result-container {\n",
       "    max-height: 300px;\n",
       "    overflow: auto;\n",
       "  }\n",
       "  table, th, td {\n",
       "    border: 1px solid black;\n",
       "    border-collapse: collapse;\n",
       "  }\n",
       "  th, td {\n",
       "    padding: 5px;\n",
       "  }\n",
       "  th {\n",
       "    text-align: left;\n",
       "  }\n",
       "</style><div class='table-result-container'><table class='table-result'><thead style='background-color: white'><tr><th>NU_INSCRICAO</th><th>TP_SEXO</th><th>TP_ESCOLA</th></tr></thead><tbody><tr><td>210053270998</td><td>Masculino</td><td>Não respondeu</td></tr><tr><td>210051914571</td><td>Masculino</td><td>Não respondeu</td></tr><tr><td>210053592727</td><td>Feminino</td><td>Não respondeu</td></tr><tr><td>210051819501</td><td>Masculino</td><td>Pública</td></tr><tr><td>210052271642</td><td>Feminino</td><td>Não respondeu</td></tr><tr><td>210051334162</td><td>Feminino</td><td>Pública</td></tr><tr><td>210054090746</td><td>Masculino</td><td>Pública</td></tr><tr><td>210051018671</td><td>Feminino</td><td>Não respondeu</td></tr><tr><td>210052350881</td><td>Feminino</td><td>Pública</td></tr><tr><td>210051588838</td><td>Masculino</td><td>Privada</td></tr><tr><td>210052314230</td><td>Feminino</td><td>Não respondeu</td></tr><tr><td>210051923564</td><td>Masculino</td><td>Pública</td></tr><tr><td>210052563255</td><td>Feminino</td><td>Não respondeu</td></tr><tr><td>210054208012</td><td>Feminino</td><td>Pública</td></tr><tr><td>210051016383</td><td>Feminino</td><td>Pública</td></tr><tr><td>210052752600</td><td>Feminino</td><td>Não respondeu</td></tr><tr><td>210054040152</td><td>Feminino</td><td>Não respondeu</td></tr><tr><td>210051423784</td><td>Feminino</td><td>Pública</td></tr><tr><td>210054226624</td><td>Feminino</td><td>Não respondeu</td></tr><tr><td>210051936472</td><td>Masculino</td><td>Pública</td></tr><tr><td>210052955166</td><td>Feminino</td><td>Não respondeu</td></tr><tr><td>210053768668</td><td>Feminino</td><td>Privada</td></tr><tr><td>210051788556</td><td>Masculino</td><td>Privada</td></tr><tr><td>210052336621</td><td>Feminino</td><td>Pública</td></tr><tr><td>210051529359</td><td>Feminino</td><td>Não respondeu</td></tr><tr><td>210053290126</td><td>Feminino</td><td>Não respondeu</td></tr><tr><td>210052855610</td><td>Feminino</td><td>Não respondeu</td></tr><tr><td>210051622576</td><td>Feminino</td><td>Pública</td></tr><tr><td>210051142382</td><td>Feminino</td><td>Não respondeu</td></tr><tr><td>210052631800</td><td>Feminino</td><td>Não respondeu</td></tr><tr><td>210054461652</td><td>Feminino</td><td>Não respondeu</td></tr><tr><td>210051085130</td><td>Masculino</td><td>Não respondeu</td></tr><tr><td>210052399147</td><td>Feminino</td><td>Não respondeu</td></tr><tr><td>210051870968</td><td>Feminino</td><td>Não respondeu</td></tr><tr><td>210051411824</td><td>Masculino</td><td>Pública</td></tr><tr><td>210051328060</td><td>Feminino</td><td>Não respondeu</td></tr><tr><td>210051226889</td><td>Feminino</td><td>Não respondeu</td></tr><tr><td>210053049537</td><td>Feminino</td><td>Pública</td></tr><tr><td>210051491793</td><td>Feminino</td><td>Pública</td></tr><tr><td>210051589915</td><td>Feminino</td><td>Não respondeu</td></tr><tr><td>210052151616</td><td>Masculino</td><td>Pública</td></tr><tr><td>210052266623</td><td>Feminino</td><td>Pública</td></tr><tr><td>210053641624</td><td>Masculino</td><td>Não respondeu</td></tr><tr><td>210053130450</td><td>Masculino</td><td>Privada</td></tr><tr><td>210053904763</td><td>Feminino</td><td>Não respondeu</td></tr><tr><td>210051101419</td><td>Feminino</td><td>Não respondeu</td></tr><tr><td>210054169248</td><td>Feminino</td><td>Não respondeu</td></tr><tr><td>210054094999</td><td>Masculino</td><td>Não respondeu</td></tr><tr><td>210051997903</td><td>Masculino</td><td>Não respondeu</td></tr><tr><td>210052542394</td><td>Feminino</td><td>Não respondeu</td></tr></tbody></table></div>"
      ]
     },
     "metadata": {
      "application/vnd.databricks.v1+output": {
       "addedWidgets": {},
       "aggData": [],
       "aggError": "",
       "aggOverflow": false,
       "aggSchema": [],
       "aggSeriesLimitReached": false,
       "aggType": "",
       "arguments": {},
       "columnCustomDisplayInfos": {},
       "data": [
        [
         210053270998,
         "Masculino",
         "Não respondeu"
        ],
        [
         210051914571,
         "Masculino",
         "Não respondeu"
        ],
        [
         210053592727,
         "Feminino",
         "Não respondeu"
        ],
        [
         210051819501,
         "Masculino",
         "Pública"
        ],
        [
         210052271642,
         "Feminino",
         "Não respondeu"
        ],
        [
         210051334162,
         "Feminino",
         "Pública"
        ],
        [
         210054090746,
         "Masculino",
         "Pública"
        ],
        [
         210051018671,
         "Feminino",
         "Não respondeu"
        ],
        [
         210052350881,
         "Feminino",
         "Pública"
        ],
        [
         210051588838,
         "Masculino",
         "Privada"
        ],
        [
         210052314230,
         "Feminino",
         "Não respondeu"
        ],
        [
         210051923564,
         "Masculino",
         "Pública"
        ],
        [
         210052563255,
         "Feminino",
         "Não respondeu"
        ],
        [
         210054208012,
         "Feminino",
         "Pública"
        ],
        [
         210051016383,
         "Feminino",
         "Pública"
        ],
        [
         210052752600,
         "Feminino",
         "Não respondeu"
        ],
        [
         210054040152,
         "Feminino",
         "Não respondeu"
        ],
        [
         210051423784,
         "Feminino",
         "Pública"
        ],
        [
         210054226624,
         "Feminino",
         "Não respondeu"
        ],
        [
         210051936472,
         "Masculino",
         "Pública"
        ],
        [
         210052955166,
         "Feminino",
         "Não respondeu"
        ],
        [
         210053768668,
         "Feminino",
         "Privada"
        ],
        [
         210051788556,
         "Masculino",
         "Privada"
        ],
        [
         210052336621,
         "Feminino",
         "Pública"
        ],
        [
         210051529359,
         "Feminino",
         "Não respondeu"
        ],
        [
         210053290126,
         "Feminino",
         "Não respondeu"
        ],
        [
         210052855610,
         "Feminino",
         "Não respondeu"
        ],
        [
         210051622576,
         "Feminino",
         "Pública"
        ],
        [
         210051142382,
         "Feminino",
         "Não respondeu"
        ],
        [
         210052631800,
         "Feminino",
         "Não respondeu"
        ],
        [
         210054461652,
         "Feminino",
         "Não respondeu"
        ],
        [
         210051085130,
         "Masculino",
         "Não respondeu"
        ],
        [
         210052399147,
         "Feminino",
         "Não respondeu"
        ],
        [
         210051870968,
         "Feminino",
         "Não respondeu"
        ],
        [
         210051411824,
         "Masculino",
         "Pública"
        ],
        [
         210051328060,
         "Feminino",
         "Não respondeu"
        ],
        [
         210051226889,
         "Feminino",
         "Não respondeu"
        ],
        [
         210053049537,
         "Feminino",
         "Pública"
        ],
        [
         210051491793,
         "Feminino",
         "Pública"
        ],
        [
         210051589915,
         "Feminino",
         "Não respondeu"
        ],
        [
         210052151616,
         "Masculino",
         "Pública"
        ],
        [
         210052266623,
         "Feminino",
         "Pública"
        ],
        [
         210053641624,
         "Masculino",
         "Não respondeu"
        ],
        [
         210053130450,
         "Masculino",
         "Privada"
        ],
        [
         210053904763,
         "Feminino",
         "Não respondeu"
        ],
        [
         210051101419,
         "Feminino",
         "Não respondeu"
        ],
        [
         210054169248,
         "Feminino",
         "Não respondeu"
        ],
        [
         210054094999,
         "Masculino",
         "Não respondeu"
        ],
        [
         210051997903,
         "Masculino",
         "Não respondeu"
        ],
        [
         210052542394,
         "Feminino",
         "Não respondeu"
        ]
       ],
       "datasetInfos": [],
       "dbfsResultPath": null,
       "isJsonSchema": true,
       "metadata": {},
       "overflow": false,
       "plotOptions": {
        "customPlotOptions": {},
        "displayType": "table",
        "pivotAggregation": null,
        "pivotColumns": null,
        "xColumns": null,
        "yColumns": null
       },
       "removedWidgets": [],
       "schema": [
        {
         "metadata": "{}",
         "name": "NU_INSCRICAO",
         "type": "\"long\""
        },
        {
         "metadata": "{}",
         "name": "TP_SEXO",
         "type": "\"string\""
        },
        {
         "metadata": "{}",
         "name": "TP_ESCOLA",
         "type": "\"string\""
        }
       ],
       "type": "table"
      }
     },
     "output_type": "display_data"
    }
   ],
   "source": [
    "%sql\n",
    "select \n",
    "  NU_INSCRICAO,\n",
    "  case\n",
    "    when TP_SEXO = 'F' then 'Feminino'\n",
    "    when TP_SEXO = 'M' then 'Masculino'\n",
    "    when TP_SEXO IS NULL then 'missing'\n",
    "    else 'verificar'\n",
    "  end as TP_SEXO,\n",
    "  case \n",
    "    when TP_ESCOLA = 1 then 'Não respondeu'\n",
    "    when TP_ESCOLA = 2 then 'Pública'\n",
    "    when TP_ESCOLA = 3 then 'Privada'\n",
    "    when TP_ESCOLA IS NULL then 'missing'\n",
    "    else 'verificar'\n",
    "  end as TP_ESCOLA\n",
    "from default.microdados_enem;"
   ]
  },
  {
   "cell_type": "markdown",
   "metadata": {
    "application/vnd.databricks.v1+cell": {
     "cellMetadata": {},
     "inputWidgets": {},
     "nuid": "136743e1-89ef-4e6a-9606-b74071bf42d9",
     "showTitle": false,
     "title": ""
    }
   },
   "source": [
    "Outra possibilidade para o CASE WHEN no PySpark seria utilizando a função `expr()`, que permite executar expressões SQL em um DataFrame PySpark. Iremos implementar o CASE WHEN utilizando esta função."
   ]
  },
  {
   "cell_type": "code",
   "execution_count": 54,
   "metadata": {
    "application/vnd.databricks.v1+cell": {
     "cellMetadata": {
      "byteLimit": 2048000,
      "rowLimit": 10000
     },
     "inputWidgets": {},
     "nuid": "335ee6cf-a9d9-4c56-9d8d-b5a8008d1cc0",
     "showTitle": false,
     "title": ""
    }
   },
   "outputs": [
    {
     "name": "stdout",
     "output_type": "stream",
     "text": [
      "+------------+---------+-------------+\n",
      "|NU_INSCRICAO|  TP_SEXO|    TP_ESCOLA|\n",
      "+------------+---------+-------------+\n",
      "|210053270998|Masculino|Não respondeu|\n",
      "|210051914571|Masculino|Não respondeu|\n",
      "|210053592727| Feminino|Não respondeu|\n",
      "|210051819501|Masculino|      Pública|\n",
      "|210052271642| Feminino|Não respondeu|\n",
      "|210051334162| Feminino|      Pública|\n",
      "|210054090746|Masculino|      Pública|\n",
      "|210051018671| Feminino|Não respondeu|\n",
      "|210052350881| Feminino|      Pública|\n",
      "|210051588838|Masculino|      Privada|\n",
      "|210052314230| Feminino|Não respondeu|\n",
      "|210051923564|Masculino|      Pública|\n",
      "|210052563255| Feminino|Não respondeu|\n",
      "|210054208012| Feminino|      Pública|\n",
      "|210051016383| Feminino|      Pública|\n",
      "|210052752600| Feminino|Não respondeu|\n",
      "|210054040152| Feminino|Não respondeu|\n",
      "|210051423784| Feminino|      Pública|\n",
      "|210054226624| Feminino|Não respondeu|\n",
      "|210051936472|Masculino|      Pública|\n",
      "+------------+---------+-------------+\n",
      "only showing top 20 rows\n",
      "\n"
     ]
    }
   ],
   "source": [
    "(\n",
    "    df\n",
    "    .select('NU_INSCRICAO', 'TP_SEXO', 'TP_ESCOLA')\n",
    "    .withColumn('TP_SEXO', F.expr(\"\"\"\n",
    "    case\n",
    "         when TP_SEXO = 'M' then 'Masculino'\n",
    "         when TP_SEXO = 'F' then 'Feminino'\n",
    "         when TP_SEXO is null then 'missing'\n",
    "         else 'verificar' \n",
    "    end\n",
    "    \"\"\"))\n",
    "    .withColumn('TP_ESCOLA', F.expr(\"\"\"\n",
    "    case \n",
    "        when TP_ESCOLA = 1 then 'Não respondeu'\n",
    "        when TP_ESCOLA = 2 then 'Pública'\n",
    "        when TP_ESCOLA = 3 then 'Privada'\n",
    "        when TP_ESCOLA IS NULL then 'missing'\n",
    "        else 'verificar'\n",
    "    end\n",
    "    \"\"\"))\n",
    "    .show()\n",
    ")"
   ]
  },
  {
   "cell_type": "markdown",
   "metadata": {
    "application/vnd.databricks.v1+cell": {
     "cellMetadata": {},
     "inputWidgets": {},
     "nuid": "4f36bac7-ad21-40e6-9a5e-3e777fe8cba7",
     "showTitle": false,
     "title": ""
    }
   },
   "source": [
    "\n",
    "O PySpark fornece as funções fillna() e fill() para substituir valores NULL/None.\n",
    "\n",
    "* fillna() e fill()\n",
    "\n",
    "```python\n",
    "fillna(value, subset)\n",
    "\n",
    "fill(value, subset)\n",
    "```\n"
   ]
  },
  {
   "cell_type": "code",
   "execution_count": 58,
   "metadata": {
    "application/vnd.databricks.v1+cell": {
     "cellMetadata": {
      "byteLimit": 2048000,
      "rowLimit": 10000
     },
     "inputWidgets": {},
     "nuid": "f5ed1a76-9fa8-4de6-9060-af0eaf959215",
     "showTitle": false,
     "title": ""
    }
   },
   "outputs": [
    {
     "name": "stdout",
     "output_type": "stream",
     "text": [
      "+------------+----------+----------+\n",
      "|NU_INSCRICAO|NU_NOTA_MT|NU_NOTA_CH|\n",
      "+------------+----------+----------+\n",
      "|210053270998|     431.5|     426.7|\n",
      "|210051914571|      -1.0|      -1.0|\n",
      "|210053592727|     528.0|     653.4|\n",
      "|210051819501|     480.8|     425.9|\n",
      "|210052271642|     477.7|     518.8|\n",
      "|210051334162|     504.8|     498.8|\n",
      "|210054090746|      -1.0|      -1.0|\n",
      "|210051018671|      -1.0|      -1.0|\n",
      "|210052350881|     398.1|     447.2|\n",
      "|210051588838|     719.8|     670.7|\n",
      "|210052314230|      -1.0|      -1.0|\n",
      "|210051923564|     419.2|     482.9|\n",
      "|210052563255|      -1.0|      -1.0|\n",
      "|210054208012|     420.5|     542.1|\n",
      "|210051016383|     416.5|     521.1|\n",
      "|210052752600|      -1.0|      -1.0|\n",
      "|210054040152|     484.1|     568.1|\n",
      "|210051423784|     440.0|     371.6|\n",
      "|210054226624|     569.8|     476.1|\n",
      "|210051936472|      -1.0|     524.8|\n",
      "+------------+----------+----------+\n",
      "only showing top 20 rows\n",
      "\n"
     ]
    }
   ],
   "source": [
    "(\n",
    "    df\n",
    "    .fillna({'NU_NOTA_MT': -1, 'NU_NOTA_CH': -1})\n",
    "    .select('NU_INSCRICAO', 'NU_NOTA_MT', 'NU_NOTA_CH')\n",
    "    .show()\n",
    ")"
   ]
  },
  {
   "cell_type": "code",
   "execution_count": 59,
   "metadata": {
    "application/vnd.databricks.v1+cell": {
     "cellMetadata": {
      "byteLimit": 2048000,
      "rowLimit": 10000
     },
     "inputWidgets": {},
     "nuid": "13f33e8b-bd5b-4372-b7cd-1871632f99ac",
     "showTitle": false,
     "title": ""
    }
   },
   "outputs": [
    {
     "name": "stdout",
     "output_type": "stream",
     "text": [
      "+------------+----------+----------+\n",
      "|NU_INSCRICAO|NU_NOTA_MT|NU_NOTA_CH|\n",
      "+------------+----------+----------+\n",
      "|210053270998|     431.5|     426.7|\n",
      "|210051914571|      -1.0|      -1.0|\n",
      "|210053592727|     528.0|     653.4|\n",
      "|210051819501|     480.8|     425.9|\n",
      "|210052271642|     477.7|     518.8|\n",
      "|210051334162|     504.8|     498.8|\n",
      "|210054090746|      -1.0|      -1.0|\n",
      "|210051018671|      -1.0|      -1.0|\n",
      "|210052350881|     398.1|     447.2|\n",
      "|210051588838|     719.8|     670.7|\n",
      "|210052314230|      -1.0|      -1.0|\n",
      "|210051923564|     419.2|     482.9|\n",
      "|210052563255|      -1.0|      -1.0|\n",
      "|210054208012|     420.5|     542.1|\n",
      "|210051016383|     416.5|     521.1|\n",
      "|210052752600|      -1.0|      -1.0|\n",
      "|210054040152|     484.1|     568.1|\n",
      "|210051423784|     440.0|     371.6|\n",
      "|210054226624|     569.8|     476.1|\n",
      "|210051936472|      -1.0|     524.8|\n",
      "+------------+----------+----------+\n",
      "only showing top 20 rows\n",
      "\n"
     ]
    }
   ],
   "source": [
    "(\n",
    "    df\n",
    "    .na.fill({'NU_NOTA_MT': -1, 'NU_NOTA_CH': -1})\n",
    "    .select('NU_INSCRICAO', 'NU_NOTA_MT', 'NU_NOTA_CH')\n",
    "    .show()\n",
    ")"
   ]
  },
  {
   "cell_type": "markdown",
   "metadata": {
    "application/vnd.databricks.v1+cell": {
     "cellMetadata": {},
     "inputWidgets": {},
     "nuid": "23056a7f-f7f3-453e-8070-e1d982447864",
     "showTitle": false,
     "title": ""
    }
   },
   "source": [
    "### SQL no Spark"
   ]
  },
  {
   "cell_type": "code",
   "execution_count": 0,
   "metadata": {
    "application/vnd.databricks.v1+cell": {
     "cellMetadata": {
      "byteLimit": 2048000,
      "rowLimit": 10000
     },
     "inputWidgets": {},
     "nuid": "ed774708-76fe-4a6b-8ef1-720bc52a8232",
     "showTitle": false,
     "title": ""
    }
   },
   "outputs": [],
   "source": [
    "# cria uma tabela cujo nome é df_enem\n",
    "df.createOrReplaceTempView('df_enem')"
   ]
  },
  {
   "cell_type": "code",
   "execution_count": 0,
   "metadata": {
    "application/vnd.databricks.v1+cell": {
     "cellMetadata": {
      "byteLimit": 2048000,
      "rowLimit": 10000
     },
     "inputWidgets": {},
     "nuid": "b4215e74-b68c-42e8-af2d-7578c8f6f5d0",
     "showTitle": false,
     "title": ""
    }
   },
   "outputs": [],
   "source": [
    "newSubset = sqlContext.sql(\"\"\"\n",
    "select * from df_enem\n",
    "where TP_SEXO = 'F'\n",
    "\"\"\")"
   ]
  },
  {
   "cell_type": "code",
   "execution_count": 0,
   "metadata": {
    "application/vnd.databricks.v1+cell": {
     "cellMetadata": {
      "byteLimit": 2048000,
      "rowLimit": 10000
     },
     "inputWidgets": {},
     "nuid": "30bc6093-690a-4353-9637-c62428773658",
     "showTitle": false,
     "title": ""
    }
   },
   "outputs": [
    {
     "data": {
      "text/html": [
       "<style scoped>\n",
       "  .table-result-container {\n",
       "    max-height: 300px;\n",
       "    overflow: auto;\n",
       "  }\n",
       "  table, th, td {\n",
       "    border: 1px solid black;\n",
       "    border-collapse: collapse;\n",
       "  }\n",
       "  th, td {\n",
       "    padding: 5px;\n",
       "  }\n",
       "  th {\n",
       "    text-align: left;\n",
       "  }\n",
       "</style><div class='table-result-container'><table class='table-result'><thead style='background-color: white'><tr><th>NU_INSCRICAO</th><th>NU_ANO</th><th>TP_FAIXA_ETARIA</th><th>TP_SEXO</th><th>TP_ESTADO_CIVIL</th><th>TP_COR_RACA</th><th>TP_NACIONALIDADE</th><th>TP_ST_CONCLUSAO</th><th>TP_ANO_CONCLUIU</th><th>TP_ESCOLA</th><th>TP_ENSINO</th><th>IN_TREINEIRO</th><th>CO_MUNICIPIO_ESC</th><th>NO_MUNICIPIO_ESC</th><th>CO_UF_ESC</th><th>SG_UF_ESC</th><th>TP_DEPENDENCIA_ADM_ESC</th><th>TP_LOCALIZACAO_ESC</th><th>TP_SIT_FUNC_ESC</th><th>CO_MUNICIPIO_PROVA</th><th>NO_MUNICIPIO_PROVA</th><th>CO_UF_PROVA</th><th>SG_UF_PROVA</th><th>TP_PRESENCA_CN</th><th>TP_PRESENCA_CH</th><th>TP_PRESENCA_LC</th><th>TP_PRESENCA_MT</th><th>NU_NOTA_CN</th><th>NU_NOTA_CH</th><th>NU_NOTA_LC</th><th>NU_NOTA_MT</th><th>TP_LINGUA</th><th>TP_STATUS_REDACAO</th><th>NU_NOTA_COMP1</th><th>NU_NOTA_COMP2</th><th>NU_NOTA_COMP3</th><th>NU_NOTA_COMP4</th><th>NU_NOTA_COMP5</th><th>NU_NOTA_REDACAO</th><th>Q001</th><th>Q002</th><th>Q003</th><th>Q004</th><th>Q005</th><th>Q006</th><th>Q007</th><th>Q008</th><th>Q009</th><th>Q010</th><th>Q011</th><th>Q012</th><th>Q013</th><th>Q014</th><th>Q015</th><th>Q016</th><th>Q017</th><th>Q018</th><th>Q019</th><th>Q020</th><th>Q021</th><th>Q022</th><th>Q023</th><th>Q024</th><th>Q025</th></tr></thead><tbody><tr><td>210053592727</td><td>2021</td><td>10</td><td>F</td><td>1</td><td>3</td><td>1</td><td>1</td><td>7</td><td>1</td><td>null</td><td>0</td><td>null</td><td>null</td><td>null</td><td>null</td><td>null</td><td>null</td><td>null</td><td>2928208</td><td>Santana</td><td>29</td><td>BA</td><td>1</td><td>1</td><td>1</td><td>1</td><td>572.3</td><td>653.4</td><td>577.8</td><td>528.0</td><td>1</td><td>1.0</td><td>120.0</td><td>200.0</td><td>160.0</td><td>140.0</td><td>120.0</td><td>740.0</td><td>E</td><td>G</td><td>B</td><td>D</td><td>3.0</td><td>F</td><td>A</td><td>B</td><td>D</td><td>A</td><td>A</td><td>B</td><td>B</td><td>A</td><td>A</td><td>A</td><td>A</td><td>A</td><td>B</td><td>A</td><td>A</td><td>D</td><td>A</td><td>B</td><td>B</td></tr><tr><td>210052271642</td><td>2021</td><td>2</td><td>F</td><td>1</td><td>1</td><td>1</td><td>3</td><td>0</td><td>1</td><td>null</td><td>1</td><td>null</td><td>null</td><td>null</td><td>null</td><td>null</td><td>null</td><td>null</td><td>2916401</td><td>Itapetinga</td><td>29</td><td>BA</td><td>1</td><td>1</td><td>1</td><td>1</td><td>443.9</td><td>518.8</td><td>490.4</td><td>477.7</td><td>0</td><td>1.0</td><td>120.0</td><td>180.0</td><td>120.0</td><td>160.0</td><td>140.0</td><td>720.0</td><td>C</td><td>E</td><td>C</td><td>B</td><td>4.0</td><td>B</td><td>A</td><td>B</td><td>D</td><td>B</td><td>A</td><td>B</td><td>B</td><td>B</td><td>A</td><td>A</td><td>A</td><td>A</td><td>C</td><td>A</td><td>A</td><td>D</td><td>A</td><td>A</td><td>B</td></tr><tr><td>210051334162</td><td>2021</td><td>3</td><td>F</td><td>1</td><td>2</td><td>2</td><td>2</td><td>0</td><td>2</td><td>1.0</td><td>0</td><td>null</td><td>null</td><td>null</td><td>null</td><td>null</td><td>null</td><td>null</td><td>2918209</td><td>Jiquiriçá</td><td>29</td><td>BA</td><td>1</td><td>1</td><td>1</td><td>1</td><td>461.9</td><td>498.8</td><td>475.6</td><td>504.8</td><td>1</td><td>1.0</td><td>100.0</td><td>180.0</td><td>120.0</td><td>160.0</td><td>120.0</td><td>680.0</td><td>B</td><td>C</td><td>A</td><td>A</td><td>4.0</td><td>B</td><td>A</td><td>B</td><td>D</td><td>A</td><td>B</td><td>B</td><td>A</td><td>A</td><td>A</td><td>A</td><td>A</td><td>A</td><td>B</td><td>A</td><td>A</td><td>C</td><td>A</td><td>A</td><td>B</td></tr><tr><td>210051018671</td><td>2021</td><td>7</td><td>F</td><td>1</td><td>3</td><td>1</td><td>1</td><td>3</td><td>1</td><td>null</td><td>0</td><td>null</td><td>null</td><td>null</td><td>null</td><td>null</td><td>null</td><td>null</td><td>2927408</td><td>Salvador</td><td>29</td><td>BA</td><td>0</td><td>0</td><td>0</td><td>0</td><td>null</td><td>null</td><td>null</td><td>null</td><td>0</td><td>null</td><td>null</td><td>null</td><td>null</td><td>null</td><td>null</td><td>null</td><td>C</td><td>E</td><td>B</td><td>B</td><td>3.0</td><td>C</td><td>A</td><td>B</td><td>D</td><td>A</td><td>A</td><td>B</td><td>B</td><td>B</td><td>B</td><td>B</td><td>A</td><td>A</td><td>B</td><td>A</td><td>A</td><td>E</td><td>A</td><td>B</td><td>B</td></tr><tr><td>210052350881</td><td>2021</td><td>5</td><td>F</td><td>1</td><td>3</td><td>1</td><td>2</td><td>0</td><td>2</td><td>1.0</td><td>0</td><td>2927408.0</td><td>Salvador</td><td>29.0</td><td>BA</td><td>2.0</td><td>1.0</td><td>1.0</td><td>2927408</td><td>Salvador</td><td>29</td><td>BA</td><td>1</td><td>1</td><td>1</td><td>1</td><td>493.5</td><td>447.2</td><td>510.7</td><td>398.1</td><td>0</td><td>3.0</td><td>0.0</td><td>0.0</td><td>0.0</td><td>0.0</td><td>0.0</td><td>0.0</td><td>H</td><td>D</td><td>B</td><td>D</td><td>4.0</td><td>D</td><td>A</td><td>C</td><td>D</td><td>A</td><td>A</td><td>B</td><td>B</td><td>B</td><td>A</td><td>B</td><td>A</td><td>B</td><td>C</td><td>A</td><td>A</td><td>E</td><td>A</td><td>A</td><td>B</td></tr><tr><td>210052314230</td><td>2021</td><td>8</td><td>F</td><td>1</td><td>3</td><td>1</td><td>1</td><td>5</td><td>1</td><td>null</td><td>0</td><td>null</td><td>null</td><td>null</td><td>null</td><td>null</td><td>null</td><td>null</td><td>2907509</td><td>Catu</td><td>29</td><td>BA</td><td>0</td><td>0</td><td>0</td><td>0</td><td>null</td><td>null</td><td>null</td><td>null</td><td>1</td><td>null</td><td>null</td><td>null</td><td>null</td><td>null</td><td>null</td><td>null</td><td>B</td><td>F</td><td>D</td><td>A</td><td>4.0</td><td>D</td><td>A</td><td>B</td><td>C</td><td>B</td><td>B</td><td>B</td><td>A</td><td>B</td><td>A</td><td>B</td><td>A</td><td>A</td><td>B</td><td>A</td><td>A</td><td>D</td><td>A</td><td>B</td><td>B</td></tr><tr><td>210052563255</td><td>2021</td><td>8</td><td>F</td><td>1</td><td>3</td><td>1</td><td>1</td><td>3</td><td>1</td><td>null</td><td>0</td><td>null</td><td>null</td><td>null</td><td>null</td><td>null</td><td>null</td><td>null</td><td>2910503</td><td>Entre Rios</td><td>29</td><td>BA</td><td>0</td><td>0</td><td>0</td><td>0</td><td>null</td><td>null</td><td>null</td><td>null</td><td>1</td><td>null</td><td>null</td><td>null</td><td>null</td><td>null</td><td>null</td><td>null</td><td>H</td><td>D</td><td>F</td><td>B</td><td>2.0</td><td>A</td><td>A</td><td>B</td><td>C</td><td>A</td><td>A</td><td>B</td><td>A</td><td>A</td><td>A</td><td>A</td><td>A</td><td>A</td><td>A</td><td>A</td><td>A</td><td>B</td><td>A</td><td>A</td><td>B</td></tr><tr><td>210054208012</td><td>2021</td><td>2</td><td>F</td><td>1</td><td>3</td><td>1</td><td>2</td><td>0</td><td>2</td><td>1.0</td><td>0</td><td>2910909.0</td><td>Firmino Alves</td><td>29.0</td><td>BA</td><td>2.0</td><td>1.0</td><td>1.0</td><td>2916401</td><td>Itapetinga</td><td>29</td><td>BA</td><td>1</td><td>1</td><td>1</td><td>1</td><td>408.0</td><td>542.1</td><td>446.0</td><td>420.5</td><td>0</td><td>1.0</td><td>140.0</td><td>160.0</td><td>120.0</td><td>120.0</td><td>140.0</td><td>680.0</td><td>E</td><td>E</td><td>C</td><td>C</td><td>5.0</td><td>C</td><td>A</td><td>B</td><td>C</td><td>A</td><td>A</td><td>B</td><td>B</td><td>A</td><td>A</td><td>A</td><td>A</td><td>A</td><td>B</td><td>B</td><td>A</td><td>C</td><td>A</td><td>B</td><td>B</td></tr><tr><td>210051016383</td><td>2021</td><td>3</td><td>F</td><td>1</td><td>3</td><td>1</td><td>2</td><td>0</td><td>2</td><td>1.0</td><td>0</td><td>null</td><td>null</td><td>null</td><td>null</td><td>null</td><td>null</td><td>null</td><td>2919157</td><td>Lapão</td><td>29</td><td>BA</td><td>1</td><td>1</td><td>1</td><td>1</td><td>566.3</td><td>521.1</td><td>566.5</td><td>416.5</td><td>0</td><td>1.0</td><td>100.0</td><td>140.0</td><td>100.0</td><td>120.0</td><td>180.0</td><td>640.0</td><td>F</td><td>E</td><td>D</td><td>F</td><td>2.0</td><td>B</td><td>A</td><td>B</td><td>C</td><td>A</td><td>A</td><td>B</td><td>A</td><td>A</td><td>A</td><td>A</td><td>A</td><td>A</td><td>B</td><td>A</td><td>A</td><td>C</td><td>A</td><td>B</td><td>A</td></tr><tr><td>210052752600</td><td>2021</td><td>8</td><td>F</td><td>1</td><td>3</td><td>1</td><td>1</td><td>5</td><td>1</td><td>null</td><td>0</td><td>null</td><td>null</td><td>null</td><td>null</td><td>null</td><td>null</td><td>null</td><td>2906873</td><td>Capim Grosso</td><td>29</td><td>BA</td><td>0</td><td>0</td><td>0</td><td>0</td><td>null</td><td>null</td><td>null</td><td>null</td><td>1</td><td>null</td><td>null</td><td>null</td><td>null</td><td>null</td><td>null</td><td>null</td><td>E</td><td>E</td><td>A</td><td>B</td><td>1.0</td><td>A</td><td>A</td><td>B</td><td>B</td><td>A</td><td>A</td><td>B</td><td>A</td><td>A</td><td>A</td><td>A</td><td>A</td><td>A</td><td>A</td><td>A</td><td>A</td><td>B</td><td>A</td><td>A</td><td>B</td></tr><tr><td>210054040152</td><td>2021</td><td>13</td><td>F</td><td>2</td><td>2</td><td>1</td><td>1</td><td>15</td><td>1</td><td>null</td><td>0</td><td>null</td><td>null</td><td>null</td><td>null</td><td>null</td><td>null</td><td>null</td><td>2908408</td><td>Conceição do Coité</td><td>29</td><td>BA</td><td>1</td><td>1</td><td>1</td><td>1</td><td>399.8</td><td>568.1</td><td>470.4</td><td>484.1</td><td>1</td><td>1.0</td><td>140.0</td><td>160.0</td><td>120.0</td><td>120.0</td><td>100.0</td><td>640.0</td><td>B</td><td>B</td><td>A</td><td>A</td><td>4.0</td><td>D</td><td>A</td><td>B</td><td>C</td><td>B</td><td>A</td><td>B</td><td>A</td><td>A</td><td>A</td><td>B</td><td>A</td><td>A</td><td>B</td><td>A</td><td>A</td><td>D</td><td>A</td><td>B</td><td>B</td></tr><tr><td>210051423784</td><td>2021</td><td>2</td><td>F</td><td>1</td><td>2</td><td>1</td><td>2</td><td>0</td><td>2</td><td>1.0</td><td>0</td><td>null</td><td>null</td><td>null</td><td>null</td><td>null</td><td>null</td><td>null</td><td>2908408</td><td>Conceição do Coité</td><td>29</td><td>BA</td><td>1</td><td>1</td><td>1</td><td>1</td><td>384.9</td><td>371.6</td><td>415.9</td><td>440.0</td><td>1</td><td>1.0</td><td>120.0</td><td>120.0</td><td>80.0</td><td>100.0</td><td>120.0</td><td>540.0</td><td>E</td><td>E</td><td>A</td><td>A</td><td>3.0</td><td>A</td><td>A</td><td>B</td><td>D</td><td>A</td><td>A</td><td>B</td><td>A</td><td>A</td><td>A</td><td>B</td><td>A</td><td>A</td><td>B</td><td>B</td><td>B</td><td>D</td><td>A</td><td>A</td><td>A</td></tr><tr><td>210054226624</td><td>2021</td><td>1</td><td>F</td><td>1</td><td>3</td><td>1</td><td>3</td><td>0</td><td>1</td><td>null</td><td>1</td><td>null</td><td>null</td><td>null</td><td>null</td><td>null</td><td>null</td><td>null</td><td>2913903</td><td>Ipiaú</td><td>29</td><td>BA</td><td>1</td><td>1</td><td>1</td><td>1</td><td>355.7</td><td>476.1</td><td>432.4</td><td>569.8</td><td>1</td><td>1.0</td><td>140.0</td><td>120.0</td><td>120.0</td><td>140.0</td><td>80.0</td><td>600.0</td><td>D</td><td>F</td><td>D</td><td>B</td><td>4.0</td><td>B</td><td>A</td><td>C</td><td>D</td><td>A</td><td>A</td><td>B</td><td>B</td><td>A</td><td>A</td><td>A</td><td>A</td><td>A</td><td>B</td><td>A</td><td>A</td><td>D</td><td>A</td><td>A</td><td>B</td></tr><tr><td>210052955166</td><td>2021</td><td>11</td><td>F</td><td>1</td><td>1</td><td>1</td><td>1</td><td>5</td><td>1</td><td>null</td><td>0</td><td>null</td><td>null</td><td>null</td><td>null</td><td>null</td><td>null</td><td>null</td><td>2927408</td><td>Salvador</td><td>29</td><td>BA</td><td>0</td><td>0</td><td>0</td><td>0</td><td>null</td><td>null</td><td>null</td><td>null</td><td>1</td><td>null</td><td>null</td><td>null</td><td>null</td><td>null</td><td>null</td><td>null</td><td>B</td><td>E</td><td>B</td><td>B</td><td>2.0</td><td>B</td><td>A</td><td>B</td><td>B</td><td>A</td><td>A</td><td>A</td><td>A</td><td>A</td><td>A</td><td>A</td><td>A</td><td>A</td><td>A</td><td>A</td><td>A</td><td>D</td><td>A</td><td>A</td><td>B</td></tr><tr><td>210053768668</td><td>2021</td><td>4</td><td>F</td><td>1</td><td>2</td><td>1</td><td>2</td><td>0</td><td>3</td><td>1.0</td><td>0</td><td>null</td><td>null</td><td>null</td><td>null</td><td>null</td><td>null</td><td>null</td><td>2927408</td><td>Salvador</td><td>29</td><td>BA</td><td>1</td><td>1</td><td>1</td><td>1</td><td>561.2</td><td>565.8</td><td>503.8</td><td>499.9</td><td>1</td><td>1.0</td><td>160.0</td><td>200.0</td><td>180.0</td><td>160.0</td><td>200.0</td><td>900.0</td><td>E</td><td>E</td><td>B</td><td>B</td><td>4.0</td><td>C</td><td>A</td><td>C</td><td>D</td><td>A</td><td>A</td><td>B</td><td>A</td><td>B</td><td>A</td><td>A</td><td>A</td><td>A</td><td>B</td><td>A</td><td>A</td><td>D</td><td>A</td><td>A</td><td>B</td></tr><tr><td>210052336621</td><td>2021</td><td>2</td><td>F</td><td>1</td><td>3</td><td>1</td><td>2</td><td>0</td><td>2</td><td>1.0</td><td>0</td><td>null</td><td>null</td><td>null</td><td>null</td><td>null</td><td>null</td><td>null</td><td>2906501</td><td>Candeias</td><td>29</td><td>BA</td><td>1</td><td>1</td><td>1</td><td>1</td><td>463.8</td><td>405.8</td><td>344.9</td><td>541.9</td><td>0</td><td>1.0</td><td>120.0</td><td>120.0</td><td>120.0</td><td>120.0</td><td>120.0</td><td>600.0</td><td>F</td><td>E</td><td>B</td><td>B</td><td>4.0</td><td>C</td><td>A</td><td>B</td><td>C</td><td>A</td><td>A</td><td>B</td><td>A</td><td>A</td><td>A</td><td>A</td><td>A</td><td>A</td><td>B</td><td>A</td><td>A</td><td>C</td><td>A</td><td>A</td><td>B</td></tr><tr><td>210051529359</td><td>2021</td><td>4</td><td>F</td><td>1</td><td>1</td><td>1</td><td>1</td><td>2</td><td>1</td><td>null</td><td>0</td><td>null</td><td>null</td><td>null</td><td>null</td><td>null</td><td>null</td><td>null</td><td>2906808</td><td>Cansanção</td><td>29</td><td>BA</td><td>0</td><td>0</td><td>0</td><td>0</td><td>null</td><td>null</td><td>null</td><td>null</td><td>1</td><td>null</td><td>null</td><td>null</td><td>null</td><td>null</td><td>null</td><td>null</td><td>E</td><td>G</td><td>D</td><td>D</td><td>5.0</td><td>I</td><td>A</td><td>C</td><td>E</td><td>B</td><td>B</td><td>B</td><td>B</td><td>B</td><td>A</td><td>B</td><td>A</td><td>B</td><td>E</td><td>B</td><td>B</td><td>E</td><td>A</td><td>D</td><td>B</td></tr><tr><td>210053290126</td><td>2021</td><td>9</td><td>F</td><td>1</td><td>2</td><td>1</td><td>1</td><td>5</td><td>1</td><td>null</td><td>0</td><td>null</td><td>null</td><td>null</td><td>null</td><td>null</td><td>null</td><td>null</td><td>2913606</td><td>Ilhéus</td><td>29</td><td>BA</td><td>1</td><td>1</td><td>1</td><td>1</td><td>490.9</td><td>603.9</td><td>561.8</td><td>553.6</td><td>1</td><td>1.0</td><td>160.0</td><td>200.0</td><td>180.0</td><td>180.0</td><td>200.0</td><td>920.0</td><td>H</td><td>C</td><td>F</td><td>B</td><td>3.0</td><td>B</td><td>A</td><td>B</td><td>D</td><td>A</td><td>A</td><td>B</td><td>A</td><td>A</td><td>A</td><td>A</td><td>A</td><td>A</td><td>B</td><td>A</td><td>A</td><td>C</td><td>A</td><td>A</td><td>B</td></tr><tr><td>210052855610</td><td>2021</td><td>16</td><td>F</td><td>1</td><td>2</td><td>1</td><td>1</td><td>15</td><td>1</td><td>null</td><td>0</td><td>null</td><td>null</td><td>null</td><td>null</td><td>null</td><td>null</td><td>null</td><td>2927408</td><td>Salvador</td><td>29</td><td>BA</td><td>0</td><td>0</td><td>0</td><td>0</td><td>null</td><td>null</td><td>null</td><td>null</td><td>0</td><td>null</td><td>null</td><td>null</td><td>null</td><td>null</td><td>null</td><td>null</td><td>H</td><td>E</td><td>D</td><td>F</td><td>4.0</td><td>F</td><td>A</td><td>C</td><td>C</td><td>A</td><td>A</td><td>B</td><td>A</td><td>B</td><td>A</td><td>B</td><td>A</td><td>A</td><td>B</td><td>A</td><td>A</td><td>D</td><td>A</td><td>B</td><td>B</td></tr><tr><td>210051622576</td><td>2021</td><td>3</td><td>F</td><td>1</td><td>1</td><td>1</td><td>2</td><td>0</td><td>2</td><td>1.0</td><td>0</td><td>null</td><td>null</td><td>null</td><td>null</td><td>null</td><td>null</td><td>null</td><td>2919801</td><td>Macaúbas</td><td>29</td><td>BA</td><td>1</td><td>1</td><td>1</td><td>1</td><td>393.5</td><td>378.9</td><td>354.6</td><td>465.0</td><td>1</td><td>1.0</td><td>100.0</td><td>120.0</td><td>80.0</td><td>120.0</td><td>0.0</td><td>420.0</td><td>B</td><td>D</td><td>D</td><td>D</td><td>3.0</td><td>E</td><td>A</td><td>C</td><td>D</td><td>B</td><td>B</td><td>B</td><td>B</td><td>A</td><td>A</td><td>B</td><td>A</td><td>A</td><td>B</td><td>A</td><td>B</td><td>D</td><td>A</td><td>B</td><td>B</td></tr><tr><td>210051142382</td><td>2021</td><td>3</td><td>F</td><td>1</td><td>1</td><td>1</td><td>1</td><td>1</td><td>1</td><td>null</td><td>0</td><td>null</td><td>null</td><td>null</td><td>null</td><td>null</td><td>null</td><td>null</td><td>2914604</td><td>Irecê</td><td>29</td><td>BA</td><td>1</td><td>1</td><td>1</td><td>1</td><td>399.2</td><td>439.5</td><td>488.3</td><td>542.4</td><td>0</td><td>1.0</td><td>120.0</td><td>120.0</td><td>100.0</td><td>120.0</td><td>80.0</td><td>540.0</td><td>D</td><td>F</td><td>B</td><td>C</td><td>4.0</td><td>C</td><td>A</td><td>B</td><td>D</td><td>A</td><td>B</td><td>B</td><td>A</td><td>A</td><td>A</td><td>B</td><td>A</td><td>A</td><td>B</td><td>A</td><td>A</td><td>D</td><td>A</td><td>B</td><td>B</td></tr><tr><td>210052631800</td><td>2021</td><td>3</td><td>F</td><td>1</td><td>3</td><td>1</td><td>1</td><td>1</td><td>1</td><td>null</td><td>0</td><td>null</td><td>null</td><td>null</td><td>null</td><td>null</td><td>null</td><td>null</td><td>2925303</td><td>Porto Seguro</td><td>29</td><td>BA</td><td>1</td><td>1</td><td>1</td><td>1</td><td>403.6</td><td>433.6</td><td>442.3</td><td>382.3</td><td>1</td><td>1.0</td><td>120.0</td><td>120.0</td><td>120.0</td><td>120.0</td><td>140.0</td><td>620.0</td><td>C</td><td>E</td><td>A</td><td>F</td><td>3.0</td><td>D</td><td>A</td><td>B</td><td>D</td><td>A</td><td>A</td><td>B</td><td>A</td><td>B</td><td>A</td><td>A</td><td>A</td><td>A</td><td>B</td><td>A</td><td>A</td><td>D</td><td>A</td><td>A</td><td>B</td></tr><tr><td>210054461652</td><td>2021</td><td>14</td><td>F</td><td>1</td><td>3</td><td>1</td><td>1</td><td>15</td><td>1</td><td>null</td><td>0</td><td>null</td><td>null</td><td>null</td><td>null</td><td>null</td><td>null</td><td>null</td><td>2909802</td><td>Cruz das Almas</td><td>29</td><td>BA</td><td>0</td><td>0</td><td>0</td><td>0</td><td>null</td><td>null</td><td>null</td><td>null</td><td>1</td><td>null</td><td>null</td><td>null</td><td>null</td><td>null</td><td>null</td><td>null</td><td>H</td><td>F</td><td>D</td><td>D</td><td>8.0</td><td>B</td><td>A</td><td>B</td><td>C</td><td>A</td><td>A</td><td>B</td><td>A</td><td>B</td><td>A</td><td>A</td><td>A</td><td>A</td><td>B</td><td>A</td><td>A</td><td>B</td><td>B</td><td>B</td><td>B</td></tr><tr><td>210052399147</td><td>2021</td><td>11</td><td>F</td><td>1</td><td>3</td><td>1</td><td>1</td><td>9</td><td>1</td><td>null</td><td>0</td><td>null</td><td>null</td><td>null</td><td>null</td><td>null</td><td>null</td><td>null</td><td>2910800</td><td>Feira de Santana</td><td>29</td><td>BA</td><td>0</td><td>0</td><td>0</td><td>0</td><td>null</td><td>null</td><td>null</td><td>null</td><td>1</td><td>null</td><td>null</td><td>null</td><td>null</td><td>null</td><td>null</td><td>null</td><td>B</td><td>B</td><td>C</td><td>B</td><td>4.0</td><td>B</td><td>A</td><td>B</td><td>C</td><td>A</td><td>A</td><td>B</td><td>A</td><td>A</td><td>A</td><td>B</td><td>A</td><td>A</td><td>B</td><td>A</td><td>A</td><td>C</td><td>A</td><td>A</td><td>B</td></tr><tr><td>210051870968</td><td>2021</td><td>1</td><td>F</td><td>1</td><td>1</td><td>1</td><td>3</td><td>0</td><td>1</td><td>null</td><td>1</td><td>null</td><td>null</td><td>null</td><td>null</td><td>null</td><td>null</td><td>null</td><td>2910727</td><td>Eunápolis</td><td>29</td><td>BA</td><td>1</td><td>1</td><td>1</td><td>1</td><td>494.7</td><td>476.1</td><td>462.0</td><td>636.3</td><td>0</td><td>1.0</td><td>140.0</td><td>200.0</td><td>160.0</td><td>180.0</td><td>160.0</td><td>840.0</td><td>F</td><td>F</td><td>C</td><td>D</td><td>3.0</td><td>C</td><td>A</td><td>B</td><td>C</td><td>B</td><td>A</td><td>C</td><td>B</td><td>A</td><td>A</td><td>B</td><td>A</td><td>A</td><td>B</td><td>B</td><td>A</td><td>D</td><td>A</td><td>A</td><td>B</td></tr><tr><td>210051328060</td><td>2021</td><td>8</td><td>F</td><td>1</td><td>2</td><td>1</td><td>1</td><td>7</td><td>1</td><td>null</td><td>0</td><td>null</td><td>null</td><td>null</td><td>null</td><td>null</td><td>null</td><td>null</td><td>2903201</td><td>Barreiras</td><td>29</td><td>BA</td><td>0</td><td>0</td><td>0</td><td>0</td><td>null</td><td>null</td><td>null</td><td>null</td><td>0</td><td>null</td><td>null</td><td>null</td><td>null</td><td>null</td><td>null</td><td>null</td><td>B</td><td>C</td><td>C</td><td>C</td><td>3.0</td><td>C</td><td>A</td><td>B</td><td>C</td><td>A</td><td>A</td><td>B</td><td>A</td><td>A</td><td>A</td><td>A</td><td>A</td><td>A</td><td>B</td><td>A</td><td>A</td><td>C</td><td>A</td><td>A</td><td>B</td></tr><tr><td>210051226889</td><td>2021</td><td>3</td><td>F</td><td>1</td><td>3</td><td>1</td><td>1</td><td>1</td><td>1</td><td>null</td><td>0</td><td>null</td><td>null</td><td>null</td><td>null</td><td>null</td><td>null</td><td>null</td><td>2910602</td><td>Esplanada</td><td>29</td><td>BA</td><td>1</td><td>1</td><td>1</td><td>1</td><td>452.3</td><td>461.5</td><td>548.1</td><td>562.0</td><td>0</td><td>1.0</td><td>140.0</td><td>200.0</td><td>160.0</td><td>160.0</td><td>200.0</td><td>860.0</td><td>E</td><td>G</td><td>B</td><td>D</td><td>6.0</td><td>F</td><td>A</td><td>B</td><td>D</td><td>B</td><td>A</td><td>B</td><td>A</td><td>B</td><td>A</td><td>A</td><td>A</td><td>A</td><td>B</td><td>A</td><td>A</td><td>E</td><td>A</td><td>B</td><td>B</td></tr><tr><td>210053049537</td><td>2021</td><td>4</td><td>F</td><td>1</td><td>2</td><td>1</td><td>2</td><td>0</td><td>2</td><td>1.0</td><td>0</td><td>null</td><td>null</td><td>null</td><td>null</td><td>null</td><td>null</td><td>null</td><td>2906873</td><td>Capim Grosso</td><td>29</td><td>BA</td><td>0</td><td>0</td><td>0</td><td>0</td><td>null</td><td>null</td><td>null</td><td>null</td><td>1</td><td>null</td><td>null</td><td>null</td><td>null</td><td>null</td><td>null</td><td>null</td><td>B</td><td>B</td><td>F</td><td>F</td><td>4.0</td><td>B</td><td>A</td><td>B</td><td>D</td><td>A</td><td>B</td><td>B</td><td>A</td><td>A</td><td>A</td><td>A</td><td>A</td><td>A</td><td>B</td><td>A</td><td>A</td><td>D</td><td>A</td><td>A</td><td>B</td></tr><tr><td>210051491793</td><td>2021</td><td>3</td><td>F</td><td>1</td><td>3</td><td>1</td><td>2</td><td>0</td><td>2</td><td>1.0</td><td>0</td><td>2927408.0</td><td>Salvador</td><td>29.0</td><td>BA</td><td>2.0</td><td>1.0</td><td>1.0</td><td>2927408</td><td>Salvador</td><td>29</td><td>BA</td><td>1</td><td>1</td><td>1</td><td>1</td><td>398.3</td><td>466.2</td><td>473.4</td><td>363.5</td><td>1</td><td>1.0</td><td>120.0</td><td>120.0</td><td>120.0</td><td>120.0</td><td>100.0</td><td>580.0</td><td>C</td><td>H</td><td>C</td><td>F</td><td>2.0</td><td>B</td><td>A</td><td>B</td><td>C</td><td>A</td><td>A</td><td>B</td><td>A</td><td>A</td><td>A</td><td>B</td><td>A</td><td>A</td><td>B</td><td>A</td><td>B</td><td>D</td><td>A</td><td>A</td><td>B</td></tr><tr><td>210051589915</td><td>2021</td><td>1</td><td>F</td><td>1</td><td>3</td><td>1</td><td>3</td><td>0</td><td>1</td><td>null</td><td>1</td><td>null</td><td>null</td><td>null</td><td>null</td><td>null</td><td>null</td><td>null</td><td>2907806</td><td>Cícero Dantas</td><td>29</td><td>BA</td><td>1</td><td>1</td><td>1</td><td>1</td><td>529.5</td><td>487.0</td><td>418.9</td><td>432.8</td><td>0</td><td>1.0</td><td>120.0</td><td>180.0</td><td>100.0</td><td>120.0</td><td>100.0</td><td>620.0</td><td>B</td><td>E</td><td>B</td><td>A</td><td>5.0</td><td>B</td><td>A</td><td>B</td><td>C</td><td>A</td><td>A</td><td>B</td><td>A</td><td>A</td><td>A</td><td>B</td><td>A</td><td>A</td><td>B</td><td>B</td><td>A</td><td>E</td><td>A</td><td>A</td><td>B</td></tr><tr><td>210052266623</td><td>2021</td><td>4</td><td>F</td><td>1</td><td>3</td><td>1</td><td>2</td><td>0</td><td>2</td><td>null</td><td>0</td><td>2927408.0</td><td>Salvador</td><td>29.0</td><td>BA</td><td>2.0</td><td>1.0</td><td>1.0</td><td>2927408</td><td>Salvador</td><td>29</td><td>BA</td><td>0</td><td>0</td><td>0</td><td>0</td><td>null</td><td>null</td><td>null</td><td>null</td><td>1</td><td>null</td><td>null</td><td>null</td><td>null</td><td>null</td><td>null</td><td>null</td><td>H</td><td>B</td><td>F</td><td>A</td><td>4.0</td><td>C</td><td>A</td><td>B</td><td>C</td><td>A</td><td>A</td><td>B</td><td>A</td><td>A</td><td>A</td><td>B</td><td>A</td><td>A</td><td>B</td><td>A</td><td>A</td><td>D</td><td>A</td><td>A</td><td>B</td></tr><tr><td>210053904763</td><td>2021</td><td>5</td><td>F</td><td>1</td><td>1</td><td>1</td><td>1</td><td>2</td><td>1</td><td>null</td><td>0</td><td>null</td><td>null</td><td>null</td><td>null</td><td>null</td><td>null</td><td>null</td><td>2914604</td><td>Irecê</td><td>29</td><td>BA</td><td>1</td><td>1</td><td>1</td><td>1</td><td>487.5</td><td>619.4</td><td>446.0</td><td>620.4</td><td>1</td><td>1.0</td><td>160.0</td><td>200.0</td><td>180.0</td><td>200.0</td><td>200.0</td><td>940.0</td><td>B</td><td>E</td><td>B</td><td>B</td><td>3.0</td><td>C</td><td>A</td><td>B</td><td>C</td><td>A</td><td>A</td><td>B</td><td>A</td><td>A</td><td>A</td><td>A</td><td>A</td><td>A</td><td>B</td><td>A</td><td>A</td><td>D</td><td>A</td><td>A</td><td>B</td></tr><tr><td>210051101419</td><td>2021</td><td>8</td><td>F</td><td>2</td><td>1</td><td>3</td><td>1</td><td>5</td><td>1</td><td>null</td><td>0</td><td>null</td><td>null</td><td>null</td><td>null</td><td>null</td><td>null</td><td>null</td><td>2904902</td><td>Cachoeira</td><td>29</td><td>BA</td><td>1</td><td>1</td><td>1</td><td>1</td><td>430.5</td><td>597.3</td><td>560.5</td><td>510.1</td><td>0</td><td>1.0</td><td>160.0</td><td>200.0</td><td>160.0</td><td>140.0</td><td>160.0</td><td>820.0</td><td>E</td><td>E</td><td>A</td><td>F</td><td>2.0</td><td>A</td><td>A</td><td>B</td><td>B</td><td>A</td><td>A</td><td>B</td><td>A</td><td>A</td><td>A</td><td>A</td><td>A</td><td>A</td><td>A</td><td>A</td><td>A</td><td>C</td><td>A</td><td>A</td><td>B</td></tr><tr><td>210054169248</td><td>2021</td><td>6</td><td>F</td><td>1</td><td>2</td><td>1</td><td>1</td><td>2</td><td>1</td><td>null</td><td>0</td><td>null</td><td>null</td><td>null</td><td>null</td><td>null</td><td>null</td><td>null</td><td>2906303</td><td>Canavieiras</td><td>29</td><td>BA</td><td>1</td><td>1</td><td>1</td><td>1</td><td>432.8</td><td>521.6</td><td>528.0</td><td>436.9</td><td>1</td><td>1.0</td><td>100.0</td><td>120.0</td><td>80.0</td><td>120.0</td><td>140.0</td><td>560.0</td><td>E</td><td>E</td><td>C</td><td>C</td><td>4.0</td><td>B</td><td>A</td><td>B</td><td>C</td><td>A</td><td>A</td><td>B</td><td>A</td><td>A</td><td>A</td><td>A</td><td>A</td><td>A</td><td>A</td><td>A</td><td>A</td><td>A</td><td>A</td><td>A</td><td>A</td></tr><tr><td>210052542394</td><td>2021</td><td>6</td><td>F</td><td>1</td><td>3</td><td>1</td><td>1</td><td>1</td><td>1</td><td>null</td><td>0</td><td>null</td><td>null</td><td>null</td><td>null</td><td>null</td><td>null</td><td>null</td><td>2927408</td><td>Salvador</td><td>29</td><td>BA</td><td>1</td><td>1</td><td>1</td><td>1</td><td>400.9</td><td>438.3</td><td>466.2</td><td>492.5</td><td>0</td><td>1.0</td><td>80.0</td><td>120.0</td><td>80.0</td><td>80.0</td><td>100.0</td><td>460.0</td><td>H</td><td>D</td><td>F</td><td>B</td><td>2.0</td><td>C</td><td>A</td><td>B</td><td>C</td><td>A</td><td>A</td><td>B</td><td>A</td><td>A</td><td>A</td><td>B</td><td>A</td><td>A</td><td>B</td><td>A</td><td>B</td><td>C</td><td>A</td><td>A</td><td>B</td></tr></tbody></table></div>"
      ]
     },
     "metadata": {
      "application/vnd.databricks.v1+output": {
       "addedWidgets": {},
       "aggData": [],
       "aggError": "",
       "aggOverflow": false,
       "aggSchema": [],
       "aggSeriesLimitReached": false,
       "aggType": "",
       "arguments": {},
       "columnCustomDisplayInfos": {},
       "data": [
        [
         210053592727,
         2021,
         10,
         "F",
         1,
         3,
         1,
         1,
         7,
         1,
         null,
         0,
         null,
         null,
         null,
         null,
         null,
         null,
         null,
         2928208,
         "Santana",
         29,
         "BA",
         1,
         1,
         1,
         1,
         572.3,
         653.4,
         577.8,
         528,
         1,
         1,
         120,
         200,
         160,
         140,
         120,
         740,
         "E",
         "G",
         "B",
         "D",
         3,
         "F",
         "A",
         "B",
         "D",
         "A",
         "A",
         "B",
         "B",
         "A",
         "A",
         "A",
         "A",
         "A",
         "B",
         "A",
         "A",
         "D",
         "A",
         "B",
         "B"
        ],
        [
         210052271642,
         2021,
         2,
         "F",
         1,
         1,
         1,
         3,
         0,
         1,
         null,
         1,
         null,
         null,
         null,
         null,
         null,
         null,
         null,
         2916401,
         "Itapetinga",
         29,
         "BA",
         1,
         1,
         1,
         1,
         443.9,
         518.8,
         490.4,
         477.7,
         0,
         1,
         120,
         180,
         120,
         160,
         140,
         720,
         "C",
         "E",
         "C",
         "B",
         4,
         "B",
         "A",
         "B",
         "D",
         "B",
         "A",
         "B",
         "B",
         "B",
         "A",
         "A",
         "A",
         "A",
         "C",
         "A",
         "A",
         "D",
         "A",
         "A",
         "B"
        ],
        [
         210051334162,
         2021,
         3,
         "F",
         1,
         2,
         2,
         2,
         0,
         2,
         1,
         0,
         null,
         null,
         null,
         null,
         null,
         null,
         null,
         2918209,
         "Jiquiriçá",
         29,
         "BA",
         1,
         1,
         1,
         1,
         461.9,
         498.8,
         475.6,
         504.8,
         1,
         1,
         100,
         180,
         120,
         160,
         120,
         680,
         "B",
         "C",
         "A",
         "A",
         4,
         "B",
         "A",
         "B",
         "D",
         "A",
         "B",
         "B",
         "A",
         "A",
         "A",
         "A",
         "A",
         "A",
         "B",
         "A",
         "A",
         "C",
         "A",
         "A",
         "B"
        ],
        [
         210051018671,
         2021,
         7,
         "F",
         1,
         3,
         1,
         1,
         3,
         1,
         null,
         0,
         null,
         null,
         null,
         null,
         null,
         null,
         null,
         2927408,
         "Salvador",
         29,
         "BA",
         0,
         0,
         0,
         0,
         null,
         null,
         null,
         null,
         0,
         null,
         null,
         null,
         null,
         null,
         null,
         null,
         "C",
         "E",
         "B",
         "B",
         3,
         "C",
         "A",
         "B",
         "D",
         "A",
         "A",
         "B",
         "B",
         "B",
         "B",
         "B",
         "A",
         "A",
         "B",
         "A",
         "A",
         "E",
         "A",
         "B",
         "B"
        ],
        [
         210052350881,
         2021,
         5,
         "F",
         1,
         3,
         1,
         2,
         0,
         2,
         1,
         0,
         2927408,
         "Salvador",
         29,
         "BA",
         2,
         1,
         1,
         2927408,
         "Salvador",
         29,
         "BA",
         1,
         1,
         1,
         1,
         493.5,
         447.2,
         510.7,
         398.1,
         0,
         3,
         0,
         0,
         0,
         0,
         0,
         0,
         "H",
         "D",
         "B",
         "D",
         4,
         "D",
         "A",
         "C",
         "D",
         "A",
         "A",
         "B",
         "B",
         "B",
         "A",
         "B",
         "A",
         "B",
         "C",
         "A",
         "A",
         "E",
         "A",
         "A",
         "B"
        ],
        [
         210052314230,
         2021,
         8,
         "F",
         1,
         3,
         1,
         1,
         5,
         1,
         null,
         0,
         null,
         null,
         null,
         null,
         null,
         null,
         null,
         2907509,
         "Catu",
         29,
         "BA",
         0,
         0,
         0,
         0,
         null,
         null,
         null,
         null,
         1,
         null,
         null,
         null,
         null,
         null,
         null,
         null,
         "B",
         "F",
         "D",
         "A",
         4,
         "D",
         "A",
         "B",
         "C",
         "B",
         "B",
         "B",
         "A",
         "B",
         "A",
         "B",
         "A",
         "A",
         "B",
         "A",
         "A",
         "D",
         "A",
         "B",
         "B"
        ],
        [
         210052563255,
         2021,
         8,
         "F",
         1,
         3,
         1,
         1,
         3,
         1,
         null,
         0,
         null,
         null,
         null,
         null,
         null,
         null,
         null,
         2910503,
         "Entre Rios",
         29,
         "BA",
         0,
         0,
         0,
         0,
         null,
         null,
         null,
         null,
         1,
         null,
         null,
         null,
         null,
         null,
         null,
         null,
         "H",
         "D",
         "F",
         "B",
         2,
         "A",
         "A",
         "B",
         "C",
         "A",
         "A",
         "B",
         "A",
         "A",
         "A",
         "A",
         "A",
         "A",
         "A",
         "A",
         "A",
         "B",
         "A",
         "A",
         "B"
        ],
        [
         210054208012,
         2021,
         2,
         "F",
         1,
         3,
         1,
         2,
         0,
         2,
         1,
         0,
         2910909,
         "Firmino Alves",
         29,
         "BA",
         2,
         1,
         1,
         2916401,
         "Itapetinga",
         29,
         "BA",
         1,
         1,
         1,
         1,
         408,
         542.1,
         446,
         420.5,
         0,
         1,
         140,
         160,
         120,
         120,
         140,
         680,
         "E",
         "E",
         "C",
         "C",
         5,
         "C",
         "A",
         "B",
         "C",
         "A",
         "A",
         "B",
         "B",
         "A",
         "A",
         "A",
         "A",
         "A",
         "B",
         "B",
         "A",
         "C",
         "A",
         "B",
         "B"
        ],
        [
         210051016383,
         2021,
         3,
         "F",
         1,
         3,
         1,
         2,
         0,
         2,
         1,
         0,
         null,
         null,
         null,
         null,
         null,
         null,
         null,
         2919157,
         "Lapão",
         29,
         "BA",
         1,
         1,
         1,
         1,
         566.3,
         521.1,
         566.5,
         416.5,
         0,
         1,
         100,
         140,
         100,
         120,
         180,
         640,
         "F",
         "E",
         "D",
         "F",
         2,
         "B",
         "A",
         "B",
         "C",
         "A",
         "A",
         "B",
         "A",
         "A",
         "A",
         "A",
         "A",
         "A",
         "B",
         "A",
         "A",
         "C",
         "A",
         "B",
         "A"
        ],
        [
         210052752600,
         2021,
         8,
         "F",
         1,
         3,
         1,
         1,
         5,
         1,
         null,
         0,
         null,
         null,
         null,
         null,
         null,
         null,
         null,
         2906873,
         "Capim Grosso",
         29,
         "BA",
         0,
         0,
         0,
         0,
         null,
         null,
         null,
         null,
         1,
         null,
         null,
         null,
         null,
         null,
         null,
         null,
         "E",
         "E",
         "A",
         "B",
         1,
         "A",
         "A",
         "B",
         "B",
         "A",
         "A",
         "B",
         "A",
         "A",
         "A",
         "A",
         "A",
         "A",
         "A",
         "A",
         "A",
         "B",
         "A",
         "A",
         "B"
        ],
        [
         210054040152,
         2021,
         13,
         "F",
         2,
         2,
         1,
         1,
         15,
         1,
         null,
         0,
         null,
         null,
         null,
         null,
         null,
         null,
         null,
         2908408,
         "Conceição do Coité",
         29,
         "BA",
         1,
         1,
         1,
         1,
         399.8,
         568.1,
         470.4,
         484.1,
         1,
         1,
         140,
         160,
         120,
         120,
         100,
         640,
         "B",
         "B",
         "A",
         "A",
         4,
         "D",
         "A",
         "B",
         "C",
         "B",
         "A",
         "B",
         "A",
         "A",
         "A",
         "B",
         "A",
         "A",
         "B",
         "A",
         "A",
         "D",
         "A",
         "B",
         "B"
        ],
        [
         210051423784,
         2021,
         2,
         "F",
         1,
         2,
         1,
         2,
         0,
         2,
         1,
         0,
         null,
         null,
         null,
         null,
         null,
         null,
         null,
         2908408,
         "Conceição do Coité",
         29,
         "BA",
         1,
         1,
         1,
         1,
         384.9,
         371.6,
         415.9,
         440,
         1,
         1,
         120,
         120,
         80,
         100,
         120,
         540,
         "E",
         "E",
         "A",
         "A",
         3,
         "A",
         "A",
         "B",
         "D",
         "A",
         "A",
         "B",
         "A",
         "A",
         "A",
         "B",
         "A",
         "A",
         "B",
         "B",
         "B",
         "D",
         "A",
         "A",
         "A"
        ],
        [
         210054226624,
         2021,
         1,
         "F",
         1,
         3,
         1,
         3,
         0,
         1,
         null,
         1,
         null,
         null,
         null,
         null,
         null,
         null,
         null,
         2913903,
         "Ipiaú",
         29,
         "BA",
         1,
         1,
         1,
         1,
         355.7,
         476.1,
         432.4,
         569.8,
         1,
         1,
         140,
         120,
         120,
         140,
         80,
         600,
         "D",
         "F",
         "D",
         "B",
         4,
         "B",
         "A",
         "C",
         "D",
         "A",
         "A",
         "B",
         "B",
         "A",
         "A",
         "A",
         "A",
         "A",
         "B",
         "A",
         "A",
         "D",
         "A",
         "A",
         "B"
        ],
        [
         210052955166,
         2021,
         11,
         "F",
         1,
         1,
         1,
         1,
         5,
         1,
         null,
         0,
         null,
         null,
         null,
         null,
         null,
         null,
         null,
         2927408,
         "Salvador",
         29,
         "BA",
         0,
         0,
         0,
         0,
         null,
         null,
         null,
         null,
         1,
         null,
         null,
         null,
         null,
         null,
         null,
         null,
         "B",
         "E",
         "B",
         "B",
         2,
         "B",
         "A",
         "B",
         "B",
         "A",
         "A",
         "A",
         "A",
         "A",
         "A",
         "A",
         "A",
         "A",
         "A",
         "A",
         "A",
         "D",
         "A",
         "A",
         "B"
        ],
        [
         210053768668,
         2021,
         4,
         "F",
         1,
         2,
         1,
         2,
         0,
         3,
         1,
         0,
         null,
         null,
         null,
         null,
         null,
         null,
         null,
         2927408,
         "Salvador",
         29,
         "BA",
         1,
         1,
         1,
         1,
         561.2,
         565.8,
         503.8,
         499.9,
         1,
         1,
         160,
         200,
         180,
         160,
         200,
         900,
         "E",
         "E",
         "B",
         "B",
         4,
         "C",
         "A",
         "C",
         "D",
         "A",
         "A",
         "B",
         "A",
         "B",
         "A",
         "A",
         "A",
         "A",
         "B",
         "A",
         "A",
         "D",
         "A",
         "A",
         "B"
        ],
        [
         210052336621,
         2021,
         2,
         "F",
         1,
         3,
         1,
         2,
         0,
         2,
         1,
         0,
         null,
         null,
         null,
         null,
         null,
         null,
         null,
         2906501,
         "Candeias",
         29,
         "BA",
         1,
         1,
         1,
         1,
         463.8,
         405.8,
         344.9,
         541.9,
         0,
         1,
         120,
         120,
         120,
         120,
         120,
         600,
         "F",
         "E",
         "B",
         "B",
         4,
         "C",
         "A",
         "B",
         "C",
         "A",
         "A",
         "B",
         "A",
         "A",
         "A",
         "A",
         "A",
         "A",
         "B",
         "A",
         "A",
         "C",
         "A",
         "A",
         "B"
        ],
        [
         210051529359,
         2021,
         4,
         "F",
         1,
         1,
         1,
         1,
         2,
         1,
         null,
         0,
         null,
         null,
         null,
         null,
         null,
         null,
         null,
         2906808,
         "Cansanção",
         29,
         "BA",
         0,
         0,
         0,
         0,
         null,
         null,
         null,
         null,
         1,
         null,
         null,
         null,
         null,
         null,
         null,
         null,
         "E",
         "G",
         "D",
         "D",
         5,
         "I",
         "A",
         "C",
         "E",
         "B",
         "B",
         "B",
         "B",
         "B",
         "A",
         "B",
         "A",
         "B",
         "E",
         "B",
         "B",
         "E",
         "A",
         "D",
         "B"
        ],
        [
         210053290126,
         2021,
         9,
         "F",
         1,
         2,
         1,
         1,
         5,
         1,
         null,
         0,
         null,
         null,
         null,
         null,
         null,
         null,
         null,
         2913606,
         "Ilhéus",
         29,
         "BA",
         1,
         1,
         1,
         1,
         490.9,
         603.9,
         561.8,
         553.6,
         1,
         1,
         160,
         200,
         180,
         180,
         200,
         920,
         "H",
         "C",
         "F",
         "B",
         3,
         "B",
         "A",
         "B",
         "D",
         "A",
         "A",
         "B",
         "A",
         "A",
         "A",
         "A",
         "A",
         "A",
         "B",
         "A",
         "A",
         "C",
         "A",
         "A",
         "B"
        ],
        [
         210052855610,
         2021,
         16,
         "F",
         1,
         2,
         1,
         1,
         15,
         1,
         null,
         0,
         null,
         null,
         null,
         null,
         null,
         null,
         null,
         2927408,
         "Salvador",
         29,
         "BA",
         0,
         0,
         0,
         0,
         null,
         null,
         null,
         null,
         0,
         null,
         null,
         null,
         null,
         null,
         null,
         null,
         "H",
         "E",
         "D",
         "F",
         4,
         "F",
         "A",
         "C",
         "C",
         "A",
         "A",
         "B",
         "A",
         "B",
         "A",
         "B",
         "A",
         "A",
         "B",
         "A",
         "A",
         "D",
         "A",
         "B",
         "B"
        ],
        [
         210051622576,
         2021,
         3,
         "F",
         1,
         1,
         1,
         2,
         0,
         2,
         1,
         0,
         null,
         null,
         null,
         null,
         null,
         null,
         null,
         2919801,
         "Macaúbas",
         29,
         "BA",
         1,
         1,
         1,
         1,
         393.5,
         378.9,
         354.6,
         465,
         1,
         1,
         100,
         120,
         80,
         120,
         0,
         420,
         "B",
         "D",
         "D",
         "D",
         3,
         "E",
         "A",
         "C",
         "D",
         "B",
         "B",
         "B",
         "B",
         "A",
         "A",
         "B",
         "A",
         "A",
         "B",
         "A",
         "B",
         "D",
         "A",
         "B",
         "B"
        ],
        [
         210051142382,
         2021,
         3,
         "F",
         1,
         1,
         1,
         1,
         1,
         1,
         null,
         0,
         null,
         null,
         null,
         null,
         null,
         null,
         null,
         2914604,
         "Irecê",
         29,
         "BA",
         1,
         1,
         1,
         1,
         399.2,
         439.5,
         488.3,
         542.4,
         0,
         1,
         120,
         120,
         100,
         120,
         80,
         540,
         "D",
         "F",
         "B",
         "C",
         4,
         "C",
         "A",
         "B",
         "D",
         "A",
         "B",
         "B",
         "A",
         "A",
         "A",
         "B",
         "A",
         "A",
         "B",
         "A",
         "A",
         "D",
         "A",
         "B",
         "B"
        ],
        [
         210052631800,
         2021,
         3,
         "F",
         1,
         3,
         1,
         1,
         1,
         1,
         null,
         0,
         null,
         null,
         null,
         null,
         null,
         null,
         null,
         2925303,
         "Porto Seguro",
         29,
         "BA",
         1,
         1,
         1,
         1,
         403.6,
         433.6,
         442.3,
         382.3,
         1,
         1,
         120,
         120,
         120,
         120,
         140,
         620,
         "C",
         "E",
         "A",
         "F",
         3,
         "D",
         "A",
         "B",
         "D",
         "A",
         "A",
         "B",
         "A",
         "B",
         "A",
         "A",
         "A",
         "A",
         "B",
         "A",
         "A",
         "D",
         "A",
         "A",
         "B"
        ],
        [
         210054461652,
         2021,
         14,
         "F",
         1,
         3,
         1,
         1,
         15,
         1,
         null,
         0,
         null,
         null,
         null,
         null,
         null,
         null,
         null,
         2909802,
         "Cruz das Almas",
         29,
         "BA",
         0,
         0,
         0,
         0,
         null,
         null,
         null,
         null,
         1,
         null,
         null,
         null,
         null,
         null,
         null,
         null,
         "H",
         "F",
         "D",
         "D",
         8,
         "B",
         "A",
         "B",
         "C",
         "A",
         "A",
         "B",
         "A",
         "B",
         "A",
         "A",
         "A",
         "A",
         "B",
         "A",
         "A",
         "B",
         "B",
         "B",
         "B"
        ],
        [
         210052399147,
         2021,
         11,
         "F",
         1,
         3,
         1,
         1,
         9,
         1,
         null,
         0,
         null,
         null,
         null,
         null,
         null,
         null,
         null,
         2910800,
         "Feira de Santana",
         29,
         "BA",
         0,
         0,
         0,
         0,
         null,
         null,
         null,
         null,
         1,
         null,
         null,
         null,
         null,
         null,
         null,
         null,
         "B",
         "B",
         "C",
         "B",
         4,
         "B",
         "A",
         "B",
         "C",
         "A",
         "A",
         "B",
         "A",
         "A",
         "A",
         "B",
         "A",
         "A",
         "B",
         "A",
         "A",
         "C",
         "A",
         "A",
         "B"
        ],
        [
         210051870968,
         2021,
         1,
         "F",
         1,
         1,
         1,
         3,
         0,
         1,
         null,
         1,
         null,
         null,
         null,
         null,
         null,
         null,
         null,
         2910727,
         "Eunápolis",
         29,
         "BA",
         1,
         1,
         1,
         1,
         494.7,
         476.1,
         462,
         636.3,
         0,
         1,
         140,
         200,
         160,
         180,
         160,
         840,
         "F",
         "F",
         "C",
         "D",
         3,
         "C",
         "A",
         "B",
         "C",
         "B",
         "A",
         "C",
         "B",
         "A",
         "A",
         "B",
         "A",
         "A",
         "B",
         "B",
         "A",
         "D",
         "A",
         "A",
         "B"
        ],
        [
         210051328060,
         2021,
         8,
         "F",
         1,
         2,
         1,
         1,
         7,
         1,
         null,
         0,
         null,
         null,
         null,
         null,
         null,
         null,
         null,
         2903201,
         "Barreiras",
         29,
         "BA",
         0,
         0,
         0,
         0,
         null,
         null,
         null,
         null,
         0,
         null,
         null,
         null,
         null,
         null,
         null,
         null,
         "B",
         "C",
         "C",
         "C",
         3,
         "C",
         "A",
         "B",
         "C",
         "A",
         "A",
         "B",
         "A",
         "A",
         "A",
         "A",
         "A",
         "A",
         "B",
         "A",
         "A",
         "C",
         "A",
         "A",
         "B"
        ],
        [
         210051226889,
         2021,
         3,
         "F",
         1,
         3,
         1,
         1,
         1,
         1,
         null,
         0,
         null,
         null,
         null,
         null,
         null,
         null,
         null,
         2910602,
         "Esplanada",
         29,
         "BA",
         1,
         1,
         1,
         1,
         452.3,
         461.5,
         548.1,
         562,
         0,
         1,
         140,
         200,
         160,
         160,
         200,
         860,
         "E",
         "G",
         "B",
         "D",
         6,
         "F",
         "A",
         "B",
         "D",
         "B",
         "A",
         "B",
         "A",
         "B",
         "A",
         "A",
         "A",
         "A",
         "B",
         "A",
         "A",
         "E",
         "A",
         "B",
         "B"
        ],
        [
         210053049537,
         2021,
         4,
         "F",
         1,
         2,
         1,
         2,
         0,
         2,
         1,
         0,
         null,
         null,
         null,
         null,
         null,
         null,
         null,
         2906873,
         "Capim Grosso",
         29,
         "BA",
         0,
         0,
         0,
         0,
         null,
         null,
         null,
         null,
         1,
         null,
         null,
         null,
         null,
         null,
         null,
         null,
         "B",
         "B",
         "F",
         "F",
         4,
         "B",
         "A",
         "B",
         "D",
         "A",
         "B",
         "B",
         "A",
         "A",
         "A",
         "A",
         "A",
         "A",
         "B",
         "A",
         "A",
         "D",
         "A",
         "A",
         "B"
        ],
        [
         210051491793,
         2021,
         3,
         "F",
         1,
         3,
         1,
         2,
         0,
         2,
         1,
         0,
         2927408,
         "Salvador",
         29,
         "BA",
         2,
         1,
         1,
         2927408,
         "Salvador",
         29,
         "BA",
         1,
         1,
         1,
         1,
         398.3,
         466.2,
         473.4,
         363.5,
         1,
         1,
         120,
         120,
         120,
         120,
         100,
         580,
         "C",
         "H",
         "C",
         "F",
         2,
         "B",
         "A",
         "B",
         "C",
         "A",
         "A",
         "B",
         "A",
         "A",
         "A",
         "B",
         "A",
         "A",
         "B",
         "A",
         "B",
         "D",
         "A",
         "A",
         "B"
        ],
        [
         210051589915,
         2021,
         1,
         "F",
         1,
         3,
         1,
         3,
         0,
         1,
         null,
         1,
         null,
         null,
         null,
         null,
         null,
         null,
         null,
         2907806,
         "Cícero Dantas",
         29,
         "BA",
         1,
         1,
         1,
         1,
         529.5,
         487,
         418.9,
         432.8,
         0,
         1,
         120,
         180,
         100,
         120,
         100,
         620,
         "B",
         "E",
         "B",
         "A",
         5,
         "B",
         "A",
         "B",
         "C",
         "A",
         "A",
         "B",
         "A",
         "A",
         "A",
         "B",
         "A",
         "A",
         "B",
         "B",
         "A",
         "E",
         "A",
         "A",
         "B"
        ],
        [
         210052266623,
         2021,
         4,
         "F",
         1,
         3,
         1,
         2,
         0,
         2,
         null,
         0,
         2927408,
         "Salvador",
         29,
         "BA",
         2,
         1,
         1,
         2927408,
         "Salvador",
         29,
         "BA",
         0,
         0,
         0,
         0,
         null,
         null,
         null,
         null,
         1,
         null,
         null,
         null,
         null,
         null,
         null,
         null,
         "H",
         "B",
         "F",
         "A",
         4,
         "C",
         "A",
         "B",
         "C",
         "A",
         "A",
         "B",
         "A",
         "A",
         "A",
         "B",
         "A",
         "A",
         "B",
         "A",
         "A",
         "D",
         "A",
         "A",
         "B"
        ],
        [
         210053904763,
         2021,
         5,
         "F",
         1,
         1,
         1,
         1,
         2,
         1,
         null,
         0,
         null,
         null,
         null,
         null,
         null,
         null,
         null,
         2914604,
         "Irecê",
         29,
         "BA",
         1,
         1,
         1,
         1,
         487.5,
         619.4,
         446,
         620.4,
         1,
         1,
         160,
         200,
         180,
         200,
         200,
         940,
         "B",
         "E",
         "B",
         "B",
         3,
         "C",
         "A",
         "B",
         "C",
         "A",
         "A",
         "B",
         "A",
         "A",
         "A",
         "A",
         "A",
         "A",
         "B",
         "A",
         "A",
         "D",
         "A",
         "A",
         "B"
        ],
        [
         210051101419,
         2021,
         8,
         "F",
         2,
         1,
         3,
         1,
         5,
         1,
         null,
         0,
         null,
         null,
         null,
         null,
         null,
         null,
         null,
         2904902,
         "Cachoeira",
         29,
         "BA",
         1,
         1,
         1,
         1,
         430.5,
         597.3,
         560.5,
         510.1,
         0,
         1,
         160,
         200,
         160,
         140,
         160,
         820,
         "E",
         "E",
         "A",
         "F",
         2,
         "A",
         "A",
         "B",
         "B",
         "A",
         "A",
         "B",
         "A",
         "A",
         "A",
         "A",
         "A",
         "A",
         "A",
         "A",
         "A",
         "C",
         "A",
         "A",
         "B"
        ],
        [
         210054169248,
         2021,
         6,
         "F",
         1,
         2,
         1,
         1,
         2,
         1,
         null,
         0,
         null,
         null,
         null,
         null,
         null,
         null,
         null,
         2906303,
         "Canavieiras",
         29,
         "BA",
         1,
         1,
         1,
         1,
         432.8,
         521.6,
         528,
         436.9,
         1,
         1,
         100,
         120,
         80,
         120,
         140,
         560,
         "E",
         "E",
         "C",
         "C",
         4,
         "B",
         "A",
         "B",
         "C",
         "A",
         "A",
         "B",
         "A",
         "A",
         "A",
         "A",
         "A",
         "A",
         "A",
         "A",
         "A",
         "A",
         "A",
         "A",
         "A"
        ],
        [
         210052542394,
         2021,
         6,
         "F",
         1,
         3,
         1,
         1,
         1,
         1,
         null,
         0,
         null,
         null,
         null,
         null,
         null,
         null,
         null,
         2927408,
         "Salvador",
         29,
         "BA",
         1,
         1,
         1,
         1,
         400.9,
         438.3,
         466.2,
         492.5,
         0,
         1,
         80,
         120,
         80,
         80,
         100,
         460,
         "H",
         "D",
         "F",
         "B",
         2,
         "C",
         "A",
         "B",
         "C",
         "A",
         "A",
         "B",
         "A",
         "A",
         "A",
         "B",
         "A",
         "A",
         "B",
         "A",
         "B",
         "C",
         "A",
         "A",
         "B"
        ]
       ],
       "datasetInfos": [],
       "dbfsResultPath": null,
       "isJsonSchema": true,
       "metadata": {},
       "overflow": false,
       "plotOptions": {
        "customPlotOptions": {},
        "displayType": "table",
        "pivotAggregation": null,
        "pivotColumns": null,
        "xColumns": null,
        "yColumns": null
       },
       "removedWidgets": [],
       "schema": [
        {
         "metadata": "{}",
         "name": "NU_INSCRICAO",
         "type": "\"long\""
        },
        {
         "metadata": "{}",
         "name": "NU_ANO",
         "type": "\"integer\""
        },
        {
         "metadata": "{}",
         "name": "TP_FAIXA_ETARIA",
         "type": "\"integer\""
        },
        {
         "metadata": "{}",
         "name": "TP_SEXO",
         "type": "\"string\""
        },
        {
         "metadata": "{}",
         "name": "TP_ESTADO_CIVIL",
         "type": "\"integer\""
        },
        {
         "metadata": "{}",
         "name": "TP_COR_RACA",
         "type": "\"integer\""
        },
        {
         "metadata": "{}",
         "name": "TP_NACIONALIDADE",
         "type": "\"integer\""
        },
        {
         "metadata": "{}",
         "name": "TP_ST_CONCLUSAO",
         "type": "\"integer\""
        },
        {
         "metadata": "{}",
         "name": "TP_ANO_CONCLUIU",
         "type": "\"integer\""
        },
        {
         "metadata": "{}",
         "name": "TP_ESCOLA",
         "type": "\"integer\""
        },
        {
         "metadata": "{}",
         "name": "TP_ENSINO",
         "type": "\"double\""
        },
        {
         "metadata": "{}",
         "name": "IN_TREINEIRO",
         "type": "\"integer\""
        },
        {
         "metadata": "{}",
         "name": "CO_MUNICIPIO_ESC",
         "type": "\"double\""
        },
        {
         "metadata": "{}",
         "name": "NO_MUNICIPIO_ESC",
         "type": "\"string\""
        },
        {
         "metadata": "{}",
         "name": "CO_UF_ESC",
         "type": "\"double\""
        },
        {
         "metadata": "{}",
         "name": "SG_UF_ESC",
         "type": "\"string\""
        },
        {
         "metadata": "{}",
         "name": "TP_DEPENDENCIA_ADM_ESC",
         "type": "\"double\""
        },
        {
         "metadata": "{}",
         "name": "TP_LOCALIZACAO_ESC",
         "type": "\"double\""
        },
        {
         "metadata": "{}",
         "name": "TP_SIT_FUNC_ESC",
         "type": "\"double\""
        },
        {
         "metadata": "{}",
         "name": "CO_MUNICIPIO_PROVA",
         "type": "\"integer\""
        },
        {
         "metadata": "{}",
         "name": "NO_MUNICIPIO_PROVA",
         "type": "\"string\""
        },
        {
         "metadata": "{}",
         "name": "CO_UF_PROVA",
         "type": "\"integer\""
        },
        {
         "metadata": "{}",
         "name": "SG_UF_PROVA",
         "type": "\"string\""
        },
        {
         "metadata": "{}",
         "name": "TP_PRESENCA_CN",
         "type": "\"integer\""
        },
        {
         "metadata": "{}",
         "name": "TP_PRESENCA_CH",
         "type": "\"integer\""
        },
        {
         "metadata": "{}",
         "name": "TP_PRESENCA_LC",
         "type": "\"integer\""
        },
        {
         "metadata": "{}",
         "name": "TP_PRESENCA_MT",
         "type": "\"integer\""
        },
        {
         "metadata": "{}",
         "name": "NU_NOTA_CN",
         "type": "\"double\""
        },
        {
         "metadata": "{}",
         "name": "NU_NOTA_CH",
         "type": "\"double\""
        },
        {
         "metadata": "{}",
         "name": "NU_NOTA_LC",
         "type": "\"double\""
        },
        {
         "metadata": "{}",
         "name": "NU_NOTA_MT",
         "type": "\"double\""
        },
        {
         "metadata": "{}",
         "name": "TP_LINGUA",
         "type": "\"integer\""
        },
        {
         "metadata": "{}",
         "name": "TP_STATUS_REDACAO",
         "type": "\"double\""
        },
        {
         "metadata": "{}",
         "name": "NU_NOTA_COMP1",
         "type": "\"double\""
        },
        {
         "metadata": "{}",
         "name": "NU_NOTA_COMP2",
         "type": "\"double\""
        },
        {
         "metadata": "{}",
         "name": "NU_NOTA_COMP3",
         "type": "\"double\""
        },
        {
         "metadata": "{}",
         "name": "NU_NOTA_COMP4",
         "type": "\"double\""
        },
        {
         "metadata": "{}",
         "name": "NU_NOTA_COMP5",
         "type": "\"double\""
        },
        {
         "metadata": "{}",
         "name": "NU_NOTA_REDACAO",
         "type": "\"double\""
        },
        {
         "metadata": "{}",
         "name": "Q001",
         "type": "\"string\""
        },
        {
         "metadata": "{}",
         "name": "Q002",
         "type": "\"string\""
        },
        {
         "metadata": "{}",
         "name": "Q003",
         "type": "\"string\""
        },
        {
         "metadata": "{}",
         "name": "Q004",
         "type": "\"string\""
        },
        {
         "metadata": "{}",
         "name": "Q005",
         "type": "\"double\""
        },
        {
         "metadata": "{}",
         "name": "Q006",
         "type": "\"string\""
        },
        {
         "metadata": "{}",
         "name": "Q007",
         "type": "\"string\""
        },
        {
         "metadata": "{}",
         "name": "Q008",
         "type": "\"string\""
        },
        {
         "metadata": "{}",
         "name": "Q009",
         "type": "\"string\""
        },
        {
         "metadata": "{}",
         "name": "Q010",
         "type": "\"string\""
        },
        {
         "metadata": "{}",
         "name": "Q011",
         "type": "\"string\""
        },
        {
         "metadata": "{}",
         "name": "Q012",
         "type": "\"string\""
        },
        {
         "metadata": "{}",
         "name": "Q013",
         "type": "\"string\""
        },
        {
         "metadata": "{}",
         "name": "Q014",
         "type": "\"string\""
        },
        {
         "metadata": "{}",
         "name": "Q015",
         "type": "\"string\""
        },
        {
         "metadata": "{}",
         "name": "Q016",
         "type": "\"string\""
        },
        {
         "metadata": "{}",
         "name": "Q017",
         "type": "\"string\""
        },
        {
         "metadata": "{}",
         "name": "Q018",
         "type": "\"string\""
        },
        {
         "metadata": "{}",
         "name": "Q019",
         "type": "\"string\""
        },
        {
         "metadata": "{}",
         "name": "Q020",
         "type": "\"string\""
        },
        {
         "metadata": "{}",
         "name": "Q021",
         "type": "\"string\""
        },
        {
         "metadata": "{}",
         "name": "Q022",
         "type": "\"string\""
        },
        {
         "metadata": "{}",
         "name": "Q023",
         "type": "\"string\""
        },
        {
         "metadata": "{}",
         "name": "Q024",
         "type": "\"string\""
        },
        {
         "metadata": "{}",
         "name": "Q025",
         "type": "\"string\""
        }
       ],
       "type": "table"
      }
     },
     "output_type": "display_data"
    }
   ],
   "source": [
    "newSubset.display()"
   ]
  },
  {
   "cell_type": "code",
   "execution_count": 0,
   "metadata": {
    "application/vnd.databricks.v1+cell": {
     "cellMetadata": {
      "byteLimit": 2048000,
      "rowLimit": 10000
     },
     "inputWidgets": {},
     "nuid": "63c699ec-1929-46e1-9386-d70a268253e6",
     "showTitle": false,
     "title": ""
    }
   },
   "outputs": [
    {
     "name": "stdout",
     "output_type": "stream",
     "text": [
      "Out[137]: pyspark.sql.dataframe.DataFrame"
     ]
    }
   ],
   "source": [
    "type(newSubset)"
   ]
  },
  {
   "cell_type": "markdown",
   "metadata": {
    "application/vnd.databricks.v1+cell": {
     "cellMetadata": {},
     "inputWidgets": {},
     "nuid": "565a7191-a73e-4480-acff-a844b5347054",
     "showTitle": false,
     "title": ""
    }
   },
   "source": [
    "#### Agregação"
   ]
  },
  {
   "cell_type": "markdown",
   "metadata": {
    "application/vnd.databricks.v1+cell": {
     "cellMetadata": {},
     "inputWidgets": {},
     "nuid": "00fe1ac0-2511-4aba-8a22-fd5cb76a4871",
     "showTitle": false,
     "title": ""
    }
   },
   "source": [
    "O PySpark fornece um conjunto de funções para efetuarmos operaçõres de agregação. Algumas funções:\n",
    "    \n",
    "Função|Descrição|\n",
    "------|---------|\n",
    "mean(column)|Média dos valores|\n",
    "max(column)|Valor máximo|\n",
    "min(column)|Valor mínimo|\n",
    "sum(column)|Soma|\n",
    "avg(column)|Média|\n",
    "agg(column)|Calcular mais de um valor agregado por vez|\n",
    "count(column)|Contagem de valores|\n",
    "countDistinct(column)|Contagem de valores distintos|"
   ]
  },
  {
   "cell_type": "code",
   "execution_count": 0,
   "metadata": {
    "application/vnd.databricks.v1+cell": {
     "cellMetadata": {
      "byteLimit": 2048000,
      "rowLimit": 10000
     },
     "inputWidgets": {},
     "nuid": "82201127-ab44-4857-8cd7-073e0b3d8019",
     "showTitle": false,
     "title": ""
    }
   },
   "outputs": [
    {
     "data": {
      "text/html": [
       "<style scoped>\n",
       "  .table-result-container {\n",
       "    max-height: 300px;\n",
       "    overflow: auto;\n",
       "  }\n",
       "  table, th, td {\n",
       "    border: 1px solid black;\n",
       "    border-collapse: collapse;\n",
       "  }\n",
       "  th, td {\n",
       "    padding: 5px;\n",
       "  }\n",
       "  th {\n",
       "    text-align: left;\n",
       "  }\n",
       "</style><div class='table-result-container'><table class='table-result'><thead style='background-color: white'><tr><th>avg_nu_nota_mt</th><th>max_nu_nota_mt</th></tr></thead><tbody><tr><td>503.8612903225805</td><td>746.0</td></tr></tbody></table></div>"
      ]
     },
     "metadata": {
      "application/vnd.databricks.v1+output": {
       "addedWidgets": {},
       "aggData": [],
       "aggError": "",
       "aggOverflow": false,
       "aggSchema": [],
       "aggSeriesLimitReached": false,
       "aggType": "",
       "arguments": {},
       "columnCustomDisplayInfos": {},
       "data": [
        [
         503.8612903225805,
         746
        ]
       ],
       "datasetInfos": [],
       "dbfsResultPath": null,
       "isJsonSchema": true,
       "metadata": {},
       "overflow": false,
       "plotOptions": {
        "customPlotOptions": {},
        "displayType": "table",
        "pivotAggregation": null,
        "pivotColumns": null,
        "xColumns": null,
        "yColumns": null
       },
       "removedWidgets": [],
       "schema": [
        {
         "metadata": "{}",
         "name": "avg_nu_nota_mt",
         "type": "\"double\""
        },
        {
         "metadata": "{}",
         "name": "max_nu_nota_mt",
         "type": "\"double\""
        }
       ],
       "type": "table"
      }
     },
     "output_type": "display_data"
    }
   ],
   "source": [
    "# aplica funções de agregação:\n",
    "\n",
    "(\n",
    "    df.select(F.mean('NU_NOTA_MT').alias('avg_nu_nota_mt'),\n",
    "              F.max('NU_NOTA_MT').alias('max_nu_nota_mt')\n",
    "             ).display()\n",
    ")"
   ]
  },
  {
   "cell_type": "code",
   "execution_count": 0,
   "metadata": {
    "application/vnd.databricks.v1+cell": {
     "cellMetadata": {
      "byteLimit": 2048000,
      "rowLimit": 10000
     },
     "inputWidgets": {},
     "nuid": "b7dc3588-b6c5-4a17-9071-96d37cdc13f0",
     "showTitle": false,
     "title": ""
    }
   },
   "outputs": [
    {
     "data": {
      "text/html": [
       "<style scoped>\n",
       "  .table-result-container {\n",
       "    max-height: 300px;\n",
       "    overflow: auto;\n",
       "  }\n",
       "  table, th, td {\n",
       "    border: 1px solid black;\n",
       "    border-collapse: collapse;\n",
       "  }\n",
       "  th, td {\n",
       "    padding: 5px;\n",
       "  }\n",
       "  th {\n",
       "    text-align: left;\n",
       "  }\n",
       "</style><div class='table-result-container'><table class='table-result'><thead style='background-color: white'><tr><th>QuantidadeInscritos</th><th>QuantidadeInscritosDistintos</th><th>min_nota_mt</th><th>mean_nota_mt</th><th>median_nota_mt</th><th>std_nota_mt</th><th>max_nota_mt</th></tr></thead><tbody><tr><td>50</td><td>50</td><td>363.5</td><td>503.8612903225806</td><td>492.5</td><td>90.29810141016014</td><td>746.0</td></tr></tbody></table></div>"
      ]
     },
     "metadata": {
      "application/vnd.databricks.v1+output": {
       "addedWidgets": {},
       "aggData": [],
       "aggError": "",
       "aggOverflow": false,
       "aggSchema": [],
       "aggSeriesLimitReached": false,
       "aggType": "",
       "arguments": {},
       "columnCustomDisplayInfos": {},
       "data": [
        [
         50,
         50,
         363.5,
         503.8612903225806,
         492.5,
         90.29810141016014,
         746
        ]
       ],
       "datasetInfos": [],
       "dbfsResultPath": null,
       "isJsonSchema": true,
       "metadata": {},
       "overflow": false,
       "plotOptions": {
        "customPlotOptions": {},
        "displayType": "table",
        "pivotAggregation": null,
        "pivotColumns": null,
        "xColumns": null,
        "yColumns": null
       },
       "removedWidgets": [],
       "schema": [
        {
         "metadata": "{}",
         "name": "QuantidadeInscritos",
         "type": "\"long\""
        },
        {
         "metadata": "{}",
         "name": "QuantidadeInscritosDistintos",
         "type": "\"long\""
        },
        {
         "metadata": "{}",
         "name": "min_nota_mt",
         "type": "\"double\""
        },
        {
         "metadata": "{}",
         "name": "mean_nota_mt",
         "type": "\"double\""
        },
        {
         "metadata": "{}",
         "name": "median_nota_mt",
         "type": "\"double\""
        },
        {
         "metadata": "{}",
         "name": "std_nota_mt",
         "type": "\"double\""
        },
        {
         "metadata": "{}",
         "name": "max_nota_mt",
         "type": "\"double\""
        }
       ],
       "type": "table"
      }
     },
     "output_type": "display_data"
    }
   ],
   "source": [
    "# aplica mais de uma função de agregação usando .agg():\n",
    "(\n",
    "    df\n",
    "    .agg(\n",
    "        F.count('NU_INSCRICAO').alias('QuantidadeInscritos'),\n",
    "        F.countDistinct('NU_INSCRICAO').alias('QuantidadeInscritosDistintos'),\n",
    "        F.min('NU_NOTA_MT').alias('min_nota_mt'),\n",
    "        F.mean(F.col('NU_NOTA_MT')).alias('mean_nota_mt'),\n",
    "        F.median(F.col('NU_NOTA_MT')).alias('median_nota_mt'),\n",
    "        F.stddev_samp(F.col('NU_NOTA_MT')).alias('std_nota_mt'),\n",
    "        F.max(F.col('NU_NOTA_MT')).alias('max_nota_mt') \n",
    "    )\n",
    "    .display()\n",
    ")"
   ]
  },
  {
   "cell_type": "markdown",
   "metadata": {
    "application/vnd.databricks.v1+cell": {
     "cellMetadata": {},
     "inputWidgets": {},
     "nuid": "ad059951-4bd1-43ec-a919-f3ae6f4cef2e",
     "showTitle": false,
     "title": ""
    }
   },
   "source": [
    "#### Agrupamento"
   ]
  },
  {
   "cell_type": "markdown",
   "metadata": {
    "application/vnd.databricks.v1+cell": {
     "cellMetadata": {},
     "inputWidgets": {},
     "nuid": "06ea7d93-3298-4ad0-98b4-7ee32f7c5837",
     "showTitle": false,
     "title": ""
    }
   },
   "source": [
    "De forma parecida com o `GROUP BY` do SQL podemos usar a função `groupBy()` do PySpark para criar grupos e aplicar funções, como soma, máximo, mínimo, por grupos.\n",
    "\n",
    "A lógica por trás do Group By é similar ao Pandas, em que usamos o método split()-apply()-combine().\n",
    "\n",
    "<img src = 'https://www.w3resource.com/w3r_images/pandas-groupby-split-apply-combine.svg' width = 500/>"
   ]
  },
  {
   "cell_type": "code",
   "execution_count": 0,
   "metadata": {
    "application/vnd.databricks.v1+cell": {
     "cellMetadata": {
      "byteLimit": 2048000,
      "rowLimit": 10000
     },
     "inputWidgets": {},
     "nuid": "5d796bd2-147a-4019-9b58-a2dba22461a9",
     "showTitle": false,
     "title": ""
    }
   },
   "outputs": [
    {
     "data": {
      "text/html": [
       "<style scoped>\n",
       "  .table-result-container {\n",
       "    max-height: 300px;\n",
       "    overflow: auto;\n",
       "  }\n",
       "  table, th, td {\n",
       "    border: 1px solid black;\n",
       "    border-collapse: collapse;\n",
       "  }\n",
       "  th, td {\n",
       "    padding: 5px;\n",
       "  }\n",
       "  th {\n",
       "    text-align: left;\n",
       "  }\n",
       "</style><div class='table-result-container'><table class='table-result'><thead style='background-color: white'><tr><th>TP_SEXO</th><th>TP_ESCOLA</th><th>min_nota_mt</th><th>mean_nota_mt</th><th>median_nota_mt</th><th>max_nota_mt</th></tr></thead><tbody><tr><td>F</td><td>3</td><td>499.9</td><td>499.9</td><td>499.9</td><td>499.9</td></tr><tr><td>F</td><td>2</td><td>363.5</td><td>443.7875</td><td>430.25</td><td>541.9</td></tr><tr><td>M</td><td>2</td><td>419.2</td><td>489.76666666666665</td><td>480.8</td><td>569.3</td></tr><tr><td>M</td><td>3</td><td>479.9</td><td>564.5999999999999</td><td>494.1</td><td>719.8</td></tr></tbody></table></div>"
      ]
     },
     "metadata": {
      "application/vnd.databricks.v1+output": {
       "addedWidgets": {},
       "aggData": [],
       "aggError": "",
       "aggOverflow": false,
       "aggSchema": [],
       "aggSeriesLimitReached": false,
       "aggType": "",
       "arguments": {},
       "columnCustomDisplayInfos": {},
       "data": [
        [
         "F",
         3,
         499.9,
         499.9,
         499.9,
         499.9
        ],
        [
         "F",
         2,
         363.5,
         443.7875,
         430.25,
         541.9
        ],
        [
         "M",
         2,
         419.2,
         489.76666666666665,
         480.8,
         569.3
        ],
        [
         "M",
         3,
         479.9,
         564.5999999999999,
         494.1,
         719.8
        ]
       ],
       "datasetInfos": [],
       "dbfsResultPath": null,
       "isJsonSchema": true,
       "metadata": {},
       "overflow": false,
       "plotOptions": {
        "customPlotOptions": {},
        "displayType": "table",
        "pivotAggregation": null,
        "pivotColumns": null,
        "xColumns": null,
        "yColumns": null
       },
       "removedWidgets": [],
       "schema": [
        {
         "metadata": "{}",
         "name": "TP_SEXO",
         "type": "\"string\""
        },
        {
         "metadata": "{}",
         "name": "TP_ESCOLA",
         "type": "\"integer\""
        },
        {
         "metadata": "{}",
         "name": "min_nota_mt",
         "type": "\"double\""
        },
        {
         "metadata": "{}",
         "name": "mean_nota_mt",
         "type": "\"double\""
        },
        {
         "metadata": "{}",
         "name": "median_nota_mt",
         "type": "\"double\""
        },
        {
         "metadata": "{}",
         "name": "max_nota_mt",
         "type": "\"double\""
        }
       ],
       "type": "table"
      }
     },
     "output_type": "display_data"
    }
   ],
   "source": [
    "# estatística descritiva do desempenho em Matemática por gênero e tipo de escola\n",
    "(\n",
    "    df\n",
    "    .filter(F.col('TP_ESCOLA') != 1)\n",
    "    .groupBy('TP_SEXO', 'TP_ESCOLA')\n",
    "    .agg(\n",
    "        F.min('NU_NOTA_MT').alias('min_nota_mt'),\n",
    "        F.mean('NU_NOTA_MT').alias('mean_nota_mt'),\n",
    "        F.median('NU_NOTA_MT').alias('median_nota_mt'),\n",
    "        F.max('NU_NOTA_MT').alias('max_nota_mt')\n",
    "    )\n",
    "    .display()\n",
    ")"
   ]
  },
  {
   "cell_type": "markdown",
   "metadata": {
    "application/vnd.databricks.v1+cell": {
     "cellMetadata": {},
     "inputWidgets": {},
     "nuid": "fd902ab8-4e8d-4f3b-a3b8-ec4629b47256",
     "showTitle": false,
     "title": ""
    }
   },
   "source": [
    "### Avançando"
   ]
  },
  {
   "cell_type": "markdown",
   "metadata": {
    "application/vnd.databricks.v1+cell": {
     "cellMetadata": {},
     "inputWidgets": {},
     "nuid": "b33fcfa2-bc07-4643-9caf-e7c7f2672ca7",
     "showTitle": false,
     "title": ""
    }
   },
   "source": [
    "Para finalizar a aula iremos criar um DataFrame com métricas do ENEM agrupadas por município."
   ]
  },
  {
   "cell_type": "code",
   "execution_count": 60,
   "metadata": {
    "application/vnd.databricks.v1+cell": {
     "cellMetadata": {
      "byteLimit": 2048000,
      "rowLimit": 10000
     },
     "inputWidgets": {},
     "nuid": "569cdbbb-d63e-4300-aa9c-c8caa816be74",
     "showTitle": false,
     "title": ""
    }
   },
   "outputs": [],
   "source": [
    "capitais_brasileiras = [\n",
    "    \"Rio Branco\",\n",
    "    \"Maceió\",\n",
    "    \"Macapá\",\n",
    "    \"Manaus\",\n",
    "    \"Salvador\",\n",
    "    \"Fortaleza\",\n",
    "    \"Brasília\",\n",
    "    \"Vitória\",\n",
    "    \"Goiânia\",\n",
    "    \"São Luís\",\n",
    "    \"Cuiabá\",\n",
    "    \"Campo Grande\",\n",
    "    \"Belo Horizonte\",\n",
    "    \"Belém\",\n",
    "    \"João Pessoa\",\n",
    "    \"Curitiba\",\n",
    "    \"Recife\",\n",
    "    \"Teresina\",\n",
    "    \"Rio de Janeiro\",\n",
    "    \"Natal\",\n",
    "    \"Porto Alegre\",\n",
    "    \"Porto Velho\",\n",
    "    \"Boa Vista\",\n",
    "    \"Florianópolis\",\n",
    "    \"São Paulo\",\n",
    "    \"Aracaju\",\n",
    "    \"Palmas\"\n",
    "]"
   ]
  },
  {
   "cell_type": "code",
   "execution_count": 61,
   "metadata": {
    "application/vnd.databricks.v1+cell": {
     "cellMetadata": {
      "byteLimit": 2048000,
      "rowLimit": 10000
     },
     "inputWidgets": {},
     "nuid": "bcc2afc5-04a6-47ef-a502-c37fa2db230c",
     "showTitle": false,
     "title": ""
    }
   },
   "outputs": [],
   "source": [
    "df_enem = (\n",
    "    df\n",
    "\n",
    "    .withColumn('TP_SEXO_DESC', F.when(F.col('TP_SEXO') == 'M', 'Masculino')\n",
    "                  .when(F.col('TP_SEXO') == 'F', 'Feminino')\n",
    "                  .when(F.col('TP_SEXO').isNull(), 'missing')\n",
    "                  .otherwise(F.lit('other'))\n",
    "                  )\n",
    "    \n",
    "    .withColumn('TP_ESTADO_CIVIL_DESC', F.when(F.col('TP_ESTADO_CIVIL') == 0, 'Não informado')\n",
    "                  .when(F.col('TP_ESTADO_CIVIL') == 1, 'Solteiro(a)')\n",
    "                  .when(F.col('TP_ESTADO_CIVIL') == 2, 'Casado(a)/Mora com companheiro(a)')\n",
    "                  .when(F.col('TP_ESTADO_CIVIL') == 3, 'Divorciado(a)/Desquitado(a)/Separado(a)')\n",
    "                  .when(F.col('TP_ESTADO_CIVIL') == 4, 'Viúvo(a)')\n",
    "                  .when(F.col('TP_ESTADO_CIVIL').isNull(), 'missing')\n",
    "                  .otherwise(F.lit('other'))\n",
    "                  )\n",
    "    \n",
    "    .withColumn('TP_ESCOLA_DESC', F.when(F.col('TP_ESCOLA') == 1, 'Não Respondeu')\n",
    "                .when(F.col('TP_ESCOLA') == 2, 'Pública')\n",
    "                .when(F.col('TP_ESCOLA') == 3, 'Privada')\n",
    "                .when(F.col('TP_ESCOLA') == 4, 'Exterior')\n",
    "                .when(F.col('TP_ESCOLA').isNull(), 'missing')\n",
    "                .otherwise(F.lit('other'))\n",
    "                )\n",
    "    \n",
    "    .withColumn('IN_ABSTENCAO_MT', F.when(F.col('TP_PRESENCA_MT') == 0, 1).otherwise(F.lit(0))\n",
    "                )\n",
    "    \n",
    "    .withColumn('IN_ABSTENCAO_CN', F.when(F.col('TP_PRESENCA_CN') == 0, 1).otherwise(F.lit(0))\n",
    "                )\n",
    "    \n",
    "    .withColumn('IN_ABSTENCAO_CH', F.when(F.col('TP_PRESENCA_CH') == 0, 1).otherwise(F.lit(0))\n",
    "                )\n",
    "    \n",
    "    .withColumn('IN_ABSTENCAO_LC', F.when(F.col('TP_PRESENCA_LC') == 0, 1).otherwise(F.lit(0))\n",
    "                )\n",
    "    \n",
    "    .withColumn('IN_ABSTENCAO_01d', F.when((F.col('IN_ABSTENCAO_LC') == 1) & (F.col('IN_ABSTENCAO_CH') == 1), 1).otherwise(F.lit(0))\n",
    "                )\n",
    "    \n",
    "    .withColumn('IN_ABSTENCAO_02d', F.when((F.col('IN_ABSTENCAO_MT') == 1) & (F.col('IN_ABSTENCAO_CN') == 1), 1).otherwise(F.lit(0))\n",
    "                )\n",
    "    \n",
    "    .withColumn('IN_CAPITAL_PROVA', F.when(F.col('NO_MUNICIPIO_PROVA').isin(capitais_brasileiras), 1).otherwise(F.lit(0))\n",
    "                )\n",
    "\n",
    ")\n",
    "\n",
    "\n",
    "df_enem_metrics = (\n",
    "    df_enem\n",
    "    .groupBy('SG_UF_PROVA', 'CO_UF_PROVA', 'NO_MUNICIPIO_PROVA', 'CO_MUNICIPIO_PROVA', 'NU_ANO')\n",
    "    .agg(\n",
    "        F.count('NU_INSCRICAO').alias('NU_TOTAL_INSCRITOS'),\n",
    "\n",
    "        F.count(F.when(F.col('TP_SEXO') == 'F', F.lit(1))).alias('NU_RATIO_MULHER'),\n",
    "\n",
    "        F.count(F.when(F.col('TP_ESCOLA') == 1, F.lit(1))).alias('NU_ESCOLA_MISSING'),\n",
    "\n",
    "        F.count(F.when(F.col('TP_ESCOLA') == 2, F.lit(1))).alias('NU_ESCOLA_PUBLICA'),\n",
    "\n",
    "        F.count(F.when(F.col('TP_ESCOLA') == 3, F.lit(1))).alias('NU_ESCOLA_PRIVADA'),\n",
    "\n",
    "        F.count(F.when(F.col('TP_ESCOLA') == 4, F.lit(1))).alias('NU_ESCOLA_EXTERIOR'),\n",
    "\n",
    "        F.mean('IN_ABSTENCAO_01d').alias('NU_ABSTENCAO_01d'),\n",
    "\n",
    "        F.mean('IN_ABSTENCAO_02d').alias('NU_ABSTENCAO_02d'),\n",
    "\n",
    "        F.mean(\n",
    "            F.when(\n",
    "                (F.col('NU_NOTA_MT') != 0) \n",
    "                & (F.col('NU_NOTA_MT').isNotNull()), F.col('NU_NOTA_MT'))).alias('AVG_NOTA_MT'),\n",
    "        \n",
    "        F.mean(\n",
    "            F.when(\n",
    "                (F.col('NU_NOTA_CN') != 0) \n",
    "                & (F.col('NU_NOTA_CN').isNotNull()), F.col('NU_NOTA_CN'))).alias('AVG_NOTA_CN'),\n",
    "        \n",
    "        F.mean(\n",
    "            F.when(\n",
    "                (F.col('NU_NOTA_CH') != 0) \n",
    "                & (F.col('NU_NOTA_CH').isNotNull()), F.col('NU_NOTA_CH'))).alias('AVG_NOTA_CH'),\n",
    "        \n",
    "        F.mean(\n",
    "            F.when(\n",
    "                (F.col('NU_NOTA_LC') != 0) \n",
    "                & (F.col('NU_NOTA_LC').isNotNull()), F.col('NU_NOTA_LC'))).alias('AVG_NOTA_LC'),\n",
    "        )\n",
    "    .na.fill(value = -1, subset = ['AVG_NOTA_MT', 'AVG_NOTA_CN', 'AVG_NOTA_CH', 'AVG_NOTA_LC'])\n",
    ")"
   ]
  },
  {
   "cell_type": "code",
   "execution_count": 62,
   "metadata": {
    "application/vnd.databricks.v1+cell": {
     "cellMetadata": {
      "byteLimit": 2048000,
      "rowLimit": 10000
     },
     "inputWidgets": {},
     "nuid": "75963340-cb83-4d2a-be9f-dd17d9416100",
     "showTitle": false,
     "title": ""
    }
   },
   "outputs": [
    {
     "data": {
      "text/plain": [
       "DataFrame[SG_UF_PROVA: string, CO_UF_PROVA: int, NO_MUNICIPIO_PROVA: string, CO_MUNICIPIO_PROVA: int, NU_ANO: int, NU_TOTAL_INSCRITOS: bigint, NU_RATIO_MULHER: bigint, NU_ESCOLA_MISSING: bigint, NU_ESCOLA_PUBLICA: bigint, NU_ESCOLA_PRIVADA: bigint, NU_ESCOLA_EXTERIOR: bigint, NU_ABSTENCAO_01d: double, NU_ABSTENCAO_02d: double, AVG_NOTA_MT: double, AVG_NOTA_CN: double, AVG_NOTA_CH: double, AVG_NOTA_LC: double]"
      ]
     },
     "metadata": {},
     "output_type": "display_data"
    }
   ],
   "source": [
    "display(df_enem_metrics)"
   ]
  },
  {
   "cell_type": "code",
   "execution_count": 63,
   "metadata": {
    "application/vnd.databricks.v1+cell": {
     "cellMetadata": {
      "byteLimit": 2048000,
      "rowLimit": 10000
     },
     "inputWidgets": {},
     "nuid": "50f0b9e5-b739-4a4a-ad52-4b493ac36731",
     "showTitle": false,
     "title": ""
    }
   },
   "outputs": [
    {
     "ename": "Py4JJavaError",
     "evalue": "An error occurred while calling o711.saveAsTable.\n: java.lang.RuntimeException: java.io.FileNotFoundException: java.io.FileNotFoundException: HADOOP_HOME and hadoop.home.dir are unset. -see https://wiki.apache.org/hadoop/WindowsProblems\r\n\tat org.apache.hadoop.util.Shell.getWinUtilsPath(Shell.java:735)\r\n\tat org.apache.hadoop.util.Shell.getSetPermissionCommand(Shell.java:270)\r\n\tat org.apache.hadoop.util.Shell.getSetPermissionCommand(Shell.java:286)\r\n\tat org.apache.hadoop.fs.RawLocalFileSystem.setPermission(RawLocalFileSystem.java:978)\r\n\tat org.apache.hadoop.fs.RawLocalFileSystem.mkOneDirWithMode(RawLocalFileSystem.java:660)\r\n\tat org.apache.hadoop.fs.RawLocalFileSystem.mkdirsWithOptionalPermission(RawLocalFileSystem.java:700)\r\n\tat org.apache.hadoop.fs.RawLocalFileSystem.mkdirs(RawLocalFileSystem.java:672)\r\n\tat org.apache.hadoop.fs.RawLocalFileSystem.mkdirsWithOptionalPermission(RawLocalFileSystem.java:699)\r\n\tat org.apache.hadoop.fs.RawLocalFileSystem.mkdirs(RawLocalFileSystem.java:672)\r\n\tat org.apache.hadoop.fs.RawLocalFileSystem.mkdirsWithOptionalPermission(RawLocalFileSystem.java:699)\r\n\tat org.apache.hadoop.fs.RawLocalFileSystem.mkdirs(RawLocalFileSystem.java:672)\r\n\tat org.apache.hadoop.fs.ChecksumFileSystem.mkdirs(ChecksumFileSystem.java:788)\r\n\tat org.apache.hadoop.mapreduce.lib.output.FileOutputCommitter.setupJob(FileOutputCommitter.java:356)\r\n\tat org.apache.spark.internal.io.HadoopMapReduceCommitProtocol.setupJob(HadoopMapReduceCommitProtocol.scala:188)\r\n\tat org.apache.spark.sql.execution.datasources.FileFormatWriter$.writeAndCommit(FileFormatWriter.scala:269)\r\n\tat org.apache.spark.sql.execution.datasources.FileFormatWriter$.executeWrite(FileFormatWriter.scala:304)\r\n\tat org.apache.spark.sql.execution.datasources.FileFormatWriter$.write(FileFormatWriter.scala:190)\r\n\tat org.apache.spark.sql.execution.datasources.InsertIntoHadoopFsRelationCommand.run(InsertIntoHadoopFsRelationCommand.scala:190)\r\n\tat org.apache.spark.sql.execution.command.DataWritingCommandExec.sideEffectResult$lzycompute(commands.scala:113)\r\n\tat org.apache.spark.sql.execution.command.DataWritingCommandExec.sideEffectResult(commands.scala:111)\r\n\tat org.apache.spark.sql.execution.command.DataWritingCommandExec.executeCollect(commands.scala:125)\r\n\tat org.apache.spark.sql.execution.adaptive.AdaptiveSparkPlanExec.$anonfun$executeCollect$1(AdaptiveSparkPlanExec.scala:374)\r\n\tat org.apache.spark.sql.execution.adaptive.AdaptiveSparkPlanExec.withFinalPlanUpdate(AdaptiveSparkPlanExec.scala:402)\r\n\tat org.apache.spark.sql.execution.adaptive.AdaptiveSparkPlanExec.executeCollect(AdaptiveSparkPlanExec.scala:374)\r\n\tat org.apache.spark.sql.execution.QueryExecution$$anonfun$eagerlyExecuteCommands$1.$anonfun$applyOrElse$1(QueryExecution.scala:107)\r\n\tat org.apache.spark.sql.execution.SQLExecution$.$anonfun$withNewExecutionId$6(SQLExecution.scala:125)\r\n\tat org.apache.spark.sql.execution.SQLExecution$.withSQLConfPropagated(SQLExecution.scala:201)\r\n\tat org.apache.spark.sql.execution.SQLExecution$.$anonfun$withNewExecutionId$1(SQLExecution.scala:108)\r\n\tat org.apache.spark.sql.SparkSession.withActive(SparkSession.scala:900)\r\n\tat org.apache.spark.sql.execution.SQLExecution$.withNewExecutionId(SQLExecution.scala:66)\r\n\tat org.apache.spark.sql.execution.QueryExecution$$anonfun$eagerlyExecuteCommands$1.applyOrElse(QueryExecution.scala:107)\r\n\tat org.apache.spark.sql.execution.QueryExecution$$anonfun$eagerlyExecuteCommands$1.applyOrElse(QueryExecution.scala:98)\r\n\tat org.apache.spark.sql.catalyst.trees.TreeNode.$anonfun$transformDownWithPruning$1(TreeNode.scala:461)\r\n\tat org.apache.spark.sql.catalyst.trees.CurrentOrigin$.withOrigin(origin.scala:76)\r\n\tat org.apache.spark.sql.catalyst.trees.TreeNode.transformDownWithPruning(TreeNode.scala:461)\r\n\tat org.apache.spark.sql.catalyst.plans.logical.LogicalPlan.org$apache$spark$sql$catalyst$plans$logical$AnalysisHelper$$super$transformDownWithPruning(LogicalPlan.scala:32)\r\n\tat org.apache.spark.sql.catalyst.plans.logical.AnalysisHelper.transformDownWithPruning(AnalysisHelper.scala:267)\r\n\tat org.apache.spark.sql.catalyst.plans.logical.AnalysisHelper.transformDownWithPruning$(AnalysisHelper.scala:263)\r\n\tat org.apache.spark.sql.catalyst.plans.logical.LogicalPlan.transformDownWithPruning(LogicalPlan.scala:32)\r\n\tat org.apache.spark.sql.catalyst.plans.logical.LogicalPlan.transformDownWithPruning(LogicalPlan.scala:32)\r\n\tat org.apache.spark.sql.catalyst.trees.TreeNode.transformDown(TreeNode.scala:437)\r\n\tat org.apache.spark.sql.execution.QueryExecution.eagerlyExecuteCommands(QueryExecution.scala:98)\r\n\tat org.apache.spark.sql.execution.QueryExecution.commandExecuted$lzycompute(QueryExecution.scala:85)\r\n\tat org.apache.spark.sql.execution.QueryExecution.commandExecuted(QueryExecution.scala:83)\r\n\tat org.apache.spark.sql.execution.QueryExecution.assertCommandExecuted(QueryExecution.scala:142)\r\n\tat org.apache.spark.sql.execution.datasources.DataSource.writeAndRead(DataSource.scala:511)\r\n\tat org.apache.spark.sql.execution.command.CreateDataSourceTableAsSelectCommand.saveDataIntoTable(createDataSourceTables.scala:229)\r\n\tat org.apache.spark.sql.execution.command.CreateDataSourceTableAsSelectCommand.run(createDataSourceTables.scala:183)\r\n\tat org.apache.spark.sql.execution.command.ExecutedCommandExec.sideEffectResult$lzycompute(commands.scala:75)\r\n\tat org.apache.spark.sql.execution.command.ExecutedCommandExec.sideEffectResult(commands.scala:73)\r\n\tat org.apache.spark.sql.execution.command.ExecutedCommandExec.executeCollect(commands.scala:84)\r\n\tat org.apache.spark.sql.execution.QueryExecution$$anonfun$eagerlyExecuteCommands$1.$anonfun$applyOrElse$1(QueryExecution.scala:107)\r\n\tat org.apache.spark.sql.execution.SQLExecution$.$anonfun$withNewExecutionId$6(SQLExecution.scala:125)\r\n\tat org.apache.spark.sql.execution.SQLExecution$.withSQLConfPropagated(SQLExecution.scala:201)\r\n\tat org.apache.spark.sql.execution.SQLExecution$.$anonfun$withNewExecutionId$1(SQLExecution.scala:108)\r\n\tat org.apache.spark.sql.SparkSession.withActive(SparkSession.scala:900)\r\n\tat org.apache.spark.sql.execution.SQLExecution$.withNewExecutionId(SQLExecution.scala:66)\r\n\tat org.apache.spark.sql.execution.QueryExecution$$anonfun$eagerlyExecuteCommands$1.applyOrElse(QueryExecution.scala:107)\r\n\tat org.apache.spark.sql.execution.QueryExecution$$anonfun$eagerlyExecuteCommands$1.applyOrElse(QueryExecution.scala:98)\r\n\tat org.apache.spark.sql.catalyst.trees.TreeNode.$anonfun$transformDownWithPruning$1(TreeNode.scala:461)\r\n\tat org.apache.spark.sql.catalyst.trees.CurrentOrigin$.withOrigin(origin.scala:76)\r\n\tat org.apache.spark.sql.catalyst.trees.TreeNode.transformDownWithPruning(TreeNode.scala:461)\r\n\tat org.apache.spark.sql.catalyst.plans.logical.LogicalPlan.org$apache$spark$sql$catalyst$plans$logical$AnalysisHelper$$super$transformDownWithPruning(LogicalPlan.scala:32)\r\n\tat org.apache.spark.sql.catalyst.plans.logical.AnalysisHelper.transformDownWithPruning(AnalysisHelper.scala:267)\r\n\tat org.apache.spark.sql.catalyst.plans.logical.AnalysisHelper.transformDownWithPruning$(AnalysisHelper.scala:263)\r\n\tat org.apache.spark.sql.catalyst.plans.logical.LogicalPlan.transformDownWithPruning(LogicalPlan.scala:32)\r\n\tat org.apache.spark.sql.catalyst.plans.logical.LogicalPlan.transformDownWithPruning(LogicalPlan.scala:32)\r\n\tat org.apache.spark.sql.catalyst.trees.TreeNode.transformDown(TreeNode.scala:437)\r\n\tat org.apache.spark.sql.execution.QueryExecution.eagerlyExecuteCommands(QueryExecution.scala:98)\r\n\tat org.apache.spark.sql.execution.QueryExecution.commandExecuted$lzycompute(QueryExecution.scala:85)\r\n\tat org.apache.spark.sql.execution.QueryExecution.commandExecuted(QueryExecution.scala:83)\r\n\tat org.apache.spark.sql.execution.QueryExecution.assertCommandExecuted(QueryExecution.scala:142)\r\n\tat org.apache.spark.sql.DataFrameWriter.runCommand(DataFrameWriter.scala:859)\r\n\tat org.apache.spark.sql.DataFrameWriter.createTable(DataFrameWriter.scala:700)\r\n\tat org.apache.spark.sql.DataFrameWriter.saveAsTable(DataFrameWriter.scala:678)\r\n\tat org.apache.spark.sql.DataFrameWriter.saveAsTable(DataFrameWriter.scala:571)\r\n\tat java.base/jdk.internal.reflect.NativeMethodAccessorImpl.invoke0(Native Method)\r\n\tat java.base/jdk.internal.reflect.NativeMethodAccessorImpl.invoke(NativeMethodAccessorImpl.java:75)\r\n\tat java.base/jdk.internal.reflect.DelegatingMethodAccessorImpl.invoke(DelegatingMethodAccessorImpl.java:52)\r\n\tat java.base/java.lang.reflect.Method.invoke(Method.java:580)\r\n\tat py4j.reflection.MethodInvoker.invoke(MethodInvoker.java:244)\r\n\tat py4j.reflection.ReflectionEngine.invoke(ReflectionEngine.java:374)\r\n\tat py4j.Gateway.invoke(Gateway.java:282)\r\n\tat py4j.commands.AbstractCommand.invokeMethod(AbstractCommand.java:132)\r\n\tat py4j.commands.CallCommand.execute(CallCommand.java:79)\r\n\tat py4j.ClientServerConnection.waitForCommands(ClientServerConnection.java:182)\r\n\tat py4j.ClientServerConnection.run(ClientServerConnection.java:106)\r\n\tat java.base/java.lang.Thread.run(Thread.java:1583)\r\nCaused by: java.io.FileNotFoundException: java.io.FileNotFoundException: HADOOP_HOME and hadoop.home.dir are unset. -see https://wiki.apache.org/hadoop/WindowsProblems\r\n\tat org.apache.hadoop.util.Shell.fileNotFoundException(Shell.java:547)\r\n\tat org.apache.hadoop.util.Shell.getHadoopHomeDir(Shell.java:568)\r\n\tat org.apache.hadoop.util.Shell.getQualifiedBin(Shell.java:591)\r\n\tat org.apache.hadoop.util.Shell.<clinit>(Shell.java:688)\r\n\tat org.apache.hadoop.util.StringUtils.<clinit>(StringUtils.java:79)\r\n\tat org.apache.hadoop.conf.Configuration.getTimeDurationHelper(Configuration.java:1907)\r\n\tat org.apache.hadoop.conf.Configuration.getTimeDuration(Configuration.java:1867)\r\n\tat org.apache.hadoop.conf.Configuration.getTimeDuration(Configuration.java:1840)\r\n\tat org.apache.hadoop.util.ShutdownHookManager.getShutdownTimeout(ShutdownHookManager.java:183)\r\n\tat org.apache.hadoop.util.ShutdownHookManager$HookEntry.<init>(ShutdownHookManager.java:207)\r\n\tat org.apache.hadoop.util.ShutdownHookManager.addShutdownHook(ShutdownHookManager.java:304)\r\n\tat org.apache.spark.util.SparkShutdownHookManager.install(ShutdownHookManager.scala:181)\r\n\tat org.apache.spark.util.ShutdownHookManager$.shutdownHooks$lzycompute(ShutdownHookManager.scala:50)\r\n\tat org.apache.spark.util.ShutdownHookManager$.shutdownHooks(ShutdownHookManager.scala:48)\r\n\tat org.apache.spark.util.ShutdownHookManager$.addShutdownHook(ShutdownHookManager.scala:153)\r\n\tat org.apache.spark.util.ShutdownHookManager$.<init>(ShutdownHookManager.scala:58)\r\n\tat org.apache.spark.util.ShutdownHookManager$.<clinit>(ShutdownHookManager.scala)\r\n\tat org.apache.spark.util.Utils$.createTempDir(Utils.scala:242)\r\n\tat org.apache.spark.util.SparkFileUtils.createTempDir(SparkFileUtils.scala:103)\r\n\tat org.apache.spark.util.SparkFileUtils.createTempDir$(SparkFileUtils.scala:102)\r\n\tat org.apache.spark.util.Utils$.createTempDir(Utils.scala:94)\r\n\tat org.apache.spark.deploy.SparkSubmit.prepareSubmitEnvironment(SparkSubmit.scala:372)\r\n\tat org.apache.spark.deploy.SparkSubmit.org$apache$spark$deploy$SparkSubmit$$runMain(SparkSubmit.scala:964)\r\n\tat org.apache.spark.deploy.SparkSubmit.doRunMain$1(SparkSubmit.scala:194)\r\n\tat org.apache.spark.deploy.SparkSubmit.submit(SparkSubmit.scala:217)\r\n\tat org.apache.spark.deploy.SparkSubmit.doSubmit(SparkSubmit.scala:91)\r\n\tat org.apache.spark.deploy.SparkSubmit$$anon$2.doSubmit(SparkSubmit.scala:1120)\r\n\tat org.apache.spark.deploy.SparkSubmit$.main(SparkSubmit.scala:1129)\r\n\tat org.apache.spark.deploy.SparkSubmit.main(SparkSubmit.scala)\r\nCaused by: java.io.FileNotFoundException: HADOOP_HOME and hadoop.home.dir are unset.\r\n\tat org.apache.hadoop.util.Shell.checkHadoopHomeInner(Shell.java:467)\r\n\tat org.apache.hadoop.util.Shell.checkHadoopHome(Shell.java:438)\r\n\tat org.apache.hadoop.util.Shell.<clinit>(Shell.java:515)\r\n\t... 25 more\r\n",
     "output_type": "error",
     "traceback": [
      "\u001b[1;31m---------------------------------------------------------------------------\u001b[0m",
      "\u001b[1;31mPy4JJavaError\u001b[0m                             Traceback (most recent call last)",
      "Cell \u001b[1;32mIn[63], line 1\u001b[0m\n\u001b[1;32m----> 1\u001b[0m df_enem_metrics\u001b[38;5;241m.\u001b[39mwrite\u001b[38;5;241m.\u001b[39msaveAsTable(\n\u001b[0;32m      2\u001b[0m     name \u001b[38;5;241m=\u001b[39m \u001b[38;5;124m'\u001b[39m\u001b[38;5;124mdefault.microdados_enem_metrics\u001b[39m\u001b[38;5;124m'\u001b[39m,\n\u001b[0;32m      3\u001b[0m     mode \u001b[38;5;241m=\u001b[39m \u001b[38;5;124m'\u001b[39m\u001b[38;5;124moverwrite\u001b[39m\u001b[38;5;124m'\u001b[39m\n\u001b[0;32m      4\u001b[0m     )\n",
      "File \u001b[1;32mD:\\ProgramData\\anaconda3\\Lib\\site-packages\\pyspark\\sql\\readwriter.py:1586\u001b[0m, in \u001b[0;36mDataFrameWriter.saveAsTable\u001b[1;34m(self, name, format, mode, partitionBy, **options)\u001b[0m\n\u001b[0;32m   1584\u001b[0m \u001b[38;5;28;01mif\u001b[39;00m \u001b[38;5;28mformat\u001b[39m \u001b[38;5;129;01mis\u001b[39;00m \u001b[38;5;129;01mnot\u001b[39;00m \u001b[38;5;28;01mNone\u001b[39;00m:\n\u001b[0;32m   1585\u001b[0m     \u001b[38;5;28mself\u001b[39m\u001b[38;5;241m.\u001b[39mformat(\u001b[38;5;28mformat\u001b[39m)\n\u001b[1;32m-> 1586\u001b[0m \u001b[38;5;28mself\u001b[39m\u001b[38;5;241m.\u001b[39m_jwrite\u001b[38;5;241m.\u001b[39msaveAsTable(name)\n",
      "File \u001b[1;32mD:\\ProgramData\\anaconda3\\Lib\\site-packages\\py4j\\java_gateway.py:1322\u001b[0m, in \u001b[0;36mJavaMember.__call__\u001b[1;34m(self, *args)\u001b[0m\n\u001b[0;32m   1316\u001b[0m command \u001b[38;5;241m=\u001b[39m proto\u001b[38;5;241m.\u001b[39mCALL_COMMAND_NAME \u001b[38;5;241m+\u001b[39m\\\n\u001b[0;32m   1317\u001b[0m     \u001b[38;5;28mself\u001b[39m\u001b[38;5;241m.\u001b[39mcommand_header \u001b[38;5;241m+\u001b[39m\\\n\u001b[0;32m   1318\u001b[0m     args_command \u001b[38;5;241m+\u001b[39m\\\n\u001b[0;32m   1319\u001b[0m     proto\u001b[38;5;241m.\u001b[39mEND_COMMAND_PART\n\u001b[0;32m   1321\u001b[0m answer \u001b[38;5;241m=\u001b[39m \u001b[38;5;28mself\u001b[39m\u001b[38;5;241m.\u001b[39mgateway_client\u001b[38;5;241m.\u001b[39msend_command(command)\n\u001b[1;32m-> 1322\u001b[0m return_value \u001b[38;5;241m=\u001b[39m get_return_value(\n\u001b[0;32m   1323\u001b[0m     answer, \u001b[38;5;28mself\u001b[39m\u001b[38;5;241m.\u001b[39mgateway_client, \u001b[38;5;28mself\u001b[39m\u001b[38;5;241m.\u001b[39mtarget_id, \u001b[38;5;28mself\u001b[39m\u001b[38;5;241m.\u001b[39mname)\n\u001b[0;32m   1325\u001b[0m \u001b[38;5;28;01mfor\u001b[39;00m temp_arg \u001b[38;5;129;01min\u001b[39;00m temp_args:\n\u001b[0;32m   1326\u001b[0m     \u001b[38;5;28;01mif\u001b[39;00m \u001b[38;5;28mhasattr\u001b[39m(temp_arg, \u001b[38;5;124m\"\u001b[39m\u001b[38;5;124m_detach\u001b[39m\u001b[38;5;124m\"\u001b[39m):\n",
      "File \u001b[1;32mD:\\ProgramData\\anaconda3\\Lib\\site-packages\\pyspark\\errors\\exceptions\\captured.py:179\u001b[0m, in \u001b[0;36mcapture_sql_exception.<locals>.deco\u001b[1;34m(*a, **kw)\u001b[0m\n\u001b[0;32m    177\u001b[0m \u001b[38;5;28;01mdef\u001b[39;00m \u001b[38;5;21mdeco\u001b[39m(\u001b[38;5;241m*\u001b[39ma: Any, \u001b[38;5;241m*\u001b[39m\u001b[38;5;241m*\u001b[39mkw: Any) \u001b[38;5;241m-\u001b[39m\u001b[38;5;241m>\u001b[39m Any:\n\u001b[0;32m    178\u001b[0m     \u001b[38;5;28;01mtry\u001b[39;00m:\n\u001b[1;32m--> 179\u001b[0m         \u001b[38;5;28;01mreturn\u001b[39;00m f(\u001b[38;5;241m*\u001b[39ma, \u001b[38;5;241m*\u001b[39m\u001b[38;5;241m*\u001b[39mkw)\n\u001b[0;32m    180\u001b[0m     \u001b[38;5;28;01mexcept\u001b[39;00m Py4JJavaError \u001b[38;5;28;01mas\u001b[39;00m e:\n\u001b[0;32m    181\u001b[0m         converted \u001b[38;5;241m=\u001b[39m convert_exception(e\u001b[38;5;241m.\u001b[39mjava_exception)\n",
      "File \u001b[1;32mD:\\ProgramData\\anaconda3\\Lib\\site-packages\\py4j\\protocol.py:326\u001b[0m, in \u001b[0;36mget_return_value\u001b[1;34m(answer, gateway_client, target_id, name)\u001b[0m\n\u001b[0;32m    324\u001b[0m value \u001b[38;5;241m=\u001b[39m OUTPUT_CONVERTER[\u001b[38;5;28mtype\u001b[39m](answer[\u001b[38;5;241m2\u001b[39m:], gateway_client)\n\u001b[0;32m    325\u001b[0m \u001b[38;5;28;01mif\u001b[39;00m answer[\u001b[38;5;241m1\u001b[39m] \u001b[38;5;241m==\u001b[39m REFERENCE_TYPE:\n\u001b[1;32m--> 326\u001b[0m     \u001b[38;5;28;01mraise\u001b[39;00m Py4JJavaError(\n\u001b[0;32m    327\u001b[0m         \u001b[38;5;124m\"\u001b[39m\u001b[38;5;124mAn error occurred while calling \u001b[39m\u001b[38;5;132;01m{0}\u001b[39;00m\u001b[38;5;132;01m{1}\u001b[39;00m\u001b[38;5;132;01m{2}\u001b[39;00m\u001b[38;5;124m.\u001b[39m\u001b[38;5;130;01m\\n\u001b[39;00m\u001b[38;5;124m\"\u001b[39m\u001b[38;5;241m.\u001b[39m\n\u001b[0;32m    328\u001b[0m         \u001b[38;5;28mformat\u001b[39m(target_id, \u001b[38;5;124m\"\u001b[39m\u001b[38;5;124m.\u001b[39m\u001b[38;5;124m\"\u001b[39m, name), value)\n\u001b[0;32m    329\u001b[0m \u001b[38;5;28;01melse\u001b[39;00m:\n\u001b[0;32m    330\u001b[0m     \u001b[38;5;28;01mraise\u001b[39;00m Py4JError(\n\u001b[0;32m    331\u001b[0m         \u001b[38;5;124m\"\u001b[39m\u001b[38;5;124mAn error occurred while calling \u001b[39m\u001b[38;5;132;01m{0}\u001b[39;00m\u001b[38;5;132;01m{1}\u001b[39;00m\u001b[38;5;132;01m{2}\u001b[39;00m\u001b[38;5;124m. Trace:\u001b[39m\u001b[38;5;130;01m\\n\u001b[39;00m\u001b[38;5;132;01m{3}\u001b[39;00m\u001b[38;5;130;01m\\n\u001b[39;00m\u001b[38;5;124m\"\u001b[39m\u001b[38;5;241m.\u001b[39m\n\u001b[0;32m    332\u001b[0m         \u001b[38;5;28mformat\u001b[39m(target_id, \u001b[38;5;124m\"\u001b[39m\u001b[38;5;124m.\u001b[39m\u001b[38;5;124m\"\u001b[39m, name, value))\n",
      "\u001b[1;31mPy4JJavaError\u001b[0m: An error occurred while calling o711.saveAsTable.\n: java.lang.RuntimeException: java.io.FileNotFoundException: java.io.FileNotFoundException: HADOOP_HOME and hadoop.home.dir are unset. -see https://wiki.apache.org/hadoop/WindowsProblems\r\n\tat org.apache.hadoop.util.Shell.getWinUtilsPath(Shell.java:735)\r\n\tat org.apache.hadoop.util.Shell.getSetPermissionCommand(Shell.java:270)\r\n\tat org.apache.hadoop.util.Shell.getSetPermissionCommand(Shell.java:286)\r\n\tat org.apache.hadoop.fs.RawLocalFileSystem.setPermission(RawLocalFileSystem.java:978)\r\n\tat org.apache.hadoop.fs.RawLocalFileSystem.mkOneDirWithMode(RawLocalFileSystem.java:660)\r\n\tat org.apache.hadoop.fs.RawLocalFileSystem.mkdirsWithOptionalPermission(RawLocalFileSystem.java:700)\r\n\tat org.apache.hadoop.fs.RawLocalFileSystem.mkdirs(RawLocalFileSystem.java:672)\r\n\tat org.apache.hadoop.fs.RawLocalFileSystem.mkdirsWithOptionalPermission(RawLocalFileSystem.java:699)\r\n\tat org.apache.hadoop.fs.RawLocalFileSystem.mkdirs(RawLocalFileSystem.java:672)\r\n\tat org.apache.hadoop.fs.RawLocalFileSystem.mkdirsWithOptionalPermission(RawLocalFileSystem.java:699)\r\n\tat org.apache.hadoop.fs.RawLocalFileSystem.mkdirs(RawLocalFileSystem.java:672)\r\n\tat org.apache.hadoop.fs.ChecksumFileSystem.mkdirs(ChecksumFileSystem.java:788)\r\n\tat org.apache.hadoop.mapreduce.lib.output.FileOutputCommitter.setupJob(FileOutputCommitter.java:356)\r\n\tat org.apache.spark.internal.io.HadoopMapReduceCommitProtocol.setupJob(HadoopMapReduceCommitProtocol.scala:188)\r\n\tat org.apache.spark.sql.execution.datasources.FileFormatWriter$.writeAndCommit(FileFormatWriter.scala:269)\r\n\tat org.apache.spark.sql.execution.datasources.FileFormatWriter$.executeWrite(FileFormatWriter.scala:304)\r\n\tat org.apache.spark.sql.execution.datasources.FileFormatWriter$.write(FileFormatWriter.scala:190)\r\n\tat org.apache.spark.sql.execution.datasources.InsertIntoHadoopFsRelationCommand.run(InsertIntoHadoopFsRelationCommand.scala:190)\r\n\tat org.apache.spark.sql.execution.command.DataWritingCommandExec.sideEffectResult$lzycompute(commands.scala:113)\r\n\tat org.apache.spark.sql.execution.command.DataWritingCommandExec.sideEffectResult(commands.scala:111)\r\n\tat org.apache.spark.sql.execution.command.DataWritingCommandExec.executeCollect(commands.scala:125)\r\n\tat org.apache.spark.sql.execution.adaptive.AdaptiveSparkPlanExec.$anonfun$executeCollect$1(AdaptiveSparkPlanExec.scala:374)\r\n\tat org.apache.spark.sql.execution.adaptive.AdaptiveSparkPlanExec.withFinalPlanUpdate(AdaptiveSparkPlanExec.scala:402)\r\n\tat org.apache.spark.sql.execution.adaptive.AdaptiveSparkPlanExec.executeCollect(AdaptiveSparkPlanExec.scala:374)\r\n\tat org.apache.spark.sql.execution.QueryExecution$$anonfun$eagerlyExecuteCommands$1.$anonfun$applyOrElse$1(QueryExecution.scala:107)\r\n\tat org.apache.spark.sql.execution.SQLExecution$.$anonfun$withNewExecutionId$6(SQLExecution.scala:125)\r\n\tat org.apache.spark.sql.execution.SQLExecution$.withSQLConfPropagated(SQLExecution.scala:201)\r\n\tat org.apache.spark.sql.execution.SQLExecution$.$anonfun$withNewExecutionId$1(SQLExecution.scala:108)\r\n\tat org.apache.spark.sql.SparkSession.withActive(SparkSession.scala:900)\r\n\tat org.apache.spark.sql.execution.SQLExecution$.withNewExecutionId(SQLExecution.scala:66)\r\n\tat org.apache.spark.sql.execution.QueryExecution$$anonfun$eagerlyExecuteCommands$1.applyOrElse(QueryExecution.scala:107)\r\n\tat org.apache.spark.sql.execution.QueryExecution$$anonfun$eagerlyExecuteCommands$1.applyOrElse(QueryExecution.scala:98)\r\n\tat org.apache.spark.sql.catalyst.trees.TreeNode.$anonfun$transformDownWithPruning$1(TreeNode.scala:461)\r\n\tat org.apache.spark.sql.catalyst.trees.CurrentOrigin$.withOrigin(origin.scala:76)\r\n\tat org.apache.spark.sql.catalyst.trees.TreeNode.transformDownWithPruning(TreeNode.scala:461)\r\n\tat org.apache.spark.sql.catalyst.plans.logical.LogicalPlan.org$apache$spark$sql$catalyst$plans$logical$AnalysisHelper$$super$transformDownWithPruning(LogicalPlan.scala:32)\r\n\tat org.apache.spark.sql.catalyst.plans.logical.AnalysisHelper.transformDownWithPruning(AnalysisHelper.scala:267)\r\n\tat org.apache.spark.sql.catalyst.plans.logical.AnalysisHelper.transformDownWithPruning$(AnalysisHelper.scala:263)\r\n\tat org.apache.spark.sql.catalyst.plans.logical.LogicalPlan.transformDownWithPruning(LogicalPlan.scala:32)\r\n\tat org.apache.spark.sql.catalyst.plans.logical.LogicalPlan.transformDownWithPruning(LogicalPlan.scala:32)\r\n\tat org.apache.spark.sql.catalyst.trees.TreeNode.transformDown(TreeNode.scala:437)\r\n\tat org.apache.spark.sql.execution.QueryExecution.eagerlyExecuteCommands(QueryExecution.scala:98)\r\n\tat org.apache.spark.sql.execution.QueryExecution.commandExecuted$lzycompute(QueryExecution.scala:85)\r\n\tat org.apache.spark.sql.execution.QueryExecution.commandExecuted(QueryExecution.scala:83)\r\n\tat org.apache.spark.sql.execution.QueryExecution.assertCommandExecuted(QueryExecution.scala:142)\r\n\tat org.apache.spark.sql.execution.datasources.DataSource.writeAndRead(DataSource.scala:511)\r\n\tat org.apache.spark.sql.execution.command.CreateDataSourceTableAsSelectCommand.saveDataIntoTable(createDataSourceTables.scala:229)\r\n\tat org.apache.spark.sql.execution.command.CreateDataSourceTableAsSelectCommand.run(createDataSourceTables.scala:183)\r\n\tat org.apache.spark.sql.execution.command.ExecutedCommandExec.sideEffectResult$lzycompute(commands.scala:75)\r\n\tat org.apache.spark.sql.execution.command.ExecutedCommandExec.sideEffectResult(commands.scala:73)\r\n\tat org.apache.spark.sql.execution.command.ExecutedCommandExec.executeCollect(commands.scala:84)\r\n\tat org.apache.spark.sql.execution.QueryExecution$$anonfun$eagerlyExecuteCommands$1.$anonfun$applyOrElse$1(QueryExecution.scala:107)\r\n\tat org.apache.spark.sql.execution.SQLExecution$.$anonfun$withNewExecutionId$6(SQLExecution.scala:125)\r\n\tat org.apache.spark.sql.execution.SQLExecution$.withSQLConfPropagated(SQLExecution.scala:201)\r\n\tat org.apache.spark.sql.execution.SQLExecution$.$anonfun$withNewExecutionId$1(SQLExecution.scala:108)\r\n\tat org.apache.spark.sql.SparkSession.withActive(SparkSession.scala:900)\r\n\tat org.apache.spark.sql.execution.SQLExecution$.withNewExecutionId(SQLExecution.scala:66)\r\n\tat org.apache.spark.sql.execution.QueryExecution$$anonfun$eagerlyExecuteCommands$1.applyOrElse(QueryExecution.scala:107)\r\n\tat org.apache.spark.sql.execution.QueryExecution$$anonfun$eagerlyExecuteCommands$1.applyOrElse(QueryExecution.scala:98)\r\n\tat org.apache.spark.sql.catalyst.trees.TreeNode.$anonfun$transformDownWithPruning$1(TreeNode.scala:461)\r\n\tat org.apache.spark.sql.catalyst.trees.CurrentOrigin$.withOrigin(origin.scala:76)\r\n\tat org.apache.spark.sql.catalyst.trees.TreeNode.transformDownWithPruning(TreeNode.scala:461)\r\n\tat org.apache.spark.sql.catalyst.plans.logical.LogicalPlan.org$apache$spark$sql$catalyst$plans$logical$AnalysisHelper$$super$transformDownWithPruning(LogicalPlan.scala:32)\r\n\tat org.apache.spark.sql.catalyst.plans.logical.AnalysisHelper.transformDownWithPruning(AnalysisHelper.scala:267)\r\n\tat org.apache.spark.sql.catalyst.plans.logical.AnalysisHelper.transformDownWithPruning$(AnalysisHelper.scala:263)\r\n\tat org.apache.spark.sql.catalyst.plans.logical.LogicalPlan.transformDownWithPruning(LogicalPlan.scala:32)\r\n\tat org.apache.spark.sql.catalyst.plans.logical.LogicalPlan.transformDownWithPruning(LogicalPlan.scala:32)\r\n\tat org.apache.spark.sql.catalyst.trees.TreeNode.transformDown(TreeNode.scala:437)\r\n\tat org.apache.spark.sql.execution.QueryExecution.eagerlyExecuteCommands(QueryExecution.scala:98)\r\n\tat org.apache.spark.sql.execution.QueryExecution.commandExecuted$lzycompute(QueryExecution.scala:85)\r\n\tat org.apache.spark.sql.execution.QueryExecution.commandExecuted(QueryExecution.scala:83)\r\n\tat org.apache.spark.sql.execution.QueryExecution.assertCommandExecuted(QueryExecution.scala:142)\r\n\tat org.apache.spark.sql.DataFrameWriter.runCommand(DataFrameWriter.scala:859)\r\n\tat org.apache.spark.sql.DataFrameWriter.createTable(DataFrameWriter.scala:700)\r\n\tat org.apache.spark.sql.DataFrameWriter.saveAsTable(DataFrameWriter.scala:678)\r\n\tat org.apache.spark.sql.DataFrameWriter.saveAsTable(DataFrameWriter.scala:571)\r\n\tat java.base/jdk.internal.reflect.NativeMethodAccessorImpl.invoke0(Native Method)\r\n\tat java.base/jdk.internal.reflect.NativeMethodAccessorImpl.invoke(NativeMethodAccessorImpl.java:75)\r\n\tat java.base/jdk.internal.reflect.DelegatingMethodAccessorImpl.invoke(DelegatingMethodAccessorImpl.java:52)\r\n\tat java.base/java.lang.reflect.Method.invoke(Method.java:580)\r\n\tat py4j.reflection.MethodInvoker.invoke(MethodInvoker.java:244)\r\n\tat py4j.reflection.ReflectionEngine.invoke(ReflectionEngine.java:374)\r\n\tat py4j.Gateway.invoke(Gateway.java:282)\r\n\tat py4j.commands.AbstractCommand.invokeMethod(AbstractCommand.java:132)\r\n\tat py4j.commands.CallCommand.execute(CallCommand.java:79)\r\n\tat py4j.ClientServerConnection.waitForCommands(ClientServerConnection.java:182)\r\n\tat py4j.ClientServerConnection.run(ClientServerConnection.java:106)\r\n\tat java.base/java.lang.Thread.run(Thread.java:1583)\r\nCaused by: java.io.FileNotFoundException: java.io.FileNotFoundException: HADOOP_HOME and hadoop.home.dir are unset. -see https://wiki.apache.org/hadoop/WindowsProblems\r\n\tat org.apache.hadoop.util.Shell.fileNotFoundException(Shell.java:547)\r\n\tat org.apache.hadoop.util.Shell.getHadoopHomeDir(Shell.java:568)\r\n\tat org.apache.hadoop.util.Shell.getQualifiedBin(Shell.java:591)\r\n\tat org.apache.hadoop.util.Shell.<clinit>(Shell.java:688)\r\n\tat org.apache.hadoop.util.StringUtils.<clinit>(StringUtils.java:79)\r\n\tat org.apache.hadoop.conf.Configuration.getTimeDurationHelper(Configuration.java:1907)\r\n\tat org.apache.hadoop.conf.Configuration.getTimeDuration(Configuration.java:1867)\r\n\tat org.apache.hadoop.conf.Configuration.getTimeDuration(Configuration.java:1840)\r\n\tat org.apache.hadoop.util.ShutdownHookManager.getShutdownTimeout(ShutdownHookManager.java:183)\r\n\tat org.apache.hadoop.util.ShutdownHookManager$HookEntry.<init>(ShutdownHookManager.java:207)\r\n\tat org.apache.hadoop.util.ShutdownHookManager.addShutdownHook(ShutdownHookManager.java:304)\r\n\tat org.apache.spark.util.SparkShutdownHookManager.install(ShutdownHookManager.scala:181)\r\n\tat org.apache.spark.util.ShutdownHookManager$.shutdownHooks$lzycompute(ShutdownHookManager.scala:50)\r\n\tat org.apache.spark.util.ShutdownHookManager$.shutdownHooks(ShutdownHookManager.scala:48)\r\n\tat org.apache.spark.util.ShutdownHookManager$.addShutdownHook(ShutdownHookManager.scala:153)\r\n\tat org.apache.spark.util.ShutdownHookManager$.<init>(ShutdownHookManager.scala:58)\r\n\tat org.apache.spark.util.ShutdownHookManager$.<clinit>(ShutdownHookManager.scala)\r\n\tat org.apache.spark.util.Utils$.createTempDir(Utils.scala:242)\r\n\tat org.apache.spark.util.SparkFileUtils.createTempDir(SparkFileUtils.scala:103)\r\n\tat org.apache.spark.util.SparkFileUtils.createTempDir$(SparkFileUtils.scala:102)\r\n\tat org.apache.spark.util.Utils$.createTempDir(Utils.scala:94)\r\n\tat org.apache.spark.deploy.SparkSubmit.prepareSubmitEnvironment(SparkSubmit.scala:372)\r\n\tat org.apache.spark.deploy.SparkSubmit.org$apache$spark$deploy$SparkSubmit$$runMain(SparkSubmit.scala:964)\r\n\tat org.apache.spark.deploy.SparkSubmit.doRunMain$1(SparkSubmit.scala:194)\r\n\tat org.apache.spark.deploy.SparkSubmit.submit(SparkSubmit.scala:217)\r\n\tat org.apache.spark.deploy.SparkSubmit.doSubmit(SparkSubmit.scala:91)\r\n\tat org.apache.spark.deploy.SparkSubmit$$anon$2.doSubmit(SparkSubmit.scala:1120)\r\n\tat org.apache.spark.deploy.SparkSubmit$.main(SparkSubmit.scala:1129)\r\n\tat org.apache.spark.deploy.SparkSubmit.main(SparkSubmit.scala)\r\nCaused by: java.io.FileNotFoundException: HADOOP_HOME and hadoop.home.dir are unset.\r\n\tat org.apache.hadoop.util.Shell.checkHadoopHomeInner(Shell.java:467)\r\n\tat org.apache.hadoop.util.Shell.checkHadoopHome(Shell.java:438)\r\n\tat org.apache.hadoop.util.Shell.<clinit>(Shell.java:515)\r\n\t... 25 more\r\n"
     ]
    }
   ],
   "source": [
    "df_enem_metrics.write.saveAsTable(\n",
    "    name = 'default.microdados_enem_metrics',\n",
    "    mode = 'overwrite'\n",
    "    )"
   ]
  },
  {
   "cell_type": "code",
   "execution_count": 0,
   "metadata": {
    "application/vnd.databricks.v1+cell": {
     "cellMetadata": {
      "byteLimit": 2048000,
      "rowLimit": 10000
     },
     "inputWidgets": {},
     "nuid": "2f21f5a9-ed50-4493-bc58-16395acf329b",
     "showTitle": false,
     "title": ""
    }
   },
   "outputs": [
    {
     "data": {
      "text/html": [
       "<style scoped>\n",
       "  .table-result-container {\n",
       "    max-height: 300px;\n",
       "    overflow: auto;\n",
       "  }\n",
       "  table, th, td {\n",
       "    border: 1px solid black;\n",
       "    border-collapse: collapse;\n",
       "  }\n",
       "  th, td {\n",
       "    padding: 5px;\n",
       "  }\n",
       "  th {\n",
       "    text-align: left;\n",
       "  }\n",
       "</style><div class='table-result-container'><table class='table-result'><thead style='background-color: white'><tr><th>SG_UF_PROVA</th><th>CO_UF_PROVA</th><th>NO_MUNICIPIO_PROVA</th><th>CO_MUNICIPIO_PROVA</th><th>NU_ANO</th><th>NU_TOTAL_INSCRITOS</th><th>NU_RATIO_MULHER</th><th>NU_ESCOLA_MISSING</th><th>NU_ESCOLA_PUBLICA</th><th>NU_ESCOLA_PRIVADA</th><th>NU_ESCOLA_EXTERIOR</th><th>NU_ABSTENCAO_01d</th><th>NU_ABSTENCAO_02d</th><th>AVG_NOTA_MT</th><th>AVG_NOTA_CN</th><th>AVG_NOTA_CH</th><th>AVG_NOTA_LC</th></tr></thead><tbody><tr><td>BA</td><td>29</td><td>Porto Seguro</td><td>2925303</td><td>2021</td><td>1</td><td>1</td><td>1</td><td>0</td><td>0</td><td>0</td><td>0.0</td><td>0.0</td><td>382.3</td><td>403.6</td><td>433.6</td><td>442.3</td></tr><tr><td>BA</td><td>29</td><td>Caculé</td><td>2905008</td><td>2021</td><td>1</td><td>0</td><td>0</td><td>1</td><td>0</td><td>0</td><td>0.0</td><td>0.0</td><td>569.3</td><td>502.7</td><td>612.8</td><td>502.3</td></tr><tr><td>BA</td><td>29</td><td>Entre Rios</td><td>2910503</td><td>2021</td><td>1</td><td>1</td><td>1</td><td>0</td><td>0</td><td>0</td><td>1.0</td><td>1.0</td><td>-1.0</td><td>-1.0</td><td>-1.0</td><td>-1.0</td></tr><tr><td>BA</td><td>29</td><td>Santana</td><td>2928208</td><td>2021</td><td>1</td><td>1</td><td>1</td><td>0</td><td>0</td><td>0</td><td>0.0</td><td>0.0</td><td>528.0</td><td>572.3</td><td>653.4</td><td>577.8</td></tr><tr><td>BA</td><td>29</td><td>Macaúbas</td><td>2919801</td><td>2021</td><td>1</td><td>1</td><td>0</td><td>1</td><td>0</td><td>0</td><td>0.0</td><td>0.0</td><td>465.0</td><td>393.5</td><td>378.9</td><td>354.6</td></tr><tr><td>BA</td><td>29</td><td>Senhor do Bonfim</td><td>2930105</td><td>2021</td><td>1</td><td>0</td><td>0</td><td>1</td><td>0</td><td>0</td><td>0.0</td><td>0.0</td><td>419.2</td><td>448.1</td><td>482.9</td><td>532.8</td></tr><tr><td>BA</td><td>29</td><td>Cachoeira</td><td>2904902</td><td>2021</td><td>1</td><td>1</td><td>1</td><td>0</td><td>0</td><td>0</td><td>0.0</td><td>0.0</td><td>510.1</td><td>430.5</td><td>597.3</td><td>560.5</td></tr><tr><td>BA</td><td>29</td><td>Barreiras</td><td>2903201</td><td>2021</td><td>1</td><td>1</td><td>1</td><td>0</td><td>0</td><td>0</td><td>1.0</td><td>1.0</td><td>-1.0</td><td>-1.0</td><td>-1.0</td><td>-1.0</td></tr><tr><td>BA</td><td>29</td><td>Itaberaba</td><td>2914703</td><td>2021</td><td>2</td><td>0</td><td>1</td><td>1</td><td>0</td><td>0</td><td>1.0</td><td>1.0</td><td>-1.0</td><td>-1.0</td><td>-1.0</td><td>-1.0</td></tr><tr><td>BA</td><td>29</td><td>Capim Grosso</td><td>2906873</td><td>2021</td><td>2</td><td>2</td><td>1</td><td>1</td><td>0</td><td>0</td><td>1.0</td><td>1.0</td><td>-1.0</td><td>-1.0</td><td>-1.0</td><td>-1.0</td></tr><tr><td>BA</td><td>29</td><td>Catu</td><td>2907509</td><td>2021</td><td>1</td><td>1</td><td>1</td><td>0</td><td>0</td><td>0</td><td>1.0</td><td>1.0</td><td>-1.0</td><td>-1.0</td><td>-1.0</td><td>-1.0</td></tr><tr><td>BA</td><td>29</td><td>Esplanada</td><td>2910602</td><td>2021</td><td>1</td><td>1</td><td>1</td><td>0</td><td>0</td><td>0</td><td>0.0</td><td>0.0</td><td>562.0</td><td>452.3</td><td>461.5</td><td>548.1</td></tr><tr><td>BA</td><td>29</td><td>Cruz das Almas</td><td>2909802</td><td>2021</td><td>1</td><td>1</td><td>1</td><td>0</td><td>0</td><td>0</td><td>1.0</td><td>1.0</td><td>-1.0</td><td>-1.0</td><td>-1.0</td><td>-1.0</td></tr><tr><td>BA</td><td>29</td><td>Lapão</td><td>2919157</td><td>2021</td><td>1</td><td>1</td><td>0</td><td>1</td><td>0</td><td>0</td><td>0.0</td><td>0.0</td><td>416.5</td><td>566.3</td><td>521.1</td><td>566.5</td></tr><tr><td>BA</td><td>29</td><td>Eunápolis</td><td>2910727</td><td>2021</td><td>1</td><td>1</td><td>1</td><td>0</td><td>0</td><td>0</td><td>0.0</td><td>0.0</td><td>636.3</td><td>494.7</td><td>476.1</td><td>462.0</td></tr><tr><td>BA</td><td>29</td><td>Cícero Dantas</td><td>2907806</td><td>2021</td><td>1</td><td>1</td><td>1</td><td>0</td><td>0</td><td>0</td><td>0.0</td><td>0.0</td><td>432.8</td><td>529.5</td><td>487.0</td><td>418.9</td></tr><tr><td>BA</td><td>29</td><td>Conceição do Coité</td><td>2908408</td><td>2021</td><td>2</td><td>2</td><td>1</td><td>1</td><td>0</td><td>0</td><td>0.0</td><td>0.0</td><td>462.05</td><td>392.35</td><td>469.85</td><td>443.15</td></tr><tr><td>BA</td><td>29</td><td>Cansanção</td><td>2906808</td><td>2021</td><td>1</td><td>1</td><td>1</td><td>0</td><td>0</td><td>0</td><td>1.0</td><td>1.0</td><td>-1.0</td><td>-1.0</td><td>-1.0</td><td>-1.0</td></tr><tr><td>BA</td><td>29</td><td>Ipiaú</td><td>2913903</td><td>2021</td><td>1</td><td>1</td><td>1</td><td>0</td><td>0</td><td>0</td><td>0.0</td><td>0.0</td><td>569.8</td><td>355.7</td><td>476.1</td><td>432.4</td></tr><tr><td>BA</td><td>29</td><td>Canavieiras</td><td>2906303</td><td>2021</td><td>1</td><td>1</td><td>1</td><td>0</td><td>0</td><td>0</td><td>0.0</td><td>0.0</td><td>436.9</td><td>432.8</td><td>521.6</td><td>528.0</td></tr><tr><td>BA</td><td>29</td><td>Ilhéus</td><td>2913606</td><td>2021</td><td>1</td><td>1</td><td>1</td><td>0</td><td>0</td><td>0</td><td>0.0</td><td>0.0</td><td>553.6</td><td>490.9</td><td>603.9</td><td>561.8</td></tr><tr><td>BA</td><td>29</td><td>Feira de Santana</td><td>2910800</td><td>2021</td><td>5</td><td>1</td><td>2</td><td>2</td><td>1</td><td>0</td><td>0.4</td><td>0.6</td><td>480.35</td><td>417.95</td><td>437.46666666666664</td><td>437.7666666666667</td></tr><tr><td>BA</td><td>29</td><td>Salvador</td><td>2927408</td><td>2021</td><td>12</td><td>8</td><td>6</td><td>4</td><td>2</td><td>0</td><td>0.5</td><td>0.5</td><td>484.2166666666667</td><td>492.66666666666674</td><td>502.4833333333333</td><td>500.9666666666667</td></tr><tr><td>BA</td><td>29</td><td>Candeias</td><td>2906501</td><td>2021</td><td>1</td><td>1</td><td>0</td><td>1</td><td>0</td><td>0</td><td>0.0</td><td>0.0</td><td>541.9</td><td>463.8</td><td>405.8</td><td>344.9</td></tr><tr><td>BA</td><td>29</td><td>Itabuna</td><td>2914802</td><td>2021</td><td>1</td><td>0</td><td>1</td><td>0</td><td>0</td><td>0</td><td>1.0</td><td>1.0</td><td>-1.0</td><td>-1.0</td><td>-1.0</td><td>-1.0</td></tr><tr><td>BA</td><td>29</td><td>Irecê</td><td>2914604</td><td>2021</td><td>2</td><td>2</td><td>2</td><td>0</td><td>0</td><td>0</td><td>0.0</td><td>0.0</td><td>581.4</td><td>443.35</td><td>529.45</td><td>467.15</td></tr><tr><td>BA</td><td>29</td><td>Valença</td><td>2932903</td><td>2021</td><td>1</td><td>0</td><td>1</td><td>0</td><td>0</td><td>0</td><td>0.0</td><td>0.0</td><td>746.0</td><td>477.8</td><td>599.0</td><td>548.9</td></tr><tr><td>BA</td><td>29</td><td>Itapetinga</td><td>2916401</td><td>2021</td><td>2</td><td>2</td><td>1</td><td>1</td><td>0</td><td>0</td><td>0.0</td><td>0.0</td><td>449.1</td><td>425.95</td><td>530.45</td><td>468.2</td></tr><tr><td>BA</td><td>29</td><td>Jiquiriçá</td><td>2918209</td><td>2021</td><td>1</td><td>1</td><td>0</td><td>1</td><td>0</td><td>0</td><td>0.0</td><td>0.0</td><td>504.8</td><td>461.9</td><td>498.8</td><td>475.6</td></tr><tr><td>BA</td><td>29</td><td>Lauro de Freitas</td><td>2919207</td><td>2021</td><td>1</td><td>0</td><td>0</td><td>0</td><td>1</td><td>0</td><td>0.0</td><td>0.0</td><td>494.1</td><td>417.4</td><td>572.0</td><td>534.1</td></tr></tbody></table></div>"
      ]
     },
     "metadata": {
      "application/vnd.databricks.v1+output": {
       "addedWidgets": {},
       "aggData": [],
       "aggError": "",
       "aggOverflow": false,
       "aggSchema": [],
       "aggSeriesLimitReached": false,
       "aggType": "",
       "arguments": {},
       "columnCustomDisplayInfos": {},
       "data": [
        [
         "BA",
         29,
         "Porto Seguro",
         2925303,
         2021,
         1,
         1,
         1,
         0,
         0,
         0,
         0,
         0,
         382.3,
         403.6,
         433.6,
         442.3
        ],
        [
         "BA",
         29,
         "Caculé",
         2905008,
         2021,
         1,
         0,
         0,
         1,
         0,
         0,
         0,
         0,
         569.3,
         502.7,
         612.8,
         502.3
        ],
        [
         "BA",
         29,
         "Entre Rios",
         2910503,
         2021,
         1,
         1,
         1,
         0,
         0,
         0,
         1,
         1,
         -1,
         -1,
         -1,
         -1
        ],
        [
         "BA",
         29,
         "Santana",
         2928208,
         2021,
         1,
         1,
         1,
         0,
         0,
         0,
         0,
         0,
         528,
         572.3,
         653.4,
         577.8
        ],
        [
         "BA",
         29,
         "Macaúbas",
         2919801,
         2021,
         1,
         1,
         0,
         1,
         0,
         0,
         0,
         0,
         465,
         393.5,
         378.9,
         354.6
        ],
        [
         "BA",
         29,
         "Senhor do Bonfim",
         2930105,
         2021,
         1,
         0,
         0,
         1,
         0,
         0,
         0,
         0,
         419.2,
         448.1,
         482.9,
         532.8
        ],
        [
         "BA",
         29,
         "Cachoeira",
         2904902,
         2021,
         1,
         1,
         1,
         0,
         0,
         0,
         0,
         0,
         510.1,
         430.5,
         597.3,
         560.5
        ],
        [
         "BA",
         29,
         "Barreiras",
         2903201,
         2021,
         1,
         1,
         1,
         0,
         0,
         0,
         1,
         1,
         -1,
         -1,
         -1,
         -1
        ],
        [
         "BA",
         29,
         "Itaberaba",
         2914703,
         2021,
         2,
         0,
         1,
         1,
         0,
         0,
         1,
         1,
         -1,
         -1,
         -1,
         -1
        ],
        [
         "BA",
         29,
         "Capim Grosso",
         2906873,
         2021,
         2,
         2,
         1,
         1,
         0,
         0,
         1,
         1,
         -1,
         -1,
         -1,
         -1
        ],
        [
         "BA",
         29,
         "Catu",
         2907509,
         2021,
         1,
         1,
         1,
         0,
         0,
         0,
         1,
         1,
         -1,
         -1,
         -1,
         -1
        ],
        [
         "BA",
         29,
         "Esplanada",
         2910602,
         2021,
         1,
         1,
         1,
         0,
         0,
         0,
         0,
         0,
         562,
         452.3,
         461.5,
         548.1
        ],
        [
         "BA",
         29,
         "Cruz das Almas",
         2909802,
         2021,
         1,
         1,
         1,
         0,
         0,
         0,
         1,
         1,
         -1,
         -1,
         -1,
         -1
        ],
        [
         "BA",
         29,
         "Lapão",
         2919157,
         2021,
         1,
         1,
         0,
         1,
         0,
         0,
         0,
         0,
         416.5,
         566.3,
         521.1,
         566.5
        ],
        [
         "BA",
         29,
         "Eunápolis",
         2910727,
         2021,
         1,
         1,
         1,
         0,
         0,
         0,
         0,
         0,
         636.3,
         494.7,
         476.1,
         462
        ],
        [
         "BA",
         29,
         "Cícero Dantas",
         2907806,
         2021,
         1,
         1,
         1,
         0,
         0,
         0,
         0,
         0,
         432.8,
         529.5,
         487,
         418.9
        ],
        [
         "BA",
         29,
         "Conceição do Coité",
         2908408,
         2021,
         2,
         2,
         1,
         1,
         0,
         0,
         0,
         0,
         462.05,
         392.35,
         469.85,
         443.15
        ],
        [
         "BA",
         29,
         "Cansanção",
         2906808,
         2021,
         1,
         1,
         1,
         0,
         0,
         0,
         1,
         1,
         -1,
         -1,
         -1,
         -1
        ],
        [
         "BA",
         29,
         "Ipiaú",
         2913903,
         2021,
         1,
         1,
         1,
         0,
         0,
         0,
         0,
         0,
         569.8,
         355.7,
         476.1,
         432.4
        ],
        [
         "BA",
         29,
         "Canavieiras",
         2906303,
         2021,
         1,
         1,
         1,
         0,
         0,
         0,
         0,
         0,
         436.9,
         432.8,
         521.6,
         528
        ],
        [
         "BA",
         29,
         "Ilhéus",
         2913606,
         2021,
         1,
         1,
         1,
         0,
         0,
         0,
         0,
         0,
         553.6,
         490.9,
         603.9,
         561.8
        ],
        [
         "BA",
         29,
         "Feira de Santana",
         2910800,
         2021,
         5,
         1,
         2,
         2,
         1,
         0,
         0.4,
         0.6,
         480.35,
         417.95,
         437.46666666666664,
         437.7666666666667
        ],
        [
         "BA",
         29,
         "Salvador",
         2927408,
         2021,
         12,
         8,
         6,
         4,
         2,
         0,
         0.5,
         0.5,
         484.2166666666667,
         492.66666666666674,
         502.4833333333333,
         500.9666666666667
        ],
        [
         "BA",
         29,
         "Candeias",
         2906501,
         2021,
         1,
         1,
         0,
         1,
         0,
         0,
         0,
         0,
         541.9,
         463.8,
         405.8,
         344.9
        ],
        [
         "BA",
         29,
         "Itabuna",
         2914802,
         2021,
         1,
         0,
         1,
         0,
         0,
         0,
         1,
         1,
         -1,
         -1,
         -1,
         -1
        ],
        [
         "BA",
         29,
         "Irecê",
         2914604,
         2021,
         2,
         2,
         2,
         0,
         0,
         0,
         0,
         0,
         581.4,
         443.35,
         529.45,
         467.15
        ],
        [
         "BA",
         29,
         "Valença",
         2932903,
         2021,
         1,
         0,
         1,
         0,
         0,
         0,
         0,
         0,
         746,
         477.8,
         599,
         548.9
        ],
        [
         "BA",
         29,
         "Itapetinga",
         2916401,
         2021,
         2,
         2,
         1,
         1,
         0,
         0,
         0,
         0,
         449.1,
         425.95,
         530.45,
         468.2
        ],
        [
         "BA",
         29,
         "Jiquiriçá",
         2918209,
         2021,
         1,
         1,
         0,
         1,
         0,
         0,
         0,
         0,
         504.8,
         461.9,
         498.8,
         475.6
        ],
        [
         "BA",
         29,
         "Lauro de Freitas",
         2919207,
         2021,
         1,
         0,
         0,
         0,
         1,
         0,
         0,
         0,
         494.1,
         417.4,
         572,
         534.1
        ]
       ],
       "datasetInfos": [],
       "dbfsResultPath": null,
       "isJsonSchema": true,
       "metadata": {},
       "overflow": false,
       "plotOptions": {
        "customPlotOptions": {},
        "displayType": "table",
        "pivotAggregation": null,
        "pivotColumns": null,
        "xColumns": null,
        "yColumns": null
       },
       "removedWidgets": [],
       "schema": [
        {
         "metadata": "{}",
         "name": "SG_UF_PROVA",
         "type": "\"string\""
        },
        {
         "metadata": "{}",
         "name": "CO_UF_PROVA",
         "type": "\"integer\""
        },
        {
         "metadata": "{}",
         "name": "NO_MUNICIPIO_PROVA",
         "type": "\"string\""
        },
        {
         "metadata": "{}",
         "name": "CO_MUNICIPIO_PROVA",
         "type": "\"integer\""
        },
        {
         "metadata": "{}",
         "name": "NU_ANO",
         "type": "\"integer\""
        },
        {
         "metadata": "{}",
         "name": "NU_TOTAL_INSCRITOS",
         "type": "\"long\""
        },
        {
         "metadata": "{}",
         "name": "NU_RATIO_MULHER",
         "type": "\"long\""
        },
        {
         "metadata": "{}",
         "name": "NU_ESCOLA_MISSING",
         "type": "\"long\""
        },
        {
         "metadata": "{}",
         "name": "NU_ESCOLA_PUBLICA",
         "type": "\"long\""
        },
        {
         "metadata": "{}",
         "name": "NU_ESCOLA_PRIVADA",
         "type": "\"long\""
        },
        {
         "metadata": "{}",
         "name": "NU_ESCOLA_EXTERIOR",
         "type": "\"long\""
        },
        {
         "metadata": "{}",
         "name": "NU_ABSTENCAO_01d",
         "type": "\"double\""
        },
        {
         "metadata": "{}",
         "name": "NU_ABSTENCAO_02d",
         "type": "\"double\""
        },
        {
         "metadata": "{}",
         "name": "AVG_NOTA_MT",
         "type": "\"double\""
        },
        {
         "metadata": "{}",
         "name": "AVG_NOTA_CN",
         "type": "\"double\""
        },
        {
         "metadata": "{}",
         "name": "AVG_NOTA_CH",
         "type": "\"double\""
        },
        {
         "metadata": "{}",
         "name": "AVG_NOTA_LC",
         "type": "\"double\""
        }
       ],
       "type": "table"
      }
     },
     "output_type": "display_data"
    }
   ],
   "source": [
    "_df_enem_metrics = spark.table('default.microdados_enem_metrics')\n",
    "display(_df_enem_metrics)"
   ]
  },
  {
   "cell_type": "code",
   "execution_count": 0,
   "metadata": {
    "application/vnd.databricks.v1+cell": {
     "cellMetadata": {},
     "inputWidgets": {},
     "nuid": "bbc1e9a8-63b1-472c-8c35-6673ee3eff2f",
     "showTitle": false,
     "title": ""
    }
   },
   "outputs": [],
   "source": []
  }
 ],
 "metadata": {
  "application/vnd.databricks.v1+notebook": {
   "dashboards": [],
   "language": "python",
   "notebookMetadata": {
    "mostRecentlyExecutedCommandWithImplicitDF": {
     "commandId": 934122368397526,
     "dataframes": [
      "_sqldf"
     ]
    },
    "pythonIndentUnit": 4
   },
   "notebookName": "Workshop_PySpark",
   "widgets": {}
  },
  "kernelspec": {
   "display_name": "Python 3 (ipykernel)",
   "language": "python",
   "name": "python3"
  },
  "language_info": {
   "codemirror_mode": {
    "name": "ipython",
    "version": 3
   },
   "file_extension": ".py",
   "mimetype": "text/x-python",
   "name": "python",
   "nbconvert_exporter": "python",
   "pygments_lexer": "ipython3",
   "version": "3.11.5"
  }
 },
 "nbformat": 4,
 "nbformat_minor": 1
}
