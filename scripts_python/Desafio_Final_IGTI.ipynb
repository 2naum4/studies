{
 "cells": [
  {
   "cell_type": "code",
   "execution_count": 248,
   "metadata": {},
   "outputs": [],
   "source": [
    "import os\n",
    "import requests\n",
    "import zipfile\n",
    "import pandas as pd\n",
    "import sqlalchemy as sa\n",
    "from datetime import datetime"
   ]
  },
  {
   "cell_type": "code",
   "execution_count": 249,
   "metadata": {},
   "outputs": [],
   "source": [
    "url = 'https://leandrolessa.com.br/wp-content/uploads/2024/04/processamento_licencas_medicas.zip'\n",
    " \n",
    "response = requests.get(url)"
   ]
  },
  {
   "cell_type": "code",
   "execution_count": 250,
   "metadata": {},
   "outputs": [
    {
     "name": "stdout",
     "output_type": "stream",
     "text": [
      "Download finalizado. Salvo em: /home/naum/studies/bases/processamento_dados_medicos/processamento_licencas_medicas.zip\n"
     ]
    }
   ],
   "source": [
    "\n",
    "headers = {'User-Agent': 'Mozilla/5.0 (Windows NT 10.0; Win64; x64) AppleWebKit/537.36 (KHTML, like Gecko) Chrome/58.0.3029.110 Safari/537.3'}\n",
    "\n",
    "response = requests.get(url, headers=headers)\n",
    "\n",
    "diretorio_destino = '/home/naum/studies/bases/processamento_dados_medicos'\n",
    "\n",
    "# Verifica se o diretório de destino existe, se não, cria-o\n",
    "if not os.path.exists(diretorio_destino):\n",
    "    os.makedirs(diretorio_destino)\n",
    "\n",
    "if response.status_code == requests.codes.OK:\n",
    "    nome_arquivo_zip = url.split('/')[-1]\n",
    "    caminho_arquivo_zip = os.path.join(diretorio_destino, nome_arquivo_zip)\n",
    "\n",
    "    with open(caminho_arquivo_zip, 'wb') as arquivo:\n",
    "        arquivo.write(response.content)\n",
    "        print(\"Download finalizado. Salvo em: {}\".format(caminho_arquivo_zip))\n",
    "else:\n",
    "    print(\"Falha ao baixar o arquivo. Status code:\", response.status_code)\n"
   ]
  },
  {
   "cell_type": "code",
   "execution_count": 251,
   "metadata": {},
   "outputs": [
    {
     "name": "stdout",
     "output_type": "stream",
     "text": [
      "Arquivo ZIP removido.\n",
      "Arquivo ZIP descompactado em: /home/naum/studies/bases/processamento_dados_medicos\n"
     ]
    }
   ],
   "source": [
    "with zipfile.ZipFile(caminho_arquivo_zip, 'r') as zip_ref:\n",
    "        zip_ref.extractall(diretorio_destino)\n",
    "        os.remove(caminho_arquivo_zip)\n",
    "\n",
    "print(\"Arquivo ZIP removido.\") \n",
    "print(f\"Arquivo ZIP descompactado em: {diretorio_destino}\")"
   ]
  },
  {
   "cell_type": "code",
   "execution_count": 252,
   "metadata": {},
   "outputs": [],
   "source": [
    "PATH = '/home/naum/studies/bases/processamento_dados_medicos'\n",
    "lista_path = os.listdir(PATH)"
   ]
  },
  {
   "cell_type": "code",
   "execution_count": 253,
   "metadata": {},
   "outputs": [],
   "source": [
    "lista_df = [] # cria uma lista vazia\n",
    "for arquivo in lista_path:\n",
    "    local_arquivo = os.path.join(PATH, arquivo)\n",
    "    if arquivo.endswith('.csv'):\n",
    "        df = pd.read_csv(local_arquivo, sep = '|', encoding='latin-1')       \n",
    "        lista_df.append(df)"
   ]
  },
  {
   "cell_type": "code",
   "execution_count": 254,
   "metadata": {},
   "outputs": [
    {
     "name": "stdout",
     "output_type": "stream",
     "text": [
      "   data_processamento   nome_medico           especialidade  \\\n",
      "0          2022-10-09     Dr. Ramos             Ortopedista   \n",
      "1          2022-10-09  Dra. Daniele         Traumatologista   \n",
      "2          2022-10-09  Dra. Daniele         Traumatologista   \n",
      "0          2023-11-25    Dr. Irineu  Ginecologista obstetra   \n",
      "0          2023-10-10   Dr. Gustavo           Clínico geral   \n",
      "..                ...           ...                     ...   \n",
      "0          2023-02-15   Dr. Rodrigo             Ortopedista   \n",
      "0          2022-11-02  Dr. Vinicius         Traumatologista   \n",
      "0          2022-06-23   Dr. Gustavo           Clínico geral   \n",
      "1          2022-06-23   Dr. Gustavo           Clínico geral   \n",
      "2          2022-06-23      Dra. Ana  Ginecologista obstetra   \n",
      "\n",
      "                    motivo_licenca  id_colaborador      nome_colaborador  \\\n",
      "0   Enfermidade de filhos pequenos             337    Maria Eduarda Lima   \n",
      "1                            Comum             677         Alana Cardoso   \n",
      "2                            Comum             677         Alana Cardoso   \n",
      "0                      Maternidade             383         Stella Vieira   \n",
      "0                            Comum             940        Maysa Ferreira   \n",
      "..                             ...             ...                   ...   \n",
      "0             Acidente de trabalho             158     Ana Laura Cardoso   \n",
      "0                            Comum             555  Pedro Miguel Correia   \n",
      "0                            Comum              34  Ana Luiza Cavalcanti   \n",
      "1   Enfermidade de filhos pequenos             849          Lara da Mota   \n",
      "2                      Maternidade             959           Laís Mendes   \n",
      "\n",
      "   data_nascimento estado_colaborador sexo_colaborador inicio_licenca  \\\n",
      "0       1988-09-17              Piauí         Feminino     2022-09-23   \n",
      "1       1967-03-06              Goiás         Feminino     2022-09-18   \n",
      "2       1967-03-06              Goiás         Feminino     2022-09-18   \n",
      "0       1955-10-04            Alagoas         Feminino     2023-11-06   \n",
      "0       2004-11-10        Mato Grosso         Feminino     2023-09-23   \n",
      "..             ...                ...              ...            ...   \n",
      "0       1989-11-10           Amazonas         Feminino     2023-02-13   \n",
      "0       1955-07-20          São Paulo        Masculino     2022-10-09   \n",
      "0       1953-02-22     Espírito Santo         Feminino     2022-06-13   \n",
      "1       1998-01-09     Rio de Janeiro         Feminino     2022-06-18   \n",
      "2       1988-10-25           Amazonas         Feminino     2022-06-03   \n",
      "\n",
      "   fim_licenca  duracao_licenca escolaridade  salario  qtd_filhos    hobbie  \\\n",
      "0   2022-10-13               20        Médio  8174.20         1.0   Viagens   \n",
      "1   2022-09-29               11        Médio  7867.07         1.0     Artes   \n",
      "2   2022-09-29               11        Médio  7867.07         1.0     Artes   \n",
      "0   2023-11-07                1     Superior  5278.99         2.0   Leitura   \n",
      "0   2023-10-15               22     Superior  8137.39         0.0   Leitura   \n",
      "..         ...              ...          ...      ...         ...       ...   \n",
      "0   2023-02-19                6        Médio  8241.74         1.0   Viagens   \n",
      "0   2022-10-26               17        Médio  5188.94         2.0  Esportes   \n",
      "0   2022-06-16                3     Superior  4482.18         3.0   Viagens   \n",
      "1   2022-07-18               30        Médio  3509.10         3.0  Esportes   \n",
      "2   2022-06-04                1        Médio  4066.90         4.0    Música   \n",
      "\n",
      "   possui_pet   estado_civil  idade  \n",
      "0         Sim    Solteiro(a)     36  \n",
      "1         Não    Solteiro(a)     57  \n",
      "2         Não    Solteiro(a)     57  \n",
      "0         Sim  Divorciado(a)     69  \n",
      "0         Não    Solteiro(a)     20  \n",
      "..        ...            ...    ...  \n",
      "0         Não       Viúvo(a)     35  \n",
      "0         Não      Casado(a)     69  \n",
      "0         Sim    Solteiro(a)     71  \n",
      "1         Não    Solteiro(a)     26  \n",
      "2         Sim       Viúvo(a)     36  \n",
      "\n",
      "[1048 rows x 19 columns]\n"
     ]
    }
   ],
   "source": [
    "df = pd.concat(lista_df)\n",
    "\n",
    "# Converta a coluna 'data_nascimento' para o tipo datetime se ainda não estiver\n",
    "df['data_nascimento'] = pd.to_datetime(df['data_nascimento'])\n",
    "\n",
    "# Calcule a idade\n",
    "df['idade'] = (pd.to_datetime('today').year - df['data_nascimento'].dt.year)\n",
    "\n",
    "print(df)"
   ]
  },
  {
   "cell_type": "code",
   "execution_count": 268,
   "metadata": {},
   "outputs": [
    {
     "name": "stdout",
     "output_type": "stream",
     "text": [
      "root\n",
      " |-- data_processamento: string (nullable = true)\n",
      " |-- nome_medico: string (nullable = true)\n",
      " |-- especialidade: string (nullable = true)\n",
      " |-- motivo_licenca: string (nullable = true)\n",
      " |-- id_colaborador: long (nullable = true)\n",
      " |-- nome_colaborador: string (nullable = true)\n",
      " |-- data_nascimento: date (nullable = true)\n",
      " |-- estado_colaborador: string (nullable = true)\n",
      " |-- sexo_colaborador: string (nullable = true)\n",
      " |-- inicio_licenca: string (nullable = true)\n",
      " |-- fim_licenca: string (nullable = true)\n",
      " |-- duracao_licenca: long (nullable = true)\n",
      " |-- escolaridade: string (nullable = true)\n",
      " |-- salario: double (nullable = true)\n",
      " |-- qtd_filhos: double (nullable = true)\n",
      " |-- hobbie: string (nullable = true)\n",
      " |-- possui_pet: string (nullable = true)\n",
      " |-- estado_civil: string (nullable = true)\n",
      " |-- idade: long (nullable = true)\n",
      "\n",
      "+------------------+------------+--------------------+--------------------+--------------+------------------+---------------+-------------------+----------------+--------------+-----------+---------------+------------+-------+----------+-------+----------+-------------+-----+\n",
      "|data_processamento| nome_medico|       especialidade|      motivo_licenca|id_colaborador|  nome_colaborador|data_nascimento| estado_colaborador|sexo_colaborador|inicio_licenca|fim_licenca|duracao_licenca|escolaridade|salario|qtd_filhos| hobbie|possui_pet| estado_civil|idade|\n",
      "+------------------+------------+--------------------+--------------------+--------------+------------------+---------------+-------------------+----------------+--------------+-----------+---------------+------------+-------+----------+-------+----------+-------------+-----+\n",
      "|        2022-10-09|   Dr. Ramos|         Ortopedista|Enfermidade de fi...|           337|Maria Eduarda Lima|     1988-09-17|              Piauí|        Feminino|    2022-09-23| 2022-10-13|             20|       Médio| 8174.2|       1.0|Viagens|       Sim|  Solteiro(a)|   36|\n",
      "|        2022-10-09|Dra. Daniele|     Traumatologista|               Comum|           677|     Alana Cardoso|     1967-03-06|              Goiás|        Feminino|    2022-09-18| 2022-09-29|             11|       Médio|7867.07|       1.0|  Artes|       Não|  Solteiro(a)|   57|\n",
      "|        2022-10-09|Dra. Daniele|     Traumatologista|               Comum|           677|     Alana Cardoso|     1967-03-06|              Goiás|        Feminino|    2022-09-18| 2022-09-29|             11|       Médio|7867.07|       1.0|  Artes|       Não|  Solteiro(a)|   57|\n",
      "|        2023-11-25|  Dr. Irineu|Ginecologista obs...|         Maternidade|           383|     Stella Vieira|     1955-10-04|            Alagoas|        Feminino|    2023-11-06| 2023-11-07|              1|    Superior|5278.99|       2.0|Leitura|       Sim|Divorciado(a)|   69|\n",
      "|        2023-10-10| Dr. Gustavo|       Clínico geral|               Comum|           940|    Maysa Ferreira|     2004-11-10|        Mato Grosso|        Feminino|    2023-09-23| 2023-10-15|             22|    Superior|8137.39|       0.0|Leitura|       Não|  Solteiro(a)|   20|\n",
      "|        2023-11-01|Dra. Daniele|     Traumatologista|               Comum|           252|       Cauã Moraes|     1980-05-28|           Amazonas|       Masculino|    2023-10-20| 2023-11-09|             20|    Superior|9955.79|       1.0|Leitura|       Sim|    Casado(a)|   44|\n",
      "|        2022-02-03| Dr. Ricardo|     Traumatologista|               Comum|           457|    Kamilly Vieira|     2002-12-04|     Espírito Santo|        Feminino|    2022-01-06| 2022-01-18|             12| Fundamental|5888.47|       1.0| Música|       Não|Divorciado(a)|   22|\n",
      "|        2022-05-02|    Dra. Ana|Ginecologista obs...|         Maternidade|           971|   Vitória Cardoso|     1973-07-20|          São Paulo|        Feminino|    2022-04-17| 2022-05-14|             27|       Médio|7341.71|       3.0|Viagens|       Sim|     Viúvo(a)|   51|\n",
      "|        2022-01-26| Dr. Roberto|            Pediatra|Enfermidade de fi...|           698|   Pedro Rodrigues|     1961-07-04|         Pernambuco|       Masculino|    2022-01-03| 2022-01-23|             20|       Médio|2583.18|       2.0|Leitura|       Não|Divorciado(a)|   63|\n",
      "|        2023-04-20|   Dr. Pedro|       Clínico geral|Acidente de trabalho|           814|     Joana Cardoso|     2003-06-19|          São Paulo|        Feminino|    2023-03-28| 2023-04-03|              6|    Superior|5482.79|       2.0|Viagens|       Não|     Viúvo(a)|   21|\n",
      "|        2023-01-09|   Dr. Ramos|         Ortopedista|Enfermidade de fi...|           754|        Yuri Costa|     1978-03-07|             Paraná|       Masculino|    2022-12-13| 2023-01-07|             25| Fundamental|1621.66|       2.0| Música|       Não|Divorciado(a)|   46|\n",
      "|        2023-08-26| Dr. Gustavo|       Clínico geral|               Comum|           506| Davi Luiz Cardoso|     1996-03-10|              Amapá|       Masculino|    2023-08-03| 2023-08-27|             24|    Superior|1241.39|       4.0|Leitura|       Não|    Casado(a)|   28|\n",
      "|        2023-08-26| Dr. Eduardo|         Ortopedista| Acidente de trajeto|           934|     Davi da Cunha|     1952-11-01|Rio Grande do Norte|       Masculino|    2023-08-16| 2023-09-04|             19|       Médio|7908.94|       0.0| Música|       Não|     Viúvo(a)|   72|\n",
      "|        2023-08-26|  Dr. Marcos|     Traumatologista|Enfermidade de fi...|           845| Henrique Ferreira|     1973-02-01|             Paraná|       Masculino|    2023-08-26| 2023-09-18|             23|       Médio|1213.19|       0.0| Música|       Não|     Viúvo(a)|   51|\n",
      "|        2023-02-28| Dr. Gustavo|       Clínico geral|               Comum|            28|      Juan Pereira|     1982-04-23|            Paraíba|       Masculino|    2023-02-13| 2023-02-18|              5| Fundamental|8837.46|       3.0| Música|       Sim|Divorciado(a)|   42|\n",
      "|        2023-02-28| Dr. Roberto|            Pediatra|               Comum|           888|     Rodrigo Rocha|     1993-10-27|             Paraná|       Masculino|    2023-02-08| 2023-02-17|              9|    Superior|1838.64|       0.0|Viagens|       Sim|Divorciado(a)|   31|\n",
      "|        2022-06-10| Dr. Gustavo|       Clínico geral|               Comum|           371|   Juliana Cardoso|     1973-05-13|              Bahia|        Feminino|    2022-06-05| 2022-06-14|              9|       Médio|6871.81|       3.0|Viagens|       Não|    Casado(a)|   51|\n",
      "|        2022-06-10|   Dr. Lucas|       Clínico geral|               Comum|           530|    Emilly da Rosa|     1993-10-06|         Pernambuco|        Feminino|    2022-06-06| 2022-06-14|              8|       Médio| 9937.0|       4.0|Leitura|       Não|Divorciado(a)|   31|\n",
      "|        2023-09-14| Dr. Rodrigo|         Ortopedista|               Comum|           187|     Maysa da Rosa|     1979-04-17|            Paraíba|        Feminino|    2023-08-20| 2023-09-11|             22| Fundamental|7635.57|       4.0| Música|       Não|     Viúvo(a)|   45|\n",
      "|        2023-09-14| Dr. Roberto|            Pediatra|Enfermidade de fi...|           295|      Julia Barros|     1996-10-16|     Espírito Santo|        Feminino|    2023-09-08| 2023-09-21|             13| Fundamental|1054.58|       2.0|Viagens|       Não|     Viúvo(a)|   28|\n",
      "+------------------+------------+--------------------+--------------------+--------------+------------------+---------------+-------------------+----------------+--------------+-----------+---------------+------------+-------+----------+-------+----------+-------------+-----+\n",
      "only showing top 20 rows\n",
      "\n"
     ]
    }
   ],
   "source": [
    "from pyspark.sql import SparkSession\n",
    "import pyspark.sql.functions as F\n",
    "\n",
    "# Inicialize a sessão Spark\n",
    "spark = SparkSession.builder \\\n",
    "    .appName(\"dados_medicos\") \\\n",
    "    .getOrCreate()\n",
    "\n",
    "# Supondo que df seja o DataFrame que você já possui\n",
    "\n",
    "# Crie o DataFrame Spark\n",
    "df_spark = spark.createDataFrame(df)\n",
    "\n",
    "# Converta a coluna 'data_nascimento' para o tipo de dados 'string'\n",
    "df_spark = df_spark.withColumn('data_nascimento_str', F.col('data_nascimento').cast('string'))\n",
    "\n",
    "# Extraia apenas a parte da data (sem a parte do tempo)\n",
    "df_spark = df_spark.withColumn('data_nascimento', substring('data_nascimento_str', 1, 10))\n",
    "\n",
    "# Converta a coluna 'data_nascimento' para o tipo de dados 'date'\n",
    "df_spark = df_spark.withColumn('data_nascimento', to_date('data_nascimento', 'yyyy-MM-dd'))\n",
    "\n",
    "# Agora podemos remover a coluna auxiliar 'data_nascimento_str' se desejado\n",
    "df_spark = df_spark.drop('data_nascimento_str')\n",
    "\n",
    "# Imprima o schema e os dados para verificar a mudança\n",
    "df_spark.printSchema()\n",
    "df_spark.show()\n"
   ]
  },
  {
   "cell_type": "code",
   "execution_count": 280,
   "metadata": {},
   "outputs": [
    {
     "name": "stdout",
     "output_type": "stream",
     "text": [
      "Média da idade: 44.436974789915965\n"
     ]
    }
   ],
   "source": [
    "from pyspark.sql import functions as F\n",
    "\n",
    "# Supondo que df_spark seja o DataFrame que você já possui\n",
    "\n",
    "# Calcula a idade dos colaboradores considerando o dia 18/04/2024\n",
    "df_spark = df_spark.withColumn(\"idade\", F.floor(F.datediff(F.lit(\"2024-04-19\"), \"data_nascimento\") / 365))\n",
    "\n",
    "# Filtra os colaboradores do sexo masculino e solteiros(as)\n",
    "subset = (\n",
    "    df_spark\n",
    "    .filter(\n",
    "        (F.col('sexo_colaborador') == 'Masculino') &\n",
    "        (F.col('estado_civil') == 'Solteiro(a)')\n",
    "    )\n",
    "    .select('nome_colaborador', 'sexo_colaborador', 'data_nascimento', 'idade', 'estado_civil')\n",
    ")\n",
    "\n",
    "# Calcula a média da idade\n",
    "media_idade = subset.agg(F.avg(\"idade\")).collect()[0][0]\n",
    "\n",
    "# Exibe apenas o valor da média no output\n",
    "print(\"Média da idade:\", media_idade)\n"
   ]
  },
  {
   "cell_type": "code",
   "execution_count": 282,
   "metadata": {},
   "outputs": [
    {
     "name": "stdout",
     "output_type": "stream",
     "text": [
      "Valor mais repetido na coluna motivo_licenca para colaboradores com mais de 35 anos: Comum\n"
     ]
    }
   ],
   "source": [
    "from pyspark.sql import functions as F\n",
    "\n",
    "# Filtrar colaboradores com mais de 35 anos\n",
    "df_filtered = df_spark.filter(F.col('idade') > 35)\n",
    "\n",
    "# Calcular o valor mais repetido na coluna 'motivo_licenca'\n",
    "most_common_reason = (\n",
    "    df_filtered\n",
    "    .groupBy('motivo_licenca')\n",
    "    .count()\n",
    "    .orderBy(F.desc('count'))\n",
    "    .select('motivo_licenca')\n",
    "    .limit(1)\n",
    ").collect()[0][0]\n",
    "\n",
    "# Exibir o valor mais repetido\n",
    "print(\"Valor mais repetido na coluna motivo_licenca para colaboradores com mais de 35 anos:\", most_common_reason)\n"
   ]
  },
  {
   "cell_type": "code",
   "execution_count": 284,
   "metadata": {},
   "outputs": [
    {
     "name": "stdout",
     "output_type": "stream",
     "text": [
      "+-----------+-----+\n",
      "|nome_medico|count|\n",
      "+-----------+-----+\n",
      "|  Dr. Pedro|    6|\n",
      "+-----------+-----+\n",
      "\n"
     ]
    }
   ],
   "source": [
    "from pyspark.sql import functions as F\n",
    "\n",
    "# Filtrar colaboradores do estado de Minas Gerais\n",
    "df_mg = df_spark.filter(F.col('estado_colaborador') == 'Minas Gerais')\n",
    "\n",
    "# Contar o número de colaboradores atendidos por médicos\n",
    "num_atendidos_por_medico = (\n",
    "    df_mg\n",
    "    .filter(F.col('nome_medico').isNotNull())\n",
    "    .groupBy('nome_medico')\n",
    "    .count()\n",
    "    .orderBy(F.desc('count'))\n",
    "    .limit(1)\n",
    ")\n",
    "\n",
    "# Exibir a contagem de colaboradores atendidos por médico\n",
    "num_atendidos_por_medico.show()\n"
   ]
  },
  {
   "cell_type": "code",
   "execution_count": 285,
   "metadata": {},
   "outputs": [
    {
     "name": "stdout",
     "output_type": "stream",
     "text": [
      "Estado com o maior número de pessoas com ensino fundamental que têm leitura como hobbie: Santa Catarina\n"
     ]
    }
   ],
   "source": [
    "from pyspark.sql import functions as F\n",
    "\n",
    "# Filtrar pessoas com ensino fundamental e leitura como hobbie\n",
    "df_filtered = df_spark.filter((F.col('escolaridade') == 'Fundamental') & (F.col('hobbie') == 'Leitura'))\n",
    "\n",
    "# Agrupar por estado e contar o número de pessoas em cada estado\n",
    "count_by_state = df_filtered.groupBy('estado_colaborador').count()\n",
    "\n",
    "# Encontrar o estado com o maior número de pessoas\n",
    "max_count_state = count_by_state.orderBy(F.desc('count')).select('estado_colaborador').first()[0]\n",
    "\n",
    "# Exibir o estado com o maior número de pessoas\n",
    "print(\"Estado com o maior número de pessoas com ensino fundamental que têm leitura como hobbie:\", max_count_state)\n"
   ]
  },
  {
   "cell_type": "code",
   "execution_count": 287,
   "metadata": {},
   "outputs": [
    {
     "name": "stdout",
     "output_type": "stream",
     "text": [
      "Número de pessoas com ensino superior que são naturais ou pertencem a Pernambuco: 10\n"
     ]
    }
   ],
   "source": [
    "from pyspark.sql import functions as F\n",
    "\n",
    "# Filtrar pessoas com ensino superior e que são naturais ou pertencem a Pernambuco\n",
    "df_filtered = df_spark.filter((F.col('escolaridade') == 'Superior') & ((F.col('estado_colaborador') == 'Pernambuco') | (F.col('estado_colaborador') == 'Pernambuco')))\n",
    "\n",
    "# Contar o número de pessoas\n",
    "count_people = df_filtered.count()\n",
    "\n",
    "# Exibir o número de pessoas\n",
    "print(\"Número de pessoas com ensino superior que são naturais ou pertencem a Pernambuco:\", count_people)\n"
   ]
  },
  {
   "cell_type": "code",
   "execution_count": 289,
   "metadata": {},
   "outputs": [
    {
     "name": "stdout",
     "output_type": "stream",
     "text": [
      "+----------------+-----------------+\n",
      "|sexo_colaborador|     media_filhos|\n",
      "+----------------+-----------------+\n",
      "|        Feminino|2.380952380952381|\n",
      "|       Masculino|              2.7|\n",
      "+----------------+-----------------+\n",
      "\n"
     ]
    }
   ],
   "source": [
    "from pyspark.sql import functions as F\n",
    "\n",
    "# Filtrar pessoas atendidas pelo Dr. Lessa\n",
    "df_lessa = df_spark.filter(F.col('nome_medico') == 'Dr. Lessa')\n",
    "\n",
    "# Calcular a média de filhos por sexo\n",
    "avg_filhos_por_sexo = (\n",
    "    df_lessa\n",
    "    .groupBy('sexo_colaborador')\n",
    "    .agg(F.avg('qtd_filhos').alias('media_filhos'))\n",
    ")\n",
    "\n",
    "# Exibir o nome do Dr. Lessa, o sexo do colaborador e a média de filhos para cada sexo\n",
    "avg_filhos_por_sexo.show()\n"
   ]
  },
  {
   "cell_type": "code",
   "execution_count": 296,
   "metadata": {},
   "outputs": [
    {
     "name": "stdout",
     "output_type": "stream",
     "text": [
      "Colaborador com o maior salário:\n",
      "Nome: Nathan Barros\n",
      "Salário: 28543.95\n"
     ]
    }
   ],
   "source": [
    "from pyspark.sql import functions as F\n",
    "\n",
    "# Tratar os valores ausentes substituindo por zero\n",
    "df_spark = df_spark.dropna(subset=['salario'])\n",
    "\n",
    "# Encontre o colaborador com o maior salário\n",
    "colaborador_maior_salario = (\n",
    "    df_spark\n",
    "    .orderBy(F.desc('salario'))\n",
    "    .select('nome_colaborador', 'salario')\n",
    "    .first()\n",
    ")\n",
    "\n",
    "# Exiba o colaborador com o maior salário\n",
    "print(\"Colaborador com o maior salário:\")\n",
    "print(\"Nome:\", colaborador_maior_salario['nome_colaborador'])\n",
    "print(\"Salário:\", colaborador_maior_salario['salario'])\n"
   ]
  },
  {
   "cell_type": "code",
   "execution_count": 297,
   "metadata": {},
   "outputs": [
    {
     "name": "stdout",
     "output_type": "stream",
     "text": [
      "Licença com a menor média de duração:\n",
      "Motivo da Licença: Acidente de trabalho\n",
      "Média de Duração: 14.96078431372549\n"
     ]
    }
   ],
   "source": [
    "from pyspark.sql import functions as F\n",
    "\n",
    "# Agrupar por motivo de licença e calcular a média de duração\n",
    "media_duracao_licenca = (\n",
    "    df_spark\n",
    "    .groupBy('motivo_licenca')\n",
    "    .agg(F.avg('duracao_licenca').alias('media_duracao'))\n",
    ")\n",
    "\n",
    "# Encontrar a licença com a menor média de duração\n",
    "licenca_menor_media_duracao = (\n",
    "    media_duracao_licenca\n",
    "    .orderBy('media_duracao')\n",
    "    .select('motivo_licenca', 'media_duracao')\n",
    "    .first()\n",
    ")\n",
    "\n",
    "# Exibir a licença com a menor média de duração\n",
    "print(\"Licença com a menor média de duração:\")\n",
    "print(\"Motivo da Licença:\", licenca_menor_media_duracao['motivo_licenca'])\n",
    "print(\"Média de Duração:\", licenca_menor_media_duracao['media_duracao'])\n"
   ]
  },
  {
   "cell_type": "code",
   "execution_count": 298,
   "metadata": {},
   "outputs": [
    {
     "name": "stdout",
     "output_type": "stream",
     "text": [
      "Especialidade com o menor número de atendimentos:\n",
      "Especialidade: Ginecologista obstetra\n",
      "Número de Atendimentos: 151\n"
     ]
    }
   ],
   "source": [
    "from pyspark.sql import functions as F\n",
    "\n",
    "# Agrupar por especialidade e contar o número de atendimentos\n",
    "num_atendimentos_por_especialidade = (\n",
    "    df_spark\n",
    "    .groupBy('especialidade')\n",
    "    .agg(F.count('*').alias('num_atendimentos'))\n",
    ")\n",
    "\n",
    "# Encontrar a especialidade com o menor número de atendimentos\n",
    "especialidade_menor_atendimentos = (\n",
    "    num_atendimentos_por_especialidade\n",
    "    .orderBy('num_atendimentos')\n",
    "    .select('especialidade', 'num_atendimentos')\n",
    "    .first()\n",
    ")\n",
    "\n",
    "# Exibir a especialidade com o menor número de atendimentos\n",
    "print(\"Especialidade com o menor número de atendimentos:\")\n",
    "print(\"Especialidade:\", especialidade_menor_atendimentos['especialidade'])\n",
    "print(\"Número de Atendimentos:\", especialidade_menor_atendimentos['num_atendimentos'])\n",
    "\n"
   ]
  },
  {
   "cell_type": "code",
   "execution_count": 299,
   "metadata": {},
   "outputs": [
    {
     "name": "stdout",
     "output_type": "stream",
     "text": [
      "+-------------------+------------------+\n",
      "| estado_colaborador|    media_salarial|\n",
      "+-------------------+------------------+\n",
      "|           Maranhão| 6086.075609756099|\n",
      "|       Minas Gerais| 6025.771891891892|\n",
      "|               Pará| 6014.618571428572|\n",
      "|            Roraima| 5933.727297297298|\n",
      "|              Goiás| 5911.890555555557|\n",
      "|              Amapá| 5809.281666666667|\n",
      "|              Piauí| 5803.761282051282|\n",
      "|           Amazonas| 5713.387209302325|\n",
      "|              Ceará| 5707.987647058824|\n",
      "|        Mato Grosso|          5582.535|\n",
      "|          Tocantins| 5515.493863636364|\n",
      "|Rio Grande do Norte| 5454.649142857142|\n",
      "|     Santa Catarina| 5452.204444444444|\n",
      "|              Bahia| 5432.883548387096|\n",
      "|     Rio de Janeiro| 5413.823055555556|\n",
      "|            Paraíba|  5402.67756097561|\n",
      "|         Pernambuco|  5346.71606060606|\n",
      "|           Rondônia| 5345.994210526315|\n",
      "|            Alagoas|5230.0280555555555|\n",
      "|          São Paulo| 5213.783055555556|\n",
      "+-------------------+------------------+\n",
      "only showing top 20 rows\n",
      "\n"
     ]
    }
   ],
   "source": [
    "from pyspark.sql import functions as F\n",
    "\n",
    "# Tratar os valores ausentes substituindo por zero\n",
    "df_spark = df_spark.dropna(subset=['salario'])\n",
    "\n",
    "# Agrupar por estado e calcular a média salarial\n",
    "media_salarial_por_estado = (\n",
    "    df_spark\n",
    "    .groupBy('estado_colaborador')\n",
    "    .agg(F.avg('salario').alias('media_salarial'))\n",
    ")\n",
    "\n",
    "# Encontrar o estado com a maior média salarial\n",
    "estado_maior_media_salarial = (\n",
    "    media_salarial_por_estado\n",
    "    .orderBy(F.desc('media_salarial'))\n",
    "    .select('estado_colaborador', 'media_salarial')\n",
    "\n",
    ")\n",
    "\n",
    "estado_maior_media_salarial.show()\n"
   ]
  },
  {
   "cell_type": "code",
   "execution_count": null,
   "metadata": {},
   "outputs": [],
   "source": []
  }
 ],
 "metadata": {
  "kernelspec": {
   "display_name": "Python 3",
   "language": "python",
   "name": "python3"
  },
  "language_info": {
   "codemirror_mode": {
    "name": "ipython",
    "version": 3
   },
   "file_extension": ".py",
   "mimetype": "text/x-python",
   "name": "python",
   "nbconvert_exporter": "python",
   "pygments_lexer": "ipython3",
   "version": "3.10.12"
  }
 },
 "nbformat": 4,
 "nbformat_minor": 2
}
