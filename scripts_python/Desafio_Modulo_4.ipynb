{
 "cells": [
  {
   "cell_type": "code",
   "execution_count": 0,
   "metadata": {
    "application/vnd.databricks.v1+cell": {
     "cellMetadata": {
      "byteLimit": 2048000,
      "implicitDf": true,
      "rowLimit": 10000
     },
     "inputWidgets": {},
     "nuid": "7f3e592e-2edc-484d-b640-1bbfa6ca4b03",
     "showTitle": false,
     "title": ""
    }
   },
   "outputs": [
    {
     "output_type": "display_data",
     "data": {
      "text/html": [
       "<style scoped>\n",
       "  .table-result-container {\n",
       "    max-height: 300px;\n",
       "    overflow: auto;\n",
       "  }\n",
       "  table, th, td {\n",
       "    border: 1px solid black;\n",
       "    border-collapse: collapse;\n",
       "  }\n",
       "  th, td {\n",
       "    padding: 5px;\n",
       "  }\n",
       "  th {\n",
       "    text-align: left;\n",
       "  }\n",
       "</style><div class='table-result-container'><table class='table-result'><thead style='background-color: white'><tr><th> case_id</th><th>province</th><th>city</th><th>group</th><th>infection_case</th><th>confirmed</th><th>latitude</th><th>longitude</th></tr></thead><tbody><tr><td>1000001</td><td>Seoul</td><td>Yongsan-gu</td><td>TRUE</td><td>Itaewon Clubs</td><td>139</td><td>37.538621</td><td>126.992652</td></tr><tr><td>1000002</td><td>Seoul</td><td>Gwanak-gu</td><td>TRUE</td><td>Richway</td><td>119</td><td>37.48208</td><td>126.901384</td></tr><tr><td>1000003</td><td>Seoul</td><td>Guro-gu</td><td>TRUE</td><td>Guro-gu Call Center</td><td>95</td><td>37.508163</td><td>126.884387</td></tr><tr><td>1000004</td><td>Seoul</td><td>Yangcheon-gu</td><td>TRUE</td><td>Yangcheon Table Tennis Club</td><td>43</td><td>37.546061</td><td>126.874209</td></tr><tr><td>1000005</td><td>Seoul</td><td>Dobong-gu</td><td>TRUE</td><td>Day Care Center</td><td>43</td><td>37.679422</td><td>127.044374</td></tr><tr><td>1000006</td><td>Seoul</td><td>Guro-gu</td><td>TRUE</td><td>Manmin Central Church</td><td>41</td><td>37.481059</td><td>126.894343</td></tr><tr><td>1000007</td><td>Seoul</td><td>from other city</td><td>TRUE</td><td>SMR Newly Planted Churches Group</td><td>36</td><td>-</td><td>-</td></tr><tr><td>1000008</td><td>Seoul</td><td>Dongdaemun-gu</td><td>TRUE</td><td>Dongan Church</td><td>17</td><td>37.592888</td><td>127.056766</td></tr><tr><td>1000009</td><td>Seoul</td><td>from other city</td><td>TRUE</td><td>Coupang Logistics Center</td><td>25</td><td>-</td><td>-</td></tr><tr><td>1000010</td><td>Seoul</td><td>Gwanak-gu</td><td>TRUE</td><td>Wangsung Church</td><td>30</td><td>37.481735</td><td>126.930121</td></tr><tr><td>1000011</td><td>Seoul</td><td>Eunpyeong-gu</td><td>TRUE</td><td>Eunpyeong St. Mary's Hospital</td><td>14</td><td>37.63369</td><td>126.9165</td></tr><tr><td>1000012</td><td>Seoul</td><td>Seongdong-gu</td><td>TRUE</td><td>Seongdong-gu APT</td><td>13</td><td>37.55713</td><td>127.0403</td></tr><tr><td>1000013</td><td>Seoul</td><td>Jongno-gu</td><td>TRUE</td><td>Jongno Community Center</td><td>10</td><td>37.57681</td><td>127.006</td></tr><tr><td>1000014</td><td>Seoul</td><td>Gangnam-gu</td><td>TRUE</td><td>Samsung Medical Center</td><td>7</td><td>37.48825</td><td>127.08559</td></tr><tr><td>1000015</td><td>Seoul</td><td>Jung-gu</td><td>TRUE</td><td>Jung-gu Fashion Company</td><td>7</td><td>37.562405</td><td>126.984377</td></tr><tr><td>1000016</td><td>Seoul</td><td>Seodaemun-gu</td><td>TRUE</td><td>Yeonana News Class</td><td>5</td><td>37.558147</td><td>126.943799</td></tr><tr><td>1000017</td><td>Seoul</td><td>Jongno-gu</td><td>TRUE</td><td>Korea Campus Crusade of Christ</td><td>7</td><td>37.594782</td><td>126.968022</td></tr><tr><td>1000018</td><td>Seoul</td><td>Gangnam-gu</td><td>TRUE</td><td>Gangnam Yeoksam-dong gathering</td><td>6</td><td>-</td><td>-</td></tr><tr><td>1000019</td><td>Seoul</td><td>from other city</td><td>TRUE</td><td>Daejeon door-to-door sales</td><td>1</td><td>-</td><td>-</td></tr><tr><td>1000020</td><td>Seoul</td><td>Geumcheon-gu</td><td>TRUE</td><td>Geumcheon-gu rice milling machine manufacture</td><td>6</td><td>-</td><td>-</td></tr><tr><td>1000021</td><td>Seoul</td><td>from other city</td><td>TRUE</td><td>Shincheonji Church</td><td>8</td><td>-</td><td>-</td></tr><tr><td>1000022</td><td>Seoul</td><td>from other city</td><td>TRUE</td><td>Guri Collective Infection</td><td>5</td><td>-</td><td>-</td></tr><tr><td>1000023</td><td>Seoul</td><td>Jung-gu</td><td>TRUE</td><td>KB Life Insurance</td><td>13</td><td>37.560899</td><td>126.966998</td></tr><tr><td>1000024</td><td>Seoul</td><td>Yeongdeungpo-gu</td><td>TRUE</td><td>Yeongdeungpo Learning Institute</td><td>3</td><td>37.520846</td><td>126.931278</td></tr><tr><td>1000025</td><td>Seoul</td><td>Gangnam-gu</td><td>TRUE</td><td>Gangnam Dongin Church</td><td>1</td><td>37.522331</td><td>127.057388</td></tr><tr><td>1000026</td><td>Seoul</td><td>Yangcheon-gu</td><td>TRUE</td><td>Biblical Language study meeting</td><td>3</td><td>37.524623</td><td>126.843118</td></tr><tr><td>1000027</td><td>Seoul</td><td>Seocho-gu</td><td>TRUE</td><td>Seocho Family</td><td>5</td><td>-</td><td>-</td></tr><tr><td>1000028</td><td>Seoul</td><td>from other city</td><td>TRUE</td><td>Anyang Gunpo Pastors Group</td><td>1</td><td>-</td><td>-</td></tr><tr><td>1000029</td><td>Seoul</td><td>Gangnam-gu</td><td>TRUE</td><td>Samsung Fire & Marine Insurance</td><td>4</td><td>37.498279</td><td>127.030139</td></tr><tr><td>1000030</td><td>Seoul</td><td>Gangseo-gu</td><td>TRUE</td><td>SJ Investment Call Center</td><td>0</td><td>37.559649</td><td>126.835102</td></tr><tr><td>1000031</td><td>Seoul</td><td>from other city</td><td>TRUE</td><td>Yongin Brothers</td><td>4</td><td>-</td><td>-</td></tr><tr><td>1000032</td><td>Seoul</td><td>Jung-gu</td><td>TRUE</td><td>Seoul City Hall Station safety worker</td><td>3</td><td>37.565699</td><td>126.977079</td></tr><tr><td>1000033</td><td>Seoul</td><td>from other city</td><td>TRUE</td><td>Uiwang Logistics Center</td><td>2</td><td>-</td><td>-</td></tr><tr><td>1000034</td><td>Seoul</td><td>-</td><td>TRUE</td><td>Orange Life</td><td>1</td><td>-</td><td>-</td></tr><tr><td>1000035</td><td>Seoul</td><td>Guro-gu</td><td>TRUE</td><td>Daezayeon Korea</td><td>3</td><td>37.486837</td><td>126.893163</td></tr><tr><td>1000036</td><td>Seoul</td><td>-</td><td>FALSE</td><td>overseas inflow</td><td>298</td><td>-</td><td>-</td></tr><tr><td>1000037</td><td>Seoul</td><td>-</td><td>FALSE</td><td>contact with patient</td><td>162</td><td>-</td><td>-</td></tr><tr><td>1000038</td><td>Seoul</td><td>-</td><td>FALSE</td><td>etc</td><td>100</td><td>-</td><td>-</td></tr><tr><td>1100001</td><td>Busan</td><td>Dongnae-gu</td><td>TRUE</td><td>Onchun Church</td><td>39</td><td>35.21628</td><td>129.0771</td></tr><tr><td>1100002</td><td>Busan</td><td>from other city</td><td>TRUE</td><td>Shincheonji Church</td><td>12</td><td>-</td><td>-</td></tr><tr><td>1100003</td><td>Busan</td><td>Suyeong-gu</td><td>TRUE</td><td>Suyeong-gu Kindergarten</td><td>5</td><td>35.16708</td><td>129.1124</td></tr><tr><td>1100004</td><td>Busan</td><td>Haeundae-gu</td><td>TRUE</td><td>Haeundae-gu Catholic Church</td><td>6</td><td>35.20599</td><td>129.1256</td></tr><tr><td>1100005</td><td>Busan</td><td>Jin-gu</td><td>TRUE</td><td>Jin-gu Academy</td><td>4</td><td>35.17371</td><td>129.0633</td></tr><tr><td>1100006</td><td>Busan</td><td>from other city</td><td>TRUE</td><td>Itaewon Clubs</td><td>4</td><td>-</td><td>-</td></tr><tr><td>1100007</td><td>Busan</td><td>from other city</td><td>TRUE</td><td>Cheongdo Daenam Hospital</td><td>1</td><td>-</td><td>-</td></tr><tr><td>1100008</td><td>Busan</td><td>-</td><td>FALSE</td><td>overseas inflow</td><td>36</td><td>-</td><td>-</td></tr><tr><td>1100009</td><td>Busan</td><td>-</td><td>FALSE</td><td>contact with patient</td><td>19</td><td>-</td><td>-</td></tr><tr><td>1100010</td><td>Busan</td><td>-</td><td>FALSE</td><td>etc</td><td>30</td><td>-</td><td>-</td></tr><tr><td>1200001</td><td>Daegu</td><td>Nam-gu</td><td>TRUE</td><td>Shincheonji Church</td><td>4511</td><td>35.84008</td><td>128.5667</td></tr><tr><td>1200002</td><td>Daegu</td><td>Dalseong-gun</td><td>TRUE</td><td>Second Mi-Ju Hospital</td><td>196</td><td>35.857375</td><td>128.466651</td></tr><tr><td>1200003</td><td>Daegu</td><td>Seo-gu</td><td>TRUE</td><td>Hansarang Convalescent Hospital</td><td>124</td><td>35.885592</td><td>128.556649</td></tr><tr><td>1200004</td><td>Daegu</td><td>Dalseong-gun</td><td>TRUE</td><td>Daesil Convalescent Hospital</td><td>101</td><td>35.857393</td><td>128.466653</td></tr><tr><td>1200005</td><td>Daegu</td><td>Dong-gu</td><td>TRUE</td><td>Fatima Hospital</td><td>39</td><td>35.88395</td><td>128.624059</td></tr><tr><td>1200006</td><td>Daegu</td><td>from other city</td><td>TRUE</td><td>Itaewon Clubs</td><td>2</td><td>-</td><td>-</td></tr><tr><td>1200007</td><td>Daegu</td><td>from other city</td><td>TRUE</td><td>Cheongdo Daenam Hospital</td><td>2</td><td>-</td><td>-</td></tr><tr><td>1200008</td><td>Daegu</td><td>-</td><td>FALSE</td><td>overseas inflow</td><td>41</td><td>-</td><td>-</td></tr><tr><td>1200009</td><td>Daegu</td><td>-</td><td>FALSE</td><td>contact with patient</td><td>917</td><td>-</td><td>-</td></tr><tr><td>1200010</td><td>Daegu</td><td>-</td><td>FALSE</td><td>etc</td><td>747</td><td>-</td><td>-</td></tr><tr><td>1300001</td><td>Gwangju</td><td>Dong-gu</td><td>TRUE</td><td>Gwangneuksa Temple</td><td>5</td><td>35.136035</td><td>126.956405</td></tr><tr><td>1300002</td><td>Gwangju</td><td>from other city</td><td>TRUE</td><td>Shincheonji Church</td><td>9</td><td>-</td><td>-</td></tr><tr><td>1300003</td><td>Gwangju</td><td>-</td><td>FALSE</td><td>overseas inflow</td><td>23</td><td>-</td><td>-</td></tr><tr><td>1300004</td><td>Gwangju</td><td>-</td><td>FALSE</td><td>contact with patient</td><td>5</td><td>-</td><td>-</td></tr><tr><td>1300005</td><td>Gwangju</td><td>-</td><td>FALSE</td><td>etc</td><td>1</td><td>-</td><td>-</td></tr><tr><td>1400001</td><td>Incheon</td><td>from other city</td><td>TRUE</td><td>Itaewon Clubs</td><td>53</td><td>-</td><td>-</td></tr><tr><td>1400002</td><td>Incheon</td><td>from other city</td><td>TRUE</td><td>Coupang Logistics Center</td><td>42</td><td>-</td><td>-</td></tr><tr><td>1400003</td><td>Incheon</td><td>from other city</td><td>TRUE</td><td>Guro-gu Call Center</td><td>20</td><td>-</td><td>-</td></tr><tr><td>1400004</td><td>Incheon</td><td>from other city</td><td>TRUE</td><td>Shincheonji Church</td><td>2</td><td>-</td><td>-</td></tr><tr><td>1400005</td><td>Incheon</td><td>-</td><td>FALSE</td><td>overseas inflow</td><td>68</td><td>-</td><td>-</td></tr><tr><td>1400006</td><td>Incheon</td><td>-</td><td>FALSE</td><td>contact with patient</td><td>6</td><td>-</td><td>-</td></tr><tr><td>1400007</td><td>Incheon</td><td>-</td><td>FALSE</td><td>etc</td><td>11</td><td>-</td><td>-</td></tr><tr><td>1500001</td><td>Daejeon</td><td>-</td><td>TRUE</td><td>Door-to-door sales in Daejeon</td><td>55</td><td>-</td><td>-</td></tr><tr><td>1500002</td><td>Daejeon</td><td>Seo-gu</td><td>TRUE</td><td>Dunsan Electronics Town</td><td>13</td><td>36.3400973</td><td>127.3927099</td></tr><tr><td>1500003</td><td>Daejeon</td><td>Seo-gu</td><td>TRUE</td><td>Orange Town</td><td>7</td><td>36.3398739</td><td>127.3819744</td></tr><tr><td>1500004</td><td>Daejeon</td><td>Seo-gu</td><td>TRUE</td><td>Dreaming Church</td><td>4</td><td>36.346869</td><td>127.368594</td></tr><tr><td>1500005</td><td>Daejeon</td><td>Seo-gu</td><td>TRUE</td><td>Korea Forest Engineer Institute</td><td>3</td><td>36.358123</td><td>127.388856</td></tr><tr><td>1500006</td><td>Daejeon</td><td>from other city</td><td>TRUE</td><td>Shincheonji Church</td><td>2</td><td>-</td><td>-</td></tr><tr><td>1500007</td><td>Daejeon</td><td>from other city</td><td>TRUE</td><td>Seosan-si Laboratory</td><td>2</td><td>-</td><td>-</td></tr><tr><td>1500008</td><td>Daejeon</td><td>-</td><td>FALSE</td><td>overseas inflow</td><td>15</td><td>-</td><td>-</td></tr><tr><td>1500009</td><td>Daejeon</td><td>-</td><td>FALSE</td><td>contact with patient</td><td>15</td><td>-</td><td>-</td></tr><tr><td>1500010</td><td>Daejeon</td><td>-</td><td>FALSE</td><td>etc</td><td>15</td><td>-</td><td>-</td></tr><tr><td>1600001</td><td>Ulsan</td><td>from other city</td><td>TRUE</td><td>Shincheonji Church</td><td>16</td><td>-</td><td>-</td></tr><tr><td>1600002</td><td>Ulsan</td><td>-</td><td>FALSE</td><td>overseas inflow</td><td>25</td><td>-</td><td>-</td></tr><tr><td>1600003</td><td>Ulsan</td><td>-</td><td>FALSE</td><td>contact with patient</td><td>3</td><td>-</td><td>-</td></tr><tr><td>1600004</td><td>Ulsan</td><td>-</td><td>FALSE</td><td>etc</td><td>7</td><td>-</td><td>-</td></tr><tr><td>1700001</td><td>Sejong</td><td>Sejong</td><td>TRUE</td><td>Ministry of Oceans and Fisheries</td><td>31</td><td>36.504713</td><td>127.265172</td></tr><tr><td>1700002</td><td>Sejong</td><td>Sejong</td><td>TRUE</td><td>gym facility in Sejong</td><td>8</td><td>36.48025</td><td>127.289</td></tr><tr><td>1700003</td><td>Sejong</td><td>from other city</td><td>TRUE</td><td>Shincheonji Church</td><td>1</td><td>-</td><td>-</td></tr><tr><td>1700004</td><td>Sejong</td><td>-</td><td>FALSE</td><td>overseas inflow</td><td>5</td><td>-</td><td>-</td></tr><tr><td>1700005</td><td>Sejong</td><td>-</td><td>FALSE</td><td>contact with patient</td><td>3</td><td>-</td><td>-</td></tr><tr><td>1700006</td><td>Sejong</td><td>-</td><td>FALSE</td><td>etc</td><td>1</td><td>-</td><td>-</td></tr><tr><td>2000001</td><td>Gyeonggi-do</td><td>Seongnam-si</td><td>TRUE</td><td>River of Grace Community Church</td><td>67</td><td>37.455687</td><td>127.161627</td></tr><tr><td>2000002</td><td>Gyeonggi-do</td><td>Bucheon-si</td><td>TRUE</td><td>Coupang Logistics Center</td><td>67</td><td>37.530579</td><td>126.775254</td></tr><tr><td>2000003</td><td>Gyeonggi-do</td><td>from other city</td><td>TRUE</td><td>Itaewon Clubs</td><td>59</td><td>-</td><td>-</td></tr><tr><td>2000004</td><td>Gyeonggi-do</td><td>from other city</td><td>TRUE</td><td>Richway</td><td>58</td><td>-</td><td>-</td></tr><tr><td>2000005</td><td>Gyeonggi-do</td><td>Uijeongbu-si</td><td>TRUE</td><td>Uijeongbu St. Mary’s Hospital</td><td>50</td><td>37.758635</td><td>127.077716</td></tr><tr><td>2000006</td><td>Gyeonggi-do</td><td>from other city</td><td>TRUE</td><td>Guro-gu Call Center</td><td>50</td><td>-</td><td>-</td></tr><tr><td>2000007</td><td>Gyeonggi-do</td><td>from other city</td><td>TRUE</td><td>Shincheonji Church</td><td>29</td><td>-</td><td>-</td></tr><tr><td>2000008</td><td>Gyeonggi-do</td><td>from other city</td><td>TRUE</td><td>Yangcheon Table Tennis Club</td><td>28</td><td>-</td><td>-</td></tr><tr><td>2000009</td><td>Gyeonggi-do</td><td>-</td><td>TRUE</td><td>SMR Newly Planted Churches Group</td><td>25</td><td>-</td><td>-</td></tr><tr><td>2000010</td><td>Gyeonggi-do</td><td>Seongnam-si</td><td>TRUE</td><td>Bundang Jesaeng Hospital</td><td>22</td><td>37.38833</td><td>127.1218</td></tr><tr><td>2000011</td><td>Gyeonggi-do</td><td>Anyang-si</td><td>TRUE</td><td>Anyang Gunpo Pastors Group</td><td>22</td><td>37.381784</td><td>126.93615</td></tr><tr><td>2000012</td><td>Gyeonggi-do</td><td>Suwon-si</td><td>TRUE</td><td>Lotte Confectionery logistics center</td><td>15</td><td>37.287356</td><td>127.013827</td></tr><tr><td>2000013</td><td>Gyeonggi-do</td><td>Anyang-si</td><td>TRUE</td><td>Lord Glory Church</td><td>17</td><td>37.403722</td><td>126.954939</td></tr><tr><td>2000014</td><td>Gyeonggi-do</td><td>Suwon-si</td><td>TRUE</td><td>Suwon Saeng Myeong Saem Church</td><td>10</td><td>37.2376</td><td>127.0517</td></tr><tr><td>2000015</td><td>Gyeonggi-do</td><td>from other city</td><td>TRUE</td><td>Korea Campus Crusade of Christ</td><td>7</td><td>-</td><td>-</td></tr><tr><td>2000016</td><td>Gyeonggi-do</td><td>from other city</td><td>TRUE</td><td>Geumcheon-gu rice milling machine manufacture</td><td>6</td><td>-</td><td>-</td></tr><tr><td>2000017</td><td>Gyeonggi-do</td><td>from other city</td><td>TRUE</td><td>Wangsung Church</td><td>6</td><td>-</td><td>-</td></tr><tr><td>2000018</td><td>Gyeonggi-do</td><td>from other city</td><td>TRUE</td><td>Seoul City Hall Station safety worker</td><td>5</td><td>-</td><td>-</td></tr><tr><td>2000019</td><td>Gyeonggi-do</td><td>Seongnam-si</td><td>TRUE</td><td>Seongnam neighbors gathering</td><td>5</td><td>-</td><td>-</td></tr><tr><td>2000020</td><td>Gyeonggi-do</td><td>-</td><td>FALSE</td><td>overseas inflow</td><td>305</td><td>-</td><td>-</td></tr><tr><td>2000021</td><td>Gyeonggi-do</td><td>-</td><td>FALSE</td><td>contact with patient</td><td>63</td><td>-</td><td>-</td></tr><tr><td>2000022</td><td>Gyeonggi-do</td><td>-</td><td>FALSE</td><td>etc</td><td>84</td><td>-</td><td>-</td></tr><tr><td>3000001</td><td>Gangwon-do</td><td>from other city</td><td>TRUE</td><td>Shincheonji Church</td><td>17</td><td>-</td><td>-</td></tr><tr><td>3000002</td><td>Gangwon-do</td><td>from other city</td><td>TRUE</td><td>Uijeongbu St. Mary’s Hospital</td><td>10</td><td>-</td><td>-</td></tr><tr><td>3000003</td><td>Gangwon-do</td><td>Wonju-si</td><td>TRUE</td><td>Wonju-si Apartments</td><td>4</td><td>37.342762</td><td>127.983815</td></tr><tr><td>3000004</td><td>Gangwon-do</td><td>from other city</td><td>TRUE</td><td>Richway</td><td>4</td><td>-</td><td>-</td></tr><tr><td>3000005</td><td>Gangwon-do</td><td>from other city</td><td>TRUE</td><td>Geumcheon-gu rice milling machine manufacture</td><td>4</td><td>-</td><td>-</td></tr><tr><td>3000006</td><td>Gangwon-do</td><td>-</td><td>FALSE</td><td>overseas inflow</td><td>16</td><td>-</td><td>-</td></tr><tr><td>3000007</td><td>Gangwon-do</td><td>-</td><td>FALSE</td><td>contact with patient</td><td>0</td><td>-</td><td>-</td></tr><tr><td>3000008</td><td>Gangwon-do</td><td>-</td><td>FALSE</td><td>etc</td><td>7</td><td>-</td><td>-</td></tr><tr><td>4000001</td><td>Chungcheongbuk-do</td><td>Goesan-gun</td><td>TRUE</td><td>Goesan-gun Jangyeon-myeon</td><td>11</td><td>36.82422</td><td>127.9552</td></tr><tr><td>4000002</td><td>Chungcheongbuk-do</td><td>from other city</td><td>TRUE</td><td>Itaewon Clubs</td><td>9</td><td>-</td><td>-</td></tr><tr><td>4000003</td><td>Chungcheongbuk-do</td><td>from other city</td><td>TRUE</td><td>Guro-gu Call Center</td><td>2</td><td>-</td><td>-</td></tr><tr><td>4000004</td><td>Chungcheongbuk-do</td><td>from other city</td><td>TRUE</td><td>Shincheonji Church</td><td>6</td><td>-</td><td>-</td></tr><tr><td>4000005</td><td>Chungcheongbuk-do</td><td>-</td><td>FALSE</td><td>overseas inflow</td><td>13</td><td>-</td><td>-</td></tr><tr><td>4000006</td><td>Chungcheongbuk-do</td><td>-</td><td>FALSE</td><td>contact with patient</td><td>8</td><td>-</td><td>-</td></tr><tr><td>4000007</td><td>Chungcheongbuk-do</td><td>-</td><td>FALSE</td><td>etc</td><td>11</td><td>-</td><td>-</td></tr><tr><td>4100001</td><td>Chungcheongnam-do</td><td>Cheonan-si</td><td>TRUE</td><td>gym facility in Cheonan</td><td>103</td><td>36.81503</td><td>127.1139</td></tr><tr><td>4100002</td><td>Chungcheongnam-do</td><td>from other city</td><td>TRUE</td><td>Door-to-door sales in Daejeon</td><td>10</td><td>-</td><td>-</td></tr><tr><td>4100003</td><td>Chungcheongnam-do</td><td>Seosan-si</td><td>TRUE</td><td>Seosan-si Laboratory</td><td>9</td><td>37.000354</td><td>126.354443</td></tr><tr><td>4100004</td><td>Chungcheongnam-do</td><td>from other city</td><td>TRUE</td><td>Richway</td><td>3</td><td>-</td><td>-</td></tr><tr><td>4100005</td><td>Chungcheongnam-do</td><td>from other city</td><td>TRUE</td><td>Eunpyeong-Boksagol culture center</td><td>3</td><td>-</td><td>-</td></tr><tr><td>4100006</td><td>Chungcheongnam-do</td><td>-</td><td>FALSE</td><td>overseas inflow</td><td>16</td><td>-</td><td>-</td></tr><tr><td>4100007</td><td>Chungcheongnam-do</td><td>-</td><td>FALSE</td><td>contact with patient</td><td>2</td><td>-</td><td>-</td></tr><tr><td>4100008</td><td>Chungcheongnam-do</td><td>-</td><td>FALSE</td><td>etc</td><td>12</td><td>-</td><td>-</td></tr><tr><td>5000001</td><td>Jeollabuk-do</td><td>from other city</td><td>TRUE</td><td>Itaewon Clubs</td><td>2</td><td>-</td><td>-</td></tr><tr><td>5000002</td><td>Jeollabuk-do</td><td>from other city</td><td>TRUE</td><td>Door-to-door sales in Daejeon</td><td>3</td><td>-</td><td>-</td></tr><tr><td>5000003</td><td>Jeollabuk-do</td><td>from other city</td><td>TRUE</td><td>Shincheonji Church</td><td>1</td><td>-</td><td>-</td></tr><tr><td>5000004</td><td>Jeollabuk-do</td><td>-</td><td>FALSE</td><td>overseas inflow</td><td>12</td><td>-</td><td>-</td></tr><tr><td>5000005</td><td>Jeollabuk-do</td><td>-</td><td>FALSE</td><td>etc</td><td>5</td><td>-</td><td>-</td></tr><tr><td>5100001</td><td>Jeollanam-do</td><td>Muan-gun</td><td>TRUE</td><td>Manmin Central Church</td><td>2</td><td>35.078825</td><td>126.316746</td></tr><tr><td>5100002</td><td>Jeollanam-do</td><td>from other city</td><td>TRUE</td><td>Shincheonji Church</td><td>1</td><td>-</td><td>-</td></tr><tr><td>5100003</td><td>Jeollanam-do</td><td>-</td><td>FALSE</td><td>overseas inflow</td><td>14</td><td>-</td><td>-</td></tr><tr><td>5100004</td><td>Jeollanam-do</td><td>-</td><td>FALSE</td><td>contact with patient</td><td>4</td><td>-</td><td>-</td></tr><tr><td>5100005</td><td>Jeollanam-do</td><td>-</td><td>FALSE</td><td>etc</td><td>4</td><td>-</td><td>-</td></tr><tr><td>6000001</td><td>Gyeongsangbuk-do</td><td>from other city</td><td>TRUE</td><td>Shincheonji Church</td><td>566</td><td>-</td><td>-</td></tr><tr><td>6000002</td><td>Gyeongsangbuk-do</td><td>Cheongdo-gun</td><td>TRUE</td><td>Cheongdo Daenam Hospital</td><td>119</td><td>35.64887</td><td>128.7368</td></tr><tr><td>6000003</td><td>Gyeongsangbuk-do</td><td>Bonghwa-gun</td><td>TRUE</td><td>Bonghwa Pureun Nursing Home</td><td>68</td><td>36.92757</td><td>128.9099</td></tr><tr><td>6000004</td><td>Gyeongsangbuk-do</td><td>Gyeongsan-si</td><td>TRUE</td><td>Gyeongsan Seorin Nursing Home</td><td>66</td><td>35.782149</td><td>128.801498</td></tr><tr><td>6000005</td><td>Gyeongsangbuk-do</td><td>from other city</td><td>TRUE</td><td>Pilgrimage to Israel</td><td>41</td><td>-</td><td>-</td></tr><tr><td>6000006</td><td>Gyeongsangbuk-do</td><td>Yechun-gun</td><td>TRUE</td><td>Yechun-gun</td><td>40</td><td>36.646845</td><td>128.437416</td></tr><tr><td>6000007</td><td>Gyeongsangbuk-do</td><td>Chilgok-gun</td><td>TRUE</td><td>Milal Shelter</td><td>36</td><td>36.0581</td><td>128.4941</td></tr><tr><td>6000008</td><td>Gyeongsangbuk-do</td><td>Gyeongsan-si</td><td>TRUE</td><td>Gyeongsan Jeil Silver Town</td><td>17</td><td>35.84819</td><td>128.7621</td></tr><tr><td>6000009</td><td>Gyeongsangbuk-do</td><td>Gyeongsan-si</td><td>TRUE</td><td>Gyeongsan Cham Joeun Community Center</td><td>16</td><td>35.82558</td><td>128.7373</td></tr><tr><td>6000010</td><td>Gyeongsangbuk-do</td><td>Gumi-si</td><td>TRUE</td><td>Gumi Elim Church</td><td>10</td><td>-</td><td>-</td></tr><tr><td>6000011</td><td>Gyeongsangbuk-do</td><td>-</td><td>FALSE</td><td>overseas inflow</td><td>22</td><td>-</td><td>-</td></tr><tr><td>6000012</td><td>Gyeongsangbuk-do</td><td>-</td><td>FALSE</td><td>contact with patient</td><td>190</td><td>-</td><td>-</td></tr><tr><td>6000013</td><td>Gyeongsangbuk-do</td><td>-</td><td>FALSE</td><td>etc</td><td>133</td><td>-</td><td>-</td></tr><tr><td>6100001</td><td>Gyeongsangnam-do</td><td>from other city</td><td>TRUE</td><td>Shincheonji Church</td><td>32</td><td>-</td><td>-</td></tr><tr><td>6100002</td><td>Gyeongsangnam-do</td><td>Geochang-gun</td><td>TRUE</td><td>Geochang Church</td><td>10</td><td>35.68556</td><td>127.9127</td></tr><tr><td>6100003</td><td>Gyeongsangnam-do</td><td>Jinju-si</td><td>TRUE</td><td>Wings Tower</td><td>9</td><td>35.164845</td><td>128.126969</td></tr><tr><td>6100004</td><td>Gyeongsangnam-do</td><td>Geochang-gun</td><td>TRUE</td><td>Geochang-gun Woongyang-myeon</td><td>8</td><td>35.805681</td><td>127.917805</td></tr><tr><td>6100005</td><td>Gyeongsangnam-do</td><td>Changwon-si</td><td>TRUE</td><td>Hanmaeum Changwon Hospital</td><td>7</td><td>35.22115</td><td>128.6866</td></tr><tr><td>6100006</td><td>Gyeongsangnam-do</td><td>Changnyeong-gun</td><td>TRUE</td><td>Changnyeong Coin Karaoke</td><td>7</td><td>35.54127</td><td>128.5008</td></tr><tr><td>6100007</td><td>Gyeongsangnam-do</td><td>Yangsan-si</td><td>TRUE</td><td>Soso Seowon</td><td>3</td><td>35.338811</td><td>129.017508</td></tr><tr><td>6100008</td><td>Gyeongsangnam-do</td><td>from other city</td><td>TRUE</td><td>Itaewon Clubs</td><td>2</td><td>-</td><td>-</td></tr><tr><td>6100009</td><td>Gyeongsangnam-do</td><td>from other city</td><td>TRUE</td><td>Onchun Church</td><td>2</td><td>-</td><td>-</td></tr><tr><td>6100010</td><td>Gyeongsangnam-do</td><td>-</td><td>FALSE</td><td>overseas inflow</td><td>26</td><td>-</td><td>-</td></tr><tr><td>6100011</td><td>Gyeongsangnam-do</td><td>-</td><td>FALSE</td><td>contact with patient</td><td>6</td><td>-</td><td>-</td></tr><tr><td>6100012</td><td>Gyeongsangnam-do</td><td>-</td><td>FALSE</td><td>etc</td><td>20</td><td>-</td><td>-</td></tr><tr><td>7000001</td><td>Jeju-do</td><td>-</td><td>FALSE</td><td>overseas inflow</td><td>14</td><td>-</td><td>-</td></tr><tr><td>7000002</td><td>Jeju-do</td><td>-</td><td>FALSE</td><td>contact with patient</td><td>0</td><td>-</td><td>-</td></tr><tr><td>7000003</td><td>Jeju-do</td><td>-</td><td>FALSE</td><td>etc</td><td>4</td><td>-</td><td>-</td></tr><tr><td>7000004</td><td>Jeju-do</td><td>from other city</td><td>TRUE</td><td>Itaewon Clubs</td><td>1</td><td>-</td><td>-</td></tr></tbody></table></div>"
      ]
     },
     "metadata": {
      "application/vnd.databricks.v1+output": {
       "addedWidgets": {},
       "aggData": [],
       "aggError": "",
       "aggOverflow": false,
       "aggSchema": [],
       "aggSeriesLimitReached": false,
       "aggType": "",
       "arguments": {},
       "columnCustomDisplayInfos": {},
       "data": [
        [
         "1000001",
         "Seoul",
         "Yongsan-gu",
         "TRUE",
         "Itaewon Clubs",
         "139",
         "37.538621",
         "126.992652"
        ],
        [
         "1000002",
         "Seoul",
         "Gwanak-gu",
         "TRUE",
         "Richway",
         "119",
         "37.48208",
         "126.901384"
        ],
        [
         "1000003",
         "Seoul",
         "Guro-gu",
         "TRUE",
         "Guro-gu Call Center",
         "95",
         "37.508163",
         "126.884387"
        ],
        [
         "1000004",
         "Seoul",
         "Yangcheon-gu",
         "TRUE",
         "Yangcheon Table Tennis Club",
         "43",
         "37.546061",
         "126.874209"
        ],
        [
         "1000005",
         "Seoul",
         "Dobong-gu",
         "TRUE",
         "Day Care Center",
         "43",
         "37.679422",
         "127.044374"
        ],
        [
         "1000006",
         "Seoul",
         "Guro-gu",
         "TRUE",
         "Manmin Central Church",
         "41",
         "37.481059",
         "126.894343"
        ],
        [
         "1000007",
         "Seoul",
         "from other city",
         "TRUE",
         "SMR Newly Planted Churches Group",
         "36",
         "-",
         "-"
        ],
        [
         "1000008",
         "Seoul",
         "Dongdaemun-gu",
         "TRUE",
         "Dongan Church",
         "17",
         "37.592888",
         "127.056766"
        ],
        [
         "1000009",
         "Seoul",
         "from other city",
         "TRUE",
         "Coupang Logistics Center",
         "25",
         "-",
         "-"
        ],
        [
         "1000010",
         "Seoul",
         "Gwanak-gu",
         "TRUE",
         "Wangsung Church",
         "30",
         "37.481735",
         "126.930121"
        ],
        [
         "1000011",
         "Seoul",
         "Eunpyeong-gu",
         "TRUE",
         "Eunpyeong St. Mary's Hospital",
         "14",
         "37.63369",
         "126.9165"
        ],
        [
         "1000012",
         "Seoul",
         "Seongdong-gu",
         "TRUE",
         "Seongdong-gu APT",
         "13",
         "37.55713",
         "127.0403"
        ],
        [
         "1000013",
         "Seoul",
         "Jongno-gu",
         "TRUE",
         "Jongno Community Center",
         "10",
         "37.57681",
         "127.006"
        ],
        [
         "1000014",
         "Seoul",
         "Gangnam-gu",
         "TRUE",
         "Samsung Medical Center",
         "7",
         "37.48825",
         "127.08559"
        ],
        [
         "1000015",
         "Seoul",
         "Jung-gu",
         "TRUE",
         "Jung-gu Fashion Company",
         "7",
         "37.562405",
         "126.984377"
        ],
        [
         "1000016",
         "Seoul",
         "Seodaemun-gu",
         "TRUE",
         "Yeonana News Class",
         "5",
         "37.558147",
         "126.943799"
        ],
        [
         "1000017",
         "Seoul",
         "Jongno-gu",
         "TRUE",
         "Korea Campus Crusade of Christ",
         "7",
         "37.594782",
         "126.968022"
        ],
        [
         "1000018",
         "Seoul",
         "Gangnam-gu",
         "TRUE",
         "Gangnam Yeoksam-dong gathering",
         "6",
         "-",
         "-"
        ],
        [
         "1000019",
         "Seoul",
         "from other city",
         "TRUE",
         "Daejeon door-to-door sales",
         "1",
         "-",
         "-"
        ],
        [
         "1000020",
         "Seoul",
         "Geumcheon-gu",
         "TRUE",
         "Geumcheon-gu rice milling machine manufacture",
         "6",
         "-",
         "-"
        ],
        [
         "1000021",
         "Seoul",
         "from other city",
         "TRUE",
         "Shincheonji Church",
         "8",
         "-",
         "-"
        ],
        [
         "1000022",
         "Seoul",
         "from other city",
         "TRUE",
         "Guri Collective Infection",
         "5",
         "-",
         "-"
        ],
        [
         "1000023",
         "Seoul",
         "Jung-gu",
         "TRUE",
         "KB Life Insurance",
         "13",
         "37.560899",
         "126.966998"
        ],
        [
         "1000024",
         "Seoul",
         "Yeongdeungpo-gu",
         "TRUE",
         "Yeongdeungpo Learning Institute",
         "3",
         "37.520846",
         "126.931278"
        ],
        [
         "1000025",
         "Seoul",
         "Gangnam-gu",
         "TRUE",
         "Gangnam Dongin Church",
         "1",
         "37.522331",
         "127.057388"
        ],
        [
         "1000026",
         "Seoul",
         "Yangcheon-gu",
         "TRUE",
         "Biblical Language study meeting",
         "3",
         "37.524623",
         "126.843118"
        ],
        [
         "1000027",
         "Seoul",
         "Seocho-gu",
         "TRUE",
         "Seocho Family",
         "5",
         "-",
         "-"
        ],
        [
         "1000028",
         "Seoul",
         "from other city",
         "TRUE",
         "Anyang Gunpo Pastors Group",
         "1",
         "-",
         "-"
        ],
        [
         "1000029",
         "Seoul",
         "Gangnam-gu",
         "TRUE",
         "Samsung Fire & Marine Insurance",
         "4",
         "37.498279",
         "127.030139"
        ],
        [
         "1000030",
         "Seoul",
         "Gangseo-gu",
         "TRUE",
         "SJ Investment Call Center",
         "0",
         "37.559649",
         "126.835102"
        ],
        [
         "1000031",
         "Seoul",
         "from other city",
         "TRUE",
         "Yongin Brothers",
         "4",
         "-",
         "-"
        ],
        [
         "1000032",
         "Seoul",
         "Jung-gu",
         "TRUE",
         "Seoul City Hall Station safety worker",
         "3",
         "37.565699",
         "126.977079"
        ],
        [
         "1000033",
         "Seoul",
         "from other city",
         "TRUE",
         "Uiwang Logistics Center",
         "2",
         "-",
         "-"
        ],
        [
         "1000034",
         "Seoul",
         "-",
         "TRUE",
         "Orange Life",
         "1",
         "-",
         "-"
        ],
        [
         "1000035",
         "Seoul",
         "Guro-gu",
         "TRUE",
         "Daezayeon Korea",
         "3",
         "37.486837",
         "126.893163"
        ],
        [
         "1000036",
         "Seoul",
         "-",
         "FALSE",
         "overseas inflow",
         "298",
         "-",
         "-"
        ],
        [
         "1000037",
         "Seoul",
         "-",
         "FALSE",
         "contact with patient",
         "162",
         "-",
         "-"
        ],
        [
         "1000038",
         "Seoul",
         "-",
         "FALSE",
         "etc",
         "100",
         "-",
         "-"
        ],
        [
         "1100001",
         "Busan",
         "Dongnae-gu",
         "TRUE",
         "Onchun Church",
         "39",
         "35.21628",
         "129.0771"
        ],
        [
         "1100002",
         "Busan",
         "from other city",
         "TRUE",
         "Shincheonji Church",
         "12",
         "-",
         "-"
        ],
        [
         "1100003",
         "Busan",
         "Suyeong-gu",
         "TRUE",
         "Suyeong-gu Kindergarten",
         "5",
         "35.16708",
         "129.1124"
        ],
        [
         "1100004",
         "Busan",
         "Haeundae-gu",
         "TRUE",
         "Haeundae-gu Catholic Church",
         "6",
         "35.20599",
         "129.1256"
        ],
        [
         "1100005",
         "Busan",
         "Jin-gu",
         "TRUE",
         "Jin-gu Academy",
         "4",
         "35.17371",
         "129.0633"
        ],
        [
         "1100006",
         "Busan",
         "from other city",
         "TRUE",
         "Itaewon Clubs",
         "4",
         "-",
         "-"
        ],
        [
         "1100007",
         "Busan",
         "from other city",
         "TRUE",
         "Cheongdo Daenam Hospital",
         "1",
         "-",
         "-"
        ],
        [
         "1100008",
         "Busan",
         "-",
         "FALSE",
         "overseas inflow",
         "36",
         "-",
         "-"
        ],
        [
         "1100009",
         "Busan",
         "-",
         "FALSE",
         "contact with patient",
         "19",
         "-",
         "-"
        ],
        [
         "1100010",
         "Busan",
         "-",
         "FALSE",
         "etc",
         "30",
         "-",
         "-"
        ],
        [
         "1200001",
         "Daegu",
         "Nam-gu",
         "TRUE",
         "Shincheonji Church",
         "4511",
         "35.84008",
         "128.5667"
        ],
        [
         "1200002",
         "Daegu",
         "Dalseong-gun",
         "TRUE",
         "Second Mi-Ju Hospital",
         "196",
         "35.857375",
         "128.466651"
        ],
        [
         "1200003",
         "Daegu",
         "Seo-gu",
         "TRUE",
         "Hansarang Convalescent Hospital",
         "124",
         "35.885592",
         "128.556649"
        ],
        [
         "1200004",
         "Daegu",
         "Dalseong-gun",
         "TRUE",
         "Daesil Convalescent Hospital",
         "101",
         "35.857393",
         "128.466653"
        ],
        [
         "1200005",
         "Daegu",
         "Dong-gu",
         "TRUE",
         "Fatima Hospital",
         "39",
         "35.88395",
         "128.624059"
        ],
        [
         "1200006",
         "Daegu",
         "from other city",
         "TRUE",
         "Itaewon Clubs",
         "2",
         "-",
         "-"
        ],
        [
         "1200007",
         "Daegu",
         "from other city",
         "TRUE",
         "Cheongdo Daenam Hospital",
         "2",
         "-",
         "-"
        ],
        [
         "1200008",
         "Daegu",
         "-",
         "FALSE",
         "overseas inflow",
         "41",
         "-",
         "-"
        ],
        [
         "1200009",
         "Daegu",
         "-",
         "FALSE",
         "contact with patient",
         "917",
         "-",
         "-"
        ],
        [
         "1200010",
         "Daegu",
         "-",
         "FALSE",
         "etc",
         "747",
         "-",
         "-"
        ],
        [
         "1300001",
         "Gwangju",
         "Dong-gu",
         "TRUE",
         "Gwangneuksa Temple",
         "5",
         "35.136035",
         "126.956405"
        ],
        [
         "1300002",
         "Gwangju",
         "from other city",
         "TRUE",
         "Shincheonji Church",
         "9",
         "-",
         "-"
        ],
        [
         "1300003",
         "Gwangju",
         "-",
         "FALSE",
         "overseas inflow",
         "23",
         "-",
         "-"
        ],
        [
         "1300004",
         "Gwangju",
         "-",
         "FALSE",
         "contact with patient",
         "5",
         "-",
         "-"
        ],
        [
         "1300005",
         "Gwangju",
         "-",
         "FALSE",
         "etc",
         "1",
         "-",
         "-"
        ],
        [
         "1400001",
         "Incheon",
         "from other city",
         "TRUE",
         "Itaewon Clubs",
         "53",
         "-",
         "-"
        ],
        [
         "1400002",
         "Incheon",
         "from other city",
         "TRUE",
         "Coupang Logistics Center",
         "42",
         "-",
         "-"
        ],
        [
         "1400003",
         "Incheon",
         "from other city",
         "TRUE",
         "Guro-gu Call Center",
         "20",
         "-",
         "-"
        ],
        [
         "1400004",
         "Incheon",
         "from other city",
         "TRUE",
         "Shincheonji Church",
         "2",
         "-",
         "-"
        ],
        [
         "1400005",
         "Incheon",
         "-",
         "FALSE",
         "overseas inflow",
         "68",
         "-",
         "-"
        ],
        [
         "1400006",
         "Incheon",
         "-",
         "FALSE",
         "contact with patient",
         "6",
         "-",
         "-"
        ],
        [
         "1400007",
         "Incheon",
         "-",
         "FALSE",
         "etc",
         "11",
         "-",
         "-"
        ],
        [
         "1500001",
         "Daejeon",
         "-",
         "TRUE",
         "Door-to-door sales in Daejeon",
         "55",
         "-",
         "-"
        ],
        [
         "1500002",
         "Daejeon",
         "Seo-gu",
         "TRUE",
         "Dunsan Electronics Town",
         "13",
         "36.3400973",
         "127.3927099"
        ],
        [
         "1500003",
         "Daejeon",
         "Seo-gu",
         "TRUE",
         "Orange Town",
         "7",
         "36.3398739",
         "127.3819744"
        ],
        [
         "1500004",
         "Daejeon",
         "Seo-gu",
         "TRUE",
         "Dreaming Church",
         "4",
         "36.346869",
         "127.368594"
        ],
        [
         "1500005",
         "Daejeon",
         "Seo-gu",
         "TRUE",
         "Korea Forest Engineer Institute",
         "3",
         "36.358123",
         "127.388856"
        ],
        [
         "1500006",
         "Daejeon",
         "from other city",
         "TRUE",
         "Shincheonji Church",
         "2",
         "-",
         "-"
        ],
        [
         "1500007",
         "Daejeon",
         "from other city",
         "TRUE",
         "Seosan-si Laboratory",
         "2",
         "-",
         "-"
        ],
        [
         "1500008",
         "Daejeon",
         "-",
         "FALSE",
         "overseas inflow",
         "15",
         "-",
         "-"
        ],
        [
         "1500009",
         "Daejeon",
         "-",
         "FALSE",
         "contact with patient",
         "15",
         "-",
         "-"
        ],
        [
         "1500010",
         "Daejeon",
         "-",
         "FALSE",
         "etc",
         "15",
         "-",
         "-"
        ],
        [
         "1600001",
         "Ulsan",
         "from other city",
         "TRUE",
         "Shincheonji Church",
         "16",
         "-",
         "-"
        ],
        [
         "1600002",
         "Ulsan",
         "-",
         "FALSE",
         "overseas inflow",
         "25",
         "-",
         "-"
        ],
        [
         "1600003",
         "Ulsan",
         "-",
         "FALSE",
         "contact with patient",
         "3",
         "-",
         "-"
        ],
        [
         "1600004",
         "Ulsan",
         "-",
         "FALSE",
         "etc",
         "7",
         "-",
         "-"
        ],
        [
         "1700001",
         "Sejong",
         "Sejong",
         "TRUE",
         "Ministry of Oceans and Fisheries",
         "31",
         "36.504713",
         "127.265172"
        ],
        [
         "1700002",
         "Sejong",
         "Sejong",
         "TRUE",
         "gym facility in Sejong",
         "8",
         "36.48025",
         "127.289"
        ],
        [
         "1700003",
         "Sejong",
         "from other city",
         "TRUE",
         "Shincheonji Church",
         "1",
         "-",
         "-"
        ],
        [
         "1700004",
         "Sejong",
         "-",
         "FALSE",
         "overseas inflow",
         "5",
         "-",
         "-"
        ],
        [
         "1700005",
         "Sejong",
         "-",
         "FALSE",
         "contact with patient",
         "3",
         "-",
         "-"
        ],
        [
         "1700006",
         "Sejong",
         "-",
         "FALSE",
         "etc",
         "1",
         "-",
         "-"
        ],
        [
         "2000001",
         "Gyeonggi-do",
         "Seongnam-si",
         "TRUE",
         "River of Grace Community Church",
         "67",
         "37.455687",
         "127.161627"
        ],
        [
         "2000002",
         "Gyeonggi-do",
         "Bucheon-si",
         "TRUE",
         "Coupang Logistics Center",
         "67",
         "37.530579",
         "126.775254"
        ],
        [
         "2000003",
         "Gyeonggi-do",
         "from other city",
         "TRUE",
         "Itaewon Clubs",
         "59",
         "-",
         "-"
        ],
        [
         "2000004",
         "Gyeonggi-do",
         "from other city",
         "TRUE",
         "Richway",
         "58",
         "-",
         "-"
        ],
        [
         "2000005",
         "Gyeonggi-do",
         "Uijeongbu-si",
         "TRUE",
         "Uijeongbu St. Mary’s Hospital",
         "50",
         "37.758635",
         "127.077716"
        ],
        [
         "2000006",
         "Gyeonggi-do",
         "from other city",
         "TRUE",
         "Guro-gu Call Center",
         "50",
         "-",
         "-"
        ],
        [
         "2000007",
         "Gyeonggi-do",
         "from other city",
         "TRUE",
         "Shincheonji Church",
         "29",
         "-",
         "-"
        ],
        [
         "2000008",
         "Gyeonggi-do",
         "from other city",
         "TRUE",
         "Yangcheon Table Tennis Club",
         "28",
         "-",
         "-"
        ],
        [
         "2000009",
         "Gyeonggi-do",
         "-",
         "TRUE",
         "SMR Newly Planted Churches Group",
         "25",
         "-",
         "-"
        ],
        [
         "2000010",
         "Gyeonggi-do",
         "Seongnam-si",
         "TRUE",
         "Bundang Jesaeng Hospital",
         "22",
         "37.38833",
         "127.1218"
        ],
        [
         "2000011",
         "Gyeonggi-do",
         "Anyang-si",
         "TRUE",
         "Anyang Gunpo Pastors Group",
         "22",
         "37.381784",
         "126.93615"
        ],
        [
         "2000012",
         "Gyeonggi-do",
         "Suwon-si",
         "TRUE",
         "Lotte Confectionery logistics center",
         "15",
         "37.287356",
         "127.013827"
        ],
        [
         "2000013",
         "Gyeonggi-do",
         "Anyang-si",
         "TRUE",
         "Lord Glory Church",
         "17",
         "37.403722",
         "126.954939"
        ],
        [
         "2000014",
         "Gyeonggi-do",
         "Suwon-si",
         "TRUE",
         "Suwon Saeng Myeong Saem Church",
         "10",
         "37.2376",
         "127.0517"
        ],
        [
         "2000015",
         "Gyeonggi-do",
         "from other city",
         "TRUE",
         "Korea Campus Crusade of Christ",
         "7",
         "-",
         "-"
        ],
        [
         "2000016",
         "Gyeonggi-do",
         "from other city",
         "TRUE",
         "Geumcheon-gu rice milling machine manufacture",
         "6",
         "-",
         "-"
        ],
        [
         "2000017",
         "Gyeonggi-do",
         "from other city",
         "TRUE",
         "Wangsung Church",
         "6",
         "-",
         "-"
        ],
        [
         "2000018",
         "Gyeonggi-do",
         "from other city",
         "TRUE",
         "Seoul City Hall Station safety worker",
         "5",
         "-",
         "-"
        ],
        [
         "2000019",
         "Gyeonggi-do",
         "Seongnam-si",
         "TRUE",
         "Seongnam neighbors gathering",
         "5",
         "-",
         "-"
        ],
        [
         "2000020",
         "Gyeonggi-do",
         "-",
         "FALSE",
         "overseas inflow",
         "305",
         "-",
         "-"
        ],
        [
         "2000021",
         "Gyeonggi-do",
         "-",
         "FALSE",
         "contact with patient",
         "63",
         "-",
         "-"
        ],
        [
         "2000022",
         "Gyeonggi-do",
         "-",
         "FALSE",
         "etc",
         "84",
         "-",
         "-"
        ],
        [
         "3000001",
         "Gangwon-do",
         "from other city",
         "TRUE",
         "Shincheonji Church",
         "17",
         "-",
         "-"
        ],
        [
         "3000002",
         "Gangwon-do",
         "from other city",
         "TRUE",
         "Uijeongbu St. Mary’s Hospital",
         "10",
         "-",
         "-"
        ],
        [
         "3000003",
         "Gangwon-do",
         "Wonju-si",
         "TRUE",
         "Wonju-si Apartments",
         "4",
         "37.342762",
         "127.983815"
        ],
        [
         "3000004",
         "Gangwon-do",
         "from other city",
         "TRUE",
         "Richway",
         "4",
         "-",
         "-"
        ],
        [
         "3000005",
         "Gangwon-do",
         "from other city",
         "TRUE",
         "Geumcheon-gu rice milling machine manufacture",
         "4",
         "-",
         "-"
        ],
        [
         "3000006",
         "Gangwon-do",
         "-",
         "FALSE",
         "overseas inflow",
         "16",
         "-",
         "-"
        ],
        [
         "3000007",
         "Gangwon-do",
         "-",
         "FALSE",
         "contact with patient",
         "0",
         "-",
         "-"
        ],
        [
         "3000008",
         "Gangwon-do",
         "-",
         "FALSE",
         "etc",
         "7",
         "-",
         "-"
        ],
        [
         "4000001",
         "Chungcheongbuk-do",
         "Goesan-gun",
         "TRUE",
         "Goesan-gun Jangyeon-myeon",
         "11",
         "36.82422",
         "127.9552"
        ],
        [
         "4000002",
         "Chungcheongbuk-do",
         "from other city",
         "TRUE",
         "Itaewon Clubs",
         "9",
         "-",
         "-"
        ],
        [
         "4000003",
         "Chungcheongbuk-do",
         "from other city",
         "TRUE",
         "Guro-gu Call Center",
         "2",
         "-",
         "-"
        ],
        [
         "4000004",
         "Chungcheongbuk-do",
         "from other city",
         "TRUE",
         "Shincheonji Church",
         "6",
         "-",
         "-"
        ],
        [
         "4000005",
         "Chungcheongbuk-do",
         "-",
         "FALSE",
         "overseas inflow",
         "13",
         "-",
         "-"
        ],
        [
         "4000006",
         "Chungcheongbuk-do",
         "-",
         "FALSE",
         "contact with patient",
         "8",
         "-",
         "-"
        ],
        [
         "4000007",
         "Chungcheongbuk-do",
         "-",
         "FALSE",
         "etc",
         "11",
         "-",
         "-"
        ],
        [
         "4100001",
         "Chungcheongnam-do",
         "Cheonan-si",
         "TRUE",
         "gym facility in Cheonan",
         "103",
         "36.81503",
         "127.1139"
        ],
        [
         "4100002",
         "Chungcheongnam-do",
         "from other city",
         "TRUE",
         "Door-to-door sales in Daejeon",
         "10",
         "-",
         "-"
        ],
        [
         "4100003",
         "Chungcheongnam-do",
         "Seosan-si",
         "TRUE",
         "Seosan-si Laboratory",
         "9",
         "37.000354",
         "126.354443"
        ],
        [
         "4100004",
         "Chungcheongnam-do",
         "from other city",
         "TRUE",
         "Richway",
         "3",
         "-",
         "-"
        ],
        [
         "4100005",
         "Chungcheongnam-do",
         "from other city",
         "TRUE",
         "Eunpyeong-Boksagol culture center",
         "3",
         "-",
         "-"
        ],
        [
         "4100006",
         "Chungcheongnam-do",
         "-",
         "FALSE",
         "overseas inflow",
         "16",
         "-",
         "-"
        ],
        [
         "4100007",
         "Chungcheongnam-do",
         "-",
         "FALSE",
         "contact with patient",
         "2",
         "-",
         "-"
        ],
        [
         "4100008",
         "Chungcheongnam-do",
         "-",
         "FALSE",
         "etc",
         "12",
         "-",
         "-"
        ],
        [
         "5000001",
         "Jeollabuk-do",
         "from other city",
         "TRUE",
         "Itaewon Clubs",
         "2",
         "-",
         "-"
        ],
        [
         "5000002",
         "Jeollabuk-do",
         "from other city",
         "TRUE",
         "Door-to-door sales in Daejeon",
         "3",
         "-",
         "-"
        ],
        [
         "5000003",
         "Jeollabuk-do",
         "from other city",
         "TRUE",
         "Shincheonji Church",
         "1",
         "-",
         "-"
        ],
        [
         "5000004",
         "Jeollabuk-do",
         "-",
         "FALSE",
         "overseas inflow",
         "12",
         "-",
         "-"
        ],
        [
         "5000005",
         "Jeollabuk-do",
         "-",
         "FALSE",
         "etc",
         "5",
         "-",
         "-"
        ],
        [
         "5100001",
         "Jeollanam-do",
         "Muan-gun",
         "TRUE",
         "Manmin Central Church",
         "2",
         "35.078825",
         "126.316746"
        ],
        [
         "5100002",
         "Jeollanam-do",
         "from other city",
         "TRUE",
         "Shincheonji Church",
         "1",
         "-",
         "-"
        ],
        [
         "5100003",
         "Jeollanam-do",
         "-",
         "FALSE",
         "overseas inflow",
         "14",
         "-",
         "-"
        ],
        [
         "5100004",
         "Jeollanam-do",
         "-",
         "FALSE",
         "contact with patient",
         "4",
         "-",
         "-"
        ],
        [
         "5100005",
         "Jeollanam-do",
         "-",
         "FALSE",
         "etc",
         "4",
         "-",
         "-"
        ],
        [
         "6000001",
         "Gyeongsangbuk-do",
         "from other city",
         "TRUE",
         "Shincheonji Church",
         "566",
         "-",
         "-"
        ],
        [
         "6000002",
         "Gyeongsangbuk-do",
         "Cheongdo-gun",
         "TRUE",
         "Cheongdo Daenam Hospital",
         "119",
         "35.64887",
         "128.7368"
        ],
        [
         "6000003",
         "Gyeongsangbuk-do",
         "Bonghwa-gun",
         "TRUE",
         "Bonghwa Pureun Nursing Home",
         "68",
         "36.92757",
         "128.9099"
        ],
        [
         "6000004",
         "Gyeongsangbuk-do",
         "Gyeongsan-si",
         "TRUE",
         "Gyeongsan Seorin Nursing Home",
         "66",
         "35.782149",
         "128.801498"
        ],
        [
         "6000005",
         "Gyeongsangbuk-do",
         "from other city",
         "TRUE",
         "Pilgrimage to Israel",
         "41",
         "-",
         "-"
        ],
        [
         "6000006",
         "Gyeongsangbuk-do",
         "Yechun-gun",
         "TRUE",
         "Yechun-gun",
         "40",
         "36.646845",
         "128.437416"
        ],
        [
         "6000007",
         "Gyeongsangbuk-do",
         "Chilgok-gun",
         "TRUE",
         "Milal Shelter",
         "36",
         "36.0581",
         "128.4941"
        ],
        [
         "6000008",
         "Gyeongsangbuk-do",
         "Gyeongsan-si",
         "TRUE",
         "Gyeongsan Jeil Silver Town",
         "17",
         "35.84819",
         "128.7621"
        ],
        [
         "6000009",
         "Gyeongsangbuk-do",
         "Gyeongsan-si",
         "TRUE",
         "Gyeongsan Cham Joeun Community Center",
         "16",
         "35.82558",
         "128.7373"
        ],
        [
         "6000010",
         "Gyeongsangbuk-do",
         "Gumi-si",
         "TRUE",
         "Gumi Elim Church",
         "10",
         "-",
         "-"
        ],
        [
         "6000011",
         "Gyeongsangbuk-do",
         "-",
         "FALSE",
         "overseas inflow",
         "22",
         "-",
         "-"
        ],
        [
         "6000012",
         "Gyeongsangbuk-do",
         "-",
         "FALSE",
         "contact with patient",
         "190",
         "-",
         "-"
        ],
        [
         "6000013",
         "Gyeongsangbuk-do",
         "-",
         "FALSE",
         "etc",
         "133",
         "-",
         "-"
        ],
        [
         "6100001",
         "Gyeongsangnam-do",
         "from other city",
         "TRUE",
         "Shincheonji Church",
         "32",
         "-",
         "-"
        ],
        [
         "6100002",
         "Gyeongsangnam-do",
         "Geochang-gun",
         "TRUE",
         "Geochang Church",
         "10",
         "35.68556",
         "127.9127"
        ],
        [
         "6100003",
         "Gyeongsangnam-do",
         "Jinju-si",
         "TRUE",
         "Wings Tower",
         "9",
         "35.164845",
         "128.126969"
        ],
        [
         "6100004",
         "Gyeongsangnam-do",
         "Geochang-gun",
         "TRUE",
         "Geochang-gun Woongyang-myeon",
         "8",
         "35.805681",
         "127.917805"
        ],
        [
         "6100005",
         "Gyeongsangnam-do",
         "Changwon-si",
         "TRUE",
         "Hanmaeum Changwon Hospital",
         "7",
         "35.22115",
         "128.6866"
        ],
        [
         "6100006",
         "Gyeongsangnam-do",
         "Changnyeong-gun",
         "TRUE",
         "Changnyeong Coin Karaoke",
         "7",
         "35.54127",
         "128.5008"
        ],
        [
         "6100007",
         "Gyeongsangnam-do",
         "Yangsan-si",
         "TRUE",
         "Soso Seowon",
         "3",
         "35.338811",
         "129.017508"
        ],
        [
         "6100008",
         "Gyeongsangnam-do",
         "from other city",
         "TRUE",
         "Itaewon Clubs",
         "2",
         "-",
         "-"
        ],
        [
         "6100009",
         "Gyeongsangnam-do",
         "from other city",
         "TRUE",
         "Onchun Church",
         "2",
         "-",
         "-"
        ],
        [
         "6100010",
         "Gyeongsangnam-do",
         "-",
         "FALSE",
         "overseas inflow",
         "26",
         "-",
         "-"
        ],
        [
         "6100011",
         "Gyeongsangnam-do",
         "-",
         "FALSE",
         "contact with patient",
         "6",
         "-",
         "-"
        ],
        [
         "6100012",
         "Gyeongsangnam-do",
         "-",
         "FALSE",
         "etc",
         "20",
         "-",
         "-"
        ],
        [
         "7000001",
         "Jeju-do",
         "-",
         "FALSE",
         "overseas inflow",
         "14",
         "-",
         "-"
        ],
        [
         "7000002",
         "Jeju-do",
         "-",
         "FALSE",
         "contact with patient",
         "0",
         "-",
         "-"
        ],
        [
         "7000003",
         "Jeju-do",
         "-",
         "FALSE",
         "etc",
         "4",
         "-",
         "-"
        ],
        [
         "7000004",
         "Jeju-do",
         "from other city",
         "TRUE",
         "Itaewon Clubs",
         "1",
         "-",
         "-"
        ]
       ],
       "datasetInfos": [],
       "dbfsResultPath": null,
       "isJsonSchema": true,
       "metadata": {},
       "overflow": false,
       "plotOptions": {
        "customPlotOptions": {},
        "displayType": "table",
        "pivotAggregation": null,
        "pivotColumns": null,
        "xColumns": null,
        "yColumns": null
       },
       "removedWidgets": [],
       "schema": [
        {
         "metadata": "{}",
         "name": " case_id",
         "type": "\"string\""
        },
        {
         "metadata": "{}",
         "name": "province",
         "type": "\"string\""
        },
        {
         "metadata": "{}",
         "name": "city",
         "type": "\"string\""
        },
        {
         "metadata": "{}",
         "name": "group",
         "type": "\"string\""
        },
        {
         "metadata": "{}",
         "name": "infection_case",
         "type": "\"string\""
        },
        {
         "metadata": "{}",
         "name": "confirmed",
         "type": "\"string\""
        },
        {
         "metadata": "{}",
         "name": "latitude",
         "type": "\"string\""
        },
        {
         "metadata": "{}",
         "name": "longitude",
         "type": "\"string\""
        }
       ],
       "type": "table"
      }
     },
     "output_type": "display_data"
    }
   ],
   "source": [
    "%sql\n",
    "SELECT * FROM cases"
   ]
  },
  {
   "cell_type": "code",
   "execution_count": 0,
   "metadata": {
    "application/vnd.databricks.v1+cell": {
     "cellMetadata": {
      "byteLimit": 2048000,
      "implicitDf": true,
      "rowLimit": 10000
     },
     "inputWidgets": {},
     "nuid": "9f83ba3f-e453-4796-88e1-b5a7a02f1ad7",
     "showTitle": false,
     "title": ""
    }
   },
   "outputs": [
    {
     "output_type": "display_data",
     "data": {
      "text/plain": [
       "\u001B[0;31m---------------------------------------------------------------------------\u001B[0m\n",
       "\u001B[0;31mAnalysisException\u001B[0m                         Traceback (most recent call last)\n",
       "File \u001B[0;32m<command-216000449180129>:7\u001B[0m\n",
       "\u001B[1;32m      5\u001B[0m     display(df)\n",
       "\u001B[1;32m      6\u001B[0m     \u001B[38;5;28;01mreturn\u001B[39;00m df\n",
       "\u001B[0;32m----> 7\u001B[0m   _sqldf \u001B[38;5;241m=\u001B[39m \u001B[43m____databricks_percent_sql\u001B[49m\u001B[43m(\u001B[49m\u001B[43m)\u001B[49m\n",
       "\u001B[1;32m      8\u001B[0m \u001B[38;5;28;01mfinally\u001B[39;00m:\n",
       "\u001B[1;32m      9\u001B[0m   \u001B[38;5;28;01mdel\u001B[39;00m ____databricks_percent_sql\n",
       "\n",
       "File \u001B[0;32m<command-216000449180129>:4\u001B[0m, in \u001B[0;36m____databricks_percent_sql\u001B[0;34m()\u001B[0m\n",
       "\u001B[1;32m      2\u001B[0m \u001B[38;5;28;01mdef\u001B[39;00m \u001B[38;5;21m____databricks_percent_sql\u001B[39m():\n",
       "\u001B[1;32m      3\u001B[0m   \u001B[38;5;28;01mimport\u001B[39;00m \u001B[38;5;21;01mbase64\u001B[39;00m\n",
       "\u001B[0;32m----> 4\u001B[0m   df \u001B[38;5;241m=\u001B[39m \u001B[43mspark\u001B[49m\u001B[38;5;241;43m.\u001B[39;49m\u001B[43msql\u001B[49m\u001B[43m(\u001B[49m\u001B[43mbase64\u001B[49m\u001B[38;5;241;43m.\u001B[39;49m\u001B[43mstandard_b64decode\u001B[49m\u001B[43m(\u001B[49m\u001B[38;5;124;43m\"\u001B[39;49m\u001B[38;5;124;43mQ1JFQVRFIFRBQkxFIGNhc2VzClVTSU5HIGNzdgpPUFRJT05TIChwYXRoICIvZGF0YWJyaWNrcy1kYXRhc2V0cy9DT1ZJRC9jb3JvbmF2aXJ1c2RhdGFzZXQvQ2FzZS5jc3YiLCBoZWFkZXIgInRydWUiKQ==\u001B[39;49m\u001B[38;5;124;43m\"\u001B[39;49m\u001B[43m)\u001B[49m\u001B[38;5;241;43m.\u001B[39;49m\u001B[43mdecode\u001B[49m\u001B[43m(\u001B[49m\u001B[43m)\u001B[49m\u001B[43m)\u001B[49m\n",
       "\u001B[1;32m      5\u001B[0m   display(df)\n",
       "\u001B[1;32m      6\u001B[0m   \u001B[38;5;28;01mreturn\u001B[39;00m df\n",
       "\n",
       "File \u001B[0;32m/databricks/spark/python/pyspark/instrumentation_utils.py:48\u001B[0m, in \u001B[0;36m_wrap_function.<locals>.wrapper\u001B[0;34m(*args, **kwargs)\u001B[0m\n",
       "\u001B[1;32m     46\u001B[0m start \u001B[38;5;241m=\u001B[39m time\u001B[38;5;241m.\u001B[39mperf_counter()\n",
       "\u001B[1;32m     47\u001B[0m \u001B[38;5;28;01mtry\u001B[39;00m:\n",
       "\u001B[0;32m---> 48\u001B[0m     res \u001B[38;5;241m=\u001B[39m \u001B[43mfunc\u001B[49m\u001B[43m(\u001B[49m\u001B[38;5;241;43m*\u001B[39;49m\u001B[43margs\u001B[49m\u001B[43m,\u001B[49m\u001B[43m \u001B[49m\u001B[38;5;241;43m*\u001B[39;49m\u001B[38;5;241;43m*\u001B[39;49m\u001B[43mkwargs\u001B[49m\u001B[43m)\u001B[49m\n",
       "\u001B[1;32m     49\u001B[0m     logger\u001B[38;5;241m.\u001B[39mlog_success(\n",
       "\u001B[1;32m     50\u001B[0m         module_name, class_name, function_name, time\u001B[38;5;241m.\u001B[39mperf_counter() \u001B[38;5;241m-\u001B[39m start, signature\n",
       "\u001B[1;32m     51\u001B[0m     )\n",
       "\u001B[1;32m     52\u001B[0m     \u001B[38;5;28;01mreturn\u001B[39;00m res\n",
       "\n",
       "File \u001B[0;32m/databricks/spark/python/pyspark/sql/session.py:1387\u001B[0m, in \u001B[0;36mSparkSession.sql\u001B[0;34m(self, sqlQuery, args, **kwargs)\u001B[0m\n",
       "\u001B[1;32m   1385\u001B[0m \u001B[38;5;28;01mtry\u001B[39;00m:\n",
       "\u001B[1;32m   1386\u001B[0m     litArgs \u001B[38;5;241m=\u001B[39m {k: _to_java_column(lit(v)) \u001B[38;5;28;01mfor\u001B[39;00m k, v \u001B[38;5;129;01min\u001B[39;00m (args \u001B[38;5;129;01mor\u001B[39;00m {})\u001B[38;5;241m.\u001B[39mitems()}\n",
       "\u001B[0;32m-> 1387\u001B[0m     \u001B[38;5;28;01mreturn\u001B[39;00m DataFrame(\u001B[38;5;28;43mself\u001B[39;49m\u001B[38;5;241;43m.\u001B[39;49m\u001B[43m_jsparkSession\u001B[49m\u001B[38;5;241;43m.\u001B[39;49m\u001B[43msql\u001B[49m\u001B[43m(\u001B[49m\u001B[43msqlQuery\u001B[49m\u001B[43m,\u001B[49m\u001B[43m \u001B[49m\u001B[43mlitArgs\u001B[49m\u001B[43m)\u001B[49m, \u001B[38;5;28mself\u001B[39m)\n",
       "\u001B[1;32m   1388\u001B[0m \u001B[38;5;28;01mfinally\u001B[39;00m:\n",
       "\u001B[1;32m   1389\u001B[0m     \u001B[38;5;28;01mif\u001B[39;00m \u001B[38;5;28mlen\u001B[39m(kwargs) \u001B[38;5;241m>\u001B[39m \u001B[38;5;241m0\u001B[39m:\n",
       "\n",
       "File \u001B[0;32m/databricks/spark/python/lib/py4j-0.10.9.5-src.zip/py4j/java_gateway.py:1321\u001B[0m, in \u001B[0;36mJavaMember.__call__\u001B[0;34m(self, *args)\u001B[0m\n",
       "\u001B[1;32m   1315\u001B[0m command \u001B[38;5;241m=\u001B[39m proto\u001B[38;5;241m.\u001B[39mCALL_COMMAND_NAME \u001B[38;5;241m+\u001B[39m\\\n",
       "\u001B[1;32m   1316\u001B[0m     \u001B[38;5;28mself\u001B[39m\u001B[38;5;241m.\u001B[39mcommand_header \u001B[38;5;241m+\u001B[39m\\\n",
       "\u001B[1;32m   1317\u001B[0m     args_command \u001B[38;5;241m+\u001B[39m\\\n",
       "\u001B[1;32m   1318\u001B[0m     proto\u001B[38;5;241m.\u001B[39mEND_COMMAND_PART\n",
       "\u001B[1;32m   1320\u001B[0m answer \u001B[38;5;241m=\u001B[39m \u001B[38;5;28mself\u001B[39m\u001B[38;5;241m.\u001B[39mgateway_client\u001B[38;5;241m.\u001B[39msend_command(command)\n",
       "\u001B[0;32m-> 1321\u001B[0m return_value \u001B[38;5;241m=\u001B[39m \u001B[43mget_return_value\u001B[49m\u001B[43m(\u001B[49m\n",
       "\u001B[1;32m   1322\u001B[0m \u001B[43m    \u001B[49m\u001B[43manswer\u001B[49m\u001B[43m,\u001B[49m\u001B[43m \u001B[49m\u001B[38;5;28;43mself\u001B[39;49m\u001B[38;5;241;43m.\u001B[39;49m\u001B[43mgateway_client\u001B[49m\u001B[43m,\u001B[49m\u001B[43m \u001B[49m\u001B[38;5;28;43mself\u001B[39;49m\u001B[38;5;241;43m.\u001B[39;49m\u001B[43mtarget_id\u001B[49m\u001B[43m,\u001B[49m\u001B[43m \u001B[49m\u001B[38;5;28;43mself\u001B[39;49m\u001B[38;5;241;43m.\u001B[39;49m\u001B[43mname\u001B[49m\u001B[43m)\u001B[49m\n",
       "\u001B[1;32m   1324\u001B[0m \u001B[38;5;28;01mfor\u001B[39;00m temp_arg \u001B[38;5;129;01min\u001B[39;00m temp_args:\n",
       "\u001B[1;32m   1325\u001B[0m     temp_arg\u001B[38;5;241m.\u001B[39m_detach()\n",
       "\n",
       "File \u001B[0;32m/databricks/spark/python/pyspark/errors/exceptions.py:234\u001B[0m, in \u001B[0;36mcapture_sql_exception.<locals>.deco\u001B[0;34m(*a, **kw)\u001B[0m\n",
       "\u001B[1;32m    230\u001B[0m converted \u001B[38;5;241m=\u001B[39m convert_exception(e\u001B[38;5;241m.\u001B[39mjava_exception)\n",
       "\u001B[1;32m    231\u001B[0m \u001B[38;5;28;01mif\u001B[39;00m \u001B[38;5;129;01mnot\u001B[39;00m \u001B[38;5;28misinstance\u001B[39m(converted, UnknownException):\n",
       "\u001B[1;32m    232\u001B[0m     \u001B[38;5;66;03m# Hide where the exception came from that shows a non-Pythonic\u001B[39;00m\n",
       "\u001B[1;32m    233\u001B[0m     \u001B[38;5;66;03m# JVM exception message.\u001B[39;00m\n",
       "\u001B[0;32m--> 234\u001B[0m     \u001B[38;5;28;01mraise\u001B[39;00m converted \u001B[38;5;28;01mfrom\u001B[39;00m \u001B[38;5;28mNone\u001B[39m\n",
       "\u001B[1;32m    235\u001B[0m \u001B[38;5;28;01melse\u001B[39;00m:\n",
       "\u001B[1;32m    236\u001B[0m     \u001B[38;5;28;01mraise\u001B[39;00m\n",
       "\n",
       "\u001B[0;31mAnalysisException\u001B[0m: [TABLE_OR_VIEW_ALREADY_EXISTS] Cannot create table or view `spark_catalog`.`default`.`cases` because it already exists.\n",
       "Choose a different name, drop or replace the existing object, add the IF NOT EXISTS clause to tolerate pre-existing objects, or add the OR REFRESH clause to refresh the existing streaming table."
      ]
     },
     "metadata": {
      "application/vnd.databricks.v1+output": {
       "arguments": {},
       "data": "\u001B[0;31m---------------------------------------------------------------------------\u001B[0m\n\u001B[0;31mAnalysisException\u001B[0m                         Traceback (most recent call last)\nFile \u001B[0;32m<command-216000449180129>:7\u001B[0m\n\u001B[1;32m      5\u001B[0m     display(df)\n\u001B[1;32m      6\u001B[0m     \u001B[38;5;28;01mreturn\u001B[39;00m df\n\u001B[0;32m----> 7\u001B[0m   _sqldf \u001B[38;5;241m=\u001B[39m \u001B[43m____databricks_percent_sql\u001B[49m\u001B[43m(\u001B[49m\u001B[43m)\u001B[49m\n\u001B[1;32m      8\u001B[0m \u001B[38;5;28;01mfinally\u001B[39;00m:\n\u001B[1;32m      9\u001B[0m   \u001B[38;5;28;01mdel\u001B[39;00m ____databricks_percent_sql\n\nFile \u001B[0;32m<command-216000449180129>:4\u001B[0m, in \u001B[0;36m____databricks_percent_sql\u001B[0;34m()\u001B[0m\n\u001B[1;32m      2\u001B[0m \u001B[38;5;28;01mdef\u001B[39;00m \u001B[38;5;21m____databricks_percent_sql\u001B[39m():\n\u001B[1;32m      3\u001B[0m   \u001B[38;5;28;01mimport\u001B[39;00m \u001B[38;5;21;01mbase64\u001B[39;00m\n\u001B[0;32m----> 4\u001B[0m   df \u001B[38;5;241m=\u001B[39m \u001B[43mspark\u001B[49m\u001B[38;5;241;43m.\u001B[39;49m\u001B[43msql\u001B[49m\u001B[43m(\u001B[49m\u001B[43mbase64\u001B[49m\u001B[38;5;241;43m.\u001B[39;49m\u001B[43mstandard_b64decode\u001B[49m\u001B[43m(\u001B[49m\u001B[38;5;124;43m\"\u001B[39;49m\u001B[38;5;124;43mQ1JFQVRFIFRBQkxFIGNhc2VzClVTSU5HIGNzdgpPUFRJT05TIChwYXRoICIvZGF0YWJyaWNrcy1kYXRhc2V0cy9DT1ZJRC9jb3JvbmF2aXJ1c2RhdGFzZXQvQ2FzZS5jc3YiLCBoZWFkZXIgInRydWUiKQ==\u001B[39;49m\u001B[38;5;124;43m\"\u001B[39;49m\u001B[43m)\u001B[49m\u001B[38;5;241;43m.\u001B[39;49m\u001B[43mdecode\u001B[49m\u001B[43m(\u001B[49m\u001B[43m)\u001B[49m\u001B[43m)\u001B[49m\n\u001B[1;32m      5\u001B[0m   display(df)\n\u001B[1;32m      6\u001B[0m   \u001B[38;5;28;01mreturn\u001B[39;00m df\n\nFile \u001B[0;32m/databricks/spark/python/pyspark/instrumentation_utils.py:48\u001B[0m, in \u001B[0;36m_wrap_function.<locals>.wrapper\u001B[0;34m(*args, **kwargs)\u001B[0m\n\u001B[1;32m     46\u001B[0m start \u001B[38;5;241m=\u001B[39m time\u001B[38;5;241m.\u001B[39mperf_counter()\n\u001B[1;32m     47\u001B[0m \u001B[38;5;28;01mtry\u001B[39;00m:\n\u001B[0;32m---> 48\u001B[0m     res \u001B[38;5;241m=\u001B[39m \u001B[43mfunc\u001B[49m\u001B[43m(\u001B[49m\u001B[38;5;241;43m*\u001B[39;49m\u001B[43margs\u001B[49m\u001B[43m,\u001B[49m\u001B[43m \u001B[49m\u001B[38;5;241;43m*\u001B[39;49m\u001B[38;5;241;43m*\u001B[39;49m\u001B[43mkwargs\u001B[49m\u001B[43m)\u001B[49m\n\u001B[1;32m     49\u001B[0m     logger\u001B[38;5;241m.\u001B[39mlog_success(\n\u001B[1;32m     50\u001B[0m         module_name, class_name, function_name, time\u001B[38;5;241m.\u001B[39mperf_counter() \u001B[38;5;241m-\u001B[39m start, signature\n\u001B[1;32m     51\u001B[0m     )\n\u001B[1;32m     52\u001B[0m     \u001B[38;5;28;01mreturn\u001B[39;00m res\n\nFile \u001B[0;32m/databricks/spark/python/pyspark/sql/session.py:1387\u001B[0m, in \u001B[0;36mSparkSession.sql\u001B[0;34m(self, sqlQuery, args, **kwargs)\u001B[0m\n\u001B[1;32m   1385\u001B[0m \u001B[38;5;28;01mtry\u001B[39;00m:\n\u001B[1;32m   1386\u001B[0m     litArgs \u001B[38;5;241m=\u001B[39m {k: _to_java_column(lit(v)) \u001B[38;5;28;01mfor\u001B[39;00m k, v \u001B[38;5;129;01min\u001B[39;00m (args \u001B[38;5;129;01mor\u001B[39;00m {})\u001B[38;5;241m.\u001B[39mitems()}\n\u001B[0;32m-> 1387\u001B[0m     \u001B[38;5;28;01mreturn\u001B[39;00m DataFrame(\u001B[38;5;28;43mself\u001B[39;49m\u001B[38;5;241;43m.\u001B[39;49m\u001B[43m_jsparkSession\u001B[49m\u001B[38;5;241;43m.\u001B[39;49m\u001B[43msql\u001B[49m\u001B[43m(\u001B[49m\u001B[43msqlQuery\u001B[49m\u001B[43m,\u001B[49m\u001B[43m \u001B[49m\u001B[43mlitArgs\u001B[49m\u001B[43m)\u001B[49m, \u001B[38;5;28mself\u001B[39m)\n\u001B[1;32m   1388\u001B[0m \u001B[38;5;28;01mfinally\u001B[39;00m:\n\u001B[1;32m   1389\u001B[0m     \u001B[38;5;28;01mif\u001B[39;00m \u001B[38;5;28mlen\u001B[39m(kwargs) \u001B[38;5;241m>\u001B[39m \u001B[38;5;241m0\u001B[39m:\n\nFile \u001B[0;32m/databricks/spark/python/lib/py4j-0.10.9.5-src.zip/py4j/java_gateway.py:1321\u001B[0m, in \u001B[0;36mJavaMember.__call__\u001B[0;34m(self, *args)\u001B[0m\n\u001B[1;32m   1315\u001B[0m command \u001B[38;5;241m=\u001B[39m proto\u001B[38;5;241m.\u001B[39mCALL_COMMAND_NAME \u001B[38;5;241m+\u001B[39m\\\n\u001B[1;32m   1316\u001B[0m     \u001B[38;5;28mself\u001B[39m\u001B[38;5;241m.\u001B[39mcommand_header \u001B[38;5;241m+\u001B[39m\\\n\u001B[1;32m   1317\u001B[0m     args_command \u001B[38;5;241m+\u001B[39m\\\n\u001B[1;32m   1318\u001B[0m     proto\u001B[38;5;241m.\u001B[39mEND_COMMAND_PART\n\u001B[1;32m   1320\u001B[0m answer \u001B[38;5;241m=\u001B[39m \u001B[38;5;28mself\u001B[39m\u001B[38;5;241m.\u001B[39mgateway_client\u001B[38;5;241m.\u001B[39msend_command(command)\n\u001B[0;32m-> 1321\u001B[0m return_value \u001B[38;5;241m=\u001B[39m \u001B[43mget_return_value\u001B[49m\u001B[43m(\u001B[49m\n\u001B[1;32m   1322\u001B[0m \u001B[43m    \u001B[49m\u001B[43manswer\u001B[49m\u001B[43m,\u001B[49m\u001B[43m \u001B[49m\u001B[38;5;28;43mself\u001B[39;49m\u001B[38;5;241;43m.\u001B[39;49m\u001B[43mgateway_client\u001B[49m\u001B[43m,\u001B[49m\u001B[43m \u001B[49m\u001B[38;5;28;43mself\u001B[39;49m\u001B[38;5;241;43m.\u001B[39;49m\u001B[43mtarget_id\u001B[49m\u001B[43m,\u001B[49m\u001B[43m \u001B[49m\u001B[38;5;28;43mself\u001B[39;49m\u001B[38;5;241;43m.\u001B[39;49m\u001B[43mname\u001B[49m\u001B[43m)\u001B[49m\n\u001B[1;32m   1324\u001B[0m \u001B[38;5;28;01mfor\u001B[39;00m temp_arg \u001B[38;5;129;01min\u001B[39;00m temp_args:\n\u001B[1;32m   1325\u001B[0m     temp_arg\u001B[38;5;241m.\u001B[39m_detach()\n\nFile \u001B[0;32m/databricks/spark/python/pyspark/errors/exceptions.py:234\u001B[0m, in \u001B[0;36mcapture_sql_exception.<locals>.deco\u001B[0;34m(*a, **kw)\u001B[0m\n\u001B[1;32m    230\u001B[0m converted \u001B[38;5;241m=\u001B[39m convert_exception(e\u001B[38;5;241m.\u001B[39mjava_exception)\n\u001B[1;32m    231\u001B[0m \u001B[38;5;28;01mif\u001B[39;00m \u001B[38;5;129;01mnot\u001B[39;00m \u001B[38;5;28misinstance\u001B[39m(converted, UnknownException):\n\u001B[1;32m    232\u001B[0m     \u001B[38;5;66;03m# Hide where the exception came from that shows a non-Pythonic\u001B[39;00m\n\u001B[1;32m    233\u001B[0m     \u001B[38;5;66;03m# JVM exception message.\u001B[39;00m\n\u001B[0;32m--> 234\u001B[0m     \u001B[38;5;28;01mraise\u001B[39;00m converted \u001B[38;5;28;01mfrom\u001B[39;00m \u001B[38;5;28mNone\u001B[39m\n\u001B[1;32m    235\u001B[0m \u001B[38;5;28;01melse\u001B[39;00m:\n\u001B[1;32m    236\u001B[0m     \u001B[38;5;28;01mraise\u001B[39;00m\n\n\u001B[0;31mAnalysisException\u001B[0m: [TABLE_OR_VIEW_ALREADY_EXISTS] Cannot create table or view `spark_catalog`.`default`.`cases` because it already exists.\nChoose a different name, drop or replace the existing object, add the IF NOT EXISTS clause to tolerate pre-existing objects, or add the OR REFRESH clause to refresh the existing streaming table.",
       "errorSummary": "<span class='ansi-red-fg'>AnalysisException</span>: [TABLE_OR_VIEW_ALREADY_EXISTS] Cannot create table or view `spark_catalog`.`default`.`cases` because it already exists.\nChoose a different name, drop or replace the existing object, add the IF NOT EXISTS clause to tolerate pre-existing objects, or add the OR REFRESH clause to refresh the existing streaming table.",
       "errorTraceType": "ansi",
       "metadata": {},
       "type": "ipynbError"
      }
     },
     "output_type": "display_data"
    }
   ],
   "source": [
    "%sql\n",
    "CREATE TABLE cases\n",
    "USING csv\n",
    "OPTIONS (path \"/databricks-datasets/COVID/coronavirusdataset/Case.csv\", header \"true\") "
   ]
  },
  {
   "cell_type": "code",
   "execution_count": 0,
   "metadata": {
    "application/vnd.databricks.v1+cell": {
     "cellMetadata": {
      "byteLimit": 2048000,
      "rowLimit": 10000
     },
     "inputWidgets": {},
     "nuid": "bceba7f6-2f9f-434a-afa7-c97f578c83fb",
     "showTitle": false,
     "title": ""
    }
   },
   "outputs": [
    {
     "output_type": "stream",
     "name": "stdout",
     "output_type": "stream",
     "text": [
      "Questão 1: 174\nQuestão 2: group possui apenas 2 valores únicos\nQuestão 3: 65.48850574712644\nQuestão 4: 4511\nQuestão 5: 33.68421052631579\nQuestão 6: 5165\nQuestão 7: state possui apenas 3 valores únicos\nQuestão 8: 2\nQuestão 9: 10410\nQuestão 10: 38.19317\nQuestão 11: 126.301\nQuestão 12: 20\nQuestão 13: O Spark compartilha dados entre clusters através do Spark Dataframe e por isso, esse é o tipo recomendado a se trabalhar.\nQuestão 14: JavaScript\nQuestão 15: O Spark oferece grande vantagem, processando em memória RAM e ainda podendo ser incorporado a notebooks \n"
     ]
    }
   ],
   "source": [
    "from pyspark.sql import SparkSession\n",
    "import pyspark.sql.functions as F\n",
    "import requests #biblioteca para trazer dados de uma URL\n",
    "import json #biblioteca para ler json\n",
    "\n",
    "# Criar uma sessão Spark\n",
    "spark = SparkSession.builder \\\n",
    "    .appName(\"Contagem de Linhas\") \\\n",
    "    .getOrCreate()\n",
    "\n",
    "# Ler o arquivo CSV e criar um DataFrame\n",
    "caminho_arquivo = '/databricks-datasets/COVID/coronavirusdataset/Case.csv'\n",
    "df = spark.read.csv(caminho_arquivo, header=True, inferSchema=True)\n",
    "\n",
    "# Ler o arquivo CSV e criar um DataFrame\n",
    "caminho_arquivo = '/databricks-datasets/COVID/coronavirusdataset/PatientInfo.csv'\n",
    "df_1 = spark.read.csv(caminho_arquivo, header=True, inferSchema=True)\n",
    "\n",
    "# Ler o arquivo CSV e criar um DataFrame\n",
    "caminho_arquivo = '/databricks-datasets/COVID/coronavirusdataset/PatientRoute.csv'\n",
    "df_2 = spark.read.csv(caminho_arquivo, header=True, inferSchema=True)\n",
    "\n",
    "# Contar o número de linhas no DataFrame\n",
    "numero_de_linhas = df.count()\n",
    "\n",
    "# Exibir o número de linhas\n",
    "print(\"Questão 1:\", numero_de_linhas)\n",
    "\n",
    "# Questão 2\n",
    "contagem_distinta_q2 = df.select('group').distinct().count()\n",
    "print(\"Questão 2:\", \"group possui apenas\", contagem_distinta_q2,\"valores únicos\")\n",
    "\n",
    "# Questão 3 \n",
    "questao_3 = (\n",
    "df\n",
    " .select(['confirmed'])\n",
    " .describe()\n",
    " .select('confirmed')\n",
    " .where(\"summary = 'mean'\")\n",
    " .collect()[0]['confirmed'])\n",
    "print(\"Questão 3:\", questao_3)\n",
    "\n",
    "# Questão 4\n",
    "df_q4 = df.orderBy(F.col('confirmed').desc()).limit(1)\n",
    "df_q4_2 = df_q4.select('confirmed').collect()[0]['confirmed']\n",
    "print(\"Questão 4:\", df_q4_2)\n",
    "\n",
    "#Questão 5\n",
    "df_seoul = df.filter(F.col('province') == 'Seoul')\n",
    "media_confirmed_seoul = df_seoul.agg(F.avg('confirmed').alias('media_confirmed_seoul')).collect()[0]['media_confirmed_seoul']\n",
    "print(\"Questão 5:\", media_confirmed_seoul)\n",
    "\n",
    "\n",
    "# Questão 6 \n",
    "numero_de_linhas = df_1.count()\n",
    "print(\"Questão 6:\", numero_de_linhas)\n",
    "\n",
    "contagem_distinta_q7 = df_1.select('state').distinct().count()\n",
    "\n",
    "# Questão 7\n",
    "print(\"Questão 7:\", \"state possui apenas\", contagem_distinta_q7,\"valores únicos\")\n",
    "\n",
    "# Questão 8 \n",
    "Questao_8 = (\n",
    "    df_1\n",
    "    .filter(\n",
    "        (F.col(\"sex\") == \"female\") &\n",
    "        (F.col(\"city\") == \"Jongno-gu\") &\n",
    "        (F.col(\"age\") == \"10s\")\n",
    "    ).select(F.count('*').alias('count')).collect()[0]['count'])\n",
    "\n",
    "print(\"Questão 8:\", Questao_8)\n",
    "\n",
    "# Questão 9\n",
    "numero_de_linhas = df_2.count()\n",
    "print(\"Questão 9:\", numero_de_linhas)\n",
    "\n",
    "# Questão 10\n",
    "df_q10 = df_2.orderBy(F.col('latitude').desc()).limit(1)\n",
    "df_q10_2 = df_q10.select('latitude').collect()[0]['latitude']\n",
    "print(\"Questão 10:\", df_q10_2)\n",
    "\n",
    "# Questão 11\n",
    "df_q11 = df_2.orderBy(F.col('longitude').asc()).limit(1)\n",
    "df_q11_2 = df_q11.select('longitude').collect()[0]['longitude']\n",
    "print(\"Questão 11:\", df_q11_2)\n",
    "\n",
    "# Questão 12\n",
    "# Filtrar o DataFrame para incluir apenas as linhas onde 'province' é igual a 'Seoul'\n",
    "df_type_airport = df_2.filter(F.col('type') == 'airport')\n",
    "df_w_pat = df_1.filter(F.col('infection_case') == 'contact with patient')\n",
    "\n",
    "df_joined = df_type_airport.join(df_w_pat, df_type_airport.patient_id == df_w_pat.patient_id, 'inner')\n",
    "\n",
    "print(\"Questão 12:\", df_joined.count())\n",
    "print(\"Questão 13:\",\"O Spark compartilha dados entre clusters através do Spark Dataframe e por isso, esse é o tipo recomendado a se trabalhar.\")\n",
    "print(\"Questão 14:\",\"JavaScript\")\n",
    "print(\"Questão 15:\",\"O Spark oferece grande vantagem, processando em memória RAM e ainda podendo ser incorporado a notebooks \")"
   ]
  },
  {
   "cell_type": "code",
   "execution_count": 0,
   "metadata": {
    "application/vnd.databricks.v1+cell": {
     "cellMetadata": {
      "byteLimit": 2048000,
      "rowLimit": 10000
     },
     "inputWidgets": {},
     "nuid": "b6d98765-ffac-4253-a9a2-6ff8d562fe7d",
     "showTitle": false,
     "title": ""
    }
   },
   "outputs": [],
   "source": []
  }
 ],
 "metadata": {
  "application/vnd.databricks.v1+notebook": {
   "dashboards": [],
   "language": "python",
   "notebookMetadata": {
    "mostRecentlyExecutedCommandWithImplicitDF": {
     "commandId": 216000449180131,
     "dataframes": [
      "_sqldf"
     ]
    },
    "pythonIndentUnit": 4
   },
   "notebookName": "Teste",
   "widgets": {}
  }
 },
 "nbformat": 4,
 "nbformat_minor": 0
}
